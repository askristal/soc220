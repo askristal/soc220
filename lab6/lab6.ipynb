{
 "cells": [
  {
   "cell_type": "markdown",
   "metadata": {
    "collapsed": true
   },
   "source": [
    "<font color=darkred>\n",
    "\n",
    "# Soc220: Computational Text Analysis\n",
    "## Lab 6 (Week 7): A brief tour of some ML classification algorithms\n",
    "\n",
    "<br>\n",
    "\n",
    "<img src=\"images/chart.png\" alt=\"Drawing\" style=\"width: 800px;\"/>\n",
    "\n",
    "\n",
    "Today:\n",
    "\n",
    "- Document-term matrix\n",
    "- A very brief introduction to machine learning\n",
    "- Logistic Regression\n",
    "- Naive Bayes\n",
    "- Support Vector Mechanisms\n",
    "- Plus: TSNE to visualize, AUC, and confusion matrices.\n",
    "\n",
    "***\n",
    "    3/7/2018"
   ]
  },
  {
   "cell_type": "markdown",
   "metadata": {},
   "source": [
    "### Document-term matrix"
   ]
  },
  {
   "cell_type": "markdown",
   "metadata": {},
   "source": [
    "<font color=darkgreen>\n",
    "\n",
    "#### Document-term matrix is the most common numeric representation of text.\n",
    "\n",
    "<img src=\"images/count_vector.png\" alt=\"Drawing\" style=\"width: 400px;\"/>\n",
    "\n",
    "***\n",
    "\n",
    "* However, this will overweight words that may not be of interest. To reiterate our intuition from last week: we want to calculate words of *analytic interest.\"\n",
    "* A common weighting scheme is tf-IDF\n",
    "\n",
    "For term i in document j:\n",
    "\n",
    "### $$w_{i,j} = tf_{i,j} * \\log(\\frac{N}{df_i})$$\n",
    "\n",
    "* \"term frequency\" = how frequently a word occurs in a document, that is, the number of times a word appears in a document.\n",
    "* \"inverse document frequency\" = how important a word is, log of total number of documents over the number of documents which contain term i.\n",
    "* Quick reminder: $\\log(1) = 0 $\n",
    "* Intuition for bag of words now maybe makes sense.\n",
    "\n",
    "***\n",
    "\n",
    "<img src=\"images/tfidf_fig2.JPG\" alt=\"Drawing\" style=\"width: 400px;\">\n",
    "***\n",
    "***"
   ]
  },
  {
   "cell_type": "code",
   "execution_count": 1,
   "metadata": {},
   "outputs": [
    {
     "data": {
      "text/html": [
       "<div>\n",
       "<style>\n",
       "    .dataframe thead tr:only-child th {\n",
       "        text-align: right;\n",
       "    }\n",
       "\n",
       "    .dataframe thead th {\n",
       "        text-align: left;\n",
       "    }\n",
       "\n",
       "    .dataframe tbody tr th {\n",
       "        vertical-align: top;\n",
       "    }\n",
       "</style>\n",
       "<table border=\"1\" class=\"dataframe\">\n",
       "  <thead>\n",
       "    <tr style=\"text-align: right;\">\n",
       "      <th></th>\n",
       "      <th>always</th>\n",
       "      <th>and</th>\n",
       "      <th>be</th>\n",
       "      <th>beings</th>\n",
       "      <th>believe</th>\n",
       "      <th>bottom</th>\n",
       "      <th>broader</th>\n",
       "      <th>but</th>\n",
       "      <th>century</th>\n",
       "      <th>color</th>\n",
       "      <th>...</th>\n",
       "      <th>problem</th>\n",
       "      <th>progress</th>\n",
       "      <th>race</th>\n",
       "      <th>repression</th>\n",
       "      <th>than</th>\n",
       "      <th>the</th>\n",
       "      <th>to</th>\n",
       "      <th>twentieth</th>\n",
       "      <th>very</th>\n",
       "      <th>will</th>\n",
       "    </tr>\n",
       "  </thead>\n",
       "  <tbody>\n",
       "    <tr>\n",
       "      <th>0</th>\n",
       "      <td>0</td>\n",
       "      <td>0</td>\n",
       "      <td>0</td>\n",
       "      <td>0</td>\n",
       "      <td>0</td>\n",
       "      <td>0</td>\n",
       "      <td>0</td>\n",
       "      <td>0</td>\n",
       "      <td>1</td>\n",
       "      <td>1</td>\n",
       "      <td>...</td>\n",
       "      <td>2</td>\n",
       "      <td>0</td>\n",
       "      <td>0</td>\n",
       "      <td>0</td>\n",
       "      <td>0</td>\n",
       "      <td>4</td>\n",
       "      <td>0</td>\n",
       "      <td>1</td>\n",
       "      <td>0</td>\n",
       "      <td>0</td>\n",
       "    </tr>\n",
       "    <tr>\n",
       "      <th>1</th>\n",
       "      <td>0</td>\n",
       "      <td>0</td>\n",
       "      <td>0</td>\n",
       "      <td>0</td>\n",
       "      <td>0</td>\n",
       "      <td>0</td>\n",
       "      <td>0</td>\n",
       "      <td>0</td>\n",
       "      <td>0</td>\n",
       "      <td>0</td>\n",
       "      <td>...</td>\n",
       "      <td>0</td>\n",
       "      <td>0</td>\n",
       "      <td>0</td>\n",
       "      <td>1</td>\n",
       "      <td>1</td>\n",
       "      <td>2</td>\n",
       "      <td>0</td>\n",
       "      <td>0</td>\n",
       "      <td>0</td>\n",
       "      <td>0</td>\n",
       "    </tr>\n",
       "    <tr>\n",
       "      <th>2</th>\n",
       "      <td>0</td>\n",
       "      <td>0</td>\n",
       "      <td>2</td>\n",
       "      <td>0</td>\n",
       "      <td>0</td>\n",
       "      <td>1</td>\n",
       "      <td>0</td>\n",
       "      <td>1</td>\n",
       "      <td>0</td>\n",
       "      <td>0</td>\n",
       "      <td>...</td>\n",
       "      <td>0</td>\n",
       "      <td>0</td>\n",
       "      <td>1</td>\n",
       "      <td>0</td>\n",
       "      <td>0</td>\n",
       "      <td>1</td>\n",
       "      <td>2</td>\n",
       "      <td>0</td>\n",
       "      <td>1</td>\n",
       "      <td>0</td>\n",
       "    </tr>\n",
       "    <tr>\n",
       "      <th>3</th>\n",
       "      <td>1</td>\n",
       "      <td>2</td>\n",
       "      <td>0</td>\n",
       "      <td>1</td>\n",
       "      <td>1</td>\n",
       "      <td>0</td>\n",
       "      <td>1</td>\n",
       "      <td>0</td>\n",
       "      <td>0</td>\n",
       "      <td>0</td>\n",
       "      <td>...</td>\n",
       "      <td>0</td>\n",
       "      <td>1</td>\n",
       "      <td>0</td>\n",
       "      <td>0</td>\n",
       "      <td>0</td>\n",
       "      <td>0</td>\n",
       "      <td>1</td>\n",
       "      <td>0</td>\n",
       "      <td>0</td>\n",
       "      <td>1</td>\n",
       "    </tr>\n",
       "  </tbody>\n",
       "</table>\n",
       "<p>4 rows × 39 columns</p>\n",
       "</div>"
      ],
      "text/plain": [
       "   always  and  be  beings  believe  bottom  broader  but  century  color  \\\n",
       "0       0    0   0       0        0       0        0    0        1      1   \n",
       "1       0    0   0       0        0       0        0    0        0      0   \n",
       "2       0    0   2       0        0       1        0    1        0      0   \n",
       "3       1    2   0       1        1       0        1    0        0      0   \n",
       "\n",
       "   ...   problem  progress  race  repression  than  the  to  twentieth  very  \\\n",
       "0  ...         2         0     0           0     0    4   0          1     0   \n",
       "1  ...         0         0     0           1     1    2   0          0     0   \n",
       "2  ...         0         0     1           0     0    1   2          0     1   \n",
       "3  ...         0         1     0           0     0    0   1          0     0   \n",
       "\n",
       "   will  \n",
       "0     0  \n",
       "1     0  \n",
       "2     0  \n",
       "3     1  \n",
       "\n",
       "[4 rows x 39 columns]"
      ]
     },
     "execution_count": 1,
     "metadata": {},
     "output_type": "execute_result"
    }
   ],
   "source": [
    "import pandas\n",
    "from sklearn.feature_extraction.text import CountVectorizer\n",
    "countvec = CountVectorizer()\n",
    "\n",
    "dubois_text_list = ['The problem of the twentieth century is the problem of the color line.', \n",
    "'The cost of liberty is less than the price of repression.',\n",
    "'To be a poor man is hard, but to be a poor race in a land of dollars is the very bottom of hardships.', \n",
    "'Believe in life! Always human beings will live and progress to greater, broader, and fuller life.']\n",
    "\n",
    "dtm_df = pandas.DataFrame(countvec.fit_transform(dubois_text_list).toarray(), columns=countvec.get_feature_names())\n",
    "dtm_df.astype(bool) #change the type in cell to boolean\n",
    "dtm_df"
   ]
  },
  {
   "cell_type": "code",
   "execution_count": 2,
   "metadata": {},
   "outputs": [
    {
     "data": {
      "text/html": [
       "<div>\n",
       "<style>\n",
       "    .dataframe thead tr:only-child th {\n",
       "        text-align: right;\n",
       "    }\n",
       "\n",
       "    .dataframe thead th {\n",
       "        text-align: left;\n",
       "    }\n",
       "\n",
       "    .dataframe tbody tr th {\n",
       "        vertical-align: top;\n",
       "    }\n",
       "</style>\n",
       "<table border=\"1\" class=\"dataframe\">\n",
       "  <thead>\n",
       "    <tr style=\"text-align: right;\">\n",
       "      <th></th>\n",
       "      <th>always</th>\n",
       "      <th>and</th>\n",
       "      <th>be</th>\n",
       "      <th>beings</th>\n",
       "      <th>believe</th>\n",
       "      <th>bottom</th>\n",
       "      <th>broader</th>\n",
       "      <th>but</th>\n",
       "      <th>century</th>\n",
       "      <th>color</th>\n",
       "      <th>...</th>\n",
       "      <th>problem</th>\n",
       "      <th>progress</th>\n",
       "      <th>race</th>\n",
       "      <th>repression</th>\n",
       "      <th>than</th>\n",
       "      <th>the</th>\n",
       "      <th>to</th>\n",
       "      <th>twentieth</th>\n",
       "      <th>very</th>\n",
       "      <th>will</th>\n",
       "    </tr>\n",
       "  </thead>\n",
       "  <tbody>\n",
       "    <tr>\n",
       "      <th>0</th>\n",
       "      <td>0.000000</td>\n",
       "      <td>0.000000</td>\n",
       "      <td>0.000000</td>\n",
       "      <td>0.000000</td>\n",
       "      <td>0.000000</td>\n",
       "      <td>0.000000</td>\n",
       "      <td>0.000000</td>\n",
       "      <td>0.000000</td>\n",
       "      <td>0.245769</td>\n",
       "      <td>0.245769</td>\n",
       "      <td>...</td>\n",
       "      <td>0.491538</td>\n",
       "      <td>0.000000</td>\n",
       "      <td>0.000000</td>\n",
       "      <td>0.000000</td>\n",
       "      <td>0.000000</td>\n",
       "      <td>0.627485</td>\n",
       "      <td>0.000000</td>\n",
       "      <td>0.245769</td>\n",
       "      <td>0.000000</td>\n",
       "      <td>0.000000</td>\n",
       "    </tr>\n",
       "    <tr>\n",
       "      <th>1</th>\n",
       "      <td>0.000000</td>\n",
       "      <td>0.000000</td>\n",
       "      <td>0.000000</td>\n",
       "      <td>0.000000</td>\n",
       "      <td>0.000000</td>\n",
       "      <td>0.000000</td>\n",
       "      <td>0.000000</td>\n",
       "      <td>0.000000</td>\n",
       "      <td>0.000000</td>\n",
       "      <td>0.000000</td>\n",
       "      <td>...</td>\n",
       "      <td>0.000000</td>\n",
       "      <td>0.000000</td>\n",
       "      <td>0.000000</td>\n",
       "      <td>0.321633</td>\n",
       "      <td>0.321633</td>\n",
       "      <td>0.410589</td>\n",
       "      <td>0.000000</td>\n",
       "      <td>0.000000</td>\n",
       "      <td>0.000000</td>\n",
       "      <td>0.000000</td>\n",
       "    </tr>\n",
       "    <tr>\n",
       "      <th>2</th>\n",
       "      <td>0.000000</td>\n",
       "      <td>0.000000</td>\n",
       "      <td>0.410178</td>\n",
       "      <td>0.000000</td>\n",
       "      <td>0.000000</td>\n",
       "      <td>0.205089</td>\n",
       "      <td>0.000000</td>\n",
       "      <td>0.205089</td>\n",
       "      <td>0.000000</td>\n",
       "      <td>0.000000</td>\n",
       "      <td>...</td>\n",
       "      <td>0.000000</td>\n",
       "      <td>0.000000</td>\n",
       "      <td>0.205089</td>\n",
       "      <td>0.000000</td>\n",
       "      <td>0.000000</td>\n",
       "      <td>0.130906</td>\n",
       "      <td>0.323389</td>\n",
       "      <td>0.000000</td>\n",
       "      <td>0.205089</td>\n",
       "      <td>0.000000</td>\n",
       "    </tr>\n",
       "    <tr>\n",
       "      <th>3</th>\n",
       "      <td>0.227962</td>\n",
       "      <td>0.455923</td>\n",
       "      <td>0.000000</td>\n",
       "      <td>0.227962</td>\n",
       "      <td>0.227962</td>\n",
       "      <td>0.000000</td>\n",
       "      <td>0.227962</td>\n",
       "      <td>0.000000</td>\n",
       "      <td>0.000000</td>\n",
       "      <td>0.000000</td>\n",
       "      <td>...</td>\n",
       "      <td>0.000000</td>\n",
       "      <td>0.227962</td>\n",
       "      <td>0.000000</td>\n",
       "      <td>0.000000</td>\n",
       "      <td>0.000000</td>\n",
       "      <td>0.000000</td>\n",
       "      <td>0.179727</td>\n",
       "      <td>0.000000</td>\n",
       "      <td>0.000000</td>\n",
       "      <td>0.227962</td>\n",
       "    </tr>\n",
       "  </tbody>\n",
       "</table>\n",
       "<p>4 rows × 39 columns</p>\n",
       "</div>"
      ],
      "text/plain": [
       "     always       and        be    beings   believe    bottom   broader  \\\n",
       "0  0.000000  0.000000  0.000000  0.000000  0.000000  0.000000  0.000000   \n",
       "1  0.000000  0.000000  0.000000  0.000000  0.000000  0.000000  0.000000   \n",
       "2  0.000000  0.000000  0.410178  0.000000  0.000000  0.205089  0.000000   \n",
       "3  0.227962  0.455923  0.000000  0.227962  0.227962  0.000000  0.227962   \n",
       "\n",
       "        but   century     color    ...      problem  progress      race  \\\n",
       "0  0.000000  0.245769  0.245769    ...     0.491538  0.000000  0.000000   \n",
       "1  0.000000  0.000000  0.000000    ...     0.000000  0.000000  0.000000   \n",
       "2  0.205089  0.000000  0.000000    ...     0.000000  0.000000  0.205089   \n",
       "3  0.000000  0.000000  0.000000    ...     0.000000  0.227962  0.000000   \n",
       "\n",
       "   repression      than       the        to  twentieth      very      will  \n",
       "0    0.000000  0.000000  0.627485  0.000000   0.245769  0.000000  0.000000  \n",
       "1    0.321633  0.321633  0.410589  0.000000   0.000000  0.000000  0.000000  \n",
       "2    0.000000  0.000000  0.130906  0.323389   0.000000  0.205089  0.000000  \n",
       "3    0.000000  0.000000  0.000000  0.179727   0.000000  0.000000  0.227962  \n",
       "\n",
       "[4 rows x 39 columns]"
      ]
     },
     "execution_count": 2,
     "metadata": {},
     "output_type": "execute_result"
    }
   ],
   "source": [
    "from sklearn.feature_extraction.text import TfidfVectorizer\n",
    "tfidfvec = TfidfVectorizer()\n",
    "\n",
    "dtm_df = pandas.DataFrame(tfidfvec.fit_transform(dubois_text_list).toarray(), columns=tfidfvec.get_feature_names())\n",
    "dtm_df.astype(bool) #change the type in cell to boolean\n",
    "dtm_df"
   ]
  },
  {
   "cell_type": "markdown",
   "metadata": {},
   "source": [
    "### A very brief introduction to the intuition behind machine learning.\n",
    "\n",
    "\n",
    "\n",
    "#### $$y = \\beta_0 + \\beta_1 X + \\beta_2 X + \\epsilon $$\n",
    "\n",
    "<img src=\"images/esl1.png\" style=\"width: 500px;\"/>\n",
    "\n",
    "\n",
    "<font color=darkgreen>\n",
    "\n",
    "#### Big idea: prediction instead of inference or estimation.\n",
    "\n",
    "\n",
    "* When we solve linear regression in the usual way, we're fitting a line $\\hat(y)$ that is orthogonal to the span of $x_1$ and $x_2$\n",
    "* Geometrically: we're finding the line that's the closet from y to the hyperplane between our Xs. That's the least square prediction.\n",
    "* In social science context: all the action is on the values of the dependent variables.\n",
    "* In ML: there is no \"error term\", there is a loss function, and there are no chosen Xs to estimate -- there is the model space.\n",
    "* Rather than \"here is my regression equation, estimate it for me\" instead, \"here is my outcome variable, find the optimal regression equation for me so I can predict the next incoming data point, $y_{n+1}$.\"\n",
    "* Or rather, predict on a test set from an algorithm trained on the training data.\n",
    "* Rather than reporting regression coefficients, we'll report accuracy scores: how consistently do we accurately estimate each dimension correctly.\n",
    "\n",
    "What does this mean practically:\n",
    "\n",
    "* If sociology doctorates awarded in the US reliably predicts world-wide space launches, then the algorithm is **going to include sociology doctorates awarded as a covariate.**\n",
    "* scikit-learn, the main data science Python library, *has no way to report coefficient estimates!*"
   ]
  },
  {
   "cell_type": "markdown",
   "metadata": {},
   "source": [
    "#### Load some data from the Old Bailey Online"
   ]
  },
  {
   "cell_type": "code",
   "execution_count": 3,
   "metadata": {
    "collapsed": true
   },
   "outputs": [],
   "source": [
    "frommaster_trials = [trial.strip() for trial in open(\"data/theft-stealingfrommaster.txt\")]\n",
    "pickpocket_trials = [trial.strip() for trial in open(\"data/theft-pocketpicking.txt\")]"
   ]
  },
  {
   "cell_type": "code",
   "execution_count": 4,
   "metadata": {
    "scrolled": true
   },
   "outputs": [
    {
     "data": {
      "text/plain": [
       "2431"
      ]
     },
     "execution_count": 4,
     "metadata": {},
     "output_type": "execute_result"
    }
   ],
   "source": [
    "len(frommaster_trials)"
   ]
  },
  {
   "cell_type": "code",
   "execution_count": 5,
   "metadata": {
    "scrolled": true
   },
   "outputs": [
    {
     "data": {
      "text/plain": [
       "2884"
      ]
     },
     "execution_count": 5,
     "metadata": {},
     "output_type": "execute_result"
    }
   ],
   "source": [
    "len(pickpocket_trials)"
   ]
  },
  {
   "cell_type": "code",
   "execution_count": 6,
   "metadata": {
    "collapsed": true
   },
   "outputs": [],
   "source": [
    "import pandas as pd\n",
    "\n",
    "#transform and concat these lists into a Pandas dataframe\n",
    "df1 = pd.DataFrame(frommaster_trials, columns = ['trial_text'])\n",
    "df1['label'] = \"master\"\n",
    "df2 = pd.DataFrame(pickpocket_trials, columns = ['trial_text'])\n",
    "df2['label'] = \"pickpocket\"\n",
    "#stick together, n.b. ingnore_index must be turned on.\n",
    "df = pd.concat([df1,df2],ignore_index = True)"
   ]
  },
  {
   "cell_type": "code",
   "execution_count": 7,
   "metadata": {},
   "outputs": [
    {
     "data": {
      "text/html": [
       "<div>\n",
       "<style>\n",
       "    .dataframe thead tr:only-child th {\n",
       "        text-align: right;\n",
       "    }\n",
       "\n",
       "    .dataframe thead th {\n",
       "        text-align: left;\n",
       "    }\n",
       "\n",
       "    .dataframe tbody tr th {\n",
       "        vertical-align: top;\n",
       "    }\n",
       "</style>\n",
       "<table border=\"1\" class=\"dataframe\">\n",
       "  <thead>\n",
       "    <tr style=\"text-align: right;\">\n",
       "      <th></th>\n",
       "      <th>trial_text</th>\n",
       "      <th>label</th>\n",
       "    </tr>\n",
       "  </thead>\n",
       "  <tbody>\n",
       "    <tr>\n",
       "      <th>count</th>\n",
       "      <td>5315</td>\n",
       "      <td>5315</td>\n",
       "    </tr>\n",
       "    <tr>\n",
       "      <th>unique</th>\n",
       "      <td>5315</td>\n",
       "      <td>2</td>\n",
       "    </tr>\n",
       "    <tr>\n",
       "      <th>top</th>\n",
       "      <td>t18330411-82  753 HENRY BROWN was indicted for...</td>\n",
       "      <td>pickpocket</td>\n",
       "    </tr>\n",
       "    <tr>\n",
       "      <th>freq</th>\n",
       "      <td>1</td>\n",
       "      <td>2884</td>\n",
       "    </tr>\n",
       "  </tbody>\n",
       "</table>\n",
       "</div>"
      ],
      "text/plain": [
       "                                               trial_text       label\n",
       "count                                                5315        5315\n",
       "unique                                               5315           2\n",
       "top     t18330411-82  753 HENRY BROWN was indicted for...  pickpocket\n",
       "freq                                                    1        2884"
      ]
     },
     "execution_count": 7,
     "metadata": {},
     "output_type": "execute_result"
    }
   ],
   "source": [
    "df.describe()"
   ]
  },
  {
   "cell_type": "code",
   "execution_count": 8,
   "metadata": {},
   "outputs": [
    {
     "data": {
      "text/plain": [
       "count           5315\n",
       "unique             2\n",
       "top       pickpocket\n",
       "freq            2884\n",
       "Name: label, dtype: object"
      ]
     },
     "execution_count": 8,
     "metadata": {},
     "output_type": "execute_result"
    }
   ],
   "source": [
    "#check the top of the df\n",
    "df.label.describe()"
   ]
  },
  {
   "cell_type": "code",
   "execution_count": 9,
   "metadata": {
    "collapsed": true
   },
   "outputs": [],
   "source": [
    "# first 18 characters are trash, delete them.\n",
    "sample = df.iloc[0,0]\n",
    "sample[:18]\n",
    "#reminder: map applies a function to a vector\n",
    "df['trial_text'] = df['trial_text'].map(lambda x: str(x)[18:])"
   ]
  },
  {
   "cell_type": "code",
   "execution_count": 10,
   "metadata": {},
   "outputs": [
    {
     "data": {
      "text/html": [
       "<div>\n",
       "<style>\n",
       "    .dataframe thead tr:only-child th {\n",
       "        text-align: right;\n",
       "    }\n",
       "\n",
       "    .dataframe thead th {\n",
       "        text-align: left;\n",
       "    }\n",
       "\n",
       "    .dataframe tbody tr th {\n",
       "        vertical-align: top;\n",
       "    }\n",
       "</style>\n",
       "<table border=\"1\" class=\"dataframe\">\n",
       "  <thead>\n",
       "    <tr style=\"text-align: right;\">\n",
       "      <th></th>\n",
       "      <th>trial_text</th>\n",
       "      <th>label</th>\n",
       "    </tr>\n",
       "  </thead>\n",
       "  <tbody>\n",
       "    <tr>\n",
       "      <th>0</th>\n",
       "      <td>JOHN CHILD was indicted for stealing on the 2...</td>\n",
       "      <td>master</td>\n",
       "    </tr>\n",
       "    <tr>\n",
       "      <th>1</th>\n",
       "      <td>ISABELLA LAWSON was indicted for stealing on ...</td>\n",
       "      <td>master</td>\n",
       "    </tr>\n",
       "    <tr>\n",
       "      <th>2</th>\n",
       "      <td>CHARLOTTE ATKINS was indicted for stealing on...</td>\n",
       "      <td>master</td>\n",
       "    </tr>\n",
       "    <tr>\n",
       "      <th>3</th>\n",
       "      <td>JANE RAWLINS was indicted for stealing on the...</td>\n",
       "      <td>master</td>\n",
       "    </tr>\n",
       "    <tr>\n",
       "      <th>4</th>\n",
       "      <td>JOHN GRAY was indicted for stealing on the 1s...</td>\n",
       "      <td>master</td>\n",
       "    </tr>\n",
       "  </tbody>\n",
       "</table>\n",
       "</div>"
      ],
      "text/plain": [
       "                                          trial_text   label\n",
       "0   JOHN CHILD was indicted for stealing on the 2...  master\n",
       "1   ISABELLA LAWSON was indicted for stealing on ...  master\n",
       "2   CHARLOTTE ATKINS was indicted for stealing on...  master\n",
       "3   JANE RAWLINS was indicted for stealing on the...  master\n",
       "4   JOHN GRAY was indicted for stealing on the 1s...  master"
      ]
     },
     "execution_count": 10,
     "metadata": {},
     "output_type": "execute_result"
    }
   ],
   "source": [
    "df.head()"
   ]
  },
  {
   "cell_type": "code",
   "execution_count": 11,
   "metadata": {
    "collapsed": true
   },
   "outputs": [],
   "source": [
    "#!pip install yellowbrick"
   ]
  },
  {
   "cell_type": "markdown",
   "metadata": {},
   "source": [
    "#### Let's see how well separated our documents.\n",
    "\n",
    "https://en.wikipedia.org/wiki/T-distributed_stochastic_neighbor_embedding"
   ]
  },
  {
   "cell_type": "code",
   "execution_count": 12,
   "metadata": {
    "collapsed": true
   },
   "outputs": [],
   "source": [
    "#using a TfidfVect that is requiring a minimal frequency plus removing stop words\n",
    "tfidf  = TfidfVectorizer(min_df=2,  stop_words='english')\n",
    "texts   = tfidf.fit_transform(df.trial_text)\n",
    "\n",
    "#infuriating error code: \"Pd.series not unqiue\"; hack fix: exit pandas to a list.\n",
    "labels = df['label'].tolist()"
   ]
  },
  {
   "cell_type": "code",
   "execution_count": 13,
   "metadata": {},
   "outputs": [
    {
     "data": {
      "text/plain": [
       "TSNEVisualizer(ax=<matplotlib.axes._subplots.AxesSubplot object at 0x1125f9b70>,\n",
       "        classes=None, colormap=None, colors=None, decompose=None,\n",
       "        decompose_by=None)"
      ]
     },
     "execution_count": 13,
     "metadata": {},
     "output_type": "execute_result"
    }
   ],
   "source": [
    "from yellowbrick.text import TSNEVisualizer\n",
    "\n",
    "tsne = TSNEVisualizer(classes=['pickpocket', 'master'])\n",
    "tsne.fit(texts,labels)"
   ]
  },
  {
   "cell_type": "code",
   "execution_count": 14,
   "metadata": {
    "scrolled": true
   },
   "outputs": [
    {
     "data": {
      "image/png": "[encoded data removed]",
      "text/plain": [
       "<matplotlib.figure.Figure at 0x10faaae80>"
      ]
     },
     "metadata": {},
     "output_type": "display_data"
    }
   ],
   "source": [
    "tsne.poof()"
   ]
  },
  {
   "cell_type": "code",
   "execution_count": 15,
   "metadata": {
    "collapsed": true
   },
   "outputs": [],
   "source": [
    "# in order to have the same number of 'covariates', we need to build a vocab list from the \"full\" set of documents,\n",
    "#which we will then subset when we split training and test\n",
    "full_vocab = tfidfvec.get_feature_names()\n",
    "tfidf  = TfidfVectorizer(min_df=.0025, stop_words='english',vocabulary=full_vocab)"
   ]
  },
  {
   "cell_type": "code",
   "execution_count": 16,
   "metadata": {
    "collapsed": true
   },
   "outputs": [],
   "source": [
    "import numpy as np\n",
    "\n",
    "#split the data into test and training\n",
    "np.random.seed(1550)\n",
    "#select 75% of data as the training data\n",
    "markers = np.random.rand(len(df)) < 0.75\n",
    "df_train = df[markers]\n",
    "df_test = df[~markers]"
   ]
  },
  {
   "cell_type": "code",
   "execution_count": 17,
   "metadata": {
    "collapsed": true
   },
   "outputs": [],
   "source": [
    "#tfidf vectorize:\n",
    "X_train = tfidf.fit_transform(df_train['trial_text'])\n",
    "X_test = tfidf.fit_transform(df_test['trial_text'])"
   ]
  },
  {
   "cell_type": "code",
   "execution_count": 18,
   "metadata": {},
   "outputs": [
    {
     "data": {
      "text/plain": [
       "(4059, 39)"
      ]
     },
     "execution_count": 18,
     "metadata": {},
     "output_type": "execute_result"
    }
   ],
   "source": [
    "#data check of test shape\n",
    "X_train.shape"
   ]
  },
  {
   "cell_type": "code",
   "execution_count": 19,
   "metadata": {
    "scrolled": true
   },
   "outputs": [
    {
     "data": {
      "text/plain": [
       "(1256, 39)"
      ]
     },
     "execution_count": 19,
     "metadata": {},
     "output_type": "execute_result"
    }
   ],
   "source": [
    "X_test.shape"
   ]
  },
  {
   "cell_type": "code",
   "execution_count": 20,
   "metadata": {},
   "outputs": [
    {
     "data": {
      "text/plain": [
       "<4059x39 sparse matrix of type '<class 'numpy.float64'>'\n",
       "\twith 4840 stored elements in Compressed Sparse Row format>"
      ]
     },
     "execution_count": 20,
     "metadata": {},
     "output_type": "execute_result"
    }
   ],
   "source": [
    "X_train"
   ]
  },
  {
   "cell_type": "code",
   "execution_count": 21,
   "metadata": {},
   "outputs": [
    {
     "data": {
      "text/plain": [
       "<1256x39 sparse matrix of type '<class 'numpy.float64'>'\n",
       "\twith 1511 stored elements in Compressed Sparse Row format>"
      ]
     },
     "execution_count": 21,
     "metadata": {},
     "output_type": "execute_result"
    }
   ],
   "source": [
    "X_test"
   ]
  },
  {
   "cell_type": "code",
   "execution_count": 22,
   "metadata": {
    "collapsed": true
   },
   "outputs": [],
   "source": [
    "#encoding our dependent variable as a binary outcome (1 for being a master vs 0 for pickpocket)\n",
    "y_train = pd.get_dummies(df_train['label'])['master']\n",
    "y_test = pd.get_dummies(df_test['label'])['master']"
   ]
  },
  {
   "cell_type": "code",
   "execution_count": 23,
   "metadata": {},
   "outputs": [
    {
     "data": {
      "text/plain": [
       "count    4059.000000\n",
       "mean        0.462922\n",
       "std         0.498685\n",
       "min         0.000000\n",
       "25%         0.000000\n",
       "50%         0.000000\n",
       "75%         1.000000\n",
       "max         1.000000\n",
       "Name: master, dtype: float64"
      ]
     },
     "execution_count": 23,
     "metadata": {},
     "output_type": "execute_result"
    }
   ],
   "source": [
    "# data check that we have correctly gotten our y_variable\n",
    "y_train.describe()"
   ]
  },
  {
   "cell_type": "code",
   "execution_count": 24,
   "metadata": {},
   "outputs": [
    {
     "data": {
      "text/plain": [
       "count    1256.000000\n",
       "mean        0.439490\n",
       "std         0.496523\n",
       "min         0.000000\n",
       "25%         0.000000\n",
       "50%         0.000000\n",
       "75%         1.000000\n",
       "max         1.000000\n",
       "Name: master, dtype: float64"
      ]
     },
     "execution_count": 24,
     "metadata": {},
     "output_type": "execute_result"
    }
   ],
   "source": [
    "y_test.describe()"
   ]
  },
  {
   "cell_type": "markdown",
   "metadata": {},
   "source": [
    "<font color=darkred>\n",
    "\n",
    "#### !! Always double check that your data has the right shape because this can create all sorts of issues. !!"
   ]
  },
  {
   "cell_type": "markdown",
   "metadata": {},
   "source": [
    "<font color=darkblue>\n",
    "\n",
    "#### Model selection: confusion matrix and ROC/AUC curves\n",
    "\n",
    "- A confusion matrix reports the false negative and false positive rate for various parameters.\n",
    "- The ROCAUC (Receiver Operating Characteristic/Area Under the Curve) visualizes the trade-off between sensitivity (also called recall) which is the true positive rate, and specificity which is the true negative rate.\n",
    "\n",
    "http://www.scikit-yb.org/en/latest/api/classifier/confusion_matrix.html\n",
    "\n",
    "http://www.scikit-yb.org/en/latest/api/classifier/rocauc.html"
   ]
  },
  {
   "cell_type": "markdown",
   "metadata": {},
   "source": [
    "<font color=darkblue>\n",
    "\n",
    "#### The structure of all sklearn functions:\n",
    "\n",
    "- import the function:\n",
    "\n",
    "`from sklearn.function_sub_library import function`\n",
    "- fit the function:\n",
    "\n",
    "`function.fit(X,y)`\n",
    "\n",
    "- Compare the accuracy of the predicted y to the test y -- how often does this get the classification right?"
   ]
  },
  {
   "cell_type": "markdown",
   "metadata": {
    "collapsed": true
   },
   "source": [
    "### Logistic regression\n",
    "\n",
    "http://scikit-learn.org/stable/modules/generated/sklearn.linear_model.LogisticRegression.html\n",
    "\n",
    "Recall: regression for a binary outcome.\n",
    "\n",
    "In order to bound a X into [0,1] we use a log-link function:\n",
    "\n",
    "#### $$P(Y = 1) = \\frac{e^{\\beta_0+\\beta_{1}X}}{1+e^{\\beta_0+\\beta_{1}X}}$$\n",
    "\n",
    "or, the more intuitive log-odds expression:\n",
    "\n",
    "#### $$\\ln(\\frac{P(Y=1)}{1-P(Y=1)}) = \\beta_0+\\beta_{1}X $$\n",
    "\n",
    "In english: a one unit change in X is associated with a $e^{\\beta_1}$ chage in the odds that Y = 1. This is a non-linear relationship, but the underlying data *before* the transformation should have something like a linear relation to the outcome (but our outcome is binary, not a continous variable, hence the need for the transformation).\n",
    "\n",
    "<img src=\"images/log_plots.png\" style=\"width: 400px;\" />"
   ]
  },
  {
   "cell_type": "code",
   "execution_count": 25,
   "metadata": {
    "collapsed": true
   },
   "outputs": [],
   "source": [
    "#import\n",
    "from sklearn.linear_model import LogisticRegression\n",
    "\n",
    "#fit\n",
    "logregcv = LogisticRegression()\n",
    "logregcv.fit(X_train, y_train)\n",
    "\n",
    "#predict on test set\n",
    "y_hat_test = logregcv.predict(X_test)\n",
    "y_hat_train = logregcv.predict(X_train)"
   ]
  },
  {
   "cell_type": "markdown",
   "metadata": {},
   "source": [
    "<font color=darkgreen>\n",
    "\n",
    "Results"
   ]
  },
  {
   "cell_type": "code",
   "execution_count": 26,
   "metadata": {},
   "outputs": [
    {
     "name": "stdout",
     "output_type": "stream",
     "text": [
      "Train accuracy:  0.6112342941611234\n",
      "Test accuracy:  0.6050955414012739\n"
     ]
    }
   ],
   "source": [
    "import sklearn.metrics as metrics\n",
    "\n",
    "#print model performance\n",
    "print(\"Train accuracy: \", metrics.accuracy_score(y_train, y_hat_train))\n",
    "print(\"Test accuracy: \", metrics.accuracy_score(y_test, y_hat_test))"
   ]
  },
  {
   "cell_type": "code",
   "execution_count": 27,
   "metadata": {
    "collapsed": true
   },
   "outputs": [],
   "source": [
    "#classification report if yellowbrick is acting up\n",
    "\n",
    "#Precision = TP/(TP+FP)\n",
    "#Recall = TP/(TP+FN)\n",
    "#f1-score = harmonic average of precision and recall\n",
    "\n",
    "#from sklearn.metrics import classification_report\n",
    "#y_true, y_pred = y_test, logregcv.predict(X_test)\n",
    "#print(classification_report(y_true, y_pred))"
   ]
  },
  {
   "cell_type": "markdown",
   "metadata": {},
   "source": [
    "<font color=darkgreen>\n",
    "\n",
    "#### Visualizing the confusion matrix"
   ]
  },
  {
   "cell_type": "code",
   "execution_count": 28,
   "metadata": {
    "scrolled": false
   },
   "outputs": [
    {
     "data": {
      "image/png": "[encoded data removed]",
      "text/plain": [
       "<matplotlib.figure.Figure at 0x108b37438>"
      ]
     },
     "metadata": {},
     "output_type": "display_data"
    }
   ],
   "source": [
    "from yellowbrick.classifier import ConfusionMatrix\n",
    "\n",
    "#specify model\n",
    "cm = ConfusionMatrix(logregcv)\n",
    "\n",
    "#sklearn fit\n",
    "cm.fit(X_train, y_train)\n",
    "\n",
    "#results\n",
    "cm.score(X_test, y_test)\n",
    "\n",
    "#boost size of font\n",
    "#yellowbrick works in pandas, so you can adjust settings before showing\n",
    "for label in cm.ax.texts:\n",
    "    label.set_size(18)\n",
    "\n",
    "cm.poof()\n",
    "\n",
    "#NLTK also a confusion matrix implementation\n",
    "#import nltk\n",
    "#print(nltk.ConfusionMatrix( y_test, y_hat_test))"
   ]
  },
  {
   "cell_type": "code",
   "execution_count": 29,
   "metadata": {},
   "outputs": [
    {
     "data": {
      "image/png": "[encoded data removed]",
      "text/plain": [
       "<matplotlib.figure.Figure at 0x108b19b70>"
      ]
     },
     "metadata": {},
     "output_type": "display_data"
    }
   ],
   "source": [
    "from yellowbrick.classifier import ROCAUC\n",
    "\n",
    "#Yellowbrick works by fitting \n",
    "\n",
    "visualizer = ROCAUC(logregcv)\n",
    "\n",
    "visualizer.fit(X_train, y_train)  \n",
    "visualizer.score(X_test, y_test)\n",
    "visualizer.poof()   "
   ]
  },
  {
   "cell_type": "markdown",
   "metadata": {
    "collapsed": true
   },
   "source": [
    "### Naive Bayes\n",
    "\n",
    "http://scikit-learn.org/stable/modules/naive_bayes.html\n",
    "\n",
    "$$P(y\\ |\\ X) = \\frac{P(X \\ | \\ y)P(y)}{P(X)}$$\n",
    "\n",
    "where $P(X) = P(X \\ | ~y)P(~y)$\n",
    "\n",
    "$$\\text{Posterior probability} = \\frac{(\\text{Likelihood})(\\text{Prior probability})}{\\text{(Evidence)}}$$\n",
    "\n",
    "The likelihood of outcome y given evidence X is a function of the probability that the evidence X occured given that y is true and the probability that y is true regardless of evidence, over the probability that X evidence exists.\n",
    "\n",
    "A concrete example Bart used: truly having cancer is a function of not only having a positive test result for cancer, but also one must account for the actual rarity of having cancer, i.e.\n",
    "\n",
    "- P(A\\ |\\ B) -- the probabiity of having cancer (A) given a positive finding test result (B)\n",
    "- P(B\\ |\\ A) -- chance of a positive test (B) given that you do actually have cancer (A).\n",
    "- P(A) -- Chance of having cancer (regardless of test results).\n",
    "- P(~ A) -- Chance of not having cancer in the abstract.\n",
    "- P(B) = P(~ A)P(B\\ | ~A) -- Chance of a false positive, i.e. you get a positive test and do not have cancer.\n",
    "\n",
    "#### The naive part:\n",
    "\n",
    "If we assume independence amongst our observations -- same as our regression assumption of independence -- (i.e. $P(\\ x_i | y,x_1,...,x_{i+1},x_{i+1},...,x_n) = P(\\ x_i|y)$ then the we can restate the probability of y, our classification outcome, as proportional to the sum of the probabilities for each $x_i$:\n",
    "\n",
    "$$P( x_i,...,x_n) \\propto \\prod^n_{i=1} P(x_i)$$ \n",
    "\n",
    "i.e. think of a 100 random coin flips. The odds of any one coin being H does not affect the probability of any other coin being heads. They are all independent.\n",
    "\n",
    "#### So, what's the computer gonna do?\n",
    "\n",
    "It's going to maximize that probability (find the max of the function given by):\n",
    "\n",
    "$$\\hat{y} = \\underset{y}{\\operatorname{argmax}} P(y) \\prod^n_{i=1}P(x_i\\ |\\ y)$$\n",
    "\n",
    "In somewhat plain english: we wish to maximize the probability of being in class y given the presence/absence of word $x_i$, $P(x_i\\ |\\ y)$ given the frequency of class y in the sample.\n",
    "\n",
    "The computer is going to learn from the training data what it expects a given category to be based on the distribution of $x_i...x_n$ words, and then will calculate the product of a given category -- y -- based on the likelihood of observing all those words (analgous to 'Given that I have observed a 100 Hs, is this a fair coin?)"
   ]
  },
  {
   "cell_type": "code",
   "execution_count": 30,
   "metadata": {},
   "outputs": [],
   "source": [
    "#import \n",
    "from sklearn.naive_bayes import BernoulliNB \n",
    "from sklearn.naive_bayes import MultinomialNB #Categorical, \"performs better on large datasets\"\n",
    "\n",
    "#fit\n",
    "nb_model = MultinomialNB()\n",
    "nb_model.fit(X_train,y_train)\n",
    "\n",
    "#predict\n",
    "y_hat_test = nb_model.predict(X_test)\n",
    "y_hat_train = nb_model.predict(X_train)"
   ]
  },
  {
   "cell_type": "code",
   "execution_count": 31,
   "metadata": {},
   "outputs": [
    {
     "name": "stdout",
     "output_type": "stream",
     "text": [
      "Train accuracy:  0.6011332840601133\n",
      "Test accuracy:  0.625\n"
     ]
    }
   ],
   "source": [
    "#accuracy scores: tne percentage of labels correctly predicted\n",
    "print(\"Train accuracy: \", metrics.accuracy_score(y_train, y_hat_train))\n",
    "print(\"Test accuracy: \", metrics.accuracy_score(y_test, y_hat_test))"
   ]
  },
  {
   "cell_type": "code",
   "execution_count": 32,
   "metadata": {
    "scrolled": false
   },
   "outputs": [
    {
     "data": {
      "image/png": "[encoded data removed]",
      "text/plain": [
       "<matplotlib.figure.Figure at 0x10fd489b0>"
      ]
     },
     "metadata": {},
     "output_type": "display_data"
    }
   ],
   "source": [
    "from yellowbrick.classifier import ConfusionMatrix\n",
    "\n",
    "cm = ConfusionMatrix(nb_model)\n",
    "cm.fit(X_train, y_train)\n",
    "cm.score(X_test, y_test)\n",
    "\n",
    "for label in cm.ax.texts:\n",
    "    label.set_size(18)\n",
    "\n",
    "cm.poof()\n",
    "\n",
    "#NLTK also has an implementation\n",
    "#import nltk\n",
    "#print(nltk.ConfusionMatrix( y_test, y_hat_test))"
   ]
  },
  {
   "cell_type": "code",
   "execution_count": 33,
   "metadata": {},
   "outputs": [
    {
     "data": {
      "image/png": "[encoded data removed]",
      "text/plain": [
       "<matplotlib.figure.Figure at 0x10fd485f8>"
      ]
     },
     "metadata": {},
     "output_type": "display_data"
    }
   ],
   "source": [
    "#Let's use BernoulliNB\n",
    "\n",
    "nb_model = BernoulliNB()\n",
    "\n",
    "cm = ConfusionMatrix(nb_model)\n",
    "cm.fit(X_train, y_train)\n",
    "cm.score(X_test, y_test)\n",
    "\n",
    "for label in cm.ax.texts:\n",
    "    label.set_size(18)\n",
    "\n",
    "cm.poof()\n"
   ]
  },
  {
   "cell_type": "code",
   "execution_count": 34,
   "metadata": {},
   "outputs": [
    {
     "data": {
      "image/png": "[encoded data removed]",
      "text/plain": [
       "<matplotlib.figure.Figure at 0x10fc22da0>"
      ]
     },
     "metadata": {},
     "output_type": "display_data"
    }
   ],
   "source": [
    "rocauc_viz = ROCAUC(nb_model)\n",
    "\n",
    "rocauc_viz.fit(X_train, y_train)  \n",
    "rocauc_viz.score(X_test, y_test)\n",
    "rocauc_viz.poof()   "
   ]
  },
  {
   "cell_type": "markdown",
   "metadata": {},
   "source": [
    "### Support Vector Machine (SVM)\n",
    "\n",
    "http://scikit-learn.org/stable/modules/generated/sklearn.svm.SVC.html\n",
    "\n",
    "\n",
    "- Intuition is fairly straight forward geometrically, if we have linearly separated data, we wish to draw a hyperplane that divides these two data.\n",
    "\n",
    "<img src=\"images/svm1.png\" style=\"width: 400px;\" />\n",
    "\n",
    "<img src=\"images/svm2.png\" style=\"width: 400px;\" />\n",
    "\n",
    "- We face an overfitting trade-off: if we try to account for every data point, then our model will not perform well on our test data. \n",
    "\n",
    "<img src=\"images/reg_tradeoff.png\" style=\"width: 400px;\" />\n",
    "\n",
    "- The essence of the kernel trick that Bart described is that if our data is not linearly separated, we can try to transform it into another set of dimensions to try to fit the data.\n",
    "\n",
    "<img src=\"images/kernel_trick.png\" style=\"width: 400px;\" />\n",
    "\n",
    "- `rbf` (Radial Basis Function) is designed to work with non-linear data, while obviously `linear` is the default designed to work with linearly separated data."
   ]
  },
  {
   "cell_type": "code",
   "execution_count": 35,
   "metadata": {
    "collapsed": true
   },
   "outputs": [],
   "source": [
    "from sklearn.svm import SVC\n",
    "\n",
    "#call function for suport vector classifer\n",
    "#linear is the kernel trick that Bart discussed\n",
    "svm_model = SVC(kernel='rbf')\n",
    "svm_model.fit(X_train, y_train)\n",
    "\n",
    "#predict\n",
    "y_hat_test = svm_model.predict(X_test)\n",
    "y_hat_train = svm_model.predict(X_train)"
   ]
  },
  {
   "cell_type": "code",
   "execution_count": 36,
   "metadata": {},
   "outputs": [
    {
     "name": "stdout",
     "output_type": "stream",
     "text": [
      "Train accuracy:  0.5991623552599162\n",
      "Test accuracy:  0.6027070063694268\n"
     ]
    }
   ],
   "source": [
    "#accuracy scores: tne percentage of labels correctly predicted\n",
    "print(\"Train accuracy: \", metrics.accuracy_score(y_train, y_hat_train))\n",
    "print(\"Test accuracy: \", metrics.accuracy_score(y_test, y_hat_test))"
   ]
  },
  {
   "cell_type": "code",
   "execution_count": 37,
   "metadata": {},
   "outputs": [
    {
     "data": {
      "image/png": "[encoded data removed]",
      "text/plain": [
       "<matplotlib.figure.Figure at 0x10fc1f2e8>"
      ]
     },
     "metadata": {},
     "output_type": "display_data"
    }
   ],
   "source": [
    "cm = ConfusionMatrix(svm_model)\n",
    "cm.fit(X_train, y_train)\n",
    "cm.score(X_test, y_test)\n",
    "\n",
    "for label in cm.ax.texts:\n",
    "    label.set_size(18)\n",
    "\n",
    "cm.poof()"
   ]
  },
  {
   "cell_type": "code",
   "execution_count": 38,
   "metadata": {},
   "outputs": [
    {
     "data": {
      "image/png": "[encoded data removed]",
      "text/plain": [
       "<matplotlib.figure.Figure at 0x10fe5c588>"
      ]
     },
     "metadata": {},
     "output_type": "display_data"
    }
   ],
   "source": [
    "#Let's try the linear kernel\n",
    "\n",
    "svm_model = SVC(kernel='linear')\n",
    "\n",
    "cm = ConfusionMatrix(svm_model)\n",
    "cm.fit(X_train, y_train)\n",
    "cm.score(X_test, y_test)\n",
    "\n",
    "for label in cm.ax.texts:\n",
    "    label.set_size(18)\n",
    "\n",
    "cm.poof()"
   ]
  },
  {
   "cell_type": "markdown",
   "metadata": {
    "collapsed": true
   },
   "source": [
    "<font color=darkgreen>\n",
    "\n",
    "## Cross-validation and hyperparameter tuning\n",
    "\n",
    "<img src=\"images/ten_fold.png\" style=\"width: 400px;\" />\n",
    "\n",
    "- Hyperparameters are the meta level settings of each algorithm. We can specify them if we have prior theory to do so, or we can aks the machine to tune them, typically using something called gradient descent (it's typically computationally impossible to test *all* possible combinations, so what the computer does is [increment down a slope of the loss function](https://en.wikipedia.org/wiki/Gradient_descent).)\n",
    "- The 'learning rate' parameter is the rate at which one descends the descent. (Typically 'C' parameter in scikit-learn)\n",
    "- In 10-fold cross validation, one sample is used as the training data while the other 9 are used to train the model, and then we iterate through each fold.\n",
    "- The results from each fold are then typically averaged together.\n",
    "- That averaged result is then used to predict on the set aside test data.\n",
    "\n",
    "#### Cross validation:\n",
    "\n",
    "* Gridsearch in a dictionary of parameters and a function.\n",
    "* GridSearchCV itself takes in parameters like specifying the number of folds, the loss function, and the learning rate.\n",
    "\n",
    "#### Viz of model comparison\n",
    "\n",
    "https://machinelearningmastery.com/compare-machine-learning-algorithms-python-scikit-learn/"
   ]
  },
  {
   "cell_type": "markdown",
   "metadata": {},
   "source": [
    "<font color=purple>\n",
    "\n",
    "### Tuning Logistic Regression"
   ]
  },
  {
   "cell_type": "code",
   "execution_count": 39,
   "metadata": {
    "collapsed": true
   },
   "outputs": [],
   "source": [
    "parameters_grid = {\n",
    "    \"C\" : [0.001, 0.01, 0.1, 1, 10, 100, 1000, 1000, 10000] \n",
    "}"
   ]
  },
  {
   "cell_type": "code",
   "execution_count": 40,
   "metadata": {},
   "outputs": [
    {
     "data": {
      "text/plain": [
       "GridSearchCV(cv=10, error_score='raise',\n",
       "       estimator=LogisticRegression(C=1.0, class_weight=None, dual=False, fit_intercept=True,\n",
       "          intercept_scaling=1, max_iter=100, multi_class='ovr', n_jobs=1,\n",
       "          penalty='l2', random_state=None, solver='liblinear', tol=0.0001,\n",
       "          verbose=0, warm_start=False),\n",
       "       fit_params=None, iid=True, n_jobs=4,\n",
       "       param_grid={'C': [0.001, 0.01, 0.1, 1, 10, 100, 1000, 1000, 10000]},\n",
       "       pre_dispatch='2*n_jobs', refit=True, return_train_score='warn',\n",
       "       scoring='roc_auc', verbose=0)"
      ]
     },
     "execution_count": 40,
     "metadata": {},
     "output_type": "execute_result"
    }
   ],
   "source": [
    "from sklearn.model_selection import GridSearchCV\n",
    "\n",
    "#using the L2 norm to regularize\n",
    "logreg = LogisticRegression(penalty='l2')\n",
    "\n",
    "#using auc to score; 10 cross folds, and parallel processing turned on to 4 to speed things up\n",
    "gs_logreg = GridSearchCV(logreg, parameters_grid, scoring='roc_auc', cv=10,n_jobs=4)\n",
    "gs_logreg.fit(X_train, y_train)"
   ]
  },
  {
   "cell_type": "code",
   "execution_count": 41,
   "metadata": {},
   "outputs": [
    {
     "name": "stdout",
     "output_type": "stream",
     "text": [
      "Tuned LogReg Learning Parameter: {'C': 0.1}\n",
      "Best AUC performance: 0.6584846094379743\n"
     ]
    }
   ],
   "source": [
    "print(\"Tuned LogReg Learning Parameter:\", gs_logreg.best_params_)\n",
    "print(\"Best AUC performance:\", gs_logreg.best_score_)"
   ]
  },
  {
   "cell_type": "code",
   "execution_count": 42,
   "metadata": {},
   "outputs": [
    {
     "data": {
      "image/png": "[encoded data removed]",
      "text/plain": [
       "<matplotlib.figure.Figure at 0x108b00630>"
      ]
     },
     "metadata": {},
     "output_type": "display_data"
    }
   ],
   "source": [
    "from yellowbrick.classifier import ConfusionMatrix\n",
    "\n",
    "cm = ConfusionMatrix(gs_logreg)\n",
    "cm.fit(X_train, y_train)\n",
    "cm.score(X_test, y_test)\n",
    "\n",
    "for label in cm.ax.texts:\n",
    "    label.set_size(18)\n",
    "\n",
    "cm.poof()"
   ]
  },
  {
   "cell_type": "markdown",
   "metadata": {},
   "source": [
    "<font color=purple>\n",
    "\n",
    "### Tuning Naive Baye\n",
    "\n",
    "- Alpha controls model complexity: this adds additional positive data points for each parameter, \"smoothing\" out any jumps"
   ]
  },
  {
   "cell_type": "code",
   "execution_count": 43,
   "metadata": {
    "collapsed": true
   },
   "outputs": [],
   "source": [
    "alpha_range = np.linspace(0.1,1,10)\n",
    "param_grid = dict(alpha=alpha_range) # ,kernel=kernels"
   ]
  },
  {
   "cell_type": "code",
   "execution_count": 44,
   "metadata": {
    "scrolled": true
   },
   "outputs": [
    {
     "data": {
      "text/plain": [
       "GridSearchCV(cv=10, error_score='raise',\n",
       "       estimator=MultinomialNB(alpha=1.0, class_prior=None, fit_prior=True),\n",
       "       fit_params=None, iid=True, n_jobs=4,\n",
       "       param_grid={'alpha': array([0.1, 0.2, 0.3, 0.4, 0.5, 0.6, 0.7, 0.8, 0.9, 1. ])},\n",
       "       pre_dispatch='2*n_jobs', refit=True, return_train_score='warn',\n",
       "       scoring=None, verbose=0)"
      ]
     },
     "execution_count": 44,
     "metadata": {},
     "output_type": "execute_result"
    }
   ],
   "source": [
    "from sklearn.naive_bayes import MultinomialNB\n",
    "\n",
    "gs_nb = GridSearchCV(MultinomialNB(), param_grid=param_grid,cv=10,n_jobs=4)\n",
    "gs_nb.fit(X_train, y_train)"
   ]
  },
  {
   "cell_type": "code",
   "execution_count": 45,
   "metadata": {},
   "outputs": [
    {
     "name": "stdout",
     "output_type": "stream",
     "text": [
      "Tuned LogReg Learning Parameter: {'alpha': 0.1}\n",
      "Best AUC performance: 0.597930524759793\n"
     ]
    }
   ],
   "source": [
    "print(\"Tuned LogReg Learning Parameter:\", gs_nb.best_params_)\n",
    "print(\"Best AUC performance:\", gs_nb.best_score_)"
   ]
  },
  {
   "cell_type": "code",
   "execution_count": 46,
   "metadata": {},
   "outputs": [
    {
     "data": {
      "image/png": "[encoded data removed]",
      "text/plain": [
       "<matplotlib.figure.Figure at 0x112d2ae10>"
      ]
     },
     "metadata": {},
     "output_type": "display_data"
    }
   ],
   "source": [
    "cm = ConfusionMatrix(gs_nb)\n",
    "cm.fit(X_train, y_train)\n",
    "cm.score(X_test, y_test)\n",
    "\n",
    "for label in cm.ax.texts:\n",
    "    label.set_size(18)\n",
    "\n",
    "cm.poof()"
   ]
  },
  {
   "cell_type": "markdown",
   "metadata": {},
   "source": [
    "<font color=purple>\n",
    "\n",
    "### Tuning SVM\n",
    "\n",
    "- Gamma is the tuning parameter to specify this: should we consider only near points or far points? A low gamma means further away points are considered.\n",
    "- C is our parameter for how much error we are comfortable with. A high C attempts to train on all data points, not just ones defined by their distance to the vector."
   ]
  },
  {
   "cell_type": "code",
   "execution_count": 47,
   "metadata": {},
   "outputs": [
    {
     "ename": "SyntaxError",
     "evalue": "invalid syntax (<ipython-input-47-97ea6c16e5de>, line 4)",
     "output_type": "error",
     "traceback": [
      "\u001b[0;36m  File \u001b[0;32m\"<ipython-input-47-97ea6c16e5de>\"\u001b[0;36m, line \u001b[0;32m4\u001b[0m\n\u001b[0;31m    param_grid = dict(gamma=g_range, C=C_range,,kernel=kernels)\u001b[0m\n\u001b[0m                                               ^\u001b[0m\n\u001b[0;31mSyntaxError\u001b[0m\u001b[0;31m:\u001b[0m invalid syntax\n"
     ]
    }
   ],
   "source": [
    "g_range = 2. ** np.arange(-15, 5, step=2)\n",
    "C_range = 2. ** np.arange(-5, 15, step=2)\n",
    "kernels = ('linear','rbf')\n",
    "param_grid = dict(gamma=g_range, C=C_range,,kernel=kernels) "
   ]
  },
  {
   "cell_type": "code",
   "execution_count": null,
   "metadata": {},
   "outputs": [],
   "source": [
    "gs_svm = GridSearchCV(SVC(), param_grid=param_grid,cv=5,n_jobs=4)\n",
    "gs_svm.fit(X_train, y_train)"
   ]
  },
  {
   "cell_type": "code",
   "execution_count": null,
   "metadata": {},
   "outputs": [],
   "source": [
    "print(\"Tuned LogReg Learning Parameter:\", gs_svm.best_params_)\n",
    "print(\"Best AUC performance:\", gs_svm.best_score_)"
   ]
  },
  {
   "cell_type": "code",
   "execution_count": null,
   "metadata": {},
   "outputs": [],
   "source": [
    "cm = ConfusionMatrix(gs_svm)\n",
    "cm.fit(X_train, y_train)\n",
    "cm.score(X_test, y_test)\n",
    "\n",
    "for label in cm.ax.texts:\n",
    "    label.set_size(18)\n",
    "\n",
    "cm.poof()"
   ]
  },
  {
   "cell_type": "code",
   "execution_count": null,
   "metadata": {
    "collapsed": true
   },
   "outputs": [],
   "source": []
  },
  {
   "cell_type": "markdown",
   "metadata": {},
   "source": [
    "<font color=darkgreen>\n",
    "\n",
    "### What did we learn?\n",
    "\n",
    "1. Apparently there isn't much difference between these two classes?\n",
    "2. We need to search a much wider set of algorithms.\n",
    "3. Hopefully some intuition of what ML is trying to do."
   ]
  },
  {
   "cell_type": "markdown",
   "metadata": {},
   "source": [
    "<font color=darkgreen>\n",
    "\n",
    "### And Beyond!\n",
    "\n",
    "- Linear and quadratic discriminant analysis\n",
    "- Bayes decision trees!\n",
    "- Random forests (BDT + \"aggregate bootstrapping\" or \"bagging\")!\n",
    "- Neural Networks!\n",
    "\n",
    "Classes:\n",
    "\n",
    "- AC209a/209b\n",
    "- CS181\n",
    "- Stat183\n",
    "- Read Mullainathan and Spiess: https://pubs.aeaweb.org/doi/pdfplus/10.1257/jep.31.2.87"
   ]
  }
 ],
 "metadata": {
  "kernelspec": {
   "display_name": "Python 3",
   "language": "python",
   "name": "python3"
  },
  "language_info": {
   "codemirror_mode": {
    "name": "ipython",
    "version": 3
   },
   "file_extension": ".py",
   "mimetype": "text/x-python",
   "name": "python",
   "nbconvert_exporter": "python",
   "pygments_lexer": "ipython3",
   "version": "3.6.3"
  }
 },
 "nbformat": 4,
 "nbformat_minor": 2
}
