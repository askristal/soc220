{
 "cells": [
  {
   "cell_type": "markdown",
   "metadata": {
    "button": false,
    "new_sheet": false,
    "run_control": {
     "read_only": false
    }
   },
   "source": [
    "<font color=darkred>\n",
    "\n",
    "# Soc220: Computational Text Analysis\n",
    "## Lab2: Webscraping With Beautiful Soup\n",
    "\n",
    "<br>\n",
    "\n",
    "![pip](https://www.pcs.org/assets/uploads/GE_Illustration_Large750.jpg)\n",
    "\n",
    "***\n",
    "    2/1/2018\n",
    "    (Image: Pip and Magwitch)"
   ]
  },
  {
   "cell_type": "markdown",
   "metadata": {
    "button": false,
    "new_sheet": false,
    "run_control": {
     "read_only": false
    }
   },
   "source": [
    "# Solutions to homework:"
   ]
  },
  {
   "cell_type": "code",
   "execution_count": 1,
   "metadata": {
    "button": false,
    "new_sheet": false,
    "run_control": {
     "read_only": false
    },
    "scrolled": true
   },
   "outputs": [
    {
     "name": "stdout",
     "output_type": "stream",
     "text": [
      "2\n",
      "3\n",
      "5\n",
      "7\n",
      "11\n",
      "13\n",
      "17\n",
      "19\n",
      "23\n",
      "29\n",
      "31\n",
      "37\n",
      "41\n",
      "43\n",
      "47\n",
      "53\n",
      "59\n",
      "61\n",
      "67\n",
      "71\n",
      "73\n",
      "79\n",
      "83\n",
      "89\n",
      "97\n"
     ]
    }
   ],
   "source": [
    "primes = []\n",
    "for j in range(2,101):\n",
    "    #count up to each number\n",
    "    for i in range(2,j):\n",
    "        #check if there are any numbers that can divide\n",
    "        if j % i == 0:\n",
    "            #and if there are, stop\n",
    "            break\n",
    "    else:\n",
    "        #since not, print\n",
    "        primes.append(j)\n",
    "        print(j)       "
   ]
  },
  {
   "cell_type": "code",
   "execution_count": 2,
   "metadata": {
    "button": false,
    "collapsed": true,
    "new_sheet": false,
    "run_control": {
     "read_only": false
    }
   },
   "outputs": [],
   "source": [
    "def isprime(j):\n",
    "    '''\n",
    "    Takes in a positive number and checks whether it is prime. Returns number if prime.\n",
    "    \n",
    "    Int -> Int\n",
    "    '''\n",
    "    for i in range(2,j):\n",
    "        if j % i == 0:\n",
    "            break     \n",
    "    else:\n",
    "        return(j)"
   ]
  },
  {
   "cell_type": "code",
   "execution_count": 3,
   "metadata": {
    "button": false,
    "new_sheet": false,
    "run_control": {
     "read_only": false
    }
   },
   "outputs": [
    {
     "data": {
      "text/plain": [
       "19"
      ]
     },
     "execution_count": 3,
     "metadata": {},
     "output_type": "execute_result"
    }
   ],
   "source": [
    "isprime(19)"
   ]
  },
  {
   "cell_type": "code",
   "execution_count": 4,
   "metadata": {
    "button": false,
    "collapsed": true,
    "new_sheet": false,
    "run_control": {
     "read_only": false
    }
   },
   "outputs": [],
   "source": [
    "isprime(21)"
   ]
  },
  {
   "cell_type": "code",
   "execution_count": 5,
   "metadata": {
    "button": false,
    "new_sheet": false,
    "run_control": {
     "read_only": false
    },
    "scrolled": false
   },
   "outputs": [
    {
     "data": {
      "text/plain": [
       "[2,\n",
       " 3,\n",
       " 5,\n",
       " 7,\n",
       " 11,\n",
       " 13,\n",
       " 17,\n",
       " 19,\n",
       " 23,\n",
       " 29,\n",
       " 31,\n",
       " 37,\n",
       " 41,\n",
       " 43,\n",
       " 47,\n",
       " 53,\n",
       " 59,\n",
       " 61,\n",
       " 67,\n",
       " 71,\n",
       " 73,\n",
       " 79,\n",
       " 83,\n",
       " 89,\n",
       " 97]"
      ]
     },
     "execution_count": 5,
     "metadata": {},
     "output_type": "execute_result"
    }
   ],
   "source": [
    "primes_to_100 = [k for k in range(2, 100) if isprime(k)]\n",
    "primes_to_100"
   ]
  },
  {
   "cell_type": "markdown",
   "metadata": {
    "button": false,
    "new_sheet": false,
    "run_control": {
     "read_only": false
    }
   },
   "source": [
    "***\n",
    "***\n",
    "\n",
    "Today we're going to scrape some data from the court records from the Old Bailey, the criminal court of London from the mid-17th century up until WW1. Thanks to the British National Library, every single criminal proceeding (transcripts, charges, verdict sentences etc) are freely accesible online. This week, we'll scrape from the front-end of the website, that is, we'll write some code to automatically load a webpage, find some content, and then save it. \n",
    "\n",
    "A few notes on webscraping:\n",
    "- This is an exremely flexible way to collect data. If you can view it in a browser, then it's possible, with enough patience, to get that data.\n",
    "- However, the way we teach a computer to get these data is to look through the HTML code for specific tags, which means that if the web-developer for a given website decides to make a slight change in that coding or if they themselves screwed-up or if the code is a bit inconsistent, then you can be SOL in getting data. Possibly creating bias in your collection process!\n",
    "- In addition, we'll probably have to use 'regular expressions' which is a very old-school coding language all unto itself for parsing strings. We'll use this to sort through the types of text that we want which are held within specific HTML tags.\n",
    "\n",
    "The new [firefox browser](https://www.mozilla.org/en-US/firefox/) is great for viewing html code on a website."
   ]
  },
  {
   "cell_type": "code",
   "execution_count": 22,
   "metadata": {
    "button": false,
    "collapsed": true,
    "new_sheet": false,
    "run_control": {
     "read_only": false
    }
   },
   "outputs": [],
   "source": [
    "# First, we load libraries: \n",
    "######\n",
    "\n",
    "import re\n",
    "import requests\n",
    "from urllib.request import urlopen\n",
    "\n",
    "from bs4 import BeautifulSoup\n",
    "import pickle\n",
    "import json\n",
    "import os"
   ]
  },
  {
   "cell_type": "code",
   "execution_count": 7,
   "metadata": {
    "button": false,
    "new_sheet": false,
    "run_control": {
     "read_only": false
    }
   },
   "outputs": [
    {
     "name": "stdout",
     "output_type": "stream",
     "text": [
      "Requirement already satisfied: bs4 in /Users/zwehrwein/anaconda3/lib/python3.6/site-packages\r\n",
      "Requirement already satisfied: beautifulsoup4 in /Users/zwehrwein/anaconda3/lib/python3.6/site-packages (from bs4)\r\n"
     ]
    }
   ],
   "source": [
    "!pip install bs4"
   ]
  },
  {
   "cell_type": "markdown",
   "metadata": {
    "button": false,
    "new_sheet": false,
    "run_control": {
     "read_only": false
    }
   },
   "source": [
    "\n",
    "\n",
    "\n",
    "![obo_online](obo_online.png)\n",
    "\n",
    "\n",
    "***\n",
    "<font color=darkgreen>\n",
    "    \n",
    "Charles Dickens was once a court reporter at the Old Bailey and witnessing this case was the inspiration for the character of Magwitch, the plot twist of Great Expectations.\n",
    "\n",
    "\n",
    "[Persecution of Thomas Knight](https://www.oldbaileyonline.org/browse.jsp?id=t18331017-6-off35&div=t18331017-6)\n",
    "\n",
    "![knight](knight.png)"
   ]
  },
  {
   "cell_type": "markdown",
   "metadata": {
    "button": false,
    "new_sheet": false,
    "run_control": {
     "read_only": false
    }
   },
   "source": [
    "<font color=darkred>\n",
    "\n",
    "## General strategy:\n",
    "\n",
    "1. Find a list of links, each of which contains some text that we are looking for. In other contexts, this could be a list of speeches, a list of press releases, a list of publications, a list of novels even -- basically anything.\n",
    "2. Identify a regular expression or HTML code tag that on each of those pages gives us the text in question that we want.\n",
    "3. Extract that text, pause for a moment (n.b. ALWAYS have a built-in pause in order to not alarm website admins. For those of you who decide to become black-hat hackers, this automated-request of a website is identical to what a DDOS is), then move on to the next page and rinse and repeat.\n",
    "4. We'll also want to include error code expections so that if one page has some issue with it (null value for instance), we don't want the entire scrape to end, especially if we are planning to scrape over the course of 10 to 12 hours. We will wish to record that fact as well."
   ]
  },
  {
   "cell_type": "markdown",
   "metadata": {
    "button": false,
    "new_sheet": false,
    "run_control": {
     "read_only": false
    }
   },
   "source": [
    "<font color=darkgreen>\n",
    "    \n",
    "### Step 1: Figuring out the text data we want.\n",
    "\n",
    "Here I wish to see all cases which involved Britons who were exiled (and then came back).\n",
    "\n",
    "\n",
    "\n",
    "Next week, we'll use the full API. And we'll also discuss going to 'private' web pages.\n",
    "\n",
    "https://www.oldbaileyonline.org/forms/formCustom.jsp\n",
    "\n",
    "'The boxes below allow you to search the whole of the Proceedings and all published Ordinary of Newgate's Accounts (for the period from 1679 to 1772)'\n",
    "\n",
    "Search for those tried for 'returning from transportation' (same sentence as Magwitch):\n",
    "\n",
    "https://www.oldbaileyonline.org/search.jsp?gen=1&form=searchHomePage&_offences_offenceCategory_offenceSubcategory=miscellaneous_returnFromTransportation&start=0&count=0\n",
    "\n",
    "So, from this angle, we'll get a piece of what we want, but next week, with APIs, we'll dig a little deeper.\n",
    "\n",
    "Let's start with this case, someone convicted of stealing a handkerchief:\n",
    "\n",
    "https://www.oldbaileyonline.org/browse.jsp?id=t17940115-36-off187&div=t17940115-36"
   ]
  },
  {
   "cell_type": "code",
   "execution_count": 8,
   "metadata": {
    "button": false,
    "new_sheet": false,
    "run_control": {
     "read_only": false
    }
   },
   "outputs": [
    {
     "data": {
      "text/plain": [
       "200"
      ]
     },
     "execution_count": 8,
     "metadata": {},
     "output_type": "execute_result"
    }
   ],
   "source": [
    "# we first take the URL \n",
    "url = \"https://www.oldbaileyonline.org/browse.jsp?id=t17940115-36-off187&div=t17940115-36\"\n",
    "# and then we request it, as if we are loading an indiviudal web page.\n",
    "req = requests.get(url,timeout=20) #always include a delay!\n",
    "#For those curious,the actual code for a DDoS attack is pretty similar to page request.\n",
    "req.status_code #200 means we have gotten it correctly"
   ]
  },
  {
   "cell_type": "code",
   "execution_count": 9,
   "metadata": {
    "button": false,
    "new_sheet": false,
    "run_control": {
     "read_only": false
    }
   },
   "outputs": [
    {
     "ename": "AttributeError",
     "evalue": "'Response' object has no attribute 'html'",
     "output_type": "error",
     "traceback": [
      "\u001b[0;31m---------------------------------------------------------------------------\u001b[0m",
      "\u001b[0;31mAttributeError\u001b[0m                            Traceback (most recent call last)",
      "\u001b[0;32m<ipython-input-9-4a6fe6481892>\u001b[0m in \u001b[0;36m<module>\u001b[0;34m()\u001b[0m\n\u001b[0;32m----> 1\u001b[0;31m \u001b[0mreq\u001b[0m\u001b[0;34m.\u001b[0m\u001b[0mhtml\u001b[0m\u001b[0;34m\u001b[0m\u001b[0m\n\u001b[0m",
      "\u001b[0;31mAttributeError\u001b[0m: 'Response' object has no attribute 'html'"
     ]
    }
   ],
   "source": [
    "req.html"
   ]
  },
  {
   "cell_type": "code",
   "execution_count": null,
   "metadata": {
    "button": false,
    "collapsed": true,
    "new_sheet": false,
    "run_control": {
     "read_only": false
    },
    "scrolled": true
   },
   "outputs": [],
   "source": [
    "req.html = req.text #extract the text from the request\n",
    "soup = BeautifulSoup(req.html,\"html.parser\") #parse the text so the computer can read the html tags\n",
    "print(soup.prettify()) #print out what the soup looks like"
   ]
  },
  {
   "cell_type": "markdown",
   "metadata": {
    "button": false,
    "new_sheet": false,
    "run_control": {
     "read_only": false
    }
   },
   "source": [
    "![html_code_structure](http://www.openbookproject.net/tutorials/getdown/css/images/lesson4/HTMLDOMTree.png)\n",
    "\n",
    "<font color=darkgreen>\n",
    "    \n",
    "**Essentially what we're doing is looking for that last row down here, in order to find the relevant text.**"
   ]
  },
  {
   "cell_type": "raw",
   "metadata": {
    "button": false,
    "new_sheet": false,
    "run_control": {
     "read_only": false
    }
   },
   "source": [
    "![html_dom](http://www.cs.toronto.edu/~shiva/cscb07/img/dom/treeStructure.png)"
   ]
  },
  {
   "cell_type": "markdown",
   "metadata": {
    "button": false,
    "new_sheet": false,
    "run_control": {
     "read_only": false
    }
   },
   "source": [
    "<font color=darkgreen>\n",
    "\n",
    "### **Html code structure**\n",
    "\n",
    "- Upon request, HTML is parsed into DOM (DOcument Object Model)\n",
    "- All content we want is generally at bottom of this tree.\n",
    "- The 'art' / frustrating part of webscrapping is identifying what piece of the treet to navigate down.\n",
    "- The breakpoints for a webscrape are when this tree has some inconsistency (null data or things are structured differently.\n",
    "- So again, if you can view it in a browser, then you can scrape it. If there's any break in this structure, then your code is going to fail b/c it relies on this structure to navigate for data.\n",
    "\n",
    "\n",
    "### Navigating this structure:\n",
    "\n",
    "https://www.crummy.com/software/BeautifulSoup/bs4/doc/#navigating-the-tree\n",
    "\n",
    "1. Find a given tag\n",
    "2. Find a tag and ask for its children\n",
    "3. Find a tag and ask for parents\n",
    "4. Ask for siblings (navigate sideways)\n",
    "\n",
    "Otherwise:\n",
    "\n",
    "1. Search for an expression `soup.find_all('b')`\n",
    "2. Search using a regular expression. `re.compile(\"t\")`"
   ]
  },
  {
   "cell_type": "markdown",
   "metadata": {
    "button": false,
    "new_sheet": false,
    "run_control": {
     "read_only": false
    }
   },
   "source": [
    "<font color=darkgreen>\n",
    "\n",
    "### Regular expressions\n",
    "\n",
    "- Functionally, another distinct language\n",
    "- Raw method of parsing strings\n",
    "\n",
    "Regular expression cheat sheet:\n",
    "\n",
    "https://regexr.com\n",
    "\n",
    "Datacamp tutorial:\n",
    "\n",
    "https://www.datacamp.com/community/tutorials/python-regular-expression-tutorial\n",
    "\n",
    "Python docs:\n",
    "\n",
    "https://docs.python.org/2/library/re.html\n",
    "\n",
    "Table:\n",
    "\n",
    "| Expression | Search                         |\n",
    "|------------|--------------------------------|\n",
    "| \\d         | Any Digit                      |\n",
    "| \\D         | Any Non-digit character        |\n",
    "| .          | Any Character                  |\n",
    "| \\.         | Period                         |\n",
    "| [abc]      | Only a, b, or c                |\n",
    "| [^abc]     | Not a, b, nor c                |\n",
    "| [a-z]      | Characters a to z              |\n",
    "| [0-9]      | Numbers 0 to 9                 |\n",
    "| \\w         | Any Alphanumeric character     |\n",
    "| \\W         | Any Non-alphanumeric character |\n",
    "| {m}        | m Repetitions                  |\n",
    "| {m,n}      | m to n Repetitions             |\n",
    "| *          | Zero or more repetitions       |\n",
    "| +          | One or more repetitions        |\n",
    "| ?          | \"zero or one occurrences of the preceding element.\"              |\n",
    "| \\s         | Any Whitespace                 |\n",
    "| \\S         | Any Non-whitespace character   |\n",
    "| ^…$        | Starts and ends                |\n",
    "| (a(bc))    | Capture Sub-group              |\n",
    "\n",
    "https://github.com/zeeshanu/learn-regex"
   ]
  },
  {
   "cell_type": "code",
   "execution_count": 11,
   "metadata": {
    "button": false,
    "new_sheet": false,
    "run_control": {
     "read_only": false
    }
   },
   "outputs": [
    {
     "data": {
      "text/html": [
       "<div>\n",
       "<style>\n",
       "    .dataframe thead tr:only-child th {\n",
       "        text-align: right;\n",
       "    }\n",
       "\n",
       "    .dataframe thead th {\n",
       "        text-align: left;\n",
       "    }\n",
       "\n",
       "    .dataframe tbody tr th {\n",
       "        vertical-align: top;\n",
       "    }\n",
       "</style>\n",
       "<table border=\"1\" class=\"dataframe\">\n",
       "  <thead>\n",
       "    <tr style=\"text-align: right;\">\n",
       "      <th></th>\n",
       "      <th>text</th>\n",
       "    </tr>\n",
       "  </thead>\n",
       "  <tbody>\n",
       "    <tr>\n",
       "      <th>0</th>\n",
       "      <td>Monday: Homework is due at 11:59am</td>\n",
       "    </tr>\n",
       "    <tr>\n",
       "      <th>1</th>\n",
       "      <td>Wednesday: Class is at 2:00pm. Review papers!</td>\n",
       "    </tr>\n",
       "    <tr>\n",
       "      <th>2</th>\n",
       "      <td>Thursday: Lab is at 5:00pm</td>\n",
       "    </tr>\n",
       "  </tbody>\n",
       "</table>\n",
       "</div>"
      ],
      "text/plain": [
       "                                            text\n",
       "0             Monday: Homework is due at 11:59am\n",
       "1  Wednesday: Class is at 2:00pm. Review papers!\n",
       "2                     Thursday: Lab is at 5:00pm"
      ]
     },
     "execution_count": 11,
     "metadata": {},
     "output_type": "execute_result"
    }
   ],
   "source": [
    "import pandas as pd\n",
    "\n",
    "class_sentences = [\"Monday: Homework is due at 11:59am\",\n",
    "                  \"Wednesday: Class is at 2:00pm. Review papers!\",\n",
    "                  \"Thursday: Lab is at 5:00pm\"]\n",
    "\n",
    "df = pd.DataFrame(class_sentences, columns=['text'])\n",
    "df"
   ]
  },
  {
   "cell_type": "code",
   "execution_count": 12,
   "metadata": {
    "button": false,
    "new_sheet": false,
    "run_control": {
     "read_only": false
    }
   },
   "outputs": [
    {
     "data": {
      "text/plain": [
       "0    34\n",
       "1    45\n",
       "2    26\n",
       "Name: text, dtype: int64"
      ]
     },
     "execution_count": 12,
     "metadata": {},
     "output_type": "execute_result"
    }
   ],
   "source": [
    "# select dataframe, the column 'final_words', call str, and then use, len\n",
    "#method on that string\n",
    "# find number of characters\n",
    "df['text'].str.len()\n",
    "\n",
    "# n.b. if you wish to convert something to a string, wrap it in a str() function"
   ]
  },
  {
   "cell_type": "markdown",
   "metadata": {
    "button": false,
    "new_sheet": false,
    "run_control": {
     "read_only": false
    }
   },
   "source": [
    "<font color=darkred>\n",
    "\n",
    "Are there 177 words or 177 characters?"
   ]
  },
  {
   "cell_type": "code",
   "execution_count": 13,
   "metadata": {
    "button": false,
    "new_sheet": false,
    "run_control": {
     "read_only": false
    }
   },
   "outputs": [
    {
     "data": {
      "text/plain": [
       "0    6\n",
       "1    7\n",
       "2    5\n",
       "Name: text, dtype: int64"
      ]
     },
     "execution_count": 13,
     "metadata": {},
     "output_type": "execute_result"
    }
   ],
   "source": [
    "#tokens for each string \n",
    "# call the split function to break up on white spaces, and then count len of \n",
    "#those split up strings\n",
    "df['text'].str.split().str.len()"
   ]
  },
  {
   "cell_type": "code",
   "execution_count": 14,
   "metadata": {
    "button": false,
    "new_sheet": false,
    "run_control": {
     "read_only": false
    }
   },
   "outputs": [
    {
     "data": {
      "text/plain": [
       "0    False\n",
       "1    False\n",
       "2     True\n",
       "Name: text, dtype: bool"
      ]
     },
     "execution_count": 14,
     "metadata": {},
     "output_type": "execute_result"
    }
   ],
   "source": [
    "#search through words, use string method to find lines which contains to find 'lab'\n",
    "#selecting the dataframe, selecting the row w/ the text, parsing as string, \n",
    "#and then the 'contains' method\n",
    "df['text'].str.contains('Lab')"
   ]
  },
  {
   "cell_type": "code",
   "execution_count": 15,
   "metadata": {
    "button": false,
    "new_sheet": false,
    "run_control": {
     "read_only": false
    }
   },
   "outputs": [
    {
     "data": {
      "text/plain": [
       "0    True\n",
       "1    True\n",
       "2    True\n",
       "Name: text, dtype: bool"
      ]
     },
     "execution_count": 15,
     "metadata": {},
     "output_type": "execute_result"
    }
   ],
   "source": [
    "# regualar expressions being w/ a r before the string construct quotes\n",
    "# \\d looks for digits\n",
    "df['text'].str.contains(r'\\d')"
   ]
  },
  {
   "cell_type": "code",
   "execution_count": 16,
   "metadata": {
    "button": false,
    "new_sheet": false,
    "run_control": {
     "read_only": false
    }
   },
   "outputs": [
    {
     "data": {
      "text/plain": [
       "0    [(11, 59)]\n",
       "1     [(2, 00)]\n",
       "2     [(5, 00)]\n",
       "Name: text, dtype: object"
      ]
     },
     "execution_count": 16,
     "metadata": {},
     "output_type": "execute_result"
    }
   ],
   "source": [
    "# group and find digits\n",
    "df['text'].str.findall(r'(\\d?\\d):(\\d?\\d)')"
   ]
  },
  {
   "cell_type": "code",
   "execution_count": 17,
   "metadata": {
    "button": false,
    "new_sheet": false,
    "run_control": {
     "read_only": false
    }
   },
   "outputs": [
    {
     "data": {
      "text/html": [
       "<div>\n",
       "<style>\n",
       "    .dataframe thead tr:only-child th {\n",
       "        text-align: right;\n",
       "    }\n",
       "\n",
       "    .dataframe thead th {\n",
       "        text-align: left;\n",
       "    }\n",
       "\n",
       "    .dataframe tbody tr th {\n",
       "        vertical-align: top;\n",
       "    }\n",
       "</style>\n",
       "<table border=\"1\" class=\"dataframe\">\n",
       "  <thead>\n",
       "    <tr style=\"text-align: right;\">\n",
       "      <th></th>\n",
       "      <th></th>\n",
       "      <th>0</th>\n",
       "    </tr>\n",
       "    <tr>\n",
       "      <th></th>\n",
       "      <th>match</th>\n",
       "      <th></th>\n",
       "    </tr>\n",
       "  </thead>\n",
       "  <tbody>\n",
       "    <tr>\n",
       "      <th>0</th>\n",
       "      <th>0</th>\n",
       "      <td>is</td>\n",
       "    </tr>\n",
       "    <tr>\n",
       "      <th>1</th>\n",
       "      <th>0</th>\n",
       "      <td>is</td>\n",
       "    </tr>\n",
       "    <tr>\n",
       "      <th>2</th>\n",
       "      <th>0</th>\n",
       "      <td>is</td>\n",
       "    </tr>\n",
       "  </tbody>\n",
       "</table>\n",
       "</div>"
      ],
      "text/plain": [
       "          0\n",
       "  match    \n",
       "0 0      is\n",
       "1 0      is\n",
       "2 0      is"
      ]
     },
     "execution_count": 17,
     "metadata": {},
     "output_type": "execute_result"
    }
   ],
   "source": [
    "#find all 'is'\n",
    "df['text'].str.extractall(r'(is)')"
   ]
  },
  {
   "cell_type": "markdown",
   "metadata": {
    "button": false,
    "new_sheet": false,
    "run_control": {
     "read_only": false
    }
   },
   "source": [
    "<font color=darkgreen>\n",
    "\n",
    "### Open developer tools. Tools --> Toggle Developer Tools\n",
    "\n",
    "https://www.oldbaileyonline.org/browse.jsp?id=t17940115-36-off187&div=t17940115-36"
   ]
  },
  {
   "cell_type": "code",
   "execution_count": 18,
   "metadata": {
    "button": false,
    "new_sheet": false,
    "run_control": {
     "read_only": false
    },
    "scrolled": true
   },
   "outputs": [
    {
     "data": {
      "text/html": [
       "<div>\n",
       "<style>\n",
       "    .dataframe thead tr:only-child th {\n",
       "        text-align: right;\n",
       "    }\n",
       "\n",
       "    .dataframe thead th {\n",
       "        text-align: left;\n",
       "    }\n",
       "\n",
       "    .dataframe tbody tr th {\n",
       "        vertical-align: top;\n",
       "    }\n",
       "</style>\n",
       "<table border=\"1\" class=\"dataframe\">\n",
       "  <thead>\n",
       "    <tr style=\"text-align: right;\">\n",
       "      <th></th>\n",
       "      <th></th>\n",
       "      <th>0</th>\n",
       "      <th>1</th>\n",
       "      <th>2</th>\n",
       "      <th>3</th>\n",
       "    </tr>\n",
       "    <tr>\n",
       "      <th></th>\n",
       "      <th>match</th>\n",
       "      <th></th>\n",
       "      <th></th>\n",
       "      <th></th>\n",
       "      <th></th>\n",
       "    </tr>\n",
       "  </thead>\n",
       "  <tbody>\n",
       "    <tr>\n",
       "      <th>0</th>\n",
       "      <th>0</th>\n",
       "      <td>11:59am</td>\n",
       "      <td>11</td>\n",
       "      <td>59</td>\n",
       "      <td>am</td>\n",
       "    </tr>\n",
       "    <tr>\n",
       "      <th>1</th>\n",
       "      <th>0</th>\n",
       "      <td>2:00pm</td>\n",
       "      <td>2</td>\n",
       "      <td>00</td>\n",
       "      <td>pm</td>\n",
       "    </tr>\n",
       "    <tr>\n",
       "      <th>2</th>\n",
       "      <th>0</th>\n",
       "      <td>5:00pm</td>\n",
       "      <td>5</td>\n",
       "      <td>00</td>\n",
       "      <td>pm</td>\n",
       "    </tr>\n",
       "  </tbody>\n",
       "</table>\n",
       "</div>"
      ],
      "text/plain": [
       "               0   1   2   3\n",
       "  match                     \n",
       "0 0      11:59am  11  59  am\n",
       "1 0       2:00pm   2  00  pm\n",
       "2 0       5:00pm   5  00  pm"
      ]
     },
     "execution_count": 18,
     "metadata": {},
     "output_type": "execute_result"
    }
   ],
   "source": [
    "#between two digits ':\" then zero or more of the group of either [ap] m\n",
    "df['text'].str.extractall(r'((\\d?\\d):(\\d\\d) ?([ap]m))')"
   ]
  },
  {
   "cell_type": "code",
   "execution_count": 24,
   "metadata": {
    "button": false,
    "new_sheet": false,
    "run_control": {
     "read_only": false
    }
   },
   "outputs": [
    {
     "name": "stdout",
     "output_type": "stream",
     "text": [
      "tage coach, in the same coach in which I was, he with seven others, making eight in all were in that place, there was six on the roof, and six withinside with me; when I came to Farnham I went to give them a little beer, by way of nourishment, being a cold night, I found him and another missing, by examining their irons, I believe it was about one o'clock in the morning; I gave every possible alarm that I could at that time of the morning, I continued on the journey with the eighteen others, and delivered them safe.\n",
      "          </p>\n",
      "          <p>\n",
      "           Q. When did you hear again from him? - On Sunday last one of the officers, that apprehended him, came and informed me that he had apprehended one of the people that got away from me, and I went to the New Prison, there I saw him; I have not the least doubt in the world but this is the same man.\n",
      "          </p>\n",
      "          <p>\n",
      "           <a class=\"invisible\" name=\"t17940115-36-person557\">\n",
      "           </a>\n",
      "           Q.                     \n"
     ]
    }
   ],
   "source": [
    "soup = BeautifulSoup(req.text,\"html.parser\") #n.b. different parsers can mean very different structures\n",
    "print(soup.prettify()[9500:10500])"
   ]
  },
  {
   "cell_type": "code",
   "execution_count": 25,
   "metadata": {
    "button": false,
    "new_sheet": false,
    "run_control": {
     "read_only": false
    }
   },
   "outputs": [
    {
     "data": {
      "text/plain": [
       "['html',\n",
       " 'head',\n",
       " 'title',\n",
       " 'meta',\n",
       " 'link',\n",
       " 'link',\n",
       " 'script',\n",
       " 'script',\n",
       " 'script',\n",
       " 'body',\n",
       " 'div',\n",
       " 'div',\n",
       " 'div',\n",
       " 'ul',\n",
       " 'li',\n",
       " 'a',\n",
       " 'li',\n",
       " 'a',\n",
       " 'li',\n",
       " 'a']"
      ]
     },
     "execution_count": 25,
     "metadata": {},
     "output_type": "execute_result"
    }
   ],
   "source": [
    "# first 20 tags\n",
    "[tag.name for tag in soup.find_all()][:20]"
   ]
  },
  {
   "cell_type": "code",
   "execution_count": 26,
   "metadata": {
    "button": false,
    "new_sheet": false,
    "run_control": {
     "read_only": false
    }
   },
   "outputs": [
    {
     "data": {
      "text/plain": [
       "<head>\n",
       "<title>Browse - Central Criminal Court</title>\n",
       "<meta content=\"text/html; charset=utf-8\" http-equiv=\"content-type\"/>\n",
       "<link href=\"css/screen.css\" media=\"screen\" rel=\"stylesheet\" type=\"text/css\"/>\n",
       "<!--<link rel=\"stylesheet\" type=\"text/css\" media=\"screen\" href=\"a.css\" />-->\n",
       "<!--[if (lte IE 7)&(gte IE 5.5)]><link rel=\"stylesheet\" type=\"text/css\" media=\"screen\" href=\"css/ie7.css\" /><![endif]-->\n",
       "<!--[if (lte IE 6)&(gte IE 5.5)]><link rel=\"stylesheet\" type=\"text/css\" media=\"screen\" href=\"css/ie6.css\" /><![endif]-->\n",
       "<!--[if (lt IE 6)&(gte IE 5.5)]><link rel=\"stylesheet\" type=\"text/css\" media=\"screen\" href=\"css/ie5.css\" /><![endif]-->\n",
       "<link href=\"css/print.css\" media=\"print\" rel=\"stylesheet\" type=\"text/css\"/>\n",
       "<script src=\"a.js\" type=\"text/javascript\"></script>\n",
       "<script src=\"dp.js\" type=\"text/javascript\"></script>\n",
       "<script type=\"text/javascript\">\n",
       "\n",
       "\tvar _gaq = _gaq || [];\n",
       "\t_gaq.push(['_setAccount', 'UA-19174022-1']);\n",
       "\t_gaq.push(['_trackPageview']);\n",
       "\n",
       "\t(function() {\n",
       "\tvar ga = document.createElement('script'); ga.type = 'text/javascript'; ga.async = true;\n",
       "\tga.src = ('https:' == document.location.protocol ? 'https://ssl' : 'http://www') + '.google-analytics.com/ga.js';\n",
       "\tvar s = document.getElementsByTagName('script')[0]; s.parentNode.insertBefore(ga, s);\n",
       "\t})();\n",
       "\n",
       "\t</script>\n",
       "</head>"
      ]
     },
     "execution_count": 26,
     "metadata": {},
     "output_type": "execute_result"
    }
   ],
   "source": [
    "# the head, is there anything useful up here?\n",
    "soup.head"
   ]
  },
  {
   "cell_type": "code",
   "execution_count": 27,
   "metadata": {
    "button": false,
    "collapsed": true,
    "new_sheet": false,
    "run_control": {
     "read_only": false
    }
   },
   "outputs": [],
   "source": [
    "#soup.body"
   ]
  },
  {
   "cell_type": "code",
   "execution_count": 28,
   "metadata": {
    "button": false,
    "new_sheet": false,
    "run_control": {
     "read_only": false
    },
    "scrolled": true
   },
   "outputs": [
    {
     "data": {
      "text/plain": [
       "[<p>104.                                  <a class=\"invisible\" name=\"t17940115-36-defend555\"> </a>                     JOSHUA                      DANIELS                                                                                                                               was indicted for that                                                          he on the 11th of January                     , feloniously, without any lawful cause, was at large in the kingdom of Great Britain, before the expiration of the term of seven years, for which he was ordered to be transported, at the session of gaol delivery for the City of London, in September last            .</p>,\n",
       " <p> <a class=\"invisible\" name=\"t17940115-36-person556\"> </a>                  JOHN                   OWEN                                                                                        sworn.</p>,\n",
       " <p>I am a servant to Mr. Kirby. The prisoner was tried here in September sessions last, for stealing an handkerchief, and was convicted, and received sentence to be transported.</p>,\n",
       " <p>Q. Are you sure as to his person? - Positive. On the 6th of January I had orders to convey him with nineteen others making twenty in the whole, to Portsmouth; last Monday was a week we went with the coach, when I got about thirty-four or thirty-five miles, he was missing when I came to Farnham, I never missed him till I came to Farnham, for I was inside of the coach with six others; I believe Farnham is thirty-four or thirty-five miles, he went in what they call the basket, belonging to the stage coach, in the same coach in which I was, he with seven others, making eight in all were in that place, there was six on the roof, and six withinside with me; when I came to Farnham I went to give them a little beer, by way of nourishment, being a cold night, I found him and another missing, by examining their irons, I believe it was about one o'clock in the morning; I gave every possible alarm that I could at that time of the morning, I continued on the journey with the eighteen others, and delivered them safe.</p>,\n",
       " <p>Q. When did you hear again from him? - On Sunday last one of the officers, that apprehended him, came and informed me that he had apprehended one of the people that got away from me, and I went to the New Prison, there I saw him; I have not the least doubt in the world but this is the same man.</p>,\n",
       " <p> <a class=\"invisible\" name=\"t17940115-36-person557\"> </a>                  Q.                                                                   How long have you known him? - Four or five years.</p>,\n",
       " <p>Prisoner. Would either a gentleman here been in my stead, and found opportunity to make their escape would they not have done the same.</p>,\n",
       " <p>(The record of his former conviction read by the clerk of the court.)</p>,\n",
       " <p> <a class=\"invisible\" name=\"t17940115-36-person558\"> </a>                  JOHN                   ARMSTRONG                                                                                        sworn.</p>,\n",
       " <p>I am one of the police constables of Shoreditch. On Saturday the 11th of January, I went to a house in Rosemary-lane, which is in the parish of St. Mary's, Whitechapel, between the hours of eleven and twelve, in company with Harper and Blackiter, and apprehended the prisoner, and afterwards there was a word sent to Mr. Owen, I believe it was a house of recruits for soldiers, by my information I believe he had entered as a recruit, I believe he was entered, or was going to enter, he was carried by Mr. Blackiter and another officer that is here, to New Prison, I only came with him to New-street, Bishopsgate-street, and then I left him in the hands of                <a class=\"invisible\" name=\"t17940115-36-person559\"> </a>                  Ferris                                                                   another way.</p>,\n",
       " <p> <a class=\"invisible\" name=\"t17940115-36-person560\"> </a>                  SAMUEL                   HARPER                                                                                        sworn.</p>,\n",
       " <p>I was present when this man was taken up, and we brought him from the house in a coach, to near Long-alley, by Moor<div class=\"facsimile-link-wrapper\"><div class=\"facsimile-link\"><span class=\"facsimile-text\"><a href=\"images.jsp?doc=179401150098\">See original</a></span><span class=\"facsimile-image\"><a href=\"images.jsp?doc=179401150098\"><img alt=\"Click to see original\" class=\"facsimile-image-img\" src=\"i/genericThumb.jpg\"/></a></span></div></div>fields, and then left him in the hands of Mr. Blackiter and Mr. Ferris.</p>,\n",
       " <p> <a class=\"invisible\" name=\"t17940115-36-person561\"> </a>                  WILLIAM                   BLACKITER                                                                                        sworn.</p>,\n",
       " <p>I am an officer belonging to the office of Shoreditch, in Worship-street; I was present when the prisoner was taken, we had a coach and took him down to New Prison that night.</p>,\n",
       " <p>Q. Did they receive him there without a commitment? - Yes, I left him there as a night charge. On Monday he was carried before the magistrate, and on Sunday I went and informed Mr. Owen.</p>,\n",
       " <p>Q. In what parish is this Rosemary-lane? - In Whitechapel.</p>,\n",
       " <p>Prisoner. If you please to consider if any gentlemen had found opportunity to make their escape they would have done the same. The guard behind the coach was fast asleep, I made my escape with no other idea than to serve my Majesty, I asked before to go for a soldier, and the Recorder that tried me, would not grant it me, I went at first to Deptford, to go on board a King's ship, and they would not take me, and I went to Rosemary-lane, and enlisted for a King's soldier to go to the East Indies, I did not do it for any intent than to serve his Majesty, either by sea or by land.</p>,\n",
       " <p>Q. In whose company did you enlist? - With Mr. Mozelle, I was taken out of his house, I was in bed when they came for me.</p>,\n",
       " <p>Mr. Kirby. They don't enlist into any company, only for five years, to serve in the East India company's settlement, and under no particular officer.</p>,\n",
       " <p>Court to Armstrong. Was he in bed? - Yes, he was with another man.</p>,\n",
       " <p>GUILTY.                                                                      Death                  . (Aged 26.)</p>,\n",
       " <p>Recommended by the Jury.</p>,\n",
       " <p>Tried by the London Jury before Mr. RECORDER.</p>,\n",
       " <p><a href=\"browse.jsp?foo=bar&amp;path=sessionsPapers/17940115.xml&amp;div=t17940115-36&amp;xml=yes\">View as XML</a></p>,\n",
       " <p> </p>,\n",
       " <p>Version 8.0 | March 2018\n",
       " </p>,\n",
       " <p><span>© 2003-2018 Old Bailey Proceedings Online</span></p>,\n",
       " <p>We welcome your <a href=\"static/Contact.jsp\"><span>feedback</span></a> on this web site</p>]"
      ]
     },
     "execution_count": 28,
     "metadata": {},
     "output_type": "execute_result"
    }
   ],
   "source": [
    "# let's find all paragraphs of text in the body of the webpage.\n",
    "soup.body.find_all('p')"
   ]
  },
  {
   "cell_type": "code",
   "execution_count": 29,
   "metadata": {
    "button": false,
    "new_sheet": false,
    "run_control": {
     "read_only": false
    }
   },
   "outputs": [
    {
     "data": {
      "text/plain": [
       "bs4.element.ResultSet"
      ]
     },
     "execution_count": 29,
     "metadata": {},
     "output_type": "execute_result"
    }
   ],
   "source": [
    "# The result of this search is a bs4 result\n",
    "type(soup.body.find_all('p'))"
   ]
  },
  {
   "cell_type": "code",
   "execution_count": 30,
   "metadata": {
    "button": false,
    "new_sheet": false,
    "run_control": {
     "read_only": false
    },
    "scrolled": true
   },
   "outputs": [
    {
     "name": "stdout",
     "output_type": "stream",
     "text": [
      "104.                                                        JOSHUA                      DANIELS                                                                                                                               was indicted for that                                                          he on the 11th of January                     , feloniously, without any lawful cause, was at large in the kingdom of Great Britain, before the expiration of the term of seven years, for which he was ordered to be transported, at the session of gaol delivery for the City of London, in September last            .\n",
      "                    JOHN                   OWEN                                                                                        sworn.\n",
      "I am a servant to Mr. Kirby. The prisoner was tried here in September sessions last, for stealing an handkerchief, and was convicted, and received sentence to be transported.\n",
      "Q. Are you sure as to his person? - Positive. On the 6th of January I had orders to convey him with nineteen others making twenty in the whole, to Portsmouth; last Monday was a week we went with the coach, when I got about thirty-four or thirty-five miles, he was missing when I came to Farnham, I never missed him till I came to Farnham, for I was inside of the coach with six others; I believe Farnham is thirty-four or thirty-five miles, he went in what they call the basket, belonging to the stage coach, in the same coach in which I was, he with seven others, making eight in all were in that place, there was six on the roof, and six withinside with me; when I came to Farnham I went to give them a little beer, by way of nourishment, being a cold night, I found him and another missing, by examining their irons, I believe it was about one o'clock in the morning; I gave every possible alarm that I could at that time of the morning, I continued on the journey with the eighteen others, and delivered them safe.\n",
      "Q. When did you hear again from him? - On Sunday last one of the officers, that apprehended him, came and informed me that he had apprehended one of the people that got away from me, and I went to the New Prison, there I saw him; I have not the least doubt in the world but this is the same man.\n",
      "                    Q.                                                                   How long have you known him? - Four or five years.\n",
      "Prisoner. Would either a gentleman here been in my stead, and found opportunity to make their escape would they not have done the same.\n",
      "(The record of his former conviction read by the clerk of the court.)\n",
      "                    JOHN                   ARMSTRONG                                                                                        sworn.\n",
      "I am one of the police constables of Shoreditch. On Saturday the 11th of January, I went to a house in Rosemary-lane, which is in the parish of St. Mary's, Whitechapel, between the hours of eleven and twelve, in company with Harper and Blackiter, and apprehended the prisoner, and afterwards there was a word sent to Mr. Owen, I believe it was a house of recruits for soldiers, by my information I believe he had entered as a recruit, I believe he was entered, or was going to enter, he was carried by Mr. Blackiter and another officer that is here, to New Prison, I only came with him to New-street, Bishopsgate-street, and then I left him in the hands of                                   Ferris                                                                   another way.\n",
      "                    SAMUEL                   HARPER                                                                                        sworn.\n",
      "I was present when this man was taken up, and we brought him from the house in a coach, to near Long-alley, by MoorSee originalfields, and then left him in the hands of Mr. Blackiter and Mr. Ferris.\n",
      "                    WILLIAM                   BLACKITER                                                                                        sworn.\n",
      "I am an officer belonging to the office of Shoreditch, in Worship-street; I was present when the prisoner was taken, we had a coach and took him down to New Prison that night.\n",
      "Q. Did they receive him there without a commitment? - Yes, I left him there as a night charge. On Monday he was carried before the magistrate, and on Sunday I went and informed Mr. Owen.\n",
      "Q. In what parish is this Rosemary-lane? - In Whitechapel.\n",
      "Prisoner. If you please to consider if any gentlemen had found opportunity to make their escape they would have done the same. The guard behind the coach was fast asleep, I made my escape with no other idea than to serve my Majesty, I asked before to go for a soldier, and the Recorder that tried me, would not grant it me, I went at first to Deptford, to go on board a King's ship, and they would not take me, and I went to Rosemary-lane, and enlisted for a King's soldier to go to the East Indies, I did not do it for any intent than to serve his Majesty, either by sea or by land.\n",
      "Q. In whose company did you enlist? - With Mr. Mozelle, I was taken out of his house, I was in bed when they came for me.\n",
      "Mr. Kirby. They don't enlist into any company, only for five years, to serve in the East India company's settlement, and under no particular officer.\n",
      "Court to Armstrong. Was he in bed? - Yes, he was with another man.\n",
      "GUILTY.                                                                      Death                  . (Aged 26.)\n",
      "Recommended by the Jury.\n",
      "Tried by the London Jury before Mr. RECORDER.\n",
      "View as XML\n",
      " \n",
      "Version 8.0 | March 2018\n",
      "\n",
      "© 2003-2018 Old Bailey Proceedings Online\n",
      "We welcome your feedback on this web site\n"
     ]
    }
   ],
   "source": [
    "# we have to use the .text or .string method to extact the actual string or text that we want\n",
    "for p_tag in soup.find_all('p'):\n",
    "    print(p_tag.text)"
   ]
  },
  {
   "cell_type": "markdown",
   "metadata": {
    "button": false,
    "new_sheet": false,
    "run_control": {
     "read_only": false
    }
   },
   "source": [
    "<font color=darkgreen>\n",
    "    \n",
    "### Step 2. Parse the html with BeautifulSoup, that is, turn the raw text into something that the machine can read through.\n",
    "\n",
    "BeautifulSoup has a few crucial functions for us:\n",
    "\n",
    "- `soup.prettify()`: Returns cleanedup version of raw html for printing\n",
    "- `soup.find_all()`: Returns Python list of matching objects\n",
    "- `soup.find()`:Returns first matching object for that item.\n",
    "- `soup.text\n",
    "- soup.get_text()`: Returns visible text of an object (e.g.,\"<p>Some text</p>\" -> \"Some text\")\n",
    "\n",
    "\n",
    "Full documentation: https://www.crummy.com/software/BeautifulSoup/bs4/doc/\n",
    "\n",
    "#### Right-click, 'View source'"
   ]
  },
  {
   "cell_type": "markdown",
   "metadata": {
    "button": false,
    "new_sheet": false,
    "run_control": {
     "read_only": false
    }
   },
   "source": [
    "<font color=darkgreen>\n",
    "    \n",
    "So, let's go look at the developer tools on each page and see if we can find a structure that works. First the title:\n",
    "\n",
    "![](title.png)"
   ]
  },
  {
   "cell_type": "code",
   "execution_count": 31,
   "metadata": {
    "button": false,
    "collapsed": true,
    "new_sheet": false,
    "run_control": {
     "read_only": false
    }
   },
   "outputs": [],
   "source": [
    "# first the title\n",
    "soup.find('div', class_='sessionsPaperTitle')"
   ]
  },
  {
   "cell_type": "code",
   "execution_count": 32,
   "metadata": {
    "button": false,
    "new_sheet": false,
    "run_control": {
     "read_only": false
    }
   },
   "outputs": [
    {
     "ename": "AttributeError",
     "evalue": "'NoneType' object has no attribute 'get_text'",
     "output_type": "error",
     "traceback": [
      "\u001b[0;31m---------------------------------------------------------------------------\u001b[0m",
      "\u001b[0;31mAttributeError\u001b[0m                            Traceback (most recent call last)",
      "\u001b[0;32m<ipython-input-32-c3949c6bf76c>\u001b[0m in \u001b[0;36m<module>\u001b[0;34m()\u001b[0m\n\u001b[1;32m      1\u001b[0m \u001b[0;31m# extract just the text of the title\u001b[0m\u001b[0;34m\u001b[0m\u001b[0;34m\u001b[0m\u001b[0m\n\u001b[0;32m----> 2\u001b[0;31m \u001b[0msoup\u001b[0m\u001b[0;34m.\u001b[0m\u001b[0mfind\u001b[0m\u001b[0;34m(\u001b[0m\u001b[0;34m'div'\u001b[0m\u001b[0;34m,\u001b[0m \u001b[0mclass_\u001b[0m\u001b[0;34m=\u001b[0m\u001b[0;34m'sessionsPaperTitle'\u001b[0m\u001b[0;34m)\u001b[0m\u001b[0;34m.\u001b[0m\u001b[0mget_text\u001b[0m\u001b[0;34m(\u001b[0m\u001b[0;34m)\u001b[0m\u001b[0;34m\u001b[0m\u001b[0m\n\u001b[0m",
      "\u001b[0;31mAttributeError\u001b[0m: 'NoneType' object has no attribute 'get_text'"
     ]
    }
   ],
   "source": [
    "# extract just the text of the title\n",
    "soup.find('div', class_='sessionsPaperTitle').get_text()"
   ]
  },
  {
   "cell_type": "markdown",
   "metadata": {
    "button": false,
    "new_sheet": false,
    "run_control": {
     "read_only": false
    }
   },
   "source": [
    "<font color=darkgreen>\n",
    "    \n",
    "**Next, just the text of the trial.**\n",
    "\n",
    "And then next, the body, with the text in question:\n",
    "\n",
    "![](body.png)\n",
    "\n",
    "[//]: ![body_trail](body_detail.png)\n",
    "\n",
    "What we see here is that we want all the paragraphs within \"div sessions paper\" tag."
   ]
  },
  {
   "cell_type": "code",
   "execution_count": 33,
   "metadata": {
    "button": false,
    "new_sheet": false,
    "run_control": {
     "read_only": false
    }
   },
   "outputs": [
    {
     "data": {
      "text/plain": [
       "<div class=\"sessionsPaper\"><a class=\"invisible\" name=\"t17940115-36\"> </a><div class=\"sessions-paper-main-title\">JOSHUA DANIELS. </div><div class=\"sessions-paper-sub-title\"><a href=\"static/Crimes.jsp#miscellaneous\">Miscellaneous</a>: <a href=\"static/Crimes.jsp#returnfromtransportation\">returning from transportation</a>. </div><div class=\"sessions-paper-date\">15th January 1794</div><div class=\"ob-panel\"><table class=\"ob-info-table\"><tr><th>Reference Number</th><td>t17940115-36</td></tr><tr><th>Verdict</th><td><a href=\"static/Verdicts.jsp#guilty\">Guilty</a> &gt; <a href=\"static/Verdicts.jsp#withrecommendation\">with recommendation</a></td></tr><tr><th>Sentence</th><td><a href=\"static/Punishment.jsp#death\">Death</a></td></tr></table><span class=\"related-links-span\"><hr class=\"ob-hr\"/><table class=\"ob-info-table\"><tr><th>Related Material</th><td> <div class=\"related-links-assocrec\"><img class=\"assocrec-mini\" src=\"i/book.png\"/><a href=\"search.jsp?form=associatedRecords&amp;_associatedRecords_trials=t17940115-36\">Associated Records</a></div><span class=\"related-links-defs\"><span class=\"related-links-def\" dpid=\"t17940115-36-defend555\"><img src=\"graphics/progress.gif\"/></span></span></td></tr></table></span><hr class=\"ob-hr\"/><table class=\"ob-info-table\"><tr><th>Actions</th><td><a href=\"javascript:expand('citation')\">Cite this text</a><div class=\"hidden\" id=\"citation\"><i>Old Bailey Proceedings Online</i> (www.oldbaileyonline.org, version 8.0, 21 March 2018), January 1794, trial of                      JOSHUA                      DANIELS                                                                                                    (t17940115-36).<div style=\"text-align:right\"><a href=\"javascript:contract('citation')\">Close</a></div></div> | <a href=\"print.jsp?div=t17940115-36\">Print-friendly version</a> | <a href=\"forms/formError.jsp?div=t17940115-36\" target=\"_blank\">Report an error</a></td></tr><tr><th>Navigation</th><td><a href=\"browse.jsp?div=t17940115-35\">&lt; Previous text (trial account)</a> | <a href=\"browse.jsp?div=t17940115-37\">Next text (trial account) &gt;</a></td></tr></table></div><div class=\"facsimile-link-wrapper\"><div class=\"facsimile-link\"><span class=\"facsimile-text\"><a href=\"images.jsp?doc=179401150097\">See original</a></span><span class=\"facsimile-image\"><a href=\"images.jsp?doc=179401150097\"><img alt=\"Click to see original\" class=\"facsimile-image-img\" src=\"i/genericThumb.jpg\"/></a></span></div></div> <p>104.                                  <a class=\"invisible\" name=\"t17940115-36-defend555\"> </a>                     JOSHUA                      DANIELS                                                                                                                               was indicted for that                                                          he on the 11th of January                     , feloniously, without any lawful cause, was at large in the kingdom of Great Britain, before the expiration of the term of seven years, for which he was ordered to be transported, at the session of gaol delivery for the City of London, in September last            .</p> <p> <a class=\"invisible\" name=\"t17940115-36-person556\"> </a>                  JOHN                   OWEN                                                                                        sworn.</p> <p>I am a servant to Mr. Kirby. The prisoner was tried here in September sessions last, for stealing an handkerchief, and was convicted, and received sentence to be transported.</p> <p>Q. Are you sure as to his person? - Positive. On the 6th of January I had orders to convey him with nineteen others making twenty in the whole, to Portsmouth; last Monday was a week we went with the coach, when I got about thirty-four or thirty-five miles, he was missing when I came to Farnham, I never missed him till I came to Farnham, for I was inside of the coach with six others; I believe Farnham is thirty-four or thirty-five miles, he went in what they call the basket, belonging to the stage coach, in the same coach in which I was, he with seven others, making eight in all were in that place, there was six on the roof, and six withinside with me; when I came to Farnham I went to give them a little beer, by way of nourishment, being a cold night, I found him and another missing, by examining their irons, I believe it was about one o'clock in the morning; I gave every possible alarm that I could at that time of the morning, I continued on the journey with the eighteen others, and delivered them safe.</p> <p>Q. When did you hear again from him? - On Sunday last one of the officers, that apprehended him, came and informed me that he had apprehended one of the people that got away from me, and I went to the New Prison, there I saw him; I have not the least doubt in the world but this is the same man.</p> <p> <a class=\"invisible\" name=\"t17940115-36-person557\"> </a>                  Q.                                                                   How long have you known him? - Four or five years.</p> <p>Prisoner. Would either a gentleman here been in my stead, and found opportunity to make their escape would they not have done the same.</p> <p>(The record of his former conviction read by the clerk of the court.)</p> <p> <a class=\"invisible\" name=\"t17940115-36-person558\"> </a>                  JOHN                   ARMSTRONG                                                                                        sworn.</p> <p>I am one of the police constables of Shoreditch. On Saturday the 11th of January, I went to a house in Rosemary-lane, which is in the parish of St. Mary's, Whitechapel, between the hours of eleven and twelve, in company with Harper and Blackiter, and apprehended the prisoner, and afterwards there was a word sent to Mr. Owen, I believe it was a house of recruits for soldiers, by my information I believe he had entered as a recruit, I believe he was entered, or was going to enter, he was carried by Mr. Blackiter and another officer that is here, to New Prison, I only came with him to New-street, Bishopsgate-street, and then I left him in the hands of                <a class=\"invisible\" name=\"t17940115-36-person559\"> </a>                  Ferris                                                                   another way.</p> <p> <a class=\"invisible\" name=\"t17940115-36-person560\"> </a>                  SAMUEL                   HARPER                                                                                        sworn.</p> <p>I was present when this man was taken up, and we brought him from the house in a coach, to near Long-alley, by Moor<div class=\"facsimile-link-wrapper\"><div class=\"facsimile-link\"><span class=\"facsimile-text\"><a href=\"images.jsp?doc=179401150098\">See original</a></span><span class=\"facsimile-image\"><a href=\"images.jsp?doc=179401150098\"><img alt=\"Click to see original\" class=\"facsimile-image-img\" src=\"i/genericThumb.jpg\"/></a></span></div></div>fields, and then left him in the hands of Mr. Blackiter and Mr. Ferris.</p> <p> <a class=\"invisible\" name=\"t17940115-36-person561\"> </a>                  WILLIAM                   BLACKITER                                                                                        sworn.</p> <p>I am an officer belonging to the office of Shoreditch, in Worship-street; I was present when the prisoner was taken, we had a coach and took him down to New Prison that night.</p> <p>Q. Did they receive him there without a commitment? - Yes, I left him there as a night charge. On Monday he was carried before the magistrate, and on Sunday I went and informed Mr. Owen.</p> <p>Q. In what parish is this Rosemary-lane? - In Whitechapel.</p> <p>Prisoner. If you please to consider if any gentlemen had found opportunity to make their escape they would have done the same. The guard behind the coach was fast asleep, I made my escape with no other idea than to serve my Majesty, I asked before to go for a soldier, and the Recorder that tried me, would not grant it me, I went at first to Deptford, to go on board a King's ship, and they would not take me, and I went to Rosemary-lane, and enlisted for a King's soldier to go to the East Indies, I did not do it for any intent than to serve his Majesty, either by sea or by land.</p> <p>Q. In whose company did you enlist? - With Mr. Mozelle, I was taken out of his house, I was in bed when they came for me.</p> <p>Mr. Kirby. They don't enlist into any company, only for five years, to serve in the East India company's settlement, and under no particular officer.</p> <p>Court to Armstrong. Was he in bed? - Yes, he was with another man.</p> <p>GUILTY.                                                                      Death                  . (Aged 26.)</p> <p>Recommended by the Jury.</p> <p>Tried by the London Jury before Mr. RECORDER.</p> </div>"
      ]
     },
     "execution_count": 33,
     "metadata": {},
     "output_type": "execute_result"
    }
   ],
   "source": [
    "soup.find('div', class_='sessionsPaper')"
   ]
  },
  {
   "cell_type": "code",
   "execution_count": 34,
   "metadata": {
    "button": false,
    "new_sheet": false,
    "run_control": {
     "read_only": false
    }
   },
   "outputs": [
    {
     "data": {
      "text/plain": [
       "[<p>104.                                  <a class=\"invisible\" name=\"t17940115-36-defend555\"> </a>                     JOSHUA                      DANIELS                                                                                                                               was indicted for that                                                          he on the 11th of January                     , feloniously, without any lawful cause, was at large in the kingdom of Great Britain, before the expiration of the term of seven years, for which he was ordered to be transported, at the session of gaol delivery for the City of London, in September last            .</p>,\n",
       " <p> <a class=\"invisible\" name=\"t17940115-36-person556\"> </a>                  JOHN                   OWEN                                                                                        sworn.</p>,\n",
       " <p>I am a servant to Mr. Kirby. The prisoner was tried here in September sessions last, for stealing an handkerchief, and was convicted, and received sentence to be transported.</p>,\n",
       " <p>Q. Are you sure as to his person? - Positive. On the 6th of January I had orders to convey him with nineteen others making twenty in the whole, to Portsmouth; last Monday was a week we went with the coach, when I got about thirty-four or thirty-five miles, he was missing when I came to Farnham, I never missed him till I came to Farnham, for I was inside of the coach with six others; I believe Farnham is thirty-four or thirty-five miles, he went in what they call the basket, belonging to the stage coach, in the same coach in which I was, he with seven others, making eight in all were in that place, there was six on the roof, and six withinside with me; when I came to Farnham I went to give them a little beer, by way of nourishment, being a cold night, I found him and another missing, by examining their irons, I believe it was about one o'clock in the morning; I gave every possible alarm that I could at that time of the morning, I continued on the journey with the eighteen others, and delivered them safe.</p>,\n",
       " <p>Q. When did you hear again from him? - On Sunday last one of the officers, that apprehended him, came and informed me that he had apprehended one of the people that got away from me, and I went to the New Prison, there I saw him; I have not the least doubt in the world but this is the same man.</p>,\n",
       " <p> <a class=\"invisible\" name=\"t17940115-36-person557\"> </a>                  Q.                                                                   How long have you known him? - Four or five years.</p>,\n",
       " <p>Prisoner. Would either a gentleman here been in my stead, and found opportunity to make their escape would they not have done the same.</p>,\n",
       " <p>(The record of his former conviction read by the clerk of the court.)</p>,\n",
       " <p> <a class=\"invisible\" name=\"t17940115-36-person558\"> </a>                  JOHN                   ARMSTRONG                                                                                        sworn.</p>,\n",
       " <p>I am one of the police constables of Shoreditch. On Saturday the 11th of January, I went to a house in Rosemary-lane, which is in the parish of St. Mary's, Whitechapel, between the hours of eleven and twelve, in company with Harper and Blackiter, and apprehended the prisoner, and afterwards there was a word sent to Mr. Owen, I believe it was a house of recruits for soldiers, by my information I believe he had entered as a recruit, I believe he was entered, or was going to enter, he was carried by Mr. Blackiter and another officer that is here, to New Prison, I only came with him to New-street, Bishopsgate-street, and then I left him in the hands of                <a class=\"invisible\" name=\"t17940115-36-person559\"> </a>                  Ferris                                                                   another way.</p>,\n",
       " <p> <a class=\"invisible\" name=\"t17940115-36-person560\"> </a>                  SAMUEL                   HARPER                                                                                        sworn.</p>,\n",
       " <p>I was present when this man was taken up, and we brought him from the house in a coach, to near Long-alley, by Moor<div class=\"facsimile-link-wrapper\"><div class=\"facsimile-link\"><span class=\"facsimile-text\"><a href=\"images.jsp?doc=179401150098\">See original</a></span><span class=\"facsimile-image\"><a href=\"images.jsp?doc=179401150098\"><img alt=\"Click to see original\" class=\"facsimile-image-img\" src=\"i/genericThumb.jpg\"/></a></span></div></div>fields, and then left him in the hands of Mr. Blackiter and Mr. Ferris.</p>,\n",
       " <p> <a class=\"invisible\" name=\"t17940115-36-person561\"> </a>                  WILLIAM                   BLACKITER                                                                                        sworn.</p>,\n",
       " <p>I am an officer belonging to the office of Shoreditch, in Worship-street; I was present when the prisoner was taken, we had a coach and took him down to New Prison that night.</p>,\n",
       " <p>Q. Did they receive him there without a commitment? - Yes, I left him there as a night charge. On Monday he was carried before the magistrate, and on Sunday I went and informed Mr. Owen.</p>,\n",
       " <p>Q. In what parish is this Rosemary-lane? - In Whitechapel.</p>,\n",
       " <p>Prisoner. If you please to consider if any gentlemen had found opportunity to make their escape they would have done the same. The guard behind the coach was fast asleep, I made my escape with no other idea than to serve my Majesty, I asked before to go for a soldier, and the Recorder that tried me, would not grant it me, I went at first to Deptford, to go on board a King's ship, and they would not take me, and I went to Rosemary-lane, and enlisted for a King's soldier to go to the East Indies, I did not do it for any intent than to serve his Majesty, either by sea or by land.</p>,\n",
       " <p>Q. In whose company did you enlist? - With Mr. Mozelle, I was taken out of his house, I was in bed when they came for me.</p>,\n",
       " <p>Mr. Kirby. They don't enlist into any company, only for five years, to serve in the East India company's settlement, and under no particular officer.</p>,\n",
       " <p>Court to Armstrong. Was he in bed? - Yes, he was with another man.</p>,\n",
       " <p>GUILTY.                                                                      Death                  . (Aged 26.)</p>,\n",
       " <p>Recommended by the Jury.</p>,\n",
       " <p>Tried by the London Jury before Mr. RECORDER.</p>]"
      ]
     },
     "execution_count": 34,
     "metadata": {},
     "output_type": "execute_result"
    }
   ],
   "source": [
    "# just the paragraphs in the div class=_sessionsPaper tag\n",
    "soup.find('div', class_='sessionsPaper').find_all('p')"
   ]
  },
  {
   "cell_type": "code",
   "execution_count": 35,
   "metadata": {
    "button": false,
    "collapsed": true,
    "new_sheet": false,
    "run_control": {
     "read_only": false
    }
   },
   "outputs": [],
   "source": [
    "#for p in soup.find('div', class_='sessionsPaper').find_all('p'):\n",
    "#    #get text per tag from within.\n",
    "#    print(p.get_text())"
   ]
  },
  {
   "cell_type": "code",
   "execution_count": 36,
   "metadata": {
    "button": false,
    "collapsed": true,
    "new_sheet": false,
    "run_control": {
     "read_only": false
    }
   },
   "outputs": [],
   "source": [
    "# so, if we wish to write all these paragraphs into a single entity, we'll take them as a list.\n",
    "\n",
    "trial_text = [] #blank list, must be outside of 4 loop\n",
    "for p in soup.find('div', class_='sessionsPaper').find_all('p'):\n",
    "    trial_text.append(p.get_text()) #append each paragraph to blank list"
   ]
  },
  {
   "cell_type": "code",
   "execution_count": 37,
   "metadata": {
    "button": false,
    "new_sheet": false,
    "run_control": {
     "read_only": false
    }
   },
   "outputs": [
    {
     "data": {
      "text/plain": [
       "['I am a servant to Mr. Kirby. The prisoner was tried here in September sessions last, for stealing an handkerchief, and was convicted, and received sentence to be transported.',\n",
       " \"Q. Are you sure as to his person? - Positive. On the 6th of January I had orders to convey him with nineteen others making twenty in the whole, to Portsmouth; last Monday was a week we went with the coach, when I got about thirty-four or thirty-five miles, he was missing when I came to Farnham, I never missed him till I came to Farnham, for I was inside of the coach with six others; I believe Farnham is thirty-four or thirty-five miles, he went in what they call the basket, belonging to the stage coach, in the same coach in which I was, he with seven others, making eight in all were in that place, there was six on the roof, and six withinside with me; when I came to Farnham I went to give them a little beer, by way of nourishment, being a cold night, I found him and another missing, by examining their irons, I believe it was about one o'clock in the morning; I gave every possible alarm that I could at that time of the morning, I continued on the journey with the eighteen others, and delivered them safe.\"]"
      ]
     },
     "execution_count": 37,
     "metadata": {},
     "output_type": "execute_result"
    }
   ],
   "source": [
    "# sanity check, list of paragraphs from website.\n",
    "trial_text[2:4]"
   ]
  },
  {
   "cell_type": "markdown",
   "metadata": {
    "button": false,
    "new_sheet": false,
    "run_control": {
     "read_only": false
    }
   },
   "source": [
    "<font color=darkgreen>\n",
    "    \n",
    "So, now we are going to take out a string with some identifying information in it and we're going to extract a list of paragraphs. At this point, you might be asking \"Zach, what the hell, data in this form is useless to me!\" Well, yes, we're going to start data wrangling next week. For right now, we just want to get it off the website and into a Python data object and save it locally.\n",
    "\n",
    "** \n",
    "However, now we know what we want from each page: a single string which contains information about the trial (name of defendant and date of trial) and then a list of strings of the actual text of the case.)\n",
    "**"
   ]
  },
  {
   "cell_type": "markdown",
   "metadata": {
    "button": false,
    "new_sheet": false,
    "run_control": {
     "read_only": false
    }
   },
   "source": [
    "<font color=dark>\n",
    "#### A word of warning: XML VS HTML\n",
    "\n",
    "- HTML tells your browser how to display information\n",
    "- XML is a rich-text document which lists which information is which.\n",
    "- One can save things directly as XML if one has the local storage space.\n",
    "- Instead of using an HTML parser, instead get the XML page and then parse that."
   ]
  },
  {
   "cell_type": "markdown",
   "metadata": {
    "button": false,
    "new_sheet": false,
    "run_control": {
     "read_only": false
    }
   },
   "source": [
    "To view as XML:\n",
    "\n",
    "https://www.oldbaileyonline.org/browse.jsp?foo=bar&path=sessionsPapers/17940115.xml&div=t17940115-36&xml=yes"
   ]
  },
  {
   "cell_type": "markdown",
   "metadata": {
    "button": false,
    "new_sheet": false,
    "run_control": {
     "read_only": false
    }
   },
   "source": [
    "***\n",
    "\n",
    "<font color=darkgreen>\n",
    "    \n",
    "### 3. Get a list of links to the pages with the data.\n",
    "\n",
    "https://www.oldbaileyonline.org/search.jsp?gen=1&form=searchHomePage&_offences_offenceCategory_offenceSubcategory=miscellaneous_returnFromTransportation&start=0&count=0\n",
    "\n",
    "#### Here we encounter where the web design is inconsistent. We can't deal with 'start=0' so we have to 'hack it' and manually add that page at the end.\n",
    "\n",
    "https://www.oldbaileyonline.org/search.jsp?gen=1&form=searchHomePage&_offences_offenceCategory_offenceSubcategory=miscellaneous_returnFromTransportation&count=391&start=10\n",
    "\n",
    "https://www.oldbaileyonline.org/search.jsp?gen=1&form=searchHomePage&_offences_offenceCategory_offenceSubcategory=miscellaneous_returnFromTransportation&count=391&start=20"
   ]
  },
  {
   "cell_type": "code",
   "execution_count": 38,
   "metadata": {
    "button": false,
    "collapsed": true,
    "new_sheet": false,
    "run_control": {
     "read_only": false
    }
   },
   "outputs": [],
   "source": [
    "# so here is the base url from our search\n",
    "url_search = 'https://www.oldbaileyonline.org/search.jsp?gen=1&form=searchHomePage&_offences_offenceCategory_offenceSubcategory=miscellaneous_returnFromTransportation&count=391&start='"
   ]
  },
  {
   "cell_type": "code",
   "execution_count": 39,
   "metadata": {
    "button": false,
    "new_sheet": false,
    "run_control": {
     "read_only": false
    }
   },
   "outputs": [
    {
     "name": "stdout",
     "output_type": "stream",
     "text": [
      "[10, 20, 30, 40, 50, 60, 70, 80, 90, 100, 110, 120, 130, 140, 150, 160, 170, 180, 190, 200, 210, 220, 230, 240, 250, 260, 270, 280, 290, 300, 310, 320, 330, 340, 350, 360, 370, 380]\n"
     ]
    }
   ],
   "source": [
    "#we also want to count from 0 to 390 in increments of 10\n",
    "range(10,400,10)\n",
    "print(list(range(10,390,10)))"
   ]
  },
  {
   "cell_type": "code",
   "execution_count": 40,
   "metadata": {
    "button": false,
    "collapsed": true,
    "new_sheet": false,
    "run_control": {
     "read_only": false
    }
   },
   "outputs": [],
   "source": [
    "list_urls = []\n",
    "for i in range(10,400,10):\n",
    "    #append to our blank list the base url append to the \n",
    "    list_urls.append(url_search+str(i))"
   ]
  },
  {
   "cell_type": "code",
   "execution_count": 41,
   "metadata": {
    "button": false,
    "new_sheet": false,
    "run_control": {
     "read_only": false
    }
   },
   "outputs": [
    {
     "data": {
      "text/plain": [
       "['https://www.oldbaileyonline.org/search.jsp?gen=1&form=searchHomePage&_offences_offenceCategory_offenceSubcategory=miscellaneous_returnFromTransportation&count=391&start=10',\n",
       " 'https://www.oldbaileyonline.org/search.jsp?gen=1&form=searchHomePage&_offences_offenceCategory_offenceSubcategory=miscellaneous_returnFromTransportation&count=391&start=20',\n",
       " 'https://www.oldbaileyonline.org/search.jsp?gen=1&form=searchHomePage&_offences_offenceCategory_offenceSubcategory=miscellaneous_returnFromTransportation&count=391&start=30',\n",
       " 'https://www.oldbaileyonline.org/search.jsp?gen=1&form=searchHomePage&_offences_offenceCategory_offenceSubcategory=miscellaneous_returnFromTransportation&count=391&start=40',\n",
       " 'https://www.oldbaileyonline.org/search.jsp?gen=1&form=searchHomePage&_offences_offenceCategory_offenceSubcategory=miscellaneous_returnFromTransportation&count=391&start=50']"
      ]
     },
     "execution_count": 41,
     "metadata": {},
     "output_type": "execute_result"
    }
   ],
   "source": [
    "list_urls[:5]"
   ]
  },
  {
   "cell_type": "code",
   "execution_count": 42,
   "metadata": {
    "button": false,
    "collapsed": true,
    "new_sheet": false,
    "run_control": {
     "read_only": false
    }
   },
   "outputs": [],
   "source": [
    "# Hack and add this in at the end.\n",
    "\n",
    "list_urls.append('https://www.oldbaileyonline.org/search.jsp?gen=1&form=searchHomePage&_offences_offenceCategory_offenceSubcategory=miscellaneous_returnFromTransportation&start=0&count=0')"
   ]
  },
  {
   "cell_type": "code",
   "execution_count": 43,
   "metadata": {
    "button": false,
    "new_sheet": false,
    "run_control": {
     "read_only": false
    }
   },
   "outputs": [
    {
     "data": {
      "text/plain": [
       "'https://www.oldbaileyonline.org/search.jsp?gen=1&form=searchHomePage&_offences_offenceCategory_offenceSubcategory=miscellaneous_returnFromTransportation&count=391&start=10'"
      ]
     },
     "execution_count": 43,
     "metadata": {},
     "output_type": "execute_result"
    }
   ],
   "source": [
    "# Check the first URL, which is the second page.\n",
    "list_urls[0]"
   ]
  },
  {
   "cell_type": "code",
   "execution_count": 44,
   "metadata": {
    "button": false,
    "new_sheet": false,
    "run_control": {
     "read_only": false
    }
   },
   "outputs": [
    {
     "data": {
      "text/plain": [
       "'https://www.oldbaileyonline.org/search.jsp?gen=1&form=searchHomePage&_offences_offenceCategory_offenceSubcategory=miscellaneous_returnFromTransportation&start=0&count=0'"
      ]
     },
     "execution_count": 44,
     "metadata": {},
     "output_type": "execute_result"
    }
   ],
   "source": [
    "# Check the last URL, which is the first page.\n",
    "list_urls[-1]"
   ]
  },
  {
   "cell_type": "markdown",
   "metadata": {
    "button": false,
    "new_sheet": false,
    "run_control": {
     "read_only": false
    }
   },
   "source": [
    "<font color=darkgreen>\n",
    "\n",
    "So, now we have a list of URLS which contain a list of the pages of interest. Now we have to extract urls of the pages of interest.\n",
    "\n",
    "https://www.oldbaileyonline.org/search.jsp?gen=1&form=searchHomePage&_offences_offenceCategory_offenceSubcategory=miscellaneous_returnFromTransportation&start=0&count=0"
   ]
  },
  {
   "cell_type": "code",
   "execution_count": 45,
   "metadata": {
    "button": false,
    "new_sheet": false,
    "run_control": {
     "read_only": false
    }
   },
   "outputs": [
    {
     "data": {
      "text/plain": [
       "200"
      ]
     },
     "execution_count": 45,
     "metadata": {},
     "output_type": "execute_result"
    }
   ],
   "source": [
    "url_list = \"https://www.oldbaileyonline.org/search.jsp?gen=1&form=searchHomePage&_offences_offenceCategory_offenceSubcategory=miscellaneous_returnFromTransportation&start=0&count=0\"\n",
    "req = requests.get(url_list,timeout=20)\n",
    "req.status_code #again check status"
   ]
  },
  {
   "cell_type": "code",
   "execution_count": 46,
   "metadata": {
    "button": false,
    "collapsed": true,
    "new_sheet": false,
    "run_control": {
     "read_only": false
    }
   },
   "outputs": [],
   "source": [
    "req.html = req.text\n",
    "soup = BeautifulSoup(req.html,\"html.parser\")\n",
    "#print(soup.prettify())"
   ]
  },
  {
   "cell_type": "raw",
   "metadata": {
    "button": false,
    "new_sheet": false,
    "run_control": {
     "read_only": false
    }
   },
   "source": [
    "# href=True specifies that there is a href attribute in an 'a' tag\n",
    "#soup.find_all('a', href=True)"
   ]
  },
  {
   "cell_type": "markdown",
   "metadata": {
    "button": false,
    "new_sheet": false,
    "run_control": {
     "read_only": false
    }
   },
   "source": [
    "<font color=darkgreen>\n",
    "    \n",
    "Go to search results page and then get a link to the page trial page.\n",
    "\n",
    "![search_results](search_results.png)"
   ]
  },
  {
   "cell_type": "code",
   "execution_count": 47,
   "metadata": {
    "button": false,
    "new_sheet": false,
    "run_control": {
     "read_only": false
    }
   },
   "outputs": [
    {
     "name": "stdout",
     "output_type": "stream",
     "text": [
      "browse.jsp?id=t17200907-44-off223&div=t17200907-44#highlight\n",
      "browse.jsp?id=t17200907-43-off219&div=t17200907-43#highlight\n",
      "browse.jsp?id=t17201012-34-off193&div=t17201012-34#highlight\n",
      "browse.jsp?id=t17210113-46-off243&div=t17210113-46#highlight\n",
      "browse.jsp?id=t17210301-61-off333&div=t17210301-61#highlight\n",
      "browse.jsp?id=t17210525-1-off7&div=t17210525-1#highlight\n",
      "browse.jsp?id=t17210525-19-off96&div=t17210525-19#highlight\n",
      "browse.jsp?id=t17210712-21-off102&div=t17210712-21#highlight\n",
      "browse.jsp?id=t17210830-31-off162&div=t17210830-31#highlight\n",
      "browse.jsp?id=t17211206-69-off331&div=t17211206-69#highlight\n"
     ]
    }
   ],
   "source": [
    "# now we use a regular expression on the href to select only those hrefs that start with the unique string\n",
    "# each tag option can be subsetted to select a part\n",
    "for a_tag in soup.find_all('a', href = re.compile('#highlight')):\n",
    "    print(a_tag['href'])"
   ]
  },
  {
   "cell_type": "markdown",
   "metadata": {
    "button": false,
    "new_sheet": false,
    "run_control": {
     "read_only": false
    }
   },
   "source": [
    "<font color=darkgreen>\n",
    "### **Now we extract the links to the unique cases.**"
   ]
  },
  {
   "cell_type": "code",
   "execution_count": 48,
   "metadata": {
    "button": false,
    "new_sheet": false,
    "run_control": {
     "read_only": false
    }
   },
   "outputs": [
    {
     "name": "stdout",
     "output_type": "stream",
     "text": [
      "Page 1 of search results added.\n",
      "https://www.oldbaileyonline.org/browse.jsp?id=t17220907-77-off417&div=t17220907-77#highlight\n",
      "https://www.oldbaileyonline.org/browse.jsp?id=t17220907-24-off124&div=t17220907-24#highlight\n",
      "https://www.oldbaileyonline.org/browse.jsp?id=t17230116-22-off108&div=t17230116-22#highlight\n",
      "https://www.oldbaileyonline.org/browse.jsp?id=t17230116-23-off111&div=t17230116-23#highlight\n",
      "https://www.oldbaileyonline.org/browse.jsp?id=t17231016-40-off213&div=t17231016-40#highlight\n",
      "https://www.oldbaileyonline.org/browse.jsp?id=t17250115-17-off91&div=t17250115-17#highlight\n",
      "https://www.oldbaileyonline.org/browse.jsp?id=t17250115-48-off249&div=t17250115-48#highlight\n",
      "https://www.oldbaileyonline.org/browse.jsp?id=t17250407-61-off332&div=t17250407-61#highlight\n",
      "https://www.oldbaileyonline.org/browse.jsp?id=t17251013-53-off259&div=t17251013-53#highlight\n",
      "https://www.oldbaileyonline.org/browse.jsp?id=t17251013-64-off305&div=t17251013-64#highlight\n",
      "Page 2 of search results added.\n",
      "https://www.oldbaileyonline.org/browse.jsp?id=t17251208-101-off452&div=t17251208-101#highlight\n",
      "https://www.oldbaileyonline.org/browse.jsp?id=t17260711-56-off257&div=t17260711-56#highlight\n",
      "https://www.oldbaileyonline.org/browse.jsp?id=t17260831-41-off192&div=t17260831-41#highlight\n",
      "https://www.oldbaileyonline.org/browse.jsp?id=t17261012-53-off221&div=t17261012-53#highlight\n",
      "https://www.oldbaileyonline.org/browse.jsp?id=t17270705-25-off123&div=t17270705-25#highlight\n",
      "https://www.oldbaileyonline.org/browse.jsp?id=t17270830-45-off211&div=t17270830-45#highlight\n",
      "https://www.oldbaileyonline.org/browse.jsp?id=t17271017-30-off137&div=t17271017-30#highlight\n",
      "https://www.oldbaileyonline.org/browse.jsp?id=t17281016-67-off300&div=t17281016-67#highlight\n",
      "https://www.oldbaileyonline.org/browse.jsp?id=t17281016-19-off104&div=t17281016-19#highlight\n",
      "https://www.oldbaileyonline.org/browse.jsp?id=t17281204-58-off258&div=t17281204-58#highlight\n",
      "Page 3 of search results added.\n",
      "https://www.oldbaileyonline.org/browse.jsp?id=t17290226-83-off280&div=t17290226-83#highlight\n",
      "https://www.oldbaileyonline.org/browse.jsp?id=t17290709-35-off158&div=t17290709-35#highlight\n",
      "https://www.oldbaileyonline.org/browse.jsp?id=t17290827-51-off245&div=t17290827-51#highlight\n",
      "https://www.oldbaileyonline.org/browse.jsp?id=t17300228-64-off312&div=t17300228-64#highlight\n",
      "https://www.oldbaileyonline.org/browse.jsp?id=t17300828-7-off34&div=t17300828-7#highlight\n",
      "https://www.oldbaileyonline.org/browse.jsp?id=t17320223-29-off151&div=t17320223-29#highlight\n",
      "https://www.oldbaileyonline.org/browse.jsp?id=t17331010-7-off28&div=t17331010-7#highlight\n",
      "https://www.oldbaileyonline.org/browse.jsp?id=t17350226-63-off297&div=t17350226-63#highlight\n",
      "https://www.oldbaileyonline.org/browse.jsp?id=o17391205-2-off326&div=o17391205-2#highlight\n",
      "https://www.oldbaileyonline.org/browse.jsp?id=t17400416-27-off160&div=t17400416-27#highlight\n",
      "Page 4 of search results added.\n",
      "https://www.oldbaileyonline.org/browse.jsp?id=s17400903-1-off347&div=s17400903-1#highlight\n",
      "https://www.oldbaileyonline.org/browse.jsp?id=o17400903-1-off345&div=o17400903-1#highlight\n",
      "https://www.oldbaileyonline.org/browse.jsp?id=t17410116-11-off52&div=t17410116-11#highlight\n",
      "https://www.oldbaileyonline.org/browse.jsp?id=t17411014-20-off109&div=t17411014-20#highlight\n",
      "https://www.oldbaileyonline.org/browse.jsp?id=t17430519-22-off119&div=t17430519-22#highlight\n",
      "https://www.oldbaileyonline.org/browse.jsp?id=t17430907-44-off227&div=t17430907-44#highlight\n",
      "https://www.oldbaileyonline.org/browse.jsp?id=t17431207-78-off397&div=t17431207-78#highlight\n",
      "https://www.oldbaileyonline.org/browse.jsp?id=t17440510-4-off23&div=t17440510-4#highlight\n",
      "https://www.oldbaileyonline.org/browse.jsp?id=t17440912-62-off341&div=t17440912-62#highlight\n",
      "https://www.oldbaileyonline.org/browse.jsp?id=t17441017-29-off178&div=t17441017-29#highlight\n",
      "Page 5 of search results added.\n",
      "https://www.oldbaileyonline.org/browse.jsp?id=t17450530-14-off85&div=t17450530-14#highlight\n",
      "https://www.oldbaileyonline.org/browse.jsp?id=t17460903-39-off155&div=t17460903-39#highlight\n",
      "https://www.oldbaileyonline.org/browse.jsp?id=t17461205-26-off113&div=t17461205-26#highlight\n",
      "https://www.oldbaileyonline.org/browse.jsp?id=t17470429-27-off112&div=t17470429-27#highlight\n",
      "https://www.oldbaileyonline.org/browse.jsp?id=t17480115-33-off191&div=t17480115-33#highlight\n",
      "https://www.oldbaileyonline.org/browse.jsp?id=t17490113-40-off190&div=t17490113-40#highlight\n",
      "https://www.oldbaileyonline.org/browse.jsp?id=t17490405-54-off236&div=t17490405-54#highlight\n",
      "https://www.oldbaileyonline.org/browse.jsp?id=t17490906-7-off27&div=t17490906-7#highlight\n",
      "https://www.oldbaileyonline.org/browse.jsp?id=t17490906-87-off358&div=t17490906-87#highlight\n",
      "https://www.oldbaileyonline.org/browse.jsp?id=t17510116-40-off190&div=t17510116-40#highlight\n"
     ]
    },
    {
     "ename": "KeyboardInterrupt",
     "evalue": "",
     "output_type": "error",
     "traceback": [
      "\u001b[0;31m---------------------------------------------------------------------------\u001b[0m",
      "\u001b[0;31mWantReadError\u001b[0m                             Traceback (most recent call last)",
      "\u001b[0;32m~/anaconda3/lib/python3.6/site-packages/urllib3/contrib/pyopenssl.py\u001b[0m in \u001b[0;36mwrap_socket\u001b[0;34m(self, sock, server_side, do_handshake_on_connect, suppress_ragged_eofs, server_hostname)\u001b[0m\n\u001b[1;32m    440\u001b[0m             \u001b[0;32mtry\u001b[0m\u001b[0;34m:\u001b[0m\u001b[0;34m\u001b[0m\u001b[0m\n\u001b[0;32m--> 441\u001b[0;31m                 \u001b[0mcnx\u001b[0m\u001b[0;34m.\u001b[0m\u001b[0mdo_handshake\u001b[0m\u001b[0;34m(\u001b[0m\u001b[0;34m)\u001b[0m\u001b[0;34m\u001b[0m\u001b[0m\n\u001b[0m\u001b[1;32m    442\u001b[0m             \u001b[0;32mexcept\u001b[0m \u001b[0mOpenSSL\u001b[0m\u001b[0;34m.\u001b[0m\u001b[0mSSL\u001b[0m\u001b[0;34m.\u001b[0m\u001b[0mWantReadError\u001b[0m\u001b[0;34m:\u001b[0m\u001b[0;34m\u001b[0m\u001b[0m\n",
      "\u001b[0;32m~/anaconda3/lib/python3.6/site-packages/OpenSSL/SSL.py\u001b[0m in \u001b[0;36mdo_handshake\u001b[0;34m(self)\u001b[0m\n\u001b[1;32m   1715\u001b[0m         \u001b[0mresult\u001b[0m \u001b[0;34m=\u001b[0m \u001b[0m_lib\u001b[0m\u001b[0;34m.\u001b[0m\u001b[0mSSL_do_handshake\u001b[0m\u001b[0;34m(\u001b[0m\u001b[0mself\u001b[0m\u001b[0;34m.\u001b[0m\u001b[0m_ssl\u001b[0m\u001b[0;34m)\u001b[0m\u001b[0;34m\u001b[0m\u001b[0m\n\u001b[0;32m-> 1716\u001b[0;31m         \u001b[0mself\u001b[0m\u001b[0;34m.\u001b[0m\u001b[0m_raise_ssl_error\u001b[0m\u001b[0;34m(\u001b[0m\u001b[0mself\u001b[0m\u001b[0;34m.\u001b[0m\u001b[0m_ssl\u001b[0m\u001b[0;34m,\u001b[0m \u001b[0mresult\u001b[0m\u001b[0;34m)\u001b[0m\u001b[0;34m\u001b[0m\u001b[0m\n\u001b[0m\u001b[1;32m   1717\u001b[0m \u001b[0;34m\u001b[0m\u001b[0m\n",
      "\u001b[0;32m~/anaconda3/lib/python3.6/site-packages/OpenSSL/SSL.py\u001b[0m in \u001b[0;36m_raise_ssl_error\u001b[0;34m(self, ssl, result)\u001b[0m\n\u001b[1;32m   1430\u001b[0m         \u001b[0;32mif\u001b[0m \u001b[0merror\u001b[0m \u001b[0;34m==\u001b[0m \u001b[0m_lib\u001b[0m\u001b[0;34m.\u001b[0m\u001b[0mSSL_ERROR_WANT_READ\u001b[0m\u001b[0;34m:\u001b[0m\u001b[0;34m\u001b[0m\u001b[0m\n\u001b[0;32m-> 1431\u001b[0;31m             \u001b[0;32mraise\u001b[0m \u001b[0mWantReadError\u001b[0m\u001b[0;34m(\u001b[0m\u001b[0;34m)\u001b[0m\u001b[0;34m\u001b[0m\u001b[0m\n\u001b[0m\u001b[1;32m   1432\u001b[0m         \u001b[0;32melif\u001b[0m \u001b[0merror\u001b[0m \u001b[0;34m==\u001b[0m \u001b[0m_lib\u001b[0m\u001b[0;34m.\u001b[0m\u001b[0mSSL_ERROR_WANT_WRITE\u001b[0m\u001b[0;34m:\u001b[0m\u001b[0;34m\u001b[0m\u001b[0m\n",
      "\u001b[0;31mWantReadError\u001b[0m: ",
      "\nDuring handling of the above exception, another exception occurred:\n",
      "\u001b[0;31mKeyboardInterrupt\u001b[0m                         Traceback (most recent call last)",
      "\u001b[0;32m<ipython-input-48-417ec652be8b>\u001b[0m in \u001b[0;36m<module>\u001b[0;34m()\u001b[0m\n\u001b[1;32m      9\u001b[0m     \u001b[0;31m#get url and soup the page\u001b[0m\u001b[0;34m\u001b[0m\u001b[0;34m\u001b[0m\u001b[0m\n\u001b[1;32m     10\u001b[0m     \u001b[0murl\u001b[0m \u001b[0;34m=\u001b[0m \u001b[0murl_\u001b[0m\u001b[0;34m\u001b[0m\u001b[0m\n\u001b[0;32m---> 11\u001b[0;31m     \u001b[0mreq\u001b[0m \u001b[0;34m=\u001b[0m \u001b[0mrequests\u001b[0m\u001b[0;34m.\u001b[0m\u001b[0mget\u001b[0m\u001b[0;34m(\u001b[0m\u001b[0murl\u001b[0m\u001b[0;34m,\u001b[0m\u001b[0mtimeout\u001b[0m\u001b[0;34m=\u001b[0m\u001b[0;36m20\u001b[0m\u001b[0;34m)\u001b[0m\u001b[0;34m\u001b[0m\u001b[0m\n\u001b[0m\u001b[1;32m     12\u001b[0m     \u001b[0mreq\u001b[0m\u001b[0;34m.\u001b[0m\u001b[0mhtml\u001b[0m \u001b[0;34m=\u001b[0m \u001b[0mreq\u001b[0m\u001b[0;34m.\u001b[0m\u001b[0mtext\u001b[0m\u001b[0;34m\u001b[0m\u001b[0m\n\u001b[1;32m     13\u001b[0m     \u001b[0msoup\u001b[0m \u001b[0;34m=\u001b[0m \u001b[0mBeautifulSoup\u001b[0m\u001b[0;34m(\u001b[0m\u001b[0mreq\u001b[0m\u001b[0;34m.\u001b[0m\u001b[0mhtml\u001b[0m\u001b[0;34m,\u001b[0m\u001b[0;34m\"html.parser\"\u001b[0m\u001b[0;34m)\u001b[0m\u001b[0;34m\u001b[0m\u001b[0m\n",
      "\u001b[0;32m~/anaconda3/lib/python3.6/site-packages/requests/api.py\u001b[0m in \u001b[0;36mget\u001b[0;34m(url, params, **kwargs)\u001b[0m\n\u001b[1;32m     70\u001b[0m \u001b[0;34m\u001b[0m\u001b[0m\n\u001b[1;32m     71\u001b[0m     \u001b[0mkwargs\u001b[0m\u001b[0;34m.\u001b[0m\u001b[0msetdefault\u001b[0m\u001b[0;34m(\u001b[0m\u001b[0;34m'allow_redirects'\u001b[0m\u001b[0;34m,\u001b[0m \u001b[0;32mTrue\u001b[0m\u001b[0;34m)\u001b[0m\u001b[0;34m\u001b[0m\u001b[0m\n\u001b[0;32m---> 72\u001b[0;31m     \u001b[0;32mreturn\u001b[0m \u001b[0mrequest\u001b[0m\u001b[0;34m(\u001b[0m\u001b[0;34m'get'\u001b[0m\u001b[0;34m,\u001b[0m \u001b[0murl\u001b[0m\u001b[0;34m,\u001b[0m \u001b[0mparams\u001b[0m\u001b[0;34m=\u001b[0m\u001b[0mparams\u001b[0m\u001b[0;34m,\u001b[0m \u001b[0;34m**\u001b[0m\u001b[0mkwargs\u001b[0m\u001b[0;34m)\u001b[0m\u001b[0;34m\u001b[0m\u001b[0m\n\u001b[0m\u001b[1;32m     73\u001b[0m \u001b[0;34m\u001b[0m\u001b[0m\n\u001b[1;32m     74\u001b[0m \u001b[0;34m\u001b[0m\u001b[0m\n",
      "\u001b[0;32m~/anaconda3/lib/python3.6/site-packages/requests/api.py\u001b[0m in \u001b[0;36mrequest\u001b[0;34m(method, url, **kwargs)\u001b[0m\n\u001b[1;32m     56\u001b[0m     \u001b[0;31m# cases, and look like a memory leak in others.\u001b[0m\u001b[0;34m\u001b[0m\u001b[0;34m\u001b[0m\u001b[0m\n\u001b[1;32m     57\u001b[0m     \u001b[0;32mwith\u001b[0m \u001b[0msessions\u001b[0m\u001b[0;34m.\u001b[0m\u001b[0mSession\u001b[0m\u001b[0;34m(\u001b[0m\u001b[0;34m)\u001b[0m \u001b[0;32mas\u001b[0m \u001b[0msession\u001b[0m\u001b[0;34m:\u001b[0m\u001b[0;34m\u001b[0m\u001b[0m\n\u001b[0;32m---> 58\u001b[0;31m         \u001b[0;32mreturn\u001b[0m \u001b[0msession\u001b[0m\u001b[0;34m.\u001b[0m\u001b[0mrequest\u001b[0m\u001b[0;34m(\u001b[0m\u001b[0mmethod\u001b[0m\u001b[0;34m=\u001b[0m\u001b[0mmethod\u001b[0m\u001b[0;34m,\u001b[0m \u001b[0murl\u001b[0m\u001b[0;34m=\u001b[0m\u001b[0murl\u001b[0m\u001b[0;34m,\u001b[0m \u001b[0;34m**\u001b[0m\u001b[0mkwargs\u001b[0m\u001b[0;34m)\u001b[0m\u001b[0;34m\u001b[0m\u001b[0m\n\u001b[0m\u001b[1;32m     59\u001b[0m \u001b[0;34m\u001b[0m\u001b[0m\n\u001b[1;32m     60\u001b[0m \u001b[0;34m\u001b[0m\u001b[0m\n",
      "\u001b[0;32m~/anaconda3/lib/python3.6/site-packages/requests/sessions.py\u001b[0m in \u001b[0;36mrequest\u001b[0;34m(self, method, url, params, data, headers, cookies, files, auth, timeout, allow_redirects, proxies, hooks, stream, verify, cert, json)\u001b[0m\n\u001b[1;32m    506\u001b[0m         }\n\u001b[1;32m    507\u001b[0m         \u001b[0msend_kwargs\u001b[0m\u001b[0;34m.\u001b[0m\u001b[0mupdate\u001b[0m\u001b[0;34m(\u001b[0m\u001b[0msettings\u001b[0m\u001b[0;34m)\u001b[0m\u001b[0;34m\u001b[0m\u001b[0m\n\u001b[0;32m--> 508\u001b[0;31m         \u001b[0mresp\u001b[0m \u001b[0;34m=\u001b[0m \u001b[0mself\u001b[0m\u001b[0;34m.\u001b[0m\u001b[0msend\u001b[0m\u001b[0;34m(\u001b[0m\u001b[0mprep\u001b[0m\u001b[0;34m,\u001b[0m \u001b[0;34m**\u001b[0m\u001b[0msend_kwargs\u001b[0m\u001b[0;34m)\u001b[0m\u001b[0;34m\u001b[0m\u001b[0m\n\u001b[0m\u001b[1;32m    509\u001b[0m \u001b[0;34m\u001b[0m\u001b[0m\n\u001b[1;32m    510\u001b[0m         \u001b[0;32mreturn\u001b[0m \u001b[0mresp\u001b[0m\u001b[0;34m\u001b[0m\u001b[0m\n",
      "\u001b[0;32m~/anaconda3/lib/python3.6/site-packages/requests/sessions.py\u001b[0m in \u001b[0;36msend\u001b[0;34m(self, request, **kwargs)\u001b[0m\n\u001b[1;32m    616\u001b[0m \u001b[0;34m\u001b[0m\u001b[0m\n\u001b[1;32m    617\u001b[0m         \u001b[0;31m# Send the request\u001b[0m\u001b[0;34m\u001b[0m\u001b[0;34m\u001b[0m\u001b[0m\n\u001b[0;32m--> 618\u001b[0;31m         \u001b[0mr\u001b[0m \u001b[0;34m=\u001b[0m \u001b[0madapter\u001b[0m\u001b[0;34m.\u001b[0m\u001b[0msend\u001b[0m\u001b[0;34m(\u001b[0m\u001b[0mrequest\u001b[0m\u001b[0;34m,\u001b[0m \u001b[0;34m**\u001b[0m\u001b[0mkwargs\u001b[0m\u001b[0;34m)\u001b[0m\u001b[0;34m\u001b[0m\u001b[0m\n\u001b[0m\u001b[1;32m    619\u001b[0m \u001b[0;34m\u001b[0m\u001b[0m\n\u001b[1;32m    620\u001b[0m         \u001b[0;31m# Total elapsed time of the request (approximately)\u001b[0m\u001b[0;34m\u001b[0m\u001b[0;34m\u001b[0m\u001b[0m\n",
      "\u001b[0;32m~/anaconda3/lib/python3.6/site-packages/requests/adapters.py\u001b[0m in \u001b[0;36msend\u001b[0;34m(self, request, stream, timeout, verify, cert, proxies)\u001b[0m\n\u001b[1;32m    438\u001b[0m                     \u001b[0mdecode_content\u001b[0m\u001b[0;34m=\u001b[0m\u001b[0;32mFalse\u001b[0m\u001b[0;34m,\u001b[0m\u001b[0;34m\u001b[0m\u001b[0m\n\u001b[1;32m    439\u001b[0m                     \u001b[0mretries\u001b[0m\u001b[0;34m=\u001b[0m\u001b[0mself\u001b[0m\u001b[0;34m.\u001b[0m\u001b[0mmax_retries\u001b[0m\u001b[0;34m,\u001b[0m\u001b[0;34m\u001b[0m\u001b[0m\n\u001b[0;32m--> 440\u001b[0;31m                     \u001b[0mtimeout\u001b[0m\u001b[0;34m=\u001b[0m\u001b[0mtimeout\u001b[0m\u001b[0;34m\u001b[0m\u001b[0m\n\u001b[0m\u001b[1;32m    441\u001b[0m                 )\n\u001b[1;32m    442\u001b[0m \u001b[0;34m\u001b[0m\u001b[0m\n",
      "\u001b[0;32m~/anaconda3/lib/python3.6/site-packages/urllib3/connectionpool.py\u001b[0m in \u001b[0;36murlopen\u001b[0;34m(self, method, url, body, headers, retries, redirect, assert_same_host, timeout, pool_timeout, release_conn, chunked, body_pos, **response_kw)\u001b[0m\n\u001b[1;32m    599\u001b[0m                                                   \u001b[0mtimeout\u001b[0m\u001b[0;34m=\u001b[0m\u001b[0mtimeout_obj\u001b[0m\u001b[0;34m,\u001b[0m\u001b[0;34m\u001b[0m\u001b[0m\n\u001b[1;32m    600\u001b[0m                                                   \u001b[0mbody\u001b[0m\u001b[0;34m=\u001b[0m\u001b[0mbody\u001b[0m\u001b[0;34m,\u001b[0m \u001b[0mheaders\u001b[0m\u001b[0;34m=\u001b[0m\u001b[0mheaders\u001b[0m\u001b[0;34m,\u001b[0m\u001b[0;34m\u001b[0m\u001b[0m\n\u001b[0;32m--> 601\u001b[0;31m                                                   chunked=chunked)\n\u001b[0m\u001b[1;32m    602\u001b[0m \u001b[0;34m\u001b[0m\u001b[0m\n\u001b[1;32m    603\u001b[0m             \u001b[0;31m# If we're going to release the connection in ``finally:``, then\u001b[0m\u001b[0;34m\u001b[0m\u001b[0;34m\u001b[0m\u001b[0m\n",
      "\u001b[0;32m~/anaconda3/lib/python3.6/site-packages/urllib3/connectionpool.py\u001b[0m in \u001b[0;36m_make_request\u001b[0;34m(self, conn, method, url, timeout, chunked, **httplib_request_kw)\u001b[0m\n\u001b[1;32m    344\u001b[0m         \u001b[0;31m# Trigger any extra validation we need to do.\u001b[0m\u001b[0;34m\u001b[0m\u001b[0;34m\u001b[0m\u001b[0m\n\u001b[1;32m    345\u001b[0m         \u001b[0;32mtry\u001b[0m\u001b[0;34m:\u001b[0m\u001b[0;34m\u001b[0m\u001b[0m\n\u001b[0;32m--> 346\u001b[0;31m             \u001b[0mself\u001b[0m\u001b[0;34m.\u001b[0m\u001b[0m_validate_conn\u001b[0m\u001b[0;34m(\u001b[0m\u001b[0mconn\u001b[0m\u001b[0;34m)\u001b[0m\u001b[0;34m\u001b[0m\u001b[0m\n\u001b[0m\u001b[1;32m    347\u001b[0m         \u001b[0;32mexcept\u001b[0m \u001b[0;34m(\u001b[0m\u001b[0mSocketTimeout\u001b[0m\u001b[0;34m,\u001b[0m \u001b[0mBaseSSLError\u001b[0m\u001b[0;34m)\u001b[0m \u001b[0;32mas\u001b[0m \u001b[0me\u001b[0m\u001b[0;34m:\u001b[0m\u001b[0;34m\u001b[0m\u001b[0m\n\u001b[1;32m    348\u001b[0m             \u001b[0;31m# Py2 raises this as a BaseSSLError, Py3 raises it as socket timeout.\u001b[0m\u001b[0;34m\u001b[0m\u001b[0;34m\u001b[0m\u001b[0m\n",
      "\u001b[0;32m~/anaconda3/lib/python3.6/site-packages/urllib3/connectionpool.py\u001b[0m in \u001b[0;36m_validate_conn\u001b[0;34m(self, conn)\u001b[0m\n\u001b[1;32m    848\u001b[0m         \u001b[0;31m# Force connect early to allow us to validate the connection.\u001b[0m\u001b[0;34m\u001b[0m\u001b[0;34m\u001b[0m\u001b[0m\n\u001b[1;32m    849\u001b[0m         \u001b[0;32mif\u001b[0m \u001b[0;32mnot\u001b[0m \u001b[0mgetattr\u001b[0m\u001b[0;34m(\u001b[0m\u001b[0mconn\u001b[0m\u001b[0;34m,\u001b[0m \u001b[0;34m'sock'\u001b[0m\u001b[0;34m,\u001b[0m \u001b[0;32mNone\u001b[0m\u001b[0;34m)\u001b[0m\u001b[0;34m:\u001b[0m  \u001b[0;31m# AppEngine might not have  `.sock`\u001b[0m\u001b[0;34m\u001b[0m\u001b[0m\n\u001b[0;32m--> 850\u001b[0;31m             \u001b[0mconn\u001b[0m\u001b[0;34m.\u001b[0m\u001b[0mconnect\u001b[0m\u001b[0;34m(\u001b[0m\u001b[0;34m)\u001b[0m\u001b[0;34m\u001b[0m\u001b[0m\n\u001b[0m\u001b[1;32m    851\u001b[0m \u001b[0;34m\u001b[0m\u001b[0m\n\u001b[1;32m    852\u001b[0m         \u001b[0;32mif\u001b[0m \u001b[0;32mnot\u001b[0m \u001b[0mconn\u001b[0m\u001b[0;34m.\u001b[0m\u001b[0mis_verified\u001b[0m\u001b[0;34m:\u001b[0m\u001b[0;34m\u001b[0m\u001b[0m\n",
      "\u001b[0;32m~/anaconda3/lib/python3.6/site-packages/urllib3/connection.py\u001b[0m in \u001b[0;36mconnect\u001b[0;34m(self)\u001b[0m\n\u001b[1;32m    324\u001b[0m             \u001b[0mca_cert_dir\u001b[0m\u001b[0;34m=\u001b[0m\u001b[0mself\u001b[0m\u001b[0;34m.\u001b[0m\u001b[0mca_cert_dir\u001b[0m\u001b[0;34m,\u001b[0m\u001b[0;34m\u001b[0m\u001b[0m\n\u001b[1;32m    325\u001b[0m             \u001b[0mserver_hostname\u001b[0m\u001b[0;34m=\u001b[0m\u001b[0mhostname\u001b[0m\u001b[0;34m,\u001b[0m\u001b[0;34m\u001b[0m\u001b[0m\n\u001b[0;32m--> 326\u001b[0;31m             ssl_context=context)\n\u001b[0m\u001b[1;32m    327\u001b[0m \u001b[0;34m\u001b[0m\u001b[0m\n\u001b[1;32m    328\u001b[0m         \u001b[0;32mif\u001b[0m \u001b[0mself\u001b[0m\u001b[0;34m.\u001b[0m\u001b[0massert_fingerprint\u001b[0m\u001b[0;34m:\u001b[0m\u001b[0;34m\u001b[0m\u001b[0m\n",
      "\u001b[0;32m~/anaconda3/lib/python3.6/site-packages/urllib3/util/ssl_.py\u001b[0m in \u001b[0;36mssl_wrap_socket\u001b[0;34m(sock, keyfile, certfile, cert_reqs, ca_certs, server_hostname, ssl_version, ciphers, ssl_context, ca_cert_dir)\u001b[0m\n\u001b[1;32m    327\u001b[0m         \u001b[0mcontext\u001b[0m\u001b[0;34m.\u001b[0m\u001b[0mload_cert_chain\u001b[0m\u001b[0;34m(\u001b[0m\u001b[0mcertfile\u001b[0m\u001b[0;34m,\u001b[0m \u001b[0mkeyfile\u001b[0m\u001b[0;34m)\u001b[0m\u001b[0;34m\u001b[0m\u001b[0m\n\u001b[1;32m    328\u001b[0m     \u001b[0;32mif\u001b[0m \u001b[0mHAS_SNI\u001b[0m\u001b[0;34m:\u001b[0m  \u001b[0;31m# Platform-specific: OpenSSL with enabled SNI\u001b[0m\u001b[0;34m\u001b[0m\u001b[0m\n\u001b[0;32m--> 329\u001b[0;31m         \u001b[0;32mreturn\u001b[0m \u001b[0mcontext\u001b[0m\u001b[0;34m.\u001b[0m\u001b[0mwrap_socket\u001b[0m\u001b[0;34m(\u001b[0m\u001b[0msock\u001b[0m\u001b[0;34m,\u001b[0m \u001b[0mserver_hostname\u001b[0m\u001b[0;34m=\u001b[0m\u001b[0mserver_hostname\u001b[0m\u001b[0;34m)\u001b[0m\u001b[0;34m\u001b[0m\u001b[0m\n\u001b[0m\u001b[1;32m    330\u001b[0m \u001b[0;34m\u001b[0m\u001b[0m\n\u001b[1;32m    331\u001b[0m     warnings.warn(\n",
      "\u001b[0;32m~/anaconda3/lib/python3.6/site-packages/urllib3/contrib/pyopenssl.py\u001b[0m in \u001b[0;36mwrap_socket\u001b[0;34m(self, sock, server_side, do_handshake_on_connect, suppress_ragged_eofs, server_hostname)\u001b[0m\n\u001b[1;32m    441\u001b[0m                 \u001b[0mcnx\u001b[0m\u001b[0;34m.\u001b[0m\u001b[0mdo_handshake\u001b[0m\u001b[0;34m(\u001b[0m\u001b[0;34m)\u001b[0m\u001b[0;34m\u001b[0m\u001b[0m\n\u001b[1;32m    442\u001b[0m             \u001b[0;32mexcept\u001b[0m \u001b[0mOpenSSL\u001b[0m\u001b[0;34m.\u001b[0m\u001b[0mSSL\u001b[0m\u001b[0;34m.\u001b[0m\u001b[0mWantReadError\u001b[0m\u001b[0;34m:\u001b[0m\u001b[0;34m\u001b[0m\u001b[0m\n\u001b[0;32m--> 443\u001b[0;31m                 \u001b[0mrd\u001b[0m \u001b[0;34m=\u001b[0m \u001b[0mutil\u001b[0m\u001b[0;34m.\u001b[0m\u001b[0mwait_for_read\u001b[0m\u001b[0;34m(\u001b[0m\u001b[0msock\u001b[0m\u001b[0;34m,\u001b[0m \u001b[0msock\u001b[0m\u001b[0;34m.\u001b[0m\u001b[0mgettimeout\u001b[0m\u001b[0;34m(\u001b[0m\u001b[0;34m)\u001b[0m\u001b[0;34m)\u001b[0m\u001b[0;34m\u001b[0m\u001b[0m\n\u001b[0m\u001b[1;32m    444\u001b[0m                 \u001b[0;32mif\u001b[0m \u001b[0;32mnot\u001b[0m \u001b[0mrd\u001b[0m\u001b[0;34m:\u001b[0m\u001b[0;34m\u001b[0m\u001b[0m\n\u001b[1;32m    445\u001b[0m                     \u001b[0;32mraise\u001b[0m \u001b[0mtimeout\u001b[0m\u001b[0;34m(\u001b[0m\u001b[0;34m'select timed out'\u001b[0m\u001b[0;34m)\u001b[0m\u001b[0;34m\u001b[0m\u001b[0m\n",
      "\u001b[0;32m~/anaconda3/lib/python3.6/site-packages/urllib3/util/wait.py\u001b[0m in \u001b[0;36mwait_for_read\u001b[0;34m(socks, timeout)\u001b[0m\n\u001b[1;32m     31\u001b[0m     \u001b[0;32mor\u001b[0m \u001b[0moptionally\u001b[0m \u001b[0ma\u001b[0m \u001b[0msingle\u001b[0m \u001b[0msocket\u001b[0m \u001b[0;32mif\u001b[0m \u001b[0mpassed\u001b[0m \u001b[0;32min\u001b[0m\u001b[0;34m.\u001b[0m \u001b[0mReturns\u001b[0m \u001b[0ma\u001b[0m \u001b[0mlist\u001b[0m \u001b[0mof\u001b[0m\u001b[0;34m\u001b[0m\u001b[0m\n\u001b[1;32m     32\u001b[0m     sockets that can be read from immediately. \"\"\"\n\u001b[0;32m---> 33\u001b[0;31m     \u001b[0;32mreturn\u001b[0m \u001b[0m_wait_for_io_events\u001b[0m\u001b[0;34m(\u001b[0m\u001b[0msocks\u001b[0m\u001b[0;34m,\u001b[0m \u001b[0mEVENT_READ\u001b[0m\u001b[0;34m,\u001b[0m \u001b[0mtimeout\u001b[0m\u001b[0;34m)\u001b[0m\u001b[0;34m\u001b[0m\u001b[0m\n\u001b[0m\u001b[1;32m     34\u001b[0m \u001b[0;34m\u001b[0m\u001b[0m\n\u001b[1;32m     35\u001b[0m \u001b[0;34m\u001b[0m\u001b[0m\n",
      "\u001b[0;32m~/anaconda3/lib/python3.6/site-packages/urllib3/util/wait.py\u001b[0m in \u001b[0;36m_wait_for_io_events\u001b[0;34m(socks, events, timeout)\u001b[0m\n\u001b[1;32m     24\u001b[0m             \u001b[0mselector\u001b[0m\u001b[0;34m.\u001b[0m\u001b[0mregister\u001b[0m\u001b[0;34m(\u001b[0m\u001b[0msock\u001b[0m\u001b[0;34m,\u001b[0m \u001b[0mevents\u001b[0m\u001b[0;34m)\u001b[0m\u001b[0;34m\u001b[0m\u001b[0m\n\u001b[1;32m     25\u001b[0m         return [key[0].fileobj for key in\n\u001b[0;32m---> 26\u001b[0;31m                 selector.select(timeout) if key[1] & events]\n\u001b[0m\u001b[1;32m     27\u001b[0m \u001b[0;34m\u001b[0m\u001b[0m\n\u001b[1;32m     28\u001b[0m \u001b[0;34m\u001b[0m\u001b[0m\n",
      "\u001b[0;32m~/anaconda3/lib/python3.6/site-packages/urllib3/util/selectors.py\u001b[0m in \u001b[0;36mselect\u001b[0;34m(self, timeout)\u001b[0m\n\u001b[1;32m    511\u001b[0m \u001b[0;34m\u001b[0m\u001b[0m\n\u001b[1;32m    512\u001b[0m             kevent_list = _syscall_wrapper(self._kqueue.control, True,\n\u001b[0;32m--> 513\u001b[0;31m                                            None, max_events, timeout)\n\u001b[0m\u001b[1;32m    514\u001b[0m \u001b[0;34m\u001b[0m\u001b[0m\n\u001b[1;32m    515\u001b[0m             \u001b[0;32mfor\u001b[0m \u001b[0mkevent\u001b[0m \u001b[0;32min\u001b[0m \u001b[0mkevent_list\u001b[0m\u001b[0;34m:\u001b[0m\u001b[0;34m\u001b[0m\u001b[0m\n",
      "\u001b[0;32m~/anaconda3/lib/python3.6/site-packages/urllib3/util/selectors.py\u001b[0m in \u001b[0;36m_syscall_wrapper\u001b[0;34m(func, _, *args, **kwargs)\u001b[0m\n\u001b[1;32m     62\u001b[0m         and recalculate their timeouts. \"\"\"\n\u001b[1;32m     63\u001b[0m         \u001b[0;32mtry\u001b[0m\u001b[0;34m:\u001b[0m\u001b[0;34m\u001b[0m\u001b[0m\n\u001b[0;32m---> 64\u001b[0;31m             \u001b[0;32mreturn\u001b[0m \u001b[0mfunc\u001b[0m\u001b[0;34m(\u001b[0m\u001b[0;34m*\u001b[0m\u001b[0margs\u001b[0m\u001b[0;34m,\u001b[0m \u001b[0;34m**\u001b[0m\u001b[0mkwargs\u001b[0m\u001b[0;34m)\u001b[0m\u001b[0;34m\u001b[0m\u001b[0m\n\u001b[0m\u001b[1;32m     65\u001b[0m         \u001b[0;32mexcept\u001b[0m \u001b[0;34m(\u001b[0m\u001b[0mOSError\u001b[0m\u001b[0;34m,\u001b[0m \u001b[0mIOError\u001b[0m\u001b[0;34m,\u001b[0m \u001b[0mselect\u001b[0m\u001b[0;34m.\u001b[0m\u001b[0merror\u001b[0m\u001b[0;34m)\u001b[0m \u001b[0;32mas\u001b[0m \u001b[0me\u001b[0m\u001b[0;34m:\u001b[0m\u001b[0;34m\u001b[0m\u001b[0m\n\u001b[1;32m     66\u001b[0m             \u001b[0merrcode\u001b[0m \u001b[0;34m=\u001b[0m \u001b[0;32mNone\u001b[0m\u001b[0;34m\u001b[0m\u001b[0m\n",
      "\u001b[0;31mKeyboardInterrupt\u001b[0m: "
     ]
    }
   ],
   "source": [
    "#n.b. we gotta keep these outside for-loops\n",
    "\n",
    "list_trial_urls = []\n",
    "counter = 0\n",
    "\n",
    "for url_ in list_urls:\n",
    "    counter += 1\n",
    "    \n",
    "    #get url and soup the page\n",
    "    url = url_\n",
    "    req = requests.get(url,timeout=20)\n",
    "    req.html = req.text\n",
    "    soup = BeautifulSoup(req.html,\"html.parser\")\n",
    "    \n",
    "    print('Page',counter,'of search results added.')\n",
    "    \n",
    "    #then get the trial urls and add them to big list of trial urls\n",
    "    for a_tag in soup.find_all('a', href = re.compile('#highlight')):\n",
    "    #    list_urls_page = []\n",
    "        print('https://www.oldbaileyonline.org/'+a_tag['href'])\n",
    "        list_trial_urls.append('https://www.oldbaileyonline.org/'+a_tag['href'])\n",
    "    \n",
    "    \n",
    "    "
   ]
  },
  {
   "cell_type": "code",
   "execution_count": 49,
   "metadata": {},
   "outputs": [
    {
     "data": {
      "text/plain": [
       "['https://www.oldbaileyonline.org/browse.jsp?id=t17220907-77-off417&div=t17220907-77#highlight',\n",
       " 'https://www.oldbaileyonline.org/browse.jsp?id=t17220907-24-off124&div=t17220907-24#highlight',\n",
       " 'https://www.oldbaileyonline.org/browse.jsp?id=t17230116-22-off108&div=t17230116-22#highlight',\n",
       " 'https://www.oldbaileyonline.org/browse.jsp?id=t17230116-23-off111&div=t17230116-23#highlight',\n",
       " 'https://www.oldbaileyonline.org/browse.jsp?id=t17231016-40-off213&div=t17231016-40#highlight',\n",
       " 'https://www.oldbaileyonline.org/browse.jsp?id=t17250115-17-off91&div=t17250115-17#highlight',\n",
       " 'https://www.oldbaileyonline.org/browse.jsp?id=t17250115-48-off249&div=t17250115-48#highlight',\n",
       " 'https://www.oldbaileyonline.org/browse.jsp?id=t17250407-61-off332&div=t17250407-61#highlight',\n",
       " 'https://www.oldbaileyonline.org/browse.jsp?id=t17251013-53-off259&div=t17251013-53#highlight',\n",
       " 'https://www.oldbaileyonline.org/browse.jsp?id=t17251013-64-off305&div=t17251013-64#highlight',\n",
       " 'https://www.oldbaileyonline.org/browse.jsp?id=t17251208-101-off452&div=t17251208-101#highlight',\n",
       " 'https://www.oldbaileyonline.org/browse.jsp?id=t17260711-56-off257&div=t17260711-56#highlight',\n",
       " 'https://www.oldbaileyonline.org/browse.jsp?id=t17260831-41-off192&div=t17260831-41#highlight',\n",
       " 'https://www.oldbaileyonline.org/browse.jsp?id=t17261012-53-off221&div=t17261012-53#highlight',\n",
       " 'https://www.oldbaileyonline.org/browse.jsp?id=t17270705-25-off123&div=t17270705-25#highlight',\n",
       " 'https://www.oldbaileyonline.org/browse.jsp?id=t17270830-45-off211&div=t17270830-45#highlight',\n",
       " 'https://www.oldbaileyonline.org/browse.jsp?id=t17271017-30-off137&div=t17271017-30#highlight',\n",
       " 'https://www.oldbaileyonline.org/browse.jsp?id=t17281016-67-off300&div=t17281016-67#highlight',\n",
       " 'https://www.oldbaileyonline.org/browse.jsp?id=t17281016-19-off104&div=t17281016-19#highlight',\n",
       " 'https://www.oldbaileyonline.org/browse.jsp?id=t17281204-58-off258&div=t17281204-58#highlight',\n",
       " 'https://www.oldbaileyonline.org/browse.jsp?id=t17290226-83-off280&div=t17290226-83#highlight',\n",
       " 'https://www.oldbaileyonline.org/browse.jsp?id=t17290709-35-off158&div=t17290709-35#highlight',\n",
       " 'https://www.oldbaileyonline.org/browse.jsp?id=t17290827-51-off245&div=t17290827-51#highlight',\n",
       " 'https://www.oldbaileyonline.org/browse.jsp?id=t17300228-64-off312&div=t17300228-64#highlight',\n",
       " 'https://www.oldbaileyonline.org/browse.jsp?id=t17300828-7-off34&div=t17300828-7#highlight',\n",
       " 'https://www.oldbaileyonline.org/browse.jsp?id=t17320223-29-off151&div=t17320223-29#highlight',\n",
       " 'https://www.oldbaileyonline.org/browse.jsp?id=t17331010-7-off28&div=t17331010-7#highlight',\n",
       " 'https://www.oldbaileyonline.org/browse.jsp?id=t17350226-63-off297&div=t17350226-63#highlight',\n",
       " 'https://www.oldbaileyonline.org/browse.jsp?id=o17391205-2-off326&div=o17391205-2#highlight',\n",
       " 'https://www.oldbaileyonline.org/browse.jsp?id=t17400416-27-off160&div=t17400416-27#highlight',\n",
       " 'https://www.oldbaileyonline.org/browse.jsp?id=s17400903-1-off347&div=s17400903-1#highlight',\n",
       " 'https://www.oldbaileyonline.org/browse.jsp?id=o17400903-1-off345&div=o17400903-1#highlight',\n",
       " 'https://www.oldbaileyonline.org/browse.jsp?id=t17410116-11-off52&div=t17410116-11#highlight',\n",
       " 'https://www.oldbaileyonline.org/browse.jsp?id=t17411014-20-off109&div=t17411014-20#highlight',\n",
       " 'https://www.oldbaileyonline.org/browse.jsp?id=t17430519-22-off119&div=t17430519-22#highlight',\n",
       " 'https://www.oldbaileyonline.org/browse.jsp?id=t17430907-44-off227&div=t17430907-44#highlight',\n",
       " 'https://www.oldbaileyonline.org/browse.jsp?id=t17431207-78-off397&div=t17431207-78#highlight',\n",
       " 'https://www.oldbaileyonline.org/browse.jsp?id=t17440510-4-off23&div=t17440510-4#highlight',\n",
       " 'https://www.oldbaileyonline.org/browse.jsp?id=t17440912-62-off341&div=t17440912-62#highlight',\n",
       " 'https://www.oldbaileyonline.org/browse.jsp?id=t17441017-29-off178&div=t17441017-29#highlight',\n",
       " 'https://www.oldbaileyonline.org/browse.jsp?id=t17450530-14-off85&div=t17450530-14#highlight',\n",
       " 'https://www.oldbaileyonline.org/browse.jsp?id=t17460903-39-off155&div=t17460903-39#highlight',\n",
       " 'https://www.oldbaileyonline.org/browse.jsp?id=t17461205-26-off113&div=t17461205-26#highlight',\n",
       " 'https://www.oldbaileyonline.org/browse.jsp?id=t17470429-27-off112&div=t17470429-27#highlight',\n",
       " 'https://www.oldbaileyonline.org/browse.jsp?id=t17480115-33-off191&div=t17480115-33#highlight',\n",
       " 'https://www.oldbaileyonline.org/browse.jsp?id=t17490113-40-off190&div=t17490113-40#highlight',\n",
       " 'https://www.oldbaileyonline.org/browse.jsp?id=t17490405-54-off236&div=t17490405-54#highlight',\n",
       " 'https://www.oldbaileyonline.org/browse.jsp?id=t17490906-7-off27&div=t17490906-7#highlight',\n",
       " 'https://www.oldbaileyonline.org/browse.jsp?id=t17490906-87-off358&div=t17490906-87#highlight',\n",
       " 'https://www.oldbaileyonline.org/browse.jsp?id=t17510116-40-off190&div=t17510116-40#highlight']"
      ]
     },
     "execution_count": 49,
     "metadata": {},
     "output_type": "execute_result"
    }
   ],
   "source": [
    "list_trial_urls"
   ]
  },
  {
   "cell_type": "code",
   "execution_count": 50,
   "metadata": {
    "button": false,
    "new_sheet": false,
    "run_control": {
     "read_only": false
    }
   },
   "outputs": [
    {
     "data": {
      "text/plain": [
       "50"
      ]
     },
     "execution_count": 50,
     "metadata": {},
     "output_type": "execute_result"
    }
   ],
   "source": [
    "#sanity check: should be 391\n",
    "len(set(list_trial_urls))"
   ]
  },
  {
   "cell_type": "markdown",
   "metadata": {
    "button": false,
    "new_sheet": false,
    "run_control": {
     "read_only": false
    }
   },
   "source": [
    "<font color=darkgreen>\n",
    "    \n",
    "Check if list url is the last on page '39':\n",
    "\n",
    "https://www.oldbaileyonline.org/browse.jsp?id=t18810502-481-offence-1&div=t18810502-481#highlight"
   ]
  },
  {
   "cell_type": "markdown",
   "metadata": {
    "button": false,
    "new_sheet": false,
    "run_control": {
     "read_only": false
    }
   },
   "source": [
    "<font color=darkgreen>\n",
    "    \n",
    "## 4. Last step! Now we loop through all the urls of trials, extract the information in question, and save them to two Py lists, and then we'll zip those into a dictionary and pickle it.\n",
    "\n",
    "- We will want to include a 'Try-Except' clause as well in order to let the scrape continue if it hits any snags."
   ]
  },
  {
   "cell_type": "code",
   "execution_count": null,
   "metadata": {
    "button": false,
    "collapsed": true,
    "new_sheet": false,
    "run_control": {
     "read_only": false
    }
   },
   "outputs": [],
   "source": [
    "#two empty lists\n",
    "text_of_trials = []\n",
    "title_of_trials = []\n",
    "\n",
    "#change to an empty directory to save raw text files\n",
    "os.chdir(\"data_dump\")\n",
    "\n",
    "for u in list_trial_urls:\n",
    "    \n",
    "    # get the soup from each page of URL\n",
    "    url = u\n",
    "    req = requests.get(url,timeout=20)\n",
    "    req.html = req.text\n",
    "    soup = BeautifulSoup(req.html,\"html.parser\")\n",
    "    \n",
    "    #get the title of the trial\n",
    "    try:\n",
    "        title_of_trial = soup.find('div', class_='sessionsPaperTitle').get_text()\n",
    "        title_of_trials.append(title_of_trial)\n",
    "        print('Processed the title of trial:',len(title_of_trials))\n",
    "    except:\n",
    "        print('ERROR on title of trial!')\n",
    "    \n",
    "    try:\n",
    "        #get the trial text\n",
    "        trial_text = [] #blank list, must be outside of 4 loop\n",
    "        #find all links on each page\n",
    "        for p in soup.find('div', class_='sessionsPaper').find_all('p'):\n",
    "            trial_text.append(p.get_text()) #append each paragraph to blank list\n",
    "    \n",
    "        text_of_trials.append(trial_text)\n",
    "        print('Processed the test of trial:',len(text_of_trials))\n",
    "    except:\n",
    "        print(\"ERROR on text of trial!\")\n",
    "    \n",
    "    \n",
    "    #dict_trial = dict(zip(title_of_trials,trial_text))\n",
    "    #pickle.dump(dict_trial,open(\"obo_trials_returningfromtransport.p\",\"wb\"))\n",
    "    \n",
    "    #write out\n",
    "    f = open(title_of_trial,'w')\n",
    "    f.write(str(trial_text))\n",
    "    f.close()\n",
    "    \n",
    "    \n",
    "    #write out and save local object\n",
    "    #dict_return_transit_trials = dict(zip(title_of_trials,text_of_trials))\n",
    "    #with open('obo_transit_trails.json','w') as outfile: #open local file, write to it\n",
    "    #    outfile = json.dumps(dict_return_transit_trials) #send to outfile this python bit\n",
    "    \n",
    "    \n",
    "    \n",
    "    "
   ]
  },
  {
   "cell_type": "code",
   "execution_count": null,
   "metadata": {
    "button": false,
    "collapsed": true,
    "new_sheet": false,
    "run_control": {
     "read_only": false
    }
   },
   "outputs": [],
   "source": []
  },
  {
   "cell_type": "code",
   "execution_count": null,
   "metadata": {
    "button": false,
    "collapsed": true,
    "new_sheet": false,
    "run_control": {
     "read_only": false
    }
   },
   "outputs": [],
   "source": [
    "#data check\n",
    "title_of_trials[20:25]"
   ]
  },
  {
   "cell_type": "code",
   "execution_count": null,
   "metadata": {
    "button": false,
    "collapsed": true,
    "new_sheet": false,
    "run_control": {
     "read_only": false
    }
   },
   "outputs": [],
   "source": [
    "#data check\n",
    "text_of_trials[20:25]"
   ]
  },
  {
   "cell_type": "markdown",
   "metadata": {
    "button": false,
    "collapsed": true,
    "new_sheet": false,
    "run_control": {
     "read_only": false
    }
   },
   "source": [
    "<font color=darkgreen>\n",
    "\n",
    "### 5. Save as pickle object\n",
    "\n",
    "- Pickle is the way to save python objects on local disk.\n",
    "- Probably a good idea to pickle while scraping for large scrapes in case there's an error b/c then you'll at least get a chunk of it.\n",
    "- Next week, we'll discuss storing them in more human-friendly ways.\n",
    "- For now, your goal should be to find a place with some interesting data and then scraping it."
   ]
  },
  {
   "cell_type": "code",
   "execution_count": null,
   "metadata": {
    "button": false,
    "collapsed": true,
    "new_sheet": false,
    "run_control": {
     "read_only": false
    }
   },
   "outputs": [],
   "source": [
    "# zip each of our lists into a dictionary, in which the key is the title and the value is the text of the trial.\n",
    "obo_return_transit_trials = dict(zip(title_of_trials,text_of_trials))"
   ]
  },
  {
   "cell_type": "code",
   "execution_count": null,
   "metadata": {
    "button": false,
    "collapsed": true,
    "new_sheet": false,
    "run_control": {
     "read_only": false
    }
   },
   "outputs": [],
   "source": [
    "len(obo_return_transit_trials)"
   ]
  },
  {
   "cell_type": "code",
   "execution_count": null,
   "metadata": {
    "button": false,
    "collapsed": true,
    "new_sheet": false,
    "run_control": {
     "read_only": false
    }
   },
   "outputs": [],
   "source": [
    "import pickle\n",
    "\n",
    "# wb stands for \"write binary\", that is, literally store this pickle as binary code\n",
    "pickle.dump(obo_return_transit_trials, open(\"obo_return_transit_trials.p\",\"wb\"))"
   ]
  },
  {
   "cell_type": "raw",
   "metadata": {
    "button": false,
    "collapsed": true,
    "new_sheet": false,
    "run_control": {
     "read_only": false
    }
   },
   "source": [
    "### Save as JSON\n",
    "\n",
    "* Essentially \"python dictionary object, but the local version!\""
   ]
  },
  {
   "cell_type": "code",
   "execution_count": null,
   "metadata": {
    "button": false,
    "collapsed": true,
    "new_sheet": false,
    "run_control": {
     "read_only": false
    }
   },
   "outputs": [],
   "source": [
    "import json\n",
    "\n",
    "dict_return_transit_trials = dict(zip(title_of_trials,text_of_trials))\n",
    "with open('obo_transit_trails.json','w') as outfile: #open local file, write to it\n",
    "    outfile = json.dumps(dict_return_transit_trials) #send to outfile this python bit"
   ]
  },
  {
   "cell_type": "markdown",
   "metadata": {
    "button": false,
    "new_sheet": false,
    "run_control": {
     "read_only": false
    }
   },
   "source": [
    "***\n",
    "### Data wrangling in two weeks. For now, we're just focused on pulling the data from offline.\n",
    "\n",
    "\n",
    "### How to srape a website that requires a login:\n",
    "\n",
    "http://kazuar.github.io/scraping-tutorial/\n",
    "\n",
    "\n",
    "- Same as above, but you will have a dictionary containing the login information that will be fed into your request command."
   ]
  },
  {
   "cell_type": "markdown",
   "metadata": {
    "button": false,
    "new_sheet": false,
    "run_control": {
     "read_only": false
    }
   },
   "source": [
    "***\n",
    "***"
   ]
  },
  {
   "cell_type": "markdown",
   "metadata": {
    "button": false,
    "new_sheet": false,
    "run_control": {
     "read_only": false
    }
   },
   "source": [
    "<font color=darkred>\n",
    "\n",
    "# Homework\n",
    "\n",
    "http://www.presidency.ucsb.edu/sou.php\n",
    "\n",
    "### Scrape all of SOTU speeches. Store them as dictionary objects with each key as \"lastname_firstname_date\" and the value as the text (raw) of each speech. Upload these data to Harvard GDrive (n.b. $\\infty$ space), Dropbox, or Github and post a link to that on Canvas. Also include your IPython notebook.\n",
    "\n",
    "(n.b. In your script, your files should be saving to a place where they are automatically uploaded. This is good practice for getting large datasets and not overloading your storage. The `os.chdir` command changes the work directory to another folder alongside choosing to have that folder auto upload.)"
   ]
  },
  {
   "cell_type": "code",
   "execution_count": null,
   "metadata": {
    "button": false,
    "collapsed": true,
    "new_sheet": false,
    "run_control": {
     "read_only": false
    }
   },
   "outputs": [],
   "source": []
  }
 ],
 "metadata": {
  "kernelspec": {
   "display_name": "Python 3",
   "language": "python",
   "name": "python3"
  },
  "language_info": {
   "codemirror_mode": {
    "name": "ipython",
    "version": 3
   },
   "file_extension": ".py",
   "mimetype": "text/x-python",
   "name": "python",
   "nbconvert_exporter": "python",
   "pygments_lexer": "ipython3",
   "version": "3.6.3"
  }
 },
 "nbformat": 4,
 "nbformat_minor": 2
}
