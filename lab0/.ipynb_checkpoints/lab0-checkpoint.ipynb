{
 "cells": [
  {
   "cell_type": "markdown",
   "metadata": {},
   "source": [
    "<font color=darkred>\n",
    "\n",
    "# Soc220: Computational Text Analysis\n",
    "## Lab0: Logistics\n",
    "\n",
    "<br>\n",
    "\n",
    "![kraken](http://www.free-scores.com/IMG/ken/ken_20120619035144.jpg)\n",
    "\n",
    "***\n",
    "    \n",
    "    1/24/2018\n",
    "    Zach Wehrwein\n",
    "    "
   ]
  },
  {
   "cell_type": "markdown",
   "metadata": {},
   "source": [
    "<font color=darkgreen>\n",
    "    \n",
    "## Install Github desktop or Git Kraken and clone the Soc 220 repository. "
   ]
  },
  {
   "cell_type": "code",
   "execution_count": 1,
   "metadata": {},
   "outputs": [
    {
     "name": "stdout",
     "output_type": "stream",
     "text": [
      "3.6.5 (v3.6.5:f59c0932b4, Mar 28 2018, 03:03:55) \n",
      "[GCC 4.2.1 (Apple Inc. build 5666) (dot 3)]\n"
     ]
    }
   ],
   "source": [
    "import sys\n",
    "print(sys.version)"
   ]
  },
  {
   "cell_type": "markdown",
   "metadata": {},
   "source": [
    "<font color=darkgreen>\n",
    "\n",
    "Install these libraries. Install from within notebooks using the `!` preface or in the command line."
   ]
  },
  {
   "cell_type": "code",
   "execution_count": 5,
   "metadata": {},
   "outputs": [
    {
     "name": "stdout",
     "output_type": "stream",
     "text": [
      "Requirement already satisfied: gensim in /Users/zwehrwein/anaconda3/lib/python3.6/site-packages\n",
      "Requirement already satisfied: scipy>=0.18.1 in /Users/zwehrwein/anaconda3/lib/python3.6/site-packages (from gensim)\n",
      "Requirement already satisfied: smart-open>=1.2.1 in /Users/zwehrwein/anaconda3/lib/python3.6/site-packages (from gensim)\n",
      "Requirement already satisfied: six>=1.5.0 in /Users/zwehrwein/anaconda3/lib/python3.6/site-packages (from gensim)\n",
      "Requirement already satisfied: numpy>=1.11.3 in /Users/zwehrwein/anaconda3/lib/python3.6/site-packages (from gensim)\n",
      "Requirement already satisfied: requests in /Users/zwehrwein/anaconda3/lib/python3.6/site-packages (from smart-open>=1.2.1->gensim)\n",
      "Requirement already satisfied: boto3 in /Users/zwehrwein/anaconda3/lib/python3.6/site-packages (from smart-open>=1.2.1->gensim)\n",
      "Requirement already satisfied: bz2file in /Users/zwehrwein/anaconda3/lib/python3.6/site-packages (from smart-open>=1.2.1->gensim)\n",
      "Requirement already satisfied: boto>=2.32 in /Users/zwehrwein/anaconda3/lib/python3.6/site-packages (from smart-open>=1.2.1->gensim)\n",
      "Requirement already satisfied: chardet<3.1.0,>=3.0.2 in /Users/zwehrwein/anaconda3/lib/python3.6/site-packages (from requests->smart-open>=1.2.1->gensim)\n",
      "Requirement already satisfied: idna<2.7,>=2.5 in /Users/zwehrwein/anaconda3/lib/python3.6/site-packages (from requests->smart-open>=1.2.1->gensim)\n",
      "Requirement already satisfied: urllib3<1.23,>=1.21.1 in /Users/zwehrwein/anaconda3/lib/python3.6/site-packages (from requests->smart-open>=1.2.1->gensim)\n",
      "Requirement already satisfied: certifi>=2017.4.17 in /Users/zwehrwein/anaconda3/lib/python3.6/site-packages (from requests->smart-open>=1.2.1->gensim)\n",
      "Requirement already satisfied: s3transfer<0.2.0,>=0.1.10 in /Users/zwehrwein/anaconda3/lib/python3.6/site-packages (from boto3->smart-open>=1.2.1->gensim)\n",
      "Requirement already satisfied: botocore<1.9.0,>=1.8.34 in /Users/zwehrwein/anaconda3/lib/python3.6/site-packages (from boto3->smart-open>=1.2.1->gensim)\n",
      "Requirement already satisfied: jmespath<1.0.0,>=0.7.1 in /Users/zwehrwein/anaconda3/lib/python3.6/site-packages (from boto3->smart-open>=1.2.1->gensim)\n",
      "Requirement already satisfied: docutils>=0.10 in /Users/zwehrwein/anaconda3/lib/python3.6/site-packages (from botocore<1.9.0,>=1.8.34->boto3->smart-open>=1.2.1->gensim)\n",
      "Requirement already satisfied: python-dateutil<3.0.0,>=2.1 in /Users/zwehrwein/anaconda3/lib/python3.6/site-packages (from botocore<1.9.0,>=1.8.34->boto3->smart-open>=1.2.1->gensim)\n"
     ]
    }
   ],
   "source": [
    "!pip install gensim"
   ]
  },
  {
   "cell_type": "code",
   "execution_count": 3,
   "metadata": {},
   "outputs": [
    {
     "name": "stdout",
     "output_type": "stream",
     "text": [
      "Requirement already up-to-date: NetworkX in /Users/zwehrwein/anaconda3/lib/python3.6/site-packages\r\n",
      "Requirement already up-to-date: decorator>=4.1.0 in /Users/zwehrwein/anaconda3/lib/python3.6/site-packages (from NetworkX)\r\n"
     ]
    }
   ],
   "source": [
    "!pip install -U NetworkX"
   ]
  },
  {
   "cell_type": "markdown",
   "metadata": {},
   "source": [
    "***"
   ]
  },
  {
   "cell_type": "code",
   "execution_count": 10,
   "metadata": {},
   "outputs": [
    {
     "name": "stdout",
     "output_type": "stream",
     "text": [
      "IPython version:  6.3.0 (need at least 5.0.0)\n",
      "Numpy version: 1.14.2 (need at least 1.12.0)\n",
      "SciPy version:  1.0.1 (need at least 0.19.0)\n",
      "Pandas version: 0.22.0 (need at least 0.20.0)\n",
      "Scikit-Learn version: 0.19.1 (need at least 0.18.1)\n",
      "Seaborn version:  0.8.1 (need at least 0.7)\n",
      "Matplotlib version:  2.2.2 (need at least 2.0.0)\n",
      "BeautifulSoup version:  4.6.0 (need at least 4.4)\n",
      "requests version: 2.18.4 (need at least 2.9.0)\n",
      "gensim version: 3.4.0 (need at least 3.2.0)\n",
      "nltk version: 3.2.5 (need at least 3.25)\n"
     ]
    }
   ],
   "source": [
    "#System related\n",
    "import IPython\n",
    "print(\"IPython version: %6.6s (need at least 5.0.0)\" % IPython.__version__)\n",
    "\n",
    "#computationally related\n",
    "import numpy as np\n",
    "print(\"Numpy version: %6.6s (need at least 1.12.0)\" % np.__version__)\n",
    "import scipy as sp\n",
    "print(\"SciPy version: %6.6s (need at least 0.19.0)\" % sp.__version__)\n",
    "import pandas as pd\n",
    "print(\"Pandas version: %6.6s (need at least 0.20.0)\" % pd.__version__)\n",
    "import sklearn\n",
    "print(\"Scikit-Learn version: %6.6s (need at least 0.18.1)\" % sklearn.__version__)\n",
    "\n",
    "#for visualizations\n",
    "import seaborn\n",
    "print(\"Seaborn version: %6.6s (need at least 0.7)\" % seaborn.__version__)\n",
    "import matplotlib\n",
    "print(\"Matplotlib version: %6.6s (need at least 2.0.0)\" % matplotlib.__version__)\n",
    "\n",
    "#for web scrapping\n",
    "import bs4\n",
    "print(\"BeautifulSoup version: %6.6s (need at least 4.4)\" % bs4.__version__)\n",
    "import requests\n",
    "print(\"requests version: %6.6s (need at least 2.9.0)\" % requests.__version__)\n",
    "\n",
    "#for text analysis\n",
    "import gensim\n",
    "print(\"gensim version:%6.6s (need at least 3.2.0)\" % gensim.__version__)\n",
    "import nltk\n",
    "print(\"nltk version:%6.6s (need at least 3.25)\" % nltk.__version__)"
   ]
  },
  {
   "cell_type": "code",
   "execution_count": 9,
   "metadata": {},
   "outputs": [
    {
     "name": "stdout",
     "output_type": "stream",
     "text": [
      "Collecting nltk\n",
      "Requirement already satisfied: six in /Library/Frameworks/Python.framework/Versions/3.6/lib/python3.6/site-packages (from nltk)\n",
      "Installing collected packages: nltk\n",
      "Successfully installed nltk-3.2.5\n"
     ]
    }
   ],
   "source": [
    "!pip3 install nltk"
   ]
  },
  {
   "cell_type": "code",
   "execution_count": 7,
   "metadata": {},
   "outputs": [
    {
     "name": "stdout",
     "output_type": "stream",
     "text": [
      "Collecting bs4\n",
      "  Downloading bs4-0.0.1.tar.gz\n",
      "Collecting beautifulsoup4 (from bs4)\n",
      "  Downloading beautifulsoup4-4.6.0-py3-none-any.whl (86kB)\n",
      "\u001b[K    100% |████████████████████████████████| 92kB 675kB/s ta 0:00:01\n",
      "\u001b[?25hInstalling collected packages: beautifulsoup4, bs4\n",
      "  Running setup.py install for bs4 ... \u001b[?25ldone\n",
      "\u001b[?25hSuccessfully installed beautifulsoup4-4.6.0 bs4-0.0.1\n"
     ]
    }
   ],
   "source": [
    "!pip3 install bs4"
   ]
  },
  {
   "cell_type": "code",
   "execution_count": 8,
   "metadata": {},
   "outputs": [
    {
     "name": "stdout",
     "output_type": "stream",
     "text": [
      "Collecting seaborn\n",
      "  Downloading seaborn-0.8.1.tar.gz (178kB)\n",
      "\u001b[K    100% |████████████████████████████████| 184kB 905kB/s ta 0:00:01\n",
      "\u001b[?25hInstalling collected packages: seaborn\n",
      "  Running setup.py install for seaborn ... \u001b[?25ldone\n",
      "\u001b[?25hSuccessfully installed seaborn-0.8.1\n"
     ]
    }
   ],
   "source": [
    "!pip3 install seaborn"
   ]
  },
  {
   "cell_type": "code",
   "execution_count": 6,
   "metadata": {},
   "outputs": [
    {
     "name": "stdout",
     "output_type": "stream",
     "text": [
      "Collecting sklearn\n",
      "  Downloading sklearn-0.0.tar.gz\n",
      "Collecting scikit-learn (from sklearn)\n",
      "  Downloading scikit_learn-0.19.1-cp36-cp36m-macosx_10_6_intel.macosx_10_9_intel.macosx_10_9_x86_64.macosx_10_10_intel.macosx_10_10_x86_64.whl (7.6MB)\n",
      "\u001b[K    100% |████████████████████████████████| 7.6MB 113kB/s ta 0:00:01\n",
      "\u001b[?25hInstalling collected packages: scikit-learn, sklearn\n",
      "  Running setup.py install for sklearn ... \u001b[?25ldone\n",
      "\u001b[?25hSuccessfully installed scikit-learn-0.19.1 sklearn-0.0\n"
     ]
    }
   ],
   "source": [
    "!pip3 install sklearn"
   ]
  },
  {
   "cell_type": "code",
   "execution_count": null,
   "metadata": {},
   "outputs": [],
   "source": [
    "!pip3 install numpy\n",
    "!pip3 install matplotlib\n",
    "!pip3 install scipy\n",
    "!pip3 install gensim\n",
    "!pip3 install pandas"
   ]
  },
  {
   "cell_type": "markdown",
   "metadata": {},
   "source": [
    "<font color=darkgreen>\n",
    "    \n",
    "***\n",
    "### Mini exercise\n",
    "\n",
    "Write a for-loop, while-loop, and list-comprehension to print out each individual character from the first words of *Moby Dick*, \"Call me Ishmael.\"\n",
    "\n",
    "\n"
   ]
  },
  {
   "cell_type": "code",
   "execution_count": 6,
   "metadata": {},
   "outputs": [
    {
     "data": {
      "text/plain": [
       "4"
      ]
     },
     "execution_count": 6,
     "metadata": {},
     "output_type": "execute_result"
    }
   ],
   "source": [
    "2+2"
   ]
  },
  {
   "cell_type": "code",
   "execution_count": null,
   "metadata": {
    "collapsed": true
   },
   "outputs": [],
   "source": []
  },
  {
   "cell_type": "code",
   "execution_count": null,
   "metadata": {
    "collapsed": true
   },
   "outputs": [],
   "source": []
  },
  {
   "cell_type": "markdown",
   "metadata": {},
   "source": [
    "<font color=darkred>\n",
    "\n",
    "### Exercise: Fizz Buzz\n",
    "\n",
    "<font color=black>\n",
    "Automate this great drinking game: count up to 20, but on every multiple of three, say 'fuzz' instead of the number, and for every multiple of 5, 'buzz.' For both, say \"fuzz-buzz.\" Do this up to 50\n",
    "\n",
    "For instance, counting around in a cirlce: \"1, 2, ~~3~~ fizz, 4, ~~5~~ buzz, ~~6~~  fizz, 7, 8, ~~9~~ fizz, ~~10~~ buzz, 11, ~~12~~  fuzz, 13, 14, ~~15~~ fuzz-buzz.\""
   ]
  },
  {
   "cell_type": "code",
   "execution_count": null,
   "metadata": {
    "collapsed": true
   },
   "outputs": [],
   "source": []
  },
  {
   "cell_type": "code",
   "execution_count": null,
   "metadata": {
    "collapsed": true
   },
   "outputs": [],
   "source": []
  },
  {
   "cell_type": "code",
   "execution_count": null,
   "metadata": {
    "collapsed": true
   },
   "outputs": [],
   "source": []
  }
 ],
 "metadata": {
  "kernelspec": {
   "display_name": "Python 3",
   "language": "python",
   "name": "python3"
  },
  "language_info": {
   "codemirror_mode": {
    "name": "ipython",
    "version": 3
   },
   "file_extension": ".py",
   "mimetype": "text/x-python",
   "name": "python",
   "nbconvert_exporter": "python",
   "pygments_lexer": "ipython3",
   "version": "3.6.5"
  }
 },
 "nbformat": 4,
 "nbformat_minor": 2
}
