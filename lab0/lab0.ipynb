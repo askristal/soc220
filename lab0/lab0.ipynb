{
 "cells": [
  {
   "cell_type": "markdown",
   "metadata": {},
   "source": [
    "<font color=darkred>\n",
    "\n",
    "# Soc220: Computational Text Analysis\n",
    "## Lab0: Logistics\n",
    "\n",
    "<br>\n",
    "\n",
    "![kraken](http://www.free-scores.com/IMG/ken/ken_20120619035144.jpg)\n",
    "\n",
    "***\n",
    "    \n",
    "    1/24/2018\n",
    "    Zach Wehrwein\n",
    "    "
   ]
  },
  {
   "cell_type": "markdown",
   "metadata": {},
   "source": [
    "<font color=darkgreen>\n",
    "    \n",
    "## Install Github desktop or Git Kraken and clone the Soc 220 repository. "
   ]
  },
  {
   "cell_type": "code",
   "execution_count": 1,
   "metadata": {},
   "outputs": [
    {
     "name": "stdout",
     "output_type": "stream",
     "text": [
      "3.6.3 |Anaconda, Inc.| (default, Oct  6 2017, 12:04:38) \n",
      "[GCC 4.2.1 Compatible Clang 4.0.1 (tags/RELEASE_401/final)]\n"
     ]
    }
   ],
   "source": [
    "import sys\n",
    "print(sys.version)"
   ]
  },
  {
   "cell_type": "markdown",
   "metadata": {},
   "source": [
    "<font color=darkgreen>\n",
    "\n",
    "Install these libraries. Install from within notebooks using the `!` preface or in the command line."
   ]
  },
  {
   "cell_type": "code",
   "execution_count": 5,
   "metadata": {},
   "outputs": [
    {
     "name": "stdout",
     "output_type": "stream",
     "text": [
      "Requirement already satisfied: gensim in /Users/zwehrwein/anaconda3/lib/python3.6/site-packages\n",
      "Requirement already satisfied: scipy>=0.18.1 in /Users/zwehrwein/anaconda3/lib/python3.6/site-packages (from gensim)\n",
      "Requirement already satisfied: smart-open>=1.2.1 in /Users/zwehrwein/anaconda3/lib/python3.6/site-packages (from gensim)\n",
      "Requirement already satisfied: six>=1.5.0 in /Users/zwehrwein/anaconda3/lib/python3.6/site-packages (from gensim)\n",
      "Requirement already satisfied: numpy>=1.11.3 in /Users/zwehrwein/anaconda3/lib/python3.6/site-packages (from gensim)\n",
      "Requirement already satisfied: requests in /Users/zwehrwein/anaconda3/lib/python3.6/site-packages (from smart-open>=1.2.1->gensim)\n",
      "Requirement already satisfied: boto3 in /Users/zwehrwein/anaconda3/lib/python3.6/site-packages (from smart-open>=1.2.1->gensim)\n",
      "Requirement already satisfied: bz2file in /Users/zwehrwein/anaconda3/lib/python3.6/site-packages (from smart-open>=1.2.1->gensim)\n",
      "Requirement already satisfied: boto>=2.32 in /Users/zwehrwein/anaconda3/lib/python3.6/site-packages (from smart-open>=1.2.1->gensim)\n",
      "Requirement already satisfied: chardet<3.1.0,>=3.0.2 in /Users/zwehrwein/anaconda3/lib/python3.6/site-packages (from requests->smart-open>=1.2.1->gensim)\n",
      "Requirement already satisfied: idna<2.7,>=2.5 in /Users/zwehrwein/anaconda3/lib/python3.6/site-packages (from requests->smart-open>=1.2.1->gensim)\n",
      "Requirement already satisfied: urllib3<1.23,>=1.21.1 in /Users/zwehrwein/anaconda3/lib/python3.6/site-packages (from requests->smart-open>=1.2.1->gensim)\n",
      "Requirement already satisfied: certifi>=2017.4.17 in /Users/zwehrwein/anaconda3/lib/python3.6/site-packages (from requests->smart-open>=1.2.1->gensim)\n",
      "Requirement already satisfied: s3transfer<0.2.0,>=0.1.10 in /Users/zwehrwein/anaconda3/lib/python3.6/site-packages (from boto3->smart-open>=1.2.1->gensim)\n",
      "Requirement already satisfied: botocore<1.9.0,>=1.8.34 in /Users/zwehrwein/anaconda3/lib/python3.6/site-packages (from boto3->smart-open>=1.2.1->gensim)\n",
      "Requirement already satisfied: jmespath<1.0.0,>=0.7.1 in /Users/zwehrwein/anaconda3/lib/python3.6/site-packages (from boto3->smart-open>=1.2.1->gensim)\n",
      "Requirement already satisfied: docutils>=0.10 in /Users/zwehrwein/anaconda3/lib/python3.6/site-packages (from botocore<1.9.0,>=1.8.34->boto3->smart-open>=1.2.1->gensim)\n",
      "Requirement already satisfied: python-dateutil<3.0.0,>=2.1 in /Users/zwehrwein/anaconda3/lib/python3.6/site-packages (from botocore<1.9.0,>=1.8.34->boto3->smart-open>=1.2.1->gensim)\n"
     ]
    }
   ],
   "source": [
    "!pip install gensim"
   ]
  },
  {
   "cell_type": "code",
   "execution_count": 3,
   "metadata": {},
   "outputs": [
    {
     "name": "stdout",
     "output_type": "stream",
     "text": [
      "Requirement already up-to-date: NetworkX in /Users/zwehrwein/anaconda3/lib/python3.6/site-packages\r\n",
      "Requirement already up-to-date: decorator>=4.1.0 in /Users/zwehrwein/anaconda3/lib/python3.6/site-packages (from NetworkX)\r\n"
     ]
    }
   ],
   "source": [
    "!pip install -U NetworkX"
   ]
  },
  {
   "cell_type": "markdown",
   "metadata": {},
   "source": [
    "***"
   ]
  },
  {
   "cell_type": "code",
   "execution_count": 4,
   "metadata": {},
   "outputs": [
    {
     "name": "stdout",
     "output_type": "stream",
     "text": [
      "IPython version:  6.1.0 (need at least 5.0.0)\n",
      "Numpy version: 1.13.3 (need at least 1.12.0)\n",
      "SciPy version: 0.19.1 (need at least 0.19.0)\n",
      "Pandas version: 0.20.3 (need at least 0.20.0)\n",
      "Scikit-Learn version: 0.19.1 (need at least 0.18.1)\n",
      "Seaborn version:  0.8.0 (need at least 0.7)\n",
      "Matplotlib version:  2.1.0 (need at least 2.0.0)\n",
      "BeautifulSoup version:  4.6.0 (need at least 4.4)\n",
      "requests version: 2.18.4 (need at least 2.9.0)\n",
      "gensim version: 3.2.0 (need at least 3.2.0)\n",
      "nltk version: 3.2.4 (need at least 3.25)\n"
     ]
    }
   ],
   "source": [
    "#System related\n",
    "import IPython\n",
    "print(\"IPython version: %6.6s (need at least 5.0.0)\" % IPython.__version__)\n",
    "\n",
    "#computationally related\n",
    "import numpy as np\n",
    "print(\"Numpy version: %6.6s (need at least 1.12.0)\" % np.__version__)\n",
    "import scipy as sp\n",
    "print(\"SciPy version: %6.6s (need at least 0.19.0)\" % sp.__version__)\n",
    "import pandas as pd\n",
    "print(\"Pandas version: %6.6s (need at least 0.20.0)\" % pd.__version__)\n",
    "import sklearn\n",
    "print(\"Scikit-Learn version: %6.6s (need at least 0.18.1)\" % sklearn.__version__)\n",
    "\n",
    "#for visualizations\n",
    "import seaborn\n",
    "print(\"Seaborn version: %6.6s (need at least 0.7)\" % seaborn.__version__)\n",
    "import matplotlib\n",
    "print(\"Matplotlib version: %6.6s (need at least 2.0.0)\" % matplotlib.__version__)\n",
    "\n",
    "#for web scrapping\n",
    "import bs4\n",
    "print(\"BeautifulSoup version: %6.6s (need at least 4.4)\" % bs4.__version__)\n",
    "import requests\n",
    "print(\"requests version: %6.6s (need at least 2.9.0)\" % requests.__version__)\n",
    "\n",
    "#for text analysis\n",
    "import gensim\n",
    "print(\"gensim version:%6.6s (need at least 3.2.0)\" % gensim.__version__)\n",
    "import nltk\n",
    "print(\"nltk version:%6.6s (need at least 3.25)\" % nltk.__version__)"
   ]
  },
  {
   "cell_type": "markdown",
   "metadata": {},
   "source": [
    "<font color=darkgreen>\n",
    "    \n",
    "***\n",
    "### Mini exercise\n",
    "\n",
    "Write a for-loop, while-loop, and list-comprehension to print out each individual character from the first words of *Moby Dick*, \"Call me Ishmael.\"\n",
    "\n",
    "\n"
   ]
  },
  {
   "cell_type": "code",
   "execution_count": 6,
   "metadata": {},
   "outputs": [
    {
     "data": {
      "text/plain": [
       "4"
      ]
     },
     "execution_count": 6,
     "metadata": {},
     "output_type": "execute_result"
    }
   ],
   "source": [
    "2+2"
   ]
  },
  {
   "cell_type": "code",
   "execution_count": null,
   "metadata": {
    "collapsed": true
   },
   "outputs": [],
   "source": []
  },
  {
   "cell_type": "code",
   "execution_count": null,
   "metadata": {
    "collapsed": true
   },
   "outputs": [],
   "source": []
  },
  {
   "cell_type": "markdown",
   "metadata": {},
   "source": [
    "<font color=darkred>\n",
    "\n",
    "### Exercise: Fizz Buzz\n",
    "\n",
    "<font color=black>\n",
    "Automate this great drinking game: count up to 20, but on every multiple of three, say 'fuzz' instead of the number, and for every multiple of 5, 'buzz.' For both, say \"fuzz-buzz.\" Do this up to 50\n",
    "\n",
    "For instance, counting around in a cirlce: \"1, 2, ~~3~~ fizz, 4, ~~5~~ buzz, ~~6~~  fizz, 7, 8, ~~9~~ fizz, ~~10~~ buzz, 11, ~~12~~  fuzz, 13, 14, ~~15~~ fuzz-buzz.\""
   ]
  },
  {
   "cell_type": "code",
   "execution_count": null,
   "metadata": {
    "collapsed": true
   },
   "outputs": [],
   "source": []
  },
  {
   "cell_type": "code",
   "execution_count": null,
   "metadata": {
    "collapsed": true
   },
   "outputs": [],
   "source": []
  },
  {
   "cell_type": "code",
   "execution_count": null,
   "metadata": {
    "collapsed": true
   },
   "outputs": [],
   "source": []
  }
 ],
 "metadata": {
  "kernelspec": {
   "display_name": "Python 3",
   "language": "python",
   "name": "python3"
  },
  "language_info": {
   "codemirror_mode": {
    "name": "ipython",
    "version": 3
   },
   "file_extension": ".py",
   "mimetype": "text/x-python",
   "name": "python",
   "nbconvert_exporter": "python",
   "pygments_lexer": "ipython3",
   "version": "3.6.3"
  }
 },
 "nbformat": 4,
 "nbformat_minor": 2
}
