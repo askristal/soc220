{
 "cells": [
  {
   "cell_type": "markdown",
   "metadata": {},
   "source": [
    "<font color=darkred>\n",
    "    \n",
    "# Soc 220: Computational Text Analysis\n",
    "## Lab 9: Topic Models III\n",
    "\n",
    "***\n",
    "\n",
    "<img src=\"images/minard.jpg\" style=\"width: 650px\"/>\n",
    "\n",
    "\n",
    "***\n",
    "\n",
    "Today:\n",
    "\n",
    "1. Review topic model basics\n",
    "2. Introduction to the gensim library\n",
    "2. User-friendly vanilla LDA\n",
    "3. Help with STM in R.\n",
    "3. Dynamic topic models.\n",
    "\n",
    "***"
   ]
  },
  {
   "cell_type": "markdown",
   "metadata": {},
   "source": [
    "### 1.  REVIEW\n",
    "\n",
    "#### <font color=purple> Here's a cartoon example: </font color=purple>\n",
    "\n",
    "<img src=\"images/simple_example.png\" style=\"width: 500px\" />\n",
    "\n",
    "We care about calculating two probability values:\n",
    "\n",
    "- **P( word | topics)**\n",
    "- **P( topics | documents)**\n",
    "\n",
    "*n.b. We are specifying number of topics in advance.*\n",
    "\n",
    "Doc 1 is about food (aka topic A). Doc 2 is about pets (topic B). Doc 3 is about topic A and topic B. Let's say that the algorithm has arrived at the word $\\text{fish}_{d3}$ (the word fish in document 3). What should it do now?\n",
    "\n",
    "First, we calculate the probability of the word appearing in the different topics. Thus far we have observed 4 `fish` and in 3/4 cases, classified as topic A (N plate):\n",
    "\n",
    "- P('fish' | topic A) = 0.75\n",
    "- P('fish' | topic B) = 0.25\n",
    "\n",
    "Next, we calculate per document probability (M plate):\n",
    "\n",
    "- P(topic A | doc 3) = 0.5\n",
    "- p(topic A | doc 3) = 0.5\n",
    "\n",
    "Since $0.5 * 0.75 = 0.375 > 0.5 * 0.25 = . 125$, we assign $\\text{fish}_{d3}$ to topic A.\n",
    "\n",
    "<img src=\"images/lda_plate.png\" style=\"width: 600px\" />\n",
    "\n",
    "\n",
    "1. Choose a topic $z_n ~ \\text{Multinomial}(\\theta)$ where $\\theta$ is the topic distribution for that document.\n",
    "2. Choose a word $w_n$ from p ($w_n | z_n, \\beta)$, where $\\beta$ is the number of topics across the corpus.\n",
    "\n",
    "So, in each step, we're calculating given the set of all possible topics and the appearance of words in a given doc, how likely is each topic. And we update our per-word topic assignment.\n",
    "\n",
    "The likelihood of any given word being associated with any given topic is thus the sum of all previous p(word | topic), and thus:\n",
    "\n",
    "The objective function for which it is finding the maximum log-likelihood that given a new word $w_{n+1}$, it can identify the associated topic.\n",
    "\n",
    "Lastly for intuition:\n",
    "\n",
    "- $\\alpha$ (topic distribution) really means **document-topic density**, so a higher $\\alpha$ means **more specific topic distributions per document**.\n",
    "- While $\\beta$ (topics across corpus) really means **topic-word density**, so a higher (or lower) $\\beta$ means more specific word distribution per topic.\n",
    "\n",
    "One can think of both as a granularity measure.\n",
    "\n",
    "Blei's useful presentation: https://www.slideshare.net/ajayohri/modeling-science\n",
    "\n",
    "Cartoon example stolen from: https://medium.com/ml2vec/topic-modeling-is-an-unsupervised-learning-approach-to-clustering-documents-to-discover-topics-fdfbf30e27df"
   ]
  },
  {
   "cell_type": "markdown",
   "metadata": {},
   "source": [
    "***\n",
    "\n",
    "#### 2. gensim\n",
    "\n",
    "gensim is a library for implementing a wide variety of topic models (as well as word embeddings).\n",
    "\n",
    "It requires two objects:\n",
    "\n",
    "1. A dictionary object which takes in a list of strings. This object assigns a unique ID to each word.\n",
    "\n",
    "2. Then, that dictionary object is used to create a corpus (in our case, a bag of words)."
   ]
  },
  {
   "cell_type": "code",
   "execution_count": 1,
   "metadata": {},
   "outputs": [],
   "source": [
    "#!pip3 install gensim"
   ]
  },
  {
   "cell_type": "code",
   "execution_count": 2,
   "metadata": {},
   "outputs": [],
   "source": [
    "from gensim.corpora import Dictionary\n",
    "import numpy as np"
   ]
  },
  {
   "cell_type": "code",
   "execution_count": 3,
   "metadata": {},
   "outputs": [
    {
     "data": {
      "text/plain": [
       "{'bank': 0,\n",
       " 'borrow': 13,\n",
       " 'fall': 7,\n",
       " 'fast': 4,\n",
       " 'finance': 10,\n",
       " 'flow': 5,\n",
       " 'loan': 15,\n",
       " 'money': 11,\n",
       " 'mud': 9,\n",
       " 'rain': 8,\n",
       " 'river': 1,\n",
       " 'sell': 14,\n",
       " 'shore': 2,\n",
       " 'transaction': 12,\n",
       " 'tree': 6,\n",
       " 'water': 3}"
      ]
     },
     "execution_count": 3,
     "metadata": {},
     "output_type": "execute_result"
    }
   ],
   "source": [
    "texts = [\n",
    "        ['bank','river','shore','water'],\n",
    "        ['river','water','flow','fast','tree'],\n",
    "        ['bank','water','fall','flow'],\n",
    "        ['bank','bank','water','rain','river'],\n",
    "        ['river','water','mud','tree'],\n",
    "        ['money','transaction','bank','finance'],\n",
    "        ['bank','borrow','money'], \n",
    "        ['bank','finance'],\n",
    "        ['finance','money','sell','bank'],\n",
    "        ['borrow','sell'],\n",
    "        ['bank','loan','sell','bank']\n",
    "]\n",
    "\n",
    "#use Dictionary to create the mapping of each word to an ID.\n",
    "dictionary = Dictionary(texts)\n",
    "\n",
    "#\n",
    "dictionary.token2id"
   ]
  },
  {
   "cell_type": "code",
   "execution_count": 4,
   "metadata": {},
   "outputs": [],
   "source": [
    "#Then the corpus is created from the dictionary object itterated on the original list of strings. \n",
    "corpus = [dictionary.doc2bow(text) for text in texts]"
   ]
  },
  {
   "cell_type": "code",
   "execution_count": 5,
   "metadata": {},
   "outputs": [
    {
     "data": {
      "text/plain": [
       "[(0, 2), (1, 1), (3, 1), (8, 1)]"
      ]
     },
     "execution_count": 5,
     "metadata": {},
     "output_type": "execute_result"
    }
   ],
   "source": [
    "#Let's look at the fourth doc\n",
    "\n",
    "#Notice that it counts the first unique word (bank) assigned to 0 and then it has a tuple for the count.\n",
    "corpus[3]"
   ]
  },
  {
   "cell_type": "code",
   "execution_count": 6,
   "metadata": {},
   "outputs": [],
   "source": [
    "#pull in the model command from the gensim.models library\n",
    "from gensim.models import ldamodel\n",
    "\n",
    "#the ldamodel has a couple of different variations/options\n",
    "#dir(ldamodel)"
   ]
  },
  {
   "cell_type": "code",
   "execution_count": 7,
   "metadata": {},
   "outputs": [],
   "source": [
    "#the default version:\n",
    "lda_model = ldamodel.LdaModel(\n",
    "    corpus=corpus,\n",
    "    id2word=dictionary,\n",
    "    num_topics=2)"
   ]
  },
  {
   "cell_type": "code",
   "execution_count": 8,
   "metadata": {},
   "outputs": [
    {
     "data": {
      "text/plain": [
       "[(0,\n",
       "  '0.180*\"bank\" + 0.119*\"money\" + 0.106*\"finance\" + 0.096*\"sell\" + 0.086*\"borrow\" + 0.056*\"water\" + 0.050*\"transaction\" + 0.046*\"river\" + 0.041*\"tree\" + 0.039*\"flow\"'),\n",
       " (1,\n",
       "  '0.203*\"bank\" + 0.143*\"water\" + 0.119*\"river\" + 0.063*\"flow\" + 0.062*\"tree\" + 0.051*\"sell\" + 0.043*\"shore\" + 0.043*\"fall\" + 0.043*\"finance\" + 0.042*\"fast\"')]"
      ]
     },
     "execution_count": 8,
     "metadata": {},
     "output_type": "execute_result"
    }
   ],
   "source": [
    "# the show_topics method prints words and the probability that a given word is associated with that topic\n",
    "lda_model.show_topics()"
   ]
  },
  {
   "cell_type": "code",
   "execution_count": 9,
   "metadata": {},
   "outputs": [
    {
     "data": {
      "text/plain": [
       "[(0, 0.037886627), (1, 0.12978822)]"
      ]
     },
     "execution_count": 9,
     "metadata": {},
     "output_type": "execute_result"
    }
   ],
   "source": [
    "# the get_term_topics takes in a word and then prints the normalized probability p(word | topic)\n",
    "lda_model.get_term_topics('water')"
   ]
  },
  {
   "cell_type": "code",
   "execution_count": 10,
   "metadata": {},
   "outputs": [
    {
     "data": {
      "text/plain": [
       "[(0, 0.16380008), (1, 0.19027601)]"
      ]
     },
     "execution_count": 10,
     "metadata": {},
     "output_type": "execute_result"
    }
   ],
   "source": [
    "lda_model.get_term_topics('bank')"
   ]
  },
  {
   "cell_type": "code",
   "execution_count": 11,
   "metadata": {},
   "outputs": [
    {
     "data": {
      "text/plain": [
       "[(0, 0.10173138), (1, 0.019432375)]"
      ]
     },
     "execution_count": 11,
     "metadata": {},
     "output_type": "execute_result"
    }
   ],
   "source": [
    "lda_model.get_term_topics('money')"
   ]
  },
  {
   "cell_type": "markdown",
   "metadata": {},
   "source": [
    "#### pyLDAvis\n",
    "\n",
    "Same as last time, but we have to use the gensim variant (instead of the sklearn)."
   ]
  },
  {
   "cell_type": "code",
   "execution_count": 12,
   "metadata": {},
   "outputs": [],
   "source": [
    "#!pip3 install pyLDAvis"
   ]
  },
  {
   "cell_type": "code",
   "execution_count": 13,
   "metadata": {},
   "outputs": [
    {
     "name": "stderr",
     "output_type": "stream",
     "text": [
      "/Users/zwehrwein/anaconda3/lib/python3.6/site-packages/pyLDAvis/_prepare.py:387: DeprecationWarning: \n",
      ".ix is deprecated. Please use\n",
      ".loc for label based indexing or\n",
      ".iloc for positional indexing\n",
      "\n",
      "See the documentation here:\n",
      "http://pandas.pydata.org/pandas-docs/stable/indexing.html#ix-indexer-is-deprecated\n",
      "  topic_term_dists = topic_term_dists.ix[topic_order]\n"
     ]
    },
    {
     "data": {
      "text/html": [
       "\n",
       "<link rel=\"stylesheet\" type=\"text/css\" href=\"https://cdn.rawgit.com/bmabey/pyLDAvis/files/ldavis.v1.0.0.css\">\n",
       "\n",
       "\n",
       "<div id=\"ldavis_el109491121381139362029529212\"></div>\n",
       "<script type=\"text/javascript\">\n",
       "\n",
       "var ldavis_el109491121381139362029529212_data = {\"mdsDat\": {\"Freq\": [56.187171936035156, 43.812835693359375], \"cluster\": [1, 1], \"topics\": [1, 2], \"x\": [0.029103480279445648, -0.029103480279445648], \"y\": [0.0, 0.0]}, \"tinfo\": {\"Category\": [\"Default\", \"Default\", \"Default\", \"Default\", \"Default\", \"Default\", \"Default\", \"Default\", \"Default\", \"Default\", \"Default\", \"Default\", \"Default\", \"Default\", \"Default\", \"Default\", \"Topic1\", \"Topic1\", \"Topic1\", \"Topic1\", \"Topic1\", \"Topic1\", \"Topic1\", \"Topic1\", \"Topic1\", \"Topic1\", \"Topic1\", \"Topic1\", \"Topic1\", \"Topic1\", \"Topic1\", \"Topic1\", \"Topic2\", \"Topic2\", \"Topic2\", \"Topic2\", \"Topic2\", \"Topic2\", \"Topic2\", \"Topic2\", \"Topic2\", \"Topic2\", \"Topic2\", \"Topic2\", \"Topic2\", \"Topic2\", \"Topic2\", \"Topic2\"], \"Freq\": [2.0, 2.0, 2.0, 2.0, 4.0, 3.0, 1.0, 1.0, 7.0, 2.0, 1.0, 1.0, 1.0, 1.0, 2.0, 1.0, 3.2924787998199463, 2.743659019470215, 0.9870682954788208, 0.9853036999702454, 1.4582535028457642, 0.9584121108055115, 1.4179160594940186, 0.8760060667991638, 4.6667046546936035, 0.8044074177742004, 0.7508766055107117, 1.166345238685608, 0.5539894104003906, 0.9829326272010803, 0.6364211440086365, 0.7559651732444763, 2.1430463790893555, 1.5360770225524902, 1.910325050354004, 0.8910542726516724, 1.7222626209259033, 0.6891757845878601, 0.6342880725860596, 3.239973783493042, 0.5608742833137512, 0.7347702383995056, 0.47637900710105896, 0.6934102773666382, 0.44880571961402893, 0.44699642062187195, 0.8345061540603638, 1.0013169050216675], \"Term\": [\"money\", \"borrow\", \"finance\", \"sell\", \"water\", \"river\", \"transaction\", \"mud\", \"bank\", \"flow\", \"shore\", \"fall\", \"loan\", \"fast\", \"tree\", \"rain\", \"water\", \"river\", \"shore\", \"fall\", \"flow\", \"fast\", \"tree\", \"rain\", \"bank\", \"loan\", \"mud\", \"sell\", \"transaction\", \"finance\", \"borrow\", \"money\", \"money\", \"borrow\", \"finance\", \"transaction\", \"sell\", \"mud\", \"loan\", \"bank\", \"rain\", \"tree\", \"fast\", \"flow\", \"fall\", \"shore\", \"river\", \"water\"], \"Total\": [2.0, 2.0, 2.0, 2.0, 4.0, 3.0, 1.0, 1.0, 7.0, 2.0, 1.0, 1.0, 1.0, 1.0, 2.0, 1.0, 4.293795585632324, 3.578165054321289, 1.4340647459030151, 1.4341094493865967, 2.1516637802124023, 1.434791088104248, 2.152686357498169, 1.436880350112915, 7.906678199768066, 1.4386954307556152, 1.4400523900985718, 2.888607978820801, 1.445043683052063, 2.8932576179504395, 2.1724982261657715, 2.8990116119384766, 2.8990116119384766, 2.1724982261657715, 2.8932576179504395, 1.445043683052063, 2.888607978820801, 1.4400523900985718, 1.4386954307556152, 7.906678199768066, 1.436880350112915, 2.152686357498169, 1.434791088104248, 2.1516637802124023, 1.4341094493865967, 1.4340647459030151, 3.578165054321289, 4.293795585632324], \"loglift\": [16.0, 15.0, 14.0, 13.0, 12.0, 11.0, 10.0, 9.0, 8.0, 7.0, 6.0, 5.0, 4.0, 3.0, 2.0, 1.0, 0.3109999895095825, 0.3109000027179718, 0.2029999941587448, 0.20110000669956207, 0.1875, 0.17299999296665192, 0.1589999943971634, 0.08160000294446945, 0.04919999837875366, -0.004900000058114529, -0.0746999979019165, -0.3303999900817871, -0.3822999894618988, -0.5030999779701233, -0.6513000130653381, -0.7675999999046326, 0.5231000185012817, 0.47859999537467957, 0.4101000130176544, 0.3418000042438507, 0.30809998512268066, 0.08829999715089798, 0.006300000008195639, -0.06689999997615814, -0.11550000309944153, -0.24969999492168427, -0.27730000019073486, -0.30709999799728394, -0.33649998903274536, -0.34049999713897705, -0.6305000185966492, -0.6305999755859375], \"logprob\": [16.0, 15.0, 14.0, 13.0, 12.0, 11.0, 10.0, 9.0, 8.0, 7.0, 6.0, 5.0, 4.0, 3.0, 2.0, 1.0, -1.9453999996185303, -2.1277999877929688, -3.150099992752075, -3.151900053024292, -2.7599000930786133, -3.1796000003814697, -2.787899971008301, -3.2695000171661377, -1.59660005569458, -3.3547000885009766, -3.4235999584198, -2.9832000732421875, -3.7276999950408936, -3.1542999744415283, -3.5889999866485596, -3.4168999195098877, -2.1261000633239746, -2.4591000080108643, -2.2411000728607178, -3.003700017929077, -2.3447000980377197, -3.2606000900268555, -3.343600034713745, -1.7128000259399414, -3.466599941253662, -3.196500062942505, -3.6298999786376953, -3.254499912261963, -3.689500093460083, -3.69350004196167, -3.069200038909912, -2.88700008392334]}, \"token.table\": {\"Topic\": [1, 2, 1, 2, 1, 1, 1, 2, 1, 2, 1, 2, 1, 2, 1, 2, 1, 2, 1, 2, 1, 2, 1, 1, 2, 1, 2, 1, 2], \"Freq\": [0.6323767900466919, 0.37942609190940857, 0.4602995812892914, 0.9205991625785828, 0.6972968578338623, 0.6969655752182007, 0.3456311523914337, 0.6912623047828674, 0.46475663781166077, 0.46475663781166077, 0.6950741410255432, 0.6950741410255432, 0.34494516253471375, 0.6898903250694275, 0.6944192051887512, 0.6944192051887512, 0.6959521770477295, 0.6959521770477295, 0.8384185433387756, 0.27947285771369934, 0.3461875021457672, 0.6923750042915344, 0.6973186135292053, 0.6920205950737, 0.6920205950737, 0.4645358622074127, 0.4645358622074127, 0.6986825466156006, 0.2328941822052002], \"Term\": [\"bank\", \"bank\", \"borrow\", \"borrow\", \"fall\", \"fast\", \"finance\", \"finance\", \"flow\", \"flow\", \"loan\", \"loan\", \"money\", \"money\", \"mud\", \"mud\", \"rain\", \"rain\", \"river\", \"river\", \"sell\", \"sell\", \"shore\", \"transaction\", \"transaction\", \"tree\", \"tree\", \"water\", \"water\"]}, \"R\": 16, \"lambda.step\": 0.01, \"plot.opts\": {\"xlab\": \"PC1\", \"ylab\": \"PC2\"}, \"topic.order\": [2, 1]};\n",
       "\n",
       "function LDAvis_load_lib(url, callback){\n",
       "  var s = document.createElement('script');\n",
       "  s.src = url;\n",
       "  s.async = true;\n",
       "  s.onreadystatechange = s.onload = callback;\n",
       "  s.onerror = function(){console.warn(\"failed to load library \" + url);};\n",
       "  document.getElementsByTagName(\"head\")[0].appendChild(s);\n",
       "}\n",
       "\n",
       "if(typeof(LDAvis) !== \"undefined\"){\n",
       "   // already loaded: just create the visualization\n",
       "   !function(LDAvis){\n",
       "       new LDAvis(\"#\" + \"ldavis_el109491121381139362029529212\", ldavis_el109491121381139362029529212_data);\n",
       "   }(LDAvis);\n",
       "}else if(typeof define === \"function\" && define.amd){\n",
       "   // require.js is available: use it to load d3/LDAvis\n",
       "   require.config({paths: {d3: \"https://cdnjs.cloudflare.com/ajax/libs/d3/3.5.5/d3.min\"}});\n",
       "   require([\"d3\"], function(d3){\n",
       "      window.d3 = d3;\n",
       "      LDAvis_load_lib(\"https://cdn.rawgit.com/bmabey/pyLDAvis/files/ldavis.v1.0.0.js\", function(){\n",
       "        new LDAvis(\"#\" + \"ldavis_el109491121381139362029529212\", ldavis_el109491121381139362029529212_data);\n",
       "      });\n",
       "    });\n",
       "}else{\n",
       "    // require.js not available: dynamically load d3 & LDAvis\n",
       "    LDAvis_load_lib(\"https://cdnjs.cloudflare.com/ajax/libs/d3/3.5.5/d3.min.js\", function(){\n",
       "         LDAvis_load_lib(\"https://cdn.rawgit.com/bmabey/pyLDAvis/files/ldavis.v1.0.0.js\", function(){\n",
       "                 new LDAvis(\"#\" + \"ldavis_el109491121381139362029529212\", ldavis_el109491121381139362029529212_data);\n",
       "            })\n",
       "         });\n",
       "}\n",
       "</script>"
      ],
      "text/plain": [
       "<IPython.core.display.HTML object>"
      ]
     },
     "execution_count": 13,
     "metadata": {},
     "output_type": "execute_result"
    }
   ],
   "source": [
    "import pyLDAvis\n",
    "import pyLDAvis.gensim\n",
    "#takes in a special gensim command with (1) fitted model, (2) corpus, and (3) dictionary\n",
    "vis = pyLDAvis.gensim.prepare(lda_model, corpus, dictionary)\n",
    "pyLDAvis.display(vis)"
   ]
  },
  {
   "cell_type": "markdown",
   "metadata": {},
   "source": [
    "***\n",
    "\n",
    "<font color=purple>\n",
    "\n",
    "### <center>3.  HANDS ON VANILLA LDA -- YOUR DATA GOES HERE </center>\n",
    "\n",
    "***"
   ]
  },
  {
   "cell_type": "code",
   "execution_count": 14,
   "metadata": {},
   "outputs": [],
   "source": [
    "import pickle\n",
    "df_texts = pickle.load(open(\"df_proceedings_monarch_and_date.p\",\"rb\"))"
   ]
  },
  {
   "cell_type": "code",
   "execution_count": 15,
   "metadata": {},
   "outputs": [
    {
     "data": {
      "text/html": [
       "<div>\n",
       "<style scoped>\n",
       "    .dataframe tbody tr th:only-of-type {\n",
       "        vertical-align: middle;\n",
       "    }\n",
       "\n",
       "    .dataframe tbody tr th {\n",
       "        vertical-align: top;\n",
       "    }\n",
       "\n",
       "    .dataframe thead th {\n",
       "        text-align: right;\n",
       "    }\n",
       "</style>\n",
       "<table border=\"1\" class=\"dataframe\">\n",
       "  <thead>\n",
       "    <tr style=\"text-align: right;\">\n",
       "      <th></th>\n",
       "      <th>date</th>\n",
       "      <th>monarch</th>\n",
       "      <th>text</th>\n",
       "    </tr>\n",
       "  </thead>\n",
       "  <tbody>\n",
       "    <tr>\n",
       "      <th>0</th>\n",
       "      <td>1660_11</td>\n",
       "      <td>charles2</td>\n",
       "      <td>On the sixth of November the Parliament met ac...</td>\n",
       "    </tr>\n",
       "    <tr>\n",
       "      <th>1</th>\n",
       "      <td>1660_4</td>\n",
       "      <td>charles2</td>\n",
       "      <td>CHARLES R.\", \"Trusty, and Wellbeloved, We gree...</td>\n",
       "    </tr>\n",
       "    <tr>\n",
       "      <th>2</th>\n",
       "      <td>1661_11</td>\n",
       "      <td>charles2</td>\n",
       "      <td>After a Recess of almost four Months the Parli...</td>\n",
       "    </tr>\n",
       "    <tr>\n",
       "      <th>3</th>\n",
       "      <td>1661_5</td>\n",
       "      <td>charles2</td>\n",
       "      <td>On the 8th of May the new Parliament met, and ...</td>\n",
       "    </tr>\n",
       "    <tr>\n",
       "      <th>4</th>\n",
       "      <td>1663_2</td>\n",
       "      <td>charles2</td>\n",
       "      <td>On February 18, 16623. the Parliament met afte...</td>\n",
       "    </tr>\n",
       "  </tbody>\n",
       "</table>\n",
       "</div>"
      ],
      "text/plain": [
       "      date   monarch                                               text\n",
       "0  1660_11  charles2  On the sixth of November the Parliament met ac...\n",
       "1   1660_4  charles2  CHARLES R.\", \"Trusty, and Wellbeloved, We gree...\n",
       "2  1661_11  charles2  After a Recess of almost four Months the Parli...\n",
       "3   1661_5  charles2  On the 8th of May the new Parliament met, and ...\n",
       "4   1663_2  charles2  On February 18, 16623. the Parliament met afte..."
      ]
     },
     "execution_count": 15,
     "metadata": {},
     "output_type": "execute_result"
    }
   ],
   "source": [
    "import pandas as pd\n",
    "df_texts.head()"
   ]
  },
  {
   "cell_type": "code",
   "execution_count": 16,
   "metadata": {},
   "outputs": [],
   "source": [
    "# IF YOU HAVEN'T CREATED EXCEL TO SEND OVER TO R YET..\n",
    "#write to excel in order to retain complexity of text\n",
    "writer = pd.ExcelWriter('df_proceedings_monarch_and_date.xlsx')\n",
    "df_texts.to_excel(writer,'Sheet1')"
   ]
  },
  {
   "cell_type": "markdown",
   "metadata": {},
   "source": [
    "***\n",
    "\n",
    "<font color=purple>\n",
    "\n",
    "### <center>Interlude here for those who wish to do STM </center>\n",
    "\n",
    "***"
   ]
  },
  {
   "cell_type": "markdown",
   "metadata": {},
   "source": [
    "<font color=darkred>\n",
    "    \n",
    "#### A little data cleaning"
   ]
  },
  {
   "cell_type": "code",
   "execution_count": 17,
   "metadata": {},
   "outputs": [],
   "source": [
    "punctuation=['(', ')', '?', ':', ';', ',', '.', '!', '/', '\"', \"'\",\"''\",'``',\"£\",\n",
    "             '!', '#', '$', '%', '&', '(', ')', '*', '+', '-', '/', ':','|', '}',\n",
    "             ';', '<', '=', '>', '?', '@', '[', '\\\\', ']', '^', '_', '`', '{','~']\n",
    "\n",
    "english_stops = [\n",
    " 'i',\n",
    " 'me',\n",
    " 'my',\n",
    " 'myself',\n",
    " 'we',\n",
    " 'our',\n",
    " 'ours',\n",
    " 'ourselves',\n",
    " 'you',\n",
    " 'your',\n",
    " 'yours',\n",
    " 'yourself',\n",
    " 'yourselves',\n",
    " 'he',\n",
    " 'him',\n",
    " 'his',\n",
    " 'himself',\n",
    " 'she',\n",
    " 'her',\n",
    " 'hers',\n",
    " 'herself',\n",
    " 'it',\n",
    " 'its',\n",
    " 'itself',\n",
    " 'they',\n",
    " 'them',\n",
    " 'their',\n",
    " 'theirs',\n",
    " 'themselves',\n",
    " 'what',\n",
    " 'which',\n",
    " 'who',\n",
    " 'whom',\n",
    " 'this',\n",
    " 'that',\n",
    " 'these',\n",
    " 'those',\n",
    " 'am',\n",
    " 'is',\n",
    " 'are',\n",
    " 'was',\n",
    " 'were',\n",
    " 'be',\n",
    " 'been',\n",
    " 'being',\n",
    " 'have',\n",
    " 'has',\n",
    " 'had',\n",
    " 'having',\n",
    " 'do',\n",
    " 'does',\n",
    " 'did',\n",
    " 'doing',\n",
    " 'a',\n",
    " 'an',\n",
    " 'the',\n",
    " 'and',\n",
    " 'but',\n",
    " 'if',\n",
    " 'or',\n",
    " 'because',\n",
    " 'as',\n",
    " 'until',\n",
    " 'while',\n",
    " 'of',\n",
    " 'at',\n",
    " 'by',\n",
    " 'for',\n",
    " 'with',\n",
    " 'about',\n",
    " 'against',\n",
    " 'between',\n",
    " 'into',\n",
    " 'through',\n",
    " 'during',\n",
    " 'before',\n",
    " 'after',\n",
    " 'above',\n",
    " 'below',\n",
    " 'to',\n",
    " 'from',\n",
    " 'up',\n",
    " 'down',\n",
    " 'in',\n",
    " 'out',\n",
    " 'on',\n",
    " 'off',\n",
    " 'over',\n",
    " 'under',\n",
    " 'again',\n",
    " 'further',\n",
    " 'then',\n",
    " 'once',\n",
    " 'here',\n",
    " 'there',\n",
    " 'when',\n",
    " 'where',\n",
    " 'why',\n",
    " 'how',\n",
    " 'all',\n",
    " 'any',\n",
    " 'both',\n",
    " 'each',\n",
    " 'few',\n",
    " 'more',\n",
    " 'most',\n",
    " 'other',\n",
    " 'some',\n",
    " 'such',\n",
    " 'no',\n",
    " 'nor',\n",
    " 'not',\n",
    " 'only',\n",
    " 'own',\n",
    " 'same',\n",
    " 'so',\n",
    " 'than',\n",
    " 'too',\n",
    " 'very',\n",
    " 's',\n",
    " 't',\n",
    " 'can',\n",
    " 'will',\n",
    " 'just',\n",
    " 'don',\n",
    " 'should',\n",
    " 'now',\n",
    " 'd',\n",
    " 'll',\n",
    " 'm',\n",
    " 'o',\n",
    " 're',\n",
    " 've',\n",
    " 'y',\n",
    " 'ain',\n",
    " 'aren',\n",
    " 'couldn',\n",
    " 'didn',\n",
    " 'doesn',\n",
    " 'hadn',\n",
    " 'hasn',\n",
    " 'haven',\n",
    " 'isn',\n",
    " 'ma',\n",
    " 'mightn',\n",
    " 'mustn',\n",
    " 'needn',\n",
    " 'shan',\n",
    " 'shouldn',\n",
    " 'wasn',\n",
    " 'weren',\n",
    " 'won',\n",
    " 'wouldn',\n",
    " 'may',\n",
    " 'upon',\n",
    " 'made',\n",
    " 'must',\n",
    " 'said',\n",
    " 'therefore',\n",
    " 'shall',\n",
    " ]"
   ]
  },
  {
   "cell_type": "code",
   "execution_count": 18,
   "metadata": {},
   "outputs": [],
   "source": [
    "from nltk.tokenize import word_tokenize\n",
    "list_tokens = df_texts.text.apply(word_tokenize)\n",
    "\n",
    "proceedings_clean = []\n",
    "\n",
    "for proceeding in list_tokens:\n",
    "    \n",
    "    #lowercase\n",
    "    tokens = [w.lower() for w in proceeding]\n",
    "    \n",
    "    #stop words\n",
    "    tokens = [w for w in proceeding if not w in english_stops]\n",
    "    \n",
    "    #remove punctuation\n",
    "    tokens = [w for w in tokens if not w in punctuation]\n",
    "    \n",
    "    #remove digits\n",
    "    tokens = [w for w in tokens if not w.isdigit()]\n",
    "    \n",
    "    #remove < 3\n",
    "    tokens = [w for w in tokens if len(w) > 3]\n",
    "    \n",
    "    proceedings_clean.append(tokens)"
   ]
  },
  {
   "cell_type": "code",
   "execution_count": 19,
   "metadata": {},
   "outputs": [
    {
     "data": {
      "text/plain": [
       "['confident',\n",
       " 'That',\n",
       " 'believe',\n",
       " 'find',\n",
       " 'Preservation',\n",
       " 'King',\n",
       " 'Authority',\n",
       " 'necessary',\n",
       " 'Preservation',\n",
       " 'Parliaments',\n",
       " 'Name',\n",
       " 'right',\n",
       " 'Constitution',\n",
       " 'prepare',\n",
       " 'apply',\n",
       " 'proper',\n",
       " 'Remedies',\n",
       " 'Evils',\n",
       " 'grievous',\n",
       " 'People',\n",
       " 'thereby',\n",
       " 'establish',\n",
       " 'Peace',\n",
       " 'Security',\n",
       " 'least']"
      ]
     },
     "execution_count": 19,
     "metadata": {},
     "output_type": "execute_result"
    }
   ],
   "source": [
    "# data check\n",
    "proceedings_clean[1][100:125]"
   ]
  },
  {
   "cell_type": "code",
   "execution_count": null,
   "metadata": {},
   "outputs": [],
   "source": []
  },
  {
   "cell_type": "code",
   "execution_count": 20,
   "metadata": {},
   "outputs": [],
   "source": [
    "# create gensim dictionary\n",
    "proceedings_dict = Dictionary(proceedings_clean)"
   ]
  },
  {
   "cell_type": "code",
   "execution_count": 21,
   "metadata": {},
   "outputs": [
    {
     "data": {
      "text/plain": [
       "24783"
      ]
     },
     "execution_count": 21,
     "metadata": {},
     "output_type": "execute_result"
    }
   ],
   "source": [
    "# 24783 unique tokens\n",
    "len(proceedings_dict)"
   ]
  },
  {
   "cell_type": "code",
   "execution_count": 22,
   "metadata": {},
   "outputs": [],
   "source": [
    "# the dictionary object has methods to shrink it\n",
    "\n",
    "proceedings_dict.filter_extremes(no_below=5,no_above=0.99)"
   ]
  },
  {
   "cell_type": "markdown",
   "metadata": {},
   "source": [
    "https://radimrehurek.com/gensim/corpora/dictionary.html\n",
    "\n",
    "filter_extremes(no_below=5, no_above=0.5, keep_n=100000, keep_tokens=None)\n",
    "\n",
    "Filter tokens in dictionary by frequency.\n",
    "\n",
    "Parameters:\t\n",
    "- no_below (int, optional) – Keep tokens which are contained in at least no_below documents.\n",
    "- no_above (float, optional) – Keep tokens which are contained in no more than no_above documents (fraction of total corpus size, not an absolute number).\n",
    "- keep_n (int, optional) – Keep only the first keep_n most frequent tokens.\n",
    "- keep_tokens (iterable of str) – Iterable of tokens that must stay in dictionary after filtering."
   ]
  },
  {
   "cell_type": "code",
   "execution_count": 23,
   "metadata": {},
   "outputs": [
    {
     "data": {
      "text/plain": [
       "7721"
      ]
     },
     "execution_count": 23,
     "metadata": {},
     "output_type": "execute_result"
    }
   ],
   "source": [
    "# check again for length of dictionary\n",
    "len(proceedings_dict)"
   ]
  },
  {
   "cell_type": "code",
   "execution_count": 24,
   "metadata": {},
   "outputs": [],
   "source": [
    "# now for the gensim corpus object\n",
    "# apply dictionary to each text \n",
    "proceedings_corp = [proceedings_dict.doc2bow(proceeding) for proceeding in proceedings_clean]"
   ]
  },
  {
   "cell_type": "markdown",
   "metadata": {},
   "source": [
    "https://radimrehurek.com/gensim/models/ldamodel.html\n",
    "\n",
    "`class gensim.models.ldamodel.LdaModel(corpus=None, num_topics=100, id2word=None, distributed=False, chunksize=2000, passes=1, update_every=1, alpha='symmetric', eta=None, decay=0.5, offset=1.0, eval_every=10, iterations=50, gamma_threshold=0.001, minimum_probability=0.01, random_state=None, ns_conf=None, minimum_phi_value=0.01, per_word_topics=False, callbacks=None, dtype=<type 'numpy.float32'>)`\n",
    "\n",
    "use `%%time` in a cell to calculate how long it takes to compute a given model."
   ]
  },
  {
   "cell_type": "code",
   "execution_count": 25,
   "metadata": {},
   "outputs": [],
   "source": [
    "from gensim.models.ldamodel import LdaModel\n",
    "\n",
    "proceedings_lda = LdaModel(\n",
    "    corpus=proceedings_corp, \n",
    "    id2word=proceedings_dict,\n",
    "    num_topics=5,               # how many topics\n",
    "    #chunkzie = 1500,            # how many documents to grab at once\n",
    "    offset=50,                  # learning offset which tells the model to `burn-in` on the MCMC before starting to save\n",
    "    minimum_probability = .01,  # filtering the topics returned\n",
    "    passes=20,                  # the number of 'laps' through the corpus. More passes means better model, but at the expense of computation\n",
    "    random_state = 1,           # generate from the same random variable so you can reproduce your results\n",
    "    #iterations = 50            # for super complex ones, this sets a maximum number of itterations (rather than a convergence to stop)\n",
    ")"
   ]
  },
  {
   "cell_type": "code",
   "execution_count": 26,
   "metadata": {
    "scrolled": false
   },
   "outputs": [
    {
     "name": "stderr",
     "output_type": "stream",
     "text": [
      "/Users/zwehrwein/anaconda3/lib/python3.6/site-packages/pyLDAvis/_prepare.py:387: DeprecationWarning: \n",
      ".ix is deprecated. Please use\n",
      ".loc for label based indexing or\n",
      ".iloc for positional indexing\n",
      "\n",
      "See the documentation here:\n",
      "http://pandas.pydata.org/pandas-docs/stable/indexing.html#ix-indexer-is-deprecated\n",
      "  topic_term_dists = topic_term_dists.ix[topic_order]\n"
     ]
    },
    {
     "data": {
      "text/html": [
       "\n",
       "<link rel=\"stylesheet\" type=\"text/css\" href=\"https://cdn.rawgit.com/bmabey/pyLDAvis/files/ldavis.v1.0.0.css\">\n",
       "\n",
       "\n",
       "<div id=\"ldavis_el109491121381141762761793057\"></div>\n",
       "<script type=\"text/javascript\">\n",
       "\n",
       "var ldavis_el109491121381141762761793057_data = {\"mdsDat\": {\"Freq\": [44.03120040893555, 31.634387969970703, 24.327621459960938, 0.0033971627708524466, 0.0033965669572353363], \"cluster\": [1, 1, 1, 1, 1], \"topics\": [1, 2, 3, 4, 5], \"x\": [-0.032772833061490286, -0.04377362744145307, -0.056309688193670084, 0.06427634686470003, 0.06857980183191352], \"y\": [0.08290114434038592, -0.05484029731742048, -0.01761301275667165, -0.009544370258642312, -0.00090346400765142]}, \"tinfo\": {\"Category\": [\"Default\", \"Default\", \"Default\", \"Default\", \"Default\", \"Default\", \"Default\", \"Default\", \"Default\", \"Default\", \"Default\", \"Default\", \"Default\", \"Default\", \"Default\", \"Default\", \"Default\", \"Default\", \"Default\", \"Default\", \"Default\", \"Default\", \"Default\", \"Default\", \"Default\", \"Default\", \"Default\", \"Default\", \"Default\", \"Default\", \"Topic1\", \"Topic1\", \"Topic1\", \"Topic1\", \"Topic1\", \"Topic1\", \"Topic1\", \"Topic1\", \"Topic1\", \"Topic1\", \"Topic1\", \"Topic1\", \"Topic1\", \"Topic1\", \"Topic1\", \"Topic1\", \"Topic1\", \"Topic1\", \"Topic1\", \"Topic1\", \"Topic1\", \"Topic1\", \"Topic1\", \"Topic1\", \"Topic1\", \"Topic1\", \"Topic1\", \"Topic1\", \"Topic1\", \"Topic1\", \"Topic1\", \"Topic1\", \"Topic1\", \"Topic1\", \"Topic1\", \"Topic1\", \"Topic1\", \"Topic1\", \"Topic1\", \"Topic1\", \"Topic1\", \"Topic1\", \"Topic1\", \"Topic1\", \"Topic1\", \"Topic1\", \"Topic1\", \"Topic1\", \"Topic1\", \"Topic1\", \"Topic1\", \"Topic1\", \"Topic1\", \"Topic1\", \"Topic1\", \"Topic1\", \"Topic1\", \"Topic1\", \"Topic1\", \"Topic1\", \"Topic1\", \"Topic1\", \"Topic1\", \"Topic1\", \"Topic1\", \"Topic1\", \"Topic1\", \"Topic1\", \"Topic1\", \"Topic1\", \"Topic1\", \"Topic1\", \"Topic1\", \"Topic1\", \"Topic1\", \"Topic1\", \"Topic1\", \"Topic1\", \"Topic1\", \"Topic1\", \"Topic1\", \"Topic1\", \"Topic1\", \"Topic1\", \"Topic1\", \"Topic1\", \"Topic1\", \"Topic1\", \"Topic1\", \"Topic1\", \"Topic1\", \"Topic1\", \"Topic2\", \"Topic2\", \"Topic2\", \"Topic2\", \"Topic2\", \"Topic2\", \"Topic2\", \"Topic2\", \"Topic2\", \"Topic2\", \"Topic2\", \"Topic2\", \"Topic2\", \"Topic2\", \"Topic2\", \"Topic2\", \"Topic2\", \"Topic2\", \"Topic2\", \"Topic2\", \"Topic2\", \"Topic2\", \"Topic2\", \"Topic2\", \"Topic2\", \"Topic2\", \"Topic2\", \"Topic2\", \"Topic2\", \"Topic2\", \"Topic2\", \"Topic2\", \"Topic2\", \"Topic2\", \"Topic2\", \"Topic2\", \"Topic2\", \"Topic2\", \"Topic2\", \"Topic2\", \"Topic2\", \"Topic2\", \"Topic2\", \"Topic2\", \"Topic2\", \"Topic2\", \"Topic2\", \"Topic2\", \"Topic2\", \"Topic2\", \"Topic2\", \"Topic2\", \"Topic2\", \"Topic2\", \"Topic2\", \"Topic2\", \"Topic2\", \"Topic2\", \"Topic2\", \"Topic2\", \"Topic2\", \"Topic2\", \"Topic2\", \"Topic2\", \"Topic2\", \"Topic2\", \"Topic2\", \"Topic2\", \"Topic2\", \"Topic2\", \"Topic2\", \"Topic2\", \"Topic2\", \"Topic2\", \"Topic2\", \"Topic2\", \"Topic2\", \"Topic2\", \"Topic2\", \"Topic2\", \"Topic2\", \"Topic2\", \"Topic2\", \"Topic2\", \"Topic2\", \"Topic2\", \"Topic2\", \"Topic2\", \"Topic2\", \"Topic3\", \"Topic3\", \"Topic3\", \"Topic3\", \"Topic3\", \"Topic3\", \"Topic3\", \"Topic3\", \"Topic3\", \"Topic3\", \"Topic3\", \"Topic3\", \"Topic3\", \"Topic3\", \"Topic3\", \"Topic3\", \"Topic3\", \"Topic3\", \"Topic3\", \"Topic3\", \"Topic3\", \"Topic3\", \"Topic3\", \"Topic3\", \"Topic3\", \"Topic3\", \"Topic3\", \"Topic3\", \"Topic3\", \"Topic3\", \"Topic3\", \"Topic3\", \"Topic3\", \"Topic3\", \"Topic3\", \"Topic3\", \"Topic3\", \"Topic3\", \"Topic3\", \"Topic3\", \"Topic3\", \"Topic3\", \"Topic3\", \"Topic3\", \"Topic3\", \"Topic3\", \"Topic3\", \"Topic3\", \"Topic3\", \"Topic3\", \"Topic3\", \"Topic3\", \"Topic3\", \"Topic3\", \"Topic3\", \"Topic3\", \"Topic3\", \"Topic3\", \"Topic3\", \"Topic3\", \"Topic3\", \"Topic3\", \"Topic3\", \"Topic3\", \"Topic3\", \"Topic3\", \"Topic3\", \"Topic3\", \"Topic3\", \"Topic3\", \"Topic3\", \"Topic3\", \"Topic3\", \"Topic3\", \"Topic3\", \"Topic3\", \"Topic3\", \"Topic3\", \"Topic3\", \"Topic3\", \"Topic3\", \"Topic3\", \"Topic3\", \"Topic3\", \"Topic3\", \"Topic3\", \"Topic3\", \"Topic3\", \"Topic3\", \"Topic3\", \"Topic3\", \"Topic3\", \"Topic3\", \"Topic3\", \"Topic3\", \"Topic4\", \"Topic4\", \"Topic4\", \"Topic4\", \"Topic4\", \"Topic4\", \"Topic4\", \"Topic4\", \"Topic4\", \"Topic4\", \"Topic4\", \"Topic4\", \"Topic4\", \"Topic4\", \"Topic4\", \"Topic4\", \"Topic4\", \"Topic4\", \"Topic4\", \"Topic4\", \"Topic4\", \"Topic4\", \"Topic4\", \"Topic4\", \"Topic4\", \"Topic4\", \"Topic4\", \"Topic4\", \"Topic4\", \"Topic4\", \"Topic4\", \"Topic4\", \"Topic4\", \"Topic4\", \"Topic4\", \"Topic4\", \"Topic4\", \"Topic4\", \"Topic4\", \"Topic4\", \"Topic4\", \"Topic4\", \"Topic4\", \"Topic4\", \"Topic4\", \"Topic4\", \"Topic4\", \"Topic4\", \"Topic4\", \"Topic4\", \"Topic4\", \"Topic4\", \"Topic4\", \"Topic4\", \"Topic4\", \"Topic4\", \"Topic4\", \"Topic4\", \"Topic4\", \"Topic4\", \"Topic4\", \"Topic4\", \"Topic4\", \"Topic4\", \"Topic4\", \"Topic4\", \"Topic4\", \"Topic4\", \"Topic4\", \"Topic4\", \"Topic5\", \"Topic5\", \"Topic5\", \"Topic5\", \"Topic5\", \"Topic5\", \"Topic5\", \"Topic5\", \"Topic5\", \"Topic5\", \"Topic5\", \"Topic5\", \"Topic5\", \"Topic5\", \"Topic5\", \"Topic5\", \"Topic5\", \"Topic5\", \"Topic5\", \"Topic5\", \"Topic5\", \"Topic5\", \"Topic5\", \"Topic5\", \"Topic5\", \"Topic5\", \"Topic5\", \"Topic5\", \"Topic5\", \"Topic5\", \"Topic5\", \"Topic5\", \"Topic5\", \"Topic5\", \"Topic5\", \"Topic5\", \"Topic5\", \"Topic5\", \"Topic5\", \"Topic5\", \"Topic5\", \"Topic5\", \"Topic5\", \"Topic5\", \"Topic5\", \"Topic5\", \"Topic5\", \"Topic5\", \"Topic5\", \"Topic5\", \"Topic5\", \"Topic5\", \"Topic5\", \"Topic5\", \"Topic5\", \"Topic5\", \"Topic5\", \"Topic5\", \"Topic5\", \"Topic5\", \"Topic5\", \"Topic5\", \"Topic5\", \"Topic5\", \"Topic5\", \"Topic5\", \"Topic5\"], \"Freq\": [8807.0, 5226.0, 4827.0, 3468.0, 2784.0, 2562.0, 2842.0, 2567.0, 3434.0, 2494.0, 2539.0, 2195.0, 1759.0, 2515.0, 2194.0, 2042.0, 1935.0, 2008.0, 1953.0, 1649.0, 1861.0, 2129.0, 2081.0, 1727.0, 2154.0, 1872.0, 1702.0, 1832.0, 1400.0, 1868.0, 114.71390533447266, 82.95701599121094, 90.4852523803711, 47.015079498291016, 32.75555419921875, 34.69259262084961, 45.95328903198242, 30.853260040283203, 38.33614730834961, 41.099578857421875, 43.96564483642578, 34.52927017211914, 55.226158142089844, 34.50101852416992, 25.123537063598633, 26.053823471069336, 27.935344696044922, 37.178016662597656, 25.96909523010254, 22.243135452270508, 27.78265953063965, 65.1374740600586, 226.94851684570312, 93.00810241699219, 20.371015548706055, 38.043800354003906, 65.01541137695312, 35.144290924072266, 22.16128921508789, 18.418554306030273, 134.6272430419922, 184.41502380371094, 1637.2890625, 72.78585815429688, 253.64971923828125, 158.8429718017578, 58.89705276489258, 113.61689758300781, 47.12653732299805, 490.484130859375, 54.26161193847656, 659.6947021484375, 88.5693588256836, 150.50283813476562, 397.2300109863281, 523.4683837890625, 578.7484130859375, 734.4107055664062, 240.37893676757812, 148.74061584472656, 417.6606750488281, 422.7055358886719, 210.84207153320312, 1678.1561279296875, 305.51953125, 276.2868957519531, 800.5139770507812, 1089.3834228515625, 1466.7271728515625, 223.3201446533203, 1813.639892578125, 1021.3031616210938, 733.7792358398438, 779.1420288085938, 1390.4117431640625, 1911.539306640625, 966.9067993164062, 360.7952880859375, 1684.8114013671875, 1683.52197265625, 1649.3675537109375, 1647.862060546875, 3038.624755859375, 1256.046875, 875.9347534179688, 903.111572265625, 553.03564453125, 1035.6722412109375, 1057.0797119140625, 975.0999755859375, 1231.8521728515625, 898.278076171875, 872.55615234375, 865.6290283203125, 2548.302978515625, 1117.429931640625, 1004.3568725585938, 974.8768310546875, 1001.9237060546875, 1101.5057373046875, 907.8630981445312, 882.5300903320312, 70.62712097167969, 39.749691009521484, 32.89174270629883, 49.20854568481445, 66.43246459960938, 79.14374542236328, 31.739017486572266, 33.617733001708984, 32.64853286743164, 38.4276123046875, 33.64582443237305, 25.87740707397461, 30.665781021118164, 22.943788528442383, 26.816970825195312, 28.706905364990234, 51.69498062133789, 28.68358039855957, 34.370216369628906, 890.917236328125, 29.544994354248047, 69.70530700683594, 17.11469841003418, 23.843841552734375, 19.925596237182617, 19.919591903686523, 15.10574722290039, 19.885313034057617, 17.964872360229492, 30.32840347290039, 171.8330078125, 99.39132690429688, 424.900146484375, 254.92405700683594, 65.19711303710938, 31.157747268676758, 306.47821044921875, 171.8593292236328, 105.9223403930664, 82.90418243408203, 82.69805908203125, 2262.181884765625, 353.45489501953125, 253.86581420898438, 201.72653198242188, 142.791748046875, 103.27530670166016, 268.9533386230469, 189.570068359375, 86.51485443115234, 952.0584106445312, 614.7328491210938, 108.27835845947266, 248.9609832763672, 2248.38720703125, 932.57177734375, 338.103759765625, 465.2207946777344, 503.3602294921875, 431.8453369140625, 257.95849609375, 807.971435546875, 475.3631896972656, 740.8148803710938, 2124.481689453125, 3373.89013671875, 683.5264282226562, 584.20654296875, 1397.7322998046875, 665.988525390625, 615.5269775390625, 366.55206298828125, 853.4564819335938, 448.4594421386719, 545.9711303710938, 659.8365478515625, 1285.53369140625, 645.1161499023438, 660.9091186523438, 690.29931640625, 641.8590087890625, 592.3580932617188, 647.4212036132812, 727.1478881835938, 683.4500732421875, 631.5200805664062, 648.1027221679688, 622.682373046875, 595.426513671875, 168.8095703125, 36.85469436645508, 25.72187614440918, 33.67238998413086, 76.49178314208984, 39.45225524902344, 56.3106575012207, 30.458955764770508, 26.376371383666992, 33.332881927490234, 31.30146598815918, 16.53873062133789, 17.472423553466797, 55.65095520019531, 12.501887321472168, 33.914039611816406, 15.347708702087402, 16.323097229003906, 23.08736228942871, 33.7012825012207, 99.3918685913086, 24.91904067993164, 11.42480754852295, 11.38923168182373, 22.922889709472656, 38.17935562133789, 58.44180679321289, 71.7887191772461, 13.29537296295166, 10.391508102416992, 23.661983489990234, 97.62709045410156, 22.722074508666992, 23.667675018310547, 26.97304916381836, 191.9635467529297, 82.32652282714844, 110.32980346679688, 120.6616439819336, 312.986083984375, 149.14053344726562, 32.9046516418457, 43.9539794921875, 79.38252258300781, 138.88502502441406, 235.81182861328125, 105.88468933105469, 305.0845031738281, 120.94125366210938, 438.3460998535156, 298.60687255859375, 120.94479370117188, 1971.2449951171875, 255.0953369140625, 951.5062255859375, 579.799560546875, 492.5835876464844, 272.7778015136719, 2884.984375, 921.7301635742188, 350.2422180175781, 263.60198974609375, 341.5187072753906, 577.3533325195312, 353.7200012207031, 319.18585205078125, 398.826416015625, 736.768798828125, 363.9374694824219, 755.2199096679688, 228.09194946289062, 431.47283935546875, 463.1407165527344, 996.5075073242188, 245.96377563476562, 934.7118530273438, 421.8764953613281, 506.1739196777344, 372.1722717285156, 488.0771179199219, 460.6386413574219, 901.9616088867188, 378.11297607421875, 539.2482299804688, 559.5595092773438, 473.1289367675781, 455.1230163574219, 427.34765625, 431.6152038574219, 402.3255920410156, 406.45526123046875, 457.8905029296875, 390.9867858886719, 436.9064025878906, 420.827392578125, 0.002118838718160987, 0.0020191215444356203, 0.001968237105756998, 0.0020131380297243595, 0.002005652990192175, 0.0019930812995880842, 0.001976191531866789, 0.0019680981058627367, 0.0020113056525588036, 0.0019830355886369944, 0.0019643993582576513, 0.001972589874640107, 0.0019703612197190523, 0.001974463928490877, 0.001944146235473454, 0.0019225315190851688, 0.001975593389943242, 0.0019479119218885899, 0.0019639641977846622, 0.0019732508808374405, 0.0019356496632099152, 0.001973105827346444, 0.00196510530076921, 0.001982195768505335, 0.0019375409465283155, 0.001909986138343811, 0.002004647860303521, 0.0019289216725155711, 0.0019526464166119695, 0.0019206362776458263, 0.0020008613355457783, 0.0019676480442285538, 0.0019851874094456434, 0.001984421629458666, 0.0019760141149163246, 0.08333124965429306, 0.10852371156215668, 0.05257681757211685, 0.03679671511054039, 0.04045628011226654, 0.035115864127874374, 0.04078236594796181, 0.05228675529360771, 0.03368247300386429, 0.030991293489933014, 0.04099001735448837, 0.028448091819882393, 0.023761900141835213, 0.032142046838998795, 0.021591195836663246, 0.027866896241903305, 0.02895052172243595, 0.02872973121702671, 0.032162003219127655, 0.019443178549408913, 0.029777485877275467, 0.02750910259783268, 0.029419559985399246, 0.02386629953980446, 0.021612664684653282, 0.01869821548461914, 0.023792654275894165, 0.026500903069972992, 0.020954648032784462, 0.027941850945353508, 0.023511381819844246, 0.023791363462805748, 0.02303888276219368, 0.022318895906209946, 0.02216946706175804, 0.0020724704954773188, 0.0020043456461280584, 0.0020126604940742254, 0.0020389968995004892, 0.001998591935262084, 0.00204415712505579, 0.0020221194718033075, 0.002014873316511512, 0.002062333282083273, 0.002041806001216173, 0.002050020731985569, 0.002007481874898076, 0.0019897897727787495, 0.0020272783003747463, 0.0019924442749470472, 0.0020347358658909798, 0.0019895676523447037, 0.0020186826586723328, 0.0020150113850831985, 0.0019822195172309875, 0.002030070871114731, 0.002002767287194729, 0.0019748732447624207, 0.001985583920031786, 0.001953057013452053, 0.001960266148671508, 0.002024817280471325, 0.0019497787579894066, 0.001978845102712512, 0.0019769289065152407, 0.001979890977963805, 0.0020154777448624372, 0.0019857902079820633, 0.07338441163301468, 0.09081356972455978, 0.05896209925413132, 0.039824433624744415, 0.02521681971848011, 0.039322491735219955, 0.0317782387137413, 0.0355522520840168, 0.030299101024866104, 0.035728923976421356, 0.035024311393499374, 0.03080131486058235, 0.02963537909090519, 0.02879921905696392, 0.0336163267493248, 0.03200197592377663, 0.036704689264297485, 0.02339896932244301, 0.0239972323179245, 0.02839256450533867, 0.024201085790991783, 0.023793889209628105, 0.022990643978118896, 0.027935288846492767, 0.025102613493800163, 0.020804138854146004, 0.022597480565309525, 0.02343062311410904, 0.024496721103787422, 0.01813136599957943, 0.028889808803796768, 0.02342861518263817, 0.02731855772435665, 0.023613926023244858], \"Term\": [\"House\", \"would\", \"That\", \"Commons\", \"People\", \"Time\", \"Lords\", \"think\", \"Bill\", \"Nation\", \"much\", \"every\", \"Gentleman\", \"present\", \"without\", \"might\", \"Gentlemen\", \"Year\", \"ought\", \"never\", \"Interest\", \"Committee\", \"'That\", \"necessary\", \"could\", \"several\", \"Power\", \"many\", \"always\", \"last\", \"SinkingFund\", \"Spirituous\", \"Landed\", \"surprised\", \"American\", \"hears\", \"Smuggling\", \"plundered\", \"Plumer\", \"Trader\", \"Retail\", \"Smugglers\", \"SugarColonies\", \"18,000\", \"overturned\", \"loading\", \"Luxury\", \"abolishing\", \"Shape\", \"Labourers\", \"Mobs\", \"ridiculous\", \"Sort\", \"Sake\", \"Kinds\", \"800,000\", \"Seville\", \"Surely\", \"Decrease\", \"selfish\", \"Consumption\", \"Liquors\", \"Gentleman\", \"Barnard\", \"Spaniards\", \"Standing\", \"Market\", \"Triennial\", \"cheap\", \"certainly\", \"Sorts\", \"proposed\", \"independent\", \"surely\", \"perhaps\", \"'Sir\", \"Thing\", \"honourable\", \"convinced\", \"numerous\", \"suppose\", \"Taxes\", \"Reduction\", \"every\", \"Scheme\", \"Price\", \"believe\", \"always\", \"ought\", \"really\", \"Nation\", \"Country\", \"even\", \"least\", \"Gentlemen\", \"People\", \"Reason\", \"respect\", \"Time\", \"think\", \"present\", \"much\", \"would\", \"Interest\", \"know\", \"Army\", \"spoke\", \"never\", \"Power\", \"Part\", \"could\", \"ever\", \"Motion\", \"Trade\", \"House\", \"without\", \"many\", \"necessary\", \"Year\", \"Bill\", \"might\", \"take\", \"Danby\", \"Hallifax\", \"Portland\", \"Seymour\", \"Somers\", \"CommonLaw\", \"Trevor\", \"reports\", \"PollBill\", \"necessity\", \"HighSteward\", \"cited\", \"Oates\", \"Howard\", \"Burton\", \"indicted\", \"ChiefJustice\", \"reversed\", \"Bail\", \"Lordships\", \"LordChancellor\", \"King'sBench\", \"Commitments\", \"Russel\", \"Conventicles\", \"Reversal\", \"Conventicle\", \"legislative\", \"Powle\", \"Newgate\", \"Writ\", \"HighTreason\", \"Conference\", \"Resolved\", \"shou\", \"Monmouth\", \"Action\", \"doth\", \"Yeas\", \"Habeas\", \"Corpus\", \"Lords\", \"Popish\", \"Trial\", \"Plot\", \"Error\", \"Judicature\", \"Popery\", \"things\", \"impeached\", \"hath\", \"Religion\", \"Noes\", \"Papists\", \"Commons\", \"time\", \"Judgment\", \"thing\", \"Houses\", \"Protestant\", \"Judges\", \"Lord\", \"Duke\", \"England\", \"That\", \"House\", \"Persons\", \"Person\", \"Bill\", \"'The\", \"Right\", \"Proceedings\", \"'That\", \"Speaker\", \"Laws\", \"given\", \"would\", \"Kingdom\", \"Government\", \"take\", \"good\", \"Case\", \"last\", \"think\", \"without\", \"several\", \"Committee\", \"much\", \"might\", \"Accompts\", \"Bolingbroke\", \"Broderick\", \"Hutcheson\", \"Hungerford\", \"Accompt\", \"Craggs\", \"Hanmer\", \"Molesworth\", \"Forage\", \"Aislabie\", \"Pengelly\", \"Imprests\", \"Cloathing\", \"Lutwyche\", \"Steele\", \"Harwich\", \"Extraordinaries\", \"Callicoes\", \"Farrer\", \"Voices\", \"MajorGeneral\", \"Compton\", \"Demolition\", \"traiterous\", \"Methuen\", \"Lechmere\", \"Directors\", \"Lockhart\", \"GEORGE\", \"Lorrain\", \"Stanhope\", \"Sloper\", \"Lowndes\", \"Strafford\", \"GreatBritain\", \"Sweden\", \"Shippen\", \"grand\", \"Walpole\", \"Portugal\", \"Debentures\", \"Merchandizes\", \"Hanover\", \"imported\", \"resolv\", \"Hereupon\", \"reported\", \"Regiments\", \"Commissioners\", \"thousand\", \"pursuant\", \"That\", \"Scotland\", \"'That\", \"read\", \"presented\", \"Allies\", \"House\", \"Committee\", \"Great\", \"hundred\", \"Britain\", \"Address\", \"Queen\", \"Company\", \"Account\", \"several\", \"Duties\", \"Year\", \"General\", \"granted\", \"Service\", \"Commons\", \"After\", \"Bill\", \"laid\", \"whole\", \"also\", \"Peace\", \"order\", \"would\", \"agreed\", \"might\", \"Time\", \"Money\", \"first\", \"Lord\", \"given\", \"late\", \"Motion\", \"Lords\", \"Subjects\", \"present\", \"could\", \"Clouds\", \"substitute\", \"unthinking\", \"PollTax\", \"countenancing\", \"Villainy\", \"Ruins\", \"backed\", \"Devices\", \"annoy\", \"'Altho\", \"Calumnies\", \"reciting\", \"behold\", \"discussed\", \"Morality\", \"perpetuated\", \"loses\", \"Chambers\", \"specify\", \"lasts\", \"Monk\", \"assessed\", \"unlikely\", \"fore\", \"courted\", \"impoverished\", \"Clients\", \"Disgust\", \"Bloodshed\", \"Taunton\", \"Arrests\", \"shipped\", \"mainly\", \"Carmarthen\", \"would\", \"House\", \"Commons\", \"might\", \"Time\", \"Gentlemen\", \"People\", \"That\", \"'That\", \"several\", \"Bill\", \"Interest\", \"Address\", \"Nation\", \"Subjects\", \"Year\", \"without\", \"every\", \"Lords\", \"Lordships\", \"think\", \"could\", \"much\", \"first\", \"Army\", \"presented\", \"never\", \"Committee\", \"brought\", \"present\", \"Power\", \"Gentleman\", \"necessary\", \"many\", \"Money\", \"Dust\", \"Pembrokeshire\", \"courted\", \"depress\", \"Formation\", \"harmless\", \"Fool\", \"Bloodshed\", \"blackest\", \"dwell\", \"Discoverer\", \"'Give\", \"Odium\", \"connived\", \"Sufficiency\", \"behav\", \"unruly\", \"cancelled\", \"proroguing\", \"artificial\", \"spirited\", \"recruit\", \"lasts\", \"deliberately\", \"groans\", \"scarcely\", \"merited\", \"unthinking\", \"'Altho\", \"intreat\", \"allay\", \"Sollicitations\", \"Bottoms\", \"would\", \"House\", \"That\", \"much\", \"Spain\", \"think\", \"necessary\", \"without\", \"never\", \"Time\", \"Nation\", \"Year\", \"might\", \"ought\", \"People\", \"present\", \"Bill\", \"order\", \"ever\", \"Committee\", \"Kingdom\", \"Crown\", \"always\", \"every\", \"last\", \"taken\", \"given\", \"Government\", \"many\", \"general\", \"Lords\", \"good\", \"Commons\", \"could\"], \"Total\": [8807.0, 5226.0, 4827.0, 3468.0, 2784.0, 2562.0, 2842.0, 2567.0, 3434.0, 2494.0, 2539.0, 2195.0, 1759.0, 2515.0, 2194.0, 2042.0, 1935.0, 2008.0, 1953.0, 1649.0, 1861.0, 2129.0, 2081.0, 1727.0, 2154.0, 1872.0, 1702.0, 1832.0, 1400.0, 1868.0, 116.1574935913086, 84.5079116821289, 92.19377899169922, 47.91074752807617, 33.424198150634766, 35.42909622192383, 46.98777770996094, 31.554439544677734, 39.275577545166016, 42.131141662597656, 45.07102966308594, 35.404136657714844, 56.637001037597656, 35.399200439453125, 25.79889678955078, 26.783557891845703, 28.757783889770508, 38.31376266479492, 26.789813995361328, 22.948637008666992, 28.684772491455078, 67.2573471069336, 234.48422241210938, 96.11358642578125, 21.060623168945312, 39.340171813964844, 67.27499389648438, 36.3935546875, 22.960826873779297, 19.084333419799805, 140.51022338867188, 193.53652954101562, 1759.7843017578125, 75.88971710205078, 269.96990966796875, 167.57362365722656, 61.42556381225586, 120.24195861816406, 49.00718688964844, 535.7778930664062, 56.604034423828125, 761.3535766601562, 94.20594024658203, 163.7404327392578, 450.0254211425781, 600.5725708007812, 667.4468994140625, 866.7545776367188, 268.2431945800781, 163.01629638671875, 483.31695556640625, 494.0914611816406, 235.93594360351562, 2195.366455078125, 352.7428283691406, 317.46173095703125, 998.5384521484375, 1400.063720703125, 1953.968994140625, 254.04043579101562, 2494.562744140625, 1330.186767578125, 927.784912109375, 998.392578125, 1935.4521484375, 2784.861083984375, 1316.7957763671875, 435.21734619140625, 2562.324951171875, 2567.047119140625, 2515.5927734375, 2539.6318359375, 5226.2763671875, 1861.564453125, 1236.428466796875, 1298.307373046875, 729.8055419921875, 1649.485595703125, 1702.7493896484375, 1555.604736328125, 2154.265625, 1391.3214111328125, 1359.173583984375, 1354.545166015625, 8807.376953125, 2194.6640625, 1832.8031005859375, 1727.0584716796875, 2008.6552734375, 3434.027587890625, 2042.604248046875, 1864.4554443359375, 72.01554870605469, 40.97249221801758, 33.905662536621094, 50.89094543457031, 68.92452239990234, 82.11810302734375, 32.945945739746094, 34.90263366699219, 33.902462005615234, 39.90427780151367, 34.96406555175781, 26.910282135009766, 31.900915145874023, 23.873363494873047, 27.94584083557129, 29.917911529541016, 53.897335052490234, 29.91135025024414, 35.867164611816406, 930.74267578125, 30.902788162231445, 72.93492126464844, 17.911746978759766, 24.9574031829834, 20.898372650146484, 20.919809341430664, 15.869479179382324, 20.89972496032715, 18.882312774658203, 31.910701751708984, 182.26510620117188, 105.1526870727539, 462.1897888183594, 280.6216735839844, 69.87731170654297, 32.93566131591797, 342.63348388671875, 190.20327758789062, 115.83814239501953, 90.1755142211914, 90.18856048583984, 2842.712890625, 412.9017639160156, 292.5435485839844, 231.6585235595703, 161.59738159179688, 114.81815338134766, 318.92327880859375, 220.58970642089844, 95.97769165039062, 1271.0972900390625, 798.632568359375, 122.74324798583984, 305.8373107910156, 3468.475830078125, 1412.1759033203125, 454.0579528808594, 661.8366088867188, 751.4766235351562, 640.1558227539062, 352.5243225097656, 1399.6177978515625, 737.9017944335938, 1297.6680908203125, 4827.5029296875, 8807.376953125, 1224.831298828125, 1055.9781494140625, 3434.027587890625, 1275.4432373046875, 1210.5225830078125, 583.1668090820312, 2081.834716796875, 804.3517456054688, 1105.320068359375, 1503.4837646484375, 5226.2763671875, 1531.46875, 1646.8582763671875, 1864.4554443359375, 1766.596435546875, 1480.9876708984375, 1868.8779296875, 2567.047119140625, 2194.6640625, 1872.8134765625, 2129.697021484375, 2539.6318359375, 2042.604248046875, 173.7784881591797, 37.96330261230469, 26.61100196838379, 34.846229553222656, 79.23725891113281, 41.008567810058594, 58.546058654785156, 31.717864990234375, 27.575223922729492, 34.848724365234375, 32.781497955322266, 17.34686279296875, 18.349096298217773, 58.44459533691406, 13.217248916625977, 35.872657775878906, 16.25996208190918, 17.300931930541992, 24.50780487060547, 35.82516098022461, 105.80490112304688, 26.54996109008789, 12.195237159729004, 12.167825698852539, 24.51085090637207, 40.882232666015625, 62.60767364501953, 76.92575073242188, 14.257747650146484, 11.153477668762207, 25.47084617614746, 106.70853424072266, 24.475204467773438, 25.52936363220215, 29.652027130126953, 235.93565368652344, 96.04988861083984, 134.34518432617188, 151.13558959960938, 441.3721008300781, 195.20394897460938, 36.81949234008789, 51.02669143676758, 99.82748413085938, 188.673095703125, 345.8556213378906, 138.85081481933594, 475.4148254394531, 165.20005798339844, 762.9102172851562, 489.5455322265625, 165.3956298828125, 4827.5029296875, 416.6780090332031, 2081.834716796875, 1135.4149169921875, 940.679443359375, 459.32415771484375, 8807.376953125, 2129.697021484375, 637.3853149414062, 446.8058166503906, 638.4131469726562, 1284.5025634765625, 670.6455688476562, 589.013671875, 798.09326171875, 1872.8134765625, 717.3356323242188, 2008.6552734375, 376.792724609375, 954.9671630859375, 1085.399169921875, 3468.475830078125, 423.9012756347656, 3434.027587890625, 1010.0327758789062, 1355.2528076171875, 831.6630859375, 1400.1087646484375, 1305.1646728515625, 5226.2763671875, 899.78857421875, 2042.604248046875, 2562.324951171875, 1714.9193115234375, 1599.2247314453125, 1399.6177978515625, 1503.4837646484375, 1269.386962890625, 1359.173583984375, 2842.712890625, 1120.8721923828125, 2515.5927734375, 2154.265625, 5.778687953948975, 5.703415870666504, 5.684622764587402, 5.832144260406494, 5.817919731140137, 5.796527862548828, 5.7783522605896, 5.759453296661377, 5.892302513122559, 5.812063217163086, 5.774585247039795, 5.802079677581787, 5.808664798736572, 5.823148727416992, 5.738178730010986, 5.676785945892334, 5.833595275878906, 5.753881454467773, 5.801793575286865, 5.830706596374512, 5.7209696769714355, 5.837746620178223, 5.8166823387146, 5.869401931762695, 5.738306999206543, 5.656956672668457, 5.952960968017578, 5.729588031768799, 5.800576686859131, 5.715227127075195, 5.957448959350586, 5.861514091491699, 5.9217634201049805, 5.965775489807129, 5.9371113777160645, 5226.2763671875, 8807.376953125, 3468.475830078125, 2042.604248046875, 2562.324951171875, 1935.4521484375, 2784.861083984375, 4827.5029296875, 2081.834716796875, 1872.8134765625, 3434.027587890625, 1861.564453125, 1284.5025634765625, 2494.562744140625, 1120.8721923828125, 2008.6552734375, 2194.6640625, 2195.366455078125, 2842.712890625, 930.74267578125, 2567.047119140625, 2154.265625, 2539.6318359375, 1599.2247314453125, 1298.307373046875, 940.679443359375, 1649.485595703125, 2129.697021484375, 1263.8167724609375, 2515.5927734375, 1702.7493896484375, 1759.7843017578125, 1727.0584716796875, 1832.8031005859375, 1714.9193115234375, 5.746949195861816, 5.631969928741455, 5.656956672668457, 5.751811504364014, 5.652585983276367, 5.79099702835083, 5.73372745513916, 5.715227127075195, 5.852475166320801, 5.805488586425781, 5.829075813293457, 5.718967914581299, 5.669979095458984, 5.786012649536133, 5.7007927894592285, 5.828675270080566, 5.7017316818237305, 5.795300483703613, 5.7919769287109375, 5.700299263000488, 5.8407816886901855, 5.771279811859131, 5.7209696769714355, 5.766481876373291, 5.673872470855713, 5.701000690460205, 5.8897857666015625, 5.684622764587402, 5.774585247039795, 5.770083904266357, 5.78394889831543, 5.915812969207764, 5.81491756439209, 5226.2763671875, 8807.376953125, 4827.5029296875, 2539.6318359375, 1028.2760009765625, 2567.047119140625, 1727.0584716796875, 2194.6640625, 1649.485595703125, 2562.324951171875, 2494.562744140625, 2008.6552734375, 2042.604248046875, 1953.968994140625, 2784.861083984375, 2515.5927734375, 3434.027587890625, 1305.1646728515625, 1391.3214111328125, 2129.697021484375, 1531.46875, 1504.3585205078125, 1400.063720703125, 2195.366455078125, 1868.8779296875, 1232.2105712890625, 1503.4837646484375, 1646.8582763671875, 1832.8031005859375, 918.4520263671875, 2842.712890625, 1766.596435546875, 3468.475830078125, 2154.265625], \"loglift\": [30.0, 29.0, 28.0, 27.0, 26.0, 25.0, 24.0, 23.0, 22.0, 21.0, 20.0, 19.0, 18.0, 17.0, 16.0, 15.0, 14.0, 13.0, 12.0, 11.0, 10.0, 9.0, 8.0, 7.0, 6.0, 5.0, 4.0, 3.0, 2.0, 1.0, 0.8077999949455261, 0.8016999959945679, 0.8015999794006348, 0.8014000058174133, 0.8001000285148621, 0.7993000149726868, 0.7979999780654907, 0.7978000044822693, 0.7961000204086304, 0.7954999804496765, 0.7954000234603882, 0.7953000068664551, 0.7950000166893005, 0.7946000099182129, 0.7936999797821045, 0.7925999760627747, 0.7912999987602234, 0.7901999950408936, 0.7892000079154968, 0.7889999747276306, 0.7882999777793884, 0.7882000207901001, 0.7875999808311462, 0.7874000072479248, 0.7870000004768372, 0.7868000268936157, 0.7860999703407288, 0.7853000164031982, 0.7847999930381775, 0.7847999930381775, 0.7774999737739563, 0.7720000147819519, 0.7480999827384949, 0.7785000205039978, 0.7578999996185303, 0.7667999863624573, 0.7781999707221985, 0.7635999917984009, 0.7810999751091003, 0.7318999767303467, 0.777999997138977, 0.6769999861717224, 0.7585999965667725, 0.7360000014305115, 0.6955000162124634, 0.6829000115394592, 0.6776999831199646, 0.6546000242233276, 0.7106000185012817, 0.728600025177002, 0.6743000149726868, 0.6642000079154968, 0.7077999711036682, 0.5515999794006348, 0.6765000224113464, 0.6814000010490417, 0.5992000102996826, 0.5694000124931335, 0.5333999991416931, 0.6913999915122986, 0.5015000104904175, 0.5559999942779541, 0.5856999754905701, 0.5723000168800354, 0.4894999861717224, 0.4440000057220459, 0.5113999843597412, 0.6327000260353088, 0.4009999930858612, 0.3984000086784363, 0.39820000529289246, 0.38769999146461487, 0.27799999713897705, 0.426800012588501, 0.475600004196167, 0.45730000734329224, 0.542900025844574, 0.3549000024795532, 0.3434999883174896, 0.3531999886035919, 0.2612999975681305, 0.38269999623298645, 0.37709999084472656, 0.3725000023841858, -0.41990000009536743, 0.1453000009059906, 0.21879999339580536, 0.2484000027179718, 0.12470000237226486, -0.31679999828338623, 0.009399999864399433, 0.0723000019788742, 1.131500005722046, 1.1205999851226807, 1.1205999851226807, 1.117300033569336, 1.1140999794006348, 1.1139999628067017, 1.1136000156402588, 1.1133999824523926, 1.1131999492645264, 1.1131999492645264, 1.1124999523162842, 1.111799955368042, 1.1114000082015991, 1.111199975013733, 1.1096999645233154, 1.1095999479293823, 1.1092000007629395, 1.1089999675750732, 1.108299970626831, 1.107200026512146, 1.1059999465942383, 1.1055999994277954, 1.1053999662399292, 1.105299949645996, 1.1032999753952026, 1.1018999814987183, 1.1016000509262085, 1.101199984550476, 1.101099967956543, 1.100100040435791, 1.0920000076293945, 1.094599962234497, 1.0667999982833862, 1.054900050163269, 1.0815999507904053, 1.0953999757766724, 1.0393999814987183, 1.0494999885559082, 1.061400055885315, 1.0669000148773193, 1.0642000436782837, 0.9225000143051147, 0.9955000281333923, 1.0090999603271484, 1.0125999450683594, 1.0271999835968018, 1.0449999570846558, 0.9804999828338623, 0.9994000196456909, 1.0470999479293823, 0.8618999719619751, 0.88919997215271, 1.0255000591278076, 0.9452000260353088, 0.7174000144004822, 0.7360000014305115, 0.8561000227928162, 0.7983999848365784, 0.7501999735832214, 0.7573000192642212, 0.8385999798774719, 0.6014999747276306, 0.7111999988555908, 0.590399980545044, 0.33009999990463257, 0.19140000641345978, 0.5676000118255615, 0.5590000152587891, 0.25200000405311584, 0.5011000037193298, 0.4745999872684479, 0.6866000294685364, 0.25920000672340393, 0.5666999816894531, 0.4456000030040741, 0.32739999890327454, -0.2515999972820282, 0.2863999903202057, 0.2379000037908554, 0.15729999542236328, 0.13850000500679016, 0.2345999926328659, 0.09080000221729279, -0.11050000041723251, -0.015699999406933784, 0.06390000134706497, -0.03880000114440918, -0.2547999918460846, -0.08179999887943268, 1.3845000267028809, 1.3839000463485718, 1.3796000480651855, 1.3792999982833862, 1.3782999515533447, 1.374899983406067, 1.3746000528335571, 1.3731000423431396, 1.3690999746322632, 1.3690999746322632, 1.367400050163269, 1.3659000396728516, 1.3645999431610107, 1.3645999431610107, 1.3579000234603882, 1.3573999404907227, 1.3558000326156616, 1.3553999662399292, 1.3538999557495117, 1.3523999452590942, 1.3509999513626099, 1.3502000570297241, 1.3482999801635742, 1.3473999500274658, 1.34660005569458, 1.3451999425888062, 1.3446999788284302, 1.3444000482559204, 1.3437000513076782, 1.3428000211715698, 1.339900016784668, 1.3245999813079834, 1.3392000198364258, 1.3378000259399414, 1.3188999891281128, 1.2072999477386475, 1.2594000101089478, 1.216599941253662, 1.1884000301361084, 1.0698000192642212, 1.1444000005722046, 1.3011000156402588, 1.2644000053405762, 1.184399962425232, 1.107200026512146, 1.0305999517440796, 1.1425000429153442, 0.9700000286102295, 1.101699948310852, 0.8593999743461609, 0.9192000031471252, 1.100600004196167, 0.5178999900817871, 0.9229000210762024, 0.6305999755859375, 0.7415000200271606, 0.7666000127792358, 0.8924999833106995, 0.29750001430511475, 0.5760999917984009, 0.8148000240325928, 0.8859000205993652, 0.7879999876022339, 0.6139000058174133, 0.7738000154495239, 0.8008999824523926, 0.7199000120162964, 0.4805999994277954, 0.7350000143051147, 0.43529999256134033, 0.9115999937057495, 0.6190999746322632, 0.5619000196456909, 0.1662999987602234, 0.8691999912261963, 0.11230000108480453, 0.5404999852180481, 0.4287000000476837, 0.609499990940094, 0.3596999943256378, 0.37209999561309814, -0.3433000147342682, 0.5465999841690063, 0.08179999887943268, -0.1080000028014183, 0.1257999986410141, 0.15690000355243683, 0.2272000014781952, 0.1656000018119812, 0.2644999921321869, 0.20640000700950623, -0.4122999906539917, 0.36039999127388, -0.3370000123977661, -0.21940000355243683, 2.3789000511169434, 2.3438000679016113, 2.3215999603271484, 2.31850004196167, 2.3173000812530518, 2.31469988822937, 2.309299945831299, 2.308500051498413, 2.3073999881744385, 2.3069000244140625, 2.3039000034332275, 2.3034000396728516, 2.301100015640259, 2.3006999492645264, 2.2999000549316406, 2.299499988555908, 2.299499988555908, 2.299099922180176, 2.2990000247955322, 2.298799991607666, 2.2985000610351562, 2.297499895095825, 2.296999931335449, 2.2967000007629395, 2.2964999675750732, 2.2964000701904297, 2.293800115585327, 2.2934999465942383, 2.2934999465942383, 2.291800022125244, 2.2911999225616455, 2.2906999588012695, 2.289299964904785, 2.2815001010894775, 2.282099962234497, -0.7563999891281128, -1.0140999555587769, -0.8069999814033508, -0.6342999935150146, -0.7662000060081482, -0.6272000074386597, -0.8414999842643738, -1.1431000232696533, -0.7418000102043152, -0.7192999720573425, -1.0458999872207642, -0.7989000082015991, -0.6078000068664551, -0.9695000052452087, -0.567300021648407, -0.8956000208854675, -0.9459999799728394, -0.9538999795913696, -1.0994999408721924, -0.486299991607666, -1.0744999647140503, -0.9785000085830688, -1.0758999586105347, -0.8226000070571899, -0.7132999897003174, -0.5358999967575073, -0.8565999865531921, -1.0042999982833862, -0.7172999978065491, -1.117900013923645, -0.9003000259399414, -0.9214000105857849, -0.9348000288009644, -1.0259000062942505, -0.9661999940872192, 2.362499952316284, 2.349299907684326, 2.3489999771118164, 2.3452999591827393, 2.3427000045776367, 2.341099977493286, 2.3401999473571777, 2.3397998809814453, 2.339400053024292, 2.337399959564209, 2.337399959564209, 2.3355000019073486, 2.335200071334839, 2.333699941635132, 2.331199884414673, 2.3299999237060547, 2.3296000957489014, 2.3278000354766846, 2.3266000747680664, 2.3261001110076904, 2.3255999088287354, 2.3239998817443848, 2.3187999725341797, 2.3162999153137207, 2.3159000873565674, 2.3148000240325928, 2.31469988822937, 2.3124001026153564, 2.311500072479248, 2.311300039291382, 2.3104000091552734, 2.3055999279022217, 2.308000087738037, -0.8833000063896179, -1.1921000480651855, -1.0227999687194824, -0.7728999853134155, -0.3257000148296356, -0.7962999939918518, -0.6129999756813049, -0.7404000163078308, -0.6147000193595886, -0.8902999758720398, -0.883400022983551, -0.7953000068664551, -0.850600004196167, -0.8349000215530396, -1.034500002861023, -0.9821000099182129, -1.1562000513076782, -0.6389999985694885, -0.6776999831199646, -0.9351999759674072, -0.7652000188827515, -0.7642999887466431, -0.7268000245094299, -0.9818000197410583, -0.9276999831199646, -0.6990000009536743, -0.8152999877929688, -0.870199978351593, -0.932699978351593, -0.5425999760627747, -1.2065999507904053, -0.9404000043869019, -1.4615000486373901, -1.13100004196167], \"logprob\": [30.0, 29.0, 28.0, 27.0, 26.0, 25.0, 24.0, 23.0, 22.0, 21.0, 20.0, 19.0, 18.0, 17.0, 16.0, 15.0, 14.0, 13.0, 12.0, 11.0, 10.0, 9.0, 8.0, 7.0, 6.0, 5.0, 4.0, 3.0, 2.0, 1.0, -7.8343000411987305, -8.158499717712402, -8.071599960327148, -8.726300239562988, -9.087699890136719, -9.03030014038086, -8.749199867248535, -9.147500038146973, -8.930399894714355, -8.860799789428711, -8.793399810791016, -9.03499984741211, -8.565299987792969, -9.035799980163574, -9.352999687194824, -9.31659984588623, -9.246899604797363, -8.961099624633789, -9.319899559020996, -9.474699974060059, -9.252400398254395, -8.400300025939941, -7.152100086212158, -8.044099807739258, -9.562700271606445, -8.937999725341797, -8.402199745178223, -9.01729965209961, -9.478400230407715, -9.663399696350098, -7.674300193786621, -7.359600067138672, -5.176000118255615, -8.289299964904785, -7.040800094604492, -7.508900165557861, -8.50100040435791, -7.843999862670898, -8.723899841308594, -6.381400108337402, -8.583000183105469, -6.085000038146973, -8.093000411987305, -7.56279993057251, -6.592299938201904, -6.316299915313721, -6.21589994430542, -5.977700233459473, -7.094600200653076, -7.5746002197265625, -6.542099952697754, -6.530099868774414, -7.2256999015808105, -5.151299953460693, -6.854800224304199, -6.9552998542785645, -5.891499996185303, -5.583399772644043, -5.285999774932861, -7.1682000160217285, -5.073699951171875, -5.647900104522705, -5.978600025177002, -5.918600082397461, -5.339399814605713, -5.021100044250488, -5.702700138092041, -6.688499927520752, -5.14739990234375, -5.148099899291992, -5.168600082397461, -5.16949987411499, -4.557600021362305, -5.441100120544434, -5.801499843597412, -5.770899772644043, -6.26140022277832, -5.633999824523926, -5.613500118255615, -5.694200038909912, -5.4604997634887695, -5.776299953460693, -5.8053998947143555, -5.813300132751465, -4.73360013961792, -5.558000087738037, -5.664700031280518, -5.694499969482422, -5.667099952697754, -5.572299957275391, -5.765699863433838, -5.794000148773193, -7.988699913024902, -8.56350040435791, -8.752900123596191, -8.350099563598633, -8.04990005493164, -7.874899864196777, -8.788599967956543, -8.731100082397461, -8.760299682617188, -8.597399711608887, -8.730199813842773, -8.992799758911133, -8.822999954223633, -9.113100051879883, -8.957099914550781, -8.888999938964844, -8.300800323486328, -8.889800071716309, -8.708900451660156, -5.45389986038208, -8.860199928283691, -8.001899719238281, -9.406200408935547, -9.074600219726562, -9.25409984588623, -9.254400253295898, -9.531100273132324, -9.256099700927734, -9.35770034790039, -8.833999633789062, -7.099599838256836, -7.64709997177124, -6.194300174713135, -6.7052001953125, -8.068699836730957, -8.807100296020508, -6.520999908447266, -7.0995001792907715, -7.583399772644043, -7.828400135040283, -7.830900192260742, -4.521999835968018, -6.378399848937988, -6.7093000411987305, -6.939199924468994, -7.2846999168396, -7.608699798583984, -6.651599884033203, -7.001399993896484, -7.785799980163574, -5.387499809265137, -5.824900150299072, -7.561399936676025, -6.728799819946289, -4.528200149536133, -5.408199787139893, -6.422800064086914, -6.103600025177002, -6.024799823760986, -6.178100109100342, -6.693299770355225, -5.551599979400635, -6.081999778747559, -5.638400077819824, -4.584799766540527, -4.122300148010254, -5.718900203704834, -5.875899791717529, -5.003499984741211, -5.744900226593018, -5.823599815368652, -6.3420000076293945, -5.496799945831299, -6.1402997970581055, -5.943600177764893, -5.7540998458862305, -5.087200164794922, -5.776700019836426, -5.752500057220459, -5.709000110626221, -5.781799793243408, -5.861999988555908, -5.773099899291992, -5.6570000648498535, -5.718999862670898, -5.797999858856201, -5.77209997177124, -5.812099933624268, -5.856900215148926, -6.854700088500977, -8.376500129699707, -8.736200332641602, -8.46679973602295, -7.646299839019775, -8.30840015411377, -7.952600002288818, -8.567099571228027, -8.711000442504883, -8.47700023651123, -8.539799690246582, -9.177800178527832, -9.122900009155273, -7.964399814605713, -9.457599639892578, -8.459699630737305, -9.2524995803833, -9.190899848937988, -8.844200134277344, -8.465999603271484, -7.384399890899658, -8.767900466918945, -9.547699928283691, -9.550800323486328, -8.851400375366211, -8.34119987487793, -7.915500164031982, -7.709799766540527, -9.396100044250488, -9.642499923706055, -8.819600105285645, -7.402299880981445, -8.860199928283691, -8.8193998336792, -8.688699722290039, -6.726200103759766, -7.572800159454346, -7.28000020980835, -7.190499782562256, -6.237299919128418, -6.978600025177002, -8.489899635314941, -8.200400352478027, -7.6092000007629395, -7.049799919128418, -6.520500183105469, -7.321100234985352, -6.262899875640869, -7.188199996948242, -5.9004998207092285, -6.28439998626709, -7.188199996948242, -4.39709997177124, -6.44189977645874, -5.125400066375732, -5.620800018310547, -5.78380012512207, -6.374800205230713, -4.016200065612793, -5.157199859619141, -6.124899864196777, -6.40910005569458, -6.150100231170654, -5.625, -6.114999771118164, -6.217700004577637, -5.994999885559082, -5.381199836730957, -6.08650016784668, -5.356500148773193, -6.553699970245361, -5.916299819946289, -5.8454999923706055, -5.07919979095459, -6.478300094604492, -5.1433000564575195, -5.938799858093262, -5.7565999031066895, -6.0640997886657715, -5.793000221252441, -5.850900173187256, -5.178899765014648, -6.048299789428711, -5.693299770355225, -5.656300067901611, -5.824100017547607, -5.8628997802734375, -5.925899982452393, -5.915999889373779, -5.986199855804443, -5.97599983215332, -5.856900215148926, -6.014800071716309, -5.903800010681152, -5.941299915313721, -9.263999938964844, -9.312199592590332, -9.337699890136719, -9.315099716186523, -9.318900108337402, -9.32509994506836, -9.333700180053711, -9.337800025939941, -9.315999984741211, -9.3302001953125, -9.339599609375, -9.33549976348877, -9.336600303649902, -9.334500312805176, -9.350000381469727, -9.361200332641602, -9.333999633789062, -9.348099708557129, -9.339900016784668, -9.335100173950195, -9.354399681091309, -9.335200309753418, -9.339300155639648, -9.330599784851074, -9.353400230407715, -9.36769962310791, -9.3193998336792, -9.35789966583252, -9.345600128173828, -9.362199783325195, -9.321200370788574, -9.338000297546387, -9.329099655151367, -9.329500198364258, -9.333700180053711, -5.5920000076293945, -5.327899932861328, -6.052499771118164, -6.40939998626709, -6.314599990844727, -6.456200122833252, -6.306600093841553, -6.05810022354126, -6.497799873352051, -6.581099987030029, -6.301499843597412, -6.6666998863220215, -6.846700191497803, -6.5447001457214355, -6.942500114440918, -6.687399864196777, -6.649199962615967, -6.656899929046631, -6.544000148773193, -7.047299861907959, -6.621099948883057, -6.700300216674805, -6.633200168609619, -6.842400074005127, -6.941500186920166, -7.086400032043457, -6.845399856567383, -6.737599849700928, -6.972499847412109, -6.684700012207031, -6.8572998046875, -6.8454999923706055, -6.877600193023682, -6.90939998626709, -6.916100025177002, -9.285900115966797, -9.319299697875977, -9.315199851989746, -9.302200317382812, -9.322199821472168, -9.299699783325195, -9.310500144958496, -9.31410026550293, -9.290800094604492, -9.300800323486328, -9.296799659729004, -9.31779956817627, -9.326600074768066, -9.307999610900879, -9.325300216674805, -9.304300308227539, -9.326700210571289, -9.312199592590332, -9.314000129699707, -9.330400466918945, -9.306599617004395, -9.320099830627441, -9.334099769592285, -9.328700065612793, -9.34529972076416, -9.34160041809082, -9.309200286865234, -9.34689998626709, -9.332099914550781, -9.333100318908691, -9.331600189208984, -9.313799858093262, -9.32859992980957, -5.718900203704834, -5.505799770355225, -5.93779993057251, -6.3302001953125, -6.787099838256836, -6.342899799346924, -6.5559000968933105, -6.443600177764893, -6.603499889373779, -6.438700199127197, -6.458600044250488, -6.587100028991699, -6.625699996948242, -6.654300212860107, -6.499599933624268, -6.548900127410889, -6.4116997718811035, -6.861999988555908, -6.836699962615967, -6.668499946594238, -6.8282999992370605, -6.845200061798096, -6.8796000480651855, -6.684800148010254, -6.7916998863220215, -6.979499816894531, -6.8968000411987305, -6.860599994659424, -6.816100120544434, -7.117000102996826, -6.651199817657471, -6.8607001304626465, -6.707099914550781, -6.852799892425537]}, \"token.table\": {\"Topic\": [1, 2, 1, 2, 1, 2, 3, 1, 2, 3, 1, 2, 3, 1, 3, 1, 3, 1, 2, 3, 1, 2, 3, 1, 2, 3, 1, 2, 3, 1, 2, 3, 1, 2, 3, 1, 3, 1, 2, 3, 1, 1, 2, 3, 2, 1, 2, 1, 3, 1, 2, 3, 1, 2, 3, 2, 3, 1, 2, 3, 1, 2, 3, 1, 3, 2, 3, 2, 3, 1, 2, 2, 3, 1, 2, 3, 1, 2, 3, 1, 2, 3, 1, 2, 1, 2, 3, 1, 2, 1, 2, 3, 2, 1, 2, 3, 1, 2, 3, 1, 2, 3, 1, 2, 3, 3, 1, 2, 3, 1, 2, 3, 2, 1, 2, 1, 2, 3, 1, 2, 3, 1, 2, 3, 1, 2, 3, 1, 2, 3, 1, 2, 3, 1, 3, 2, 3, 1, 2, 3, 1, 2, 3, 1, 2, 3, 1, 2, 3, 1, 2, 1, 2, 3, 1, 2, 3, 1, 2, 3, 2, 3, 1, 3, 1, 2, 1, 2, 3, 1, 3, 1, 2, 3, 1, 2, 3, 1, 2, 3, 1, 2, 3, 1, 2, 3, 1, 2, 3, 1, 2, 3, 1, 2, 1, 2, 3, 1, 2, 3, 2, 3, 1, 2, 3, 1, 2, 1, 2, 3, 1, 2, 3, 1, 2, 3, 2, 1, 2, 3, 1, 3, 2, 3, 1, 2, 3, 1, 2, 3, 1, 2, 3, 1, 2, 3, 1, 1, 2, 3, 1, 2, 3, 1, 1, 2, 3, 1, 2, 3, 1, 2, 3, 1, 2, 3, 2, 3, 1, 2, 3, 1, 2, 3, 1, 2, 3, 1, 2, 3, 1, 2, 3, 2, 3, 3, 1, 2, 3, 1, 2, 3, 1, 2, 3, 1, 3, 1, 3, 1, 3, 1, 2, 3, 2, 2, 3, 1, 2, 1, 2, 3, 1, 2, 3, 1, 2, 3, 1, 2, 3, 1, 2, 1, 2, 1, 2, 3, 1, 2, 3, 1, 2, 3, 1, 3, 1, 2, 3, 1, 2, 3, 1, 2, 3, 1, 2, 3, 1, 3, 1, 2, 3, 2, 1, 2, 3, 1, 2, 3, 1, 2, 1, 2, 3, 1, 2, 3, 2, 1, 2, 3, 1, 2, 3, 1, 2, 3, 1, 2, 3, 1, 2, 3, 1, 2, 3, 1, 2, 3, 1, 2, 3, 1, 2, 3, 1, 2, 3, 1, 2, 1, 2, 3, 1, 2, 3, 1, 2, 3, 1, 3, 1, 2, 3, 1, 2, 3, 1, 2, 3, 1, 3, 1, 2, 3, 1, 1, 2, 3, 1, 2, 3, 1, 3, 1, 1, 3, 1, 3, 1, 2, 3, 1, 2, 3, 1, 2, 3, 1, 2, 3, 1, 2, 3, 1, 2, 3, 1, 2, 3, 1, 2, 3, 1, 2, 3, 1, 2, 3, 2, 3, 1, 2, 3, 1, 2, 3, 1, 3, 1, 2, 1, 2, 3, 2, 3, 1, 2, 3, 1, 2, 3, 1, 2, 3, 1, 2, 3, 1, 2, 3, 1, 3, 2, 3, 1, 2, 3, 1, 2, 3, 1, 2, 3, 1, 2, 3, 1, 2, 3, 1, 2, 3, 1, 2, 3, 1, 2, 3, 1, 3, 1, 2, 3, 1, 2, 1, 2, 3, 1, 2, 3, 1, 2, 3, 1, 2, 1, 2, 3, 1, 2, 1, 2, 3, 1, 2, 3, 1, 2, 3, 1, 2, 3, 1, 2, 3, 1, 3, 1, 2, 3, 1, 2, 3, 1, 2, 1, 3, 1, 2, 3, 1, 2, 3, 1, 2, 3, 1, 2, 1, 2, 1, 2, 3, 1, 2, 1, 2, 3, 1, 2, 3, 1, 2, 3, 1, 2, 3, 1, 2, 3, 1, 2, 3, 1, 2, 3, 1, 2, 3, 1, 2, 3, 1, 2, 3, 1, 2, 3, 1, 2, 3, 1, 2, 1, 2, 3, 1, 2, 3, 1, 1, 2, 3, 1, 2, 3, 1, 2, 3, 1, 2, 3, 2, 3, 1, 2, 3, 1, 2, 1, 2, 3, 1, 2, 3, 1, 2, 3, 1, 2, 3, 1, 2, 3, 1, 2, 3, 1, 2, 3, 1, 2, 1, 1, 2, 3, 2, 3, 1, 2, 3, 1, 2, 3, 1, 2, 3, 1, 2, 3, 1, 2, 3, 1, 2, 3, 1, 2, 3, 1, 2, 3, 1, 2, 3, 1, 2, 3, 1, 1, 2, 3, 1, 2, 3, 1, 1, 2, 3, 1, 2, 3, 1, 2, 3, 1, 2, 1, 2, 3, 1, 2, 3, 1, 2, 3, 1, 2, 3, 1, 2, 3, 1, 2, 3, 1, 2, 3, 1, 2, 3, 1, 2, 3, 1, 2, 1, 2, 1, 2, 1, 1, 2, 3, 1, 2, 3, 1, 2, 3, 1, 2, 3, 1, 2, 3, 1, 2, 3, 1, 3, 1, 2, 3, 1, 2, 3, 1, 3, 1, 2, 3, 1, 2, 3, 1, 2, 3, 1, 2, 3, 1, 2, 3, 1, 2, 3, 1, 2, 3, 1, 2, 3, 1, 2, 3, 1, 2, 1, 2, 1, 2, 3, 1, 2, 3, 1, 2, 3], \"Freq\": [0.3463452160358429, 0.5195178389549255, 0.5245701670646667, 0.34971344470977783, 0.8708356618881226, 0.11489035934209824, 0.0133206220343709, 0.13305571675300598, 0.40973472595214844, 0.4572889506816864, 0.2712782323360443, 0.5221714377403259, 0.20620281994342804, 0.9887229204177856, 0.02824922651052475, 0.9659337401390076, 0.025419309735298157, 0.024385148659348488, 0.024385148659348488, 0.9510207772254944, 0.00575445219874382, 0.02301780879497528, 0.9725024104118347, 0.30071672797203064, 0.1992248296737671, 0.49994155764579773, 0.09631282836198807, 0.8930826187133789, 0.011674282141029835, 0.21409066021442413, 0.3363169729709625, 0.44920113682746887, 0.14626047015190125, 0.27364861965179443, 0.5803238153457642, 0.030505012720823288, 0.9456554055213928, 0.30261853337287903, 0.10450135916471481, 0.5943514704704285, 0.9873086810112, 0.6955209970474243, 0.14249321818351746, 0.16174906492233276, 0.8530219197273254, 0.027880653738975525, 0.9479422569274902, 0.9619221687316895, 0.03953104838728905, 0.32090598344802856, 0.40710213780403137, 0.27227503061294556, 0.6998847126960754, 0.17497117817401886, 0.17497117817401886, 0.026341227814555168, 0.9746254086494446, 0.3439429700374603, 0.3439429700374603, 0.3439429700374603, 0.45738404989242554, 0.007831919007003307, 0.5357032418251038, 0.03757844120264053, 0.9770395159721375, 0.9661545157432556, 0.03578349947929382, 0.04080332815647125, 0.9384765625, 0.17235200107097626, 0.689408004283905, 0.5052962303161621, 0.5052962303161621, 0.5516588687896729, 0.3997332453727722, 0.0486162044107914, 0.3447209894657135, 0.3447209894657135, 0.3447209894657135, 0.03710758686065674, 0.9647972583770752, 0.01855379343032837, 0.5235978364944458, 0.34906524419784546, 0.017110221087932587, 0.03422044217586517, 0.9581724405288696, 0.173049658536911, 0.692198634147644, 0.11010470241308212, 0.3145848512649536, 0.5741173624992371, 0.9490978121757507, 0.262948215007782, 0.30426862835884094, 0.43292543292045593, 0.024355165660381317, 0.9620290398597717, 0.012177582830190659, 0.06458168476819992, 0.6481233239173889, 0.28744614124298096, 0.28692033886909485, 0.17147310078144073, 0.5415833592414856, 0.9019914865493774, 0.05625394731760025, 0.9195356965065002, 0.02596336044371128, 0.9607841968536377, 0.014233839698135853, 0.028467679396271706, 0.9452105760574341, 0.04785061627626419, 0.9570122957229614, 0.011087880469858646, 0.9202941060066223, 0.06652728468179703, 0.7675613760948181, 0.09998595714569092, 0.13231225311756134, 0.01708056963980198, 0.01708056963980198, 0.9565118551254272, 0.5424239039421082, 0.28650084137916565, 0.170836940407753, 0.013885890133678913, 0.9858981966972351, 0.013885890133678913, 0.02715952694416046, 0.08147858083248138, 0.896264374256134, 0.9581536650657654, 0.9040234684944153, 0.509138822555542, 0.3394258916378021, 0.05199819430708885, 0.012999548576772213, 0.9359674453735352, 0.34310755133628845, 0.5146613717079163, 0.17155377566814423, 0.34479328989982605, 0.34479328989982605, 0.17239664494991302, 0.1544921100139618, 0.6437171101570129, 0.20056869089603424, 0.34801071882247925, 0.5220161080360413, 0.44191306829452515, 0.05018571391701698, 0.507433295249939, 0.19111204147338867, 0.5710242986679077, 0.238119438290596, 0.1113879457116127, 0.8849153518676758, 0.0061882189474999905, 0.057800356298685074, 0.9248057007789612, 0.055826686322689056, 0.9490536451339722, 0.6976264715194702, 0.3488132357597351, 0.028695454820990562, 0.028695454820990562, 0.9469500184059143, 0.8845508694648743, 0.8965813517570496, 0.31847748160362244, 0.07431141287088394, 0.6051072478294373, 0.9302276372909546, 0.03864109888672829, 0.030685579404234886, 0.7181784510612488, 0.16895276308059692, 0.11263518035411835, 0.40804967284202576, 0.4013702869415283, 0.1906660795211792, 0.3875207006931305, 0.06275638937950134, 0.5491183996200562, 0.17377619445323944, 0.01271533127874136, 0.813781201839447, 0.011089485138654709, 0.9204272627830505, 0.06653691083192825, 0.024406619369983673, 0.9762647747993469, 0.03152797371149063, 0.03152797371149063, 0.9458392262458801, 0.11019009351730347, 0.09015553444623947, 0.7913652062416077, 0.061500757932662964, 0.9225113987922668, 0.22326120734214783, 0.014403948560357094, 0.7634092569351196, 0.028600793331861496, 0.9724269509315491, 0.02852994203567505, 0.9414880871772766, 0.02852994203567505, 0.2893029451370239, 0.38308796286582947, 0.32756632566452026, 0.13174062967300415, 0.6693488359451294, 0.19827629625797272, 0.9634168148040771, 0.02524065040051937, 0.012620325200259686, 0.9591447114944458, 0.028697509318590164, 0.9757153391838074, 0.05449859797954559, 0.9264761209487915, 0.6747013330459595, 0.17189842462539673, 0.1530970335006714, 0.23828142881393433, 0.7318643927574158, 0.02836683765053749, 0.20041494071483612, 0.7443983554840088, 0.055059049278497696, 0.08709423989057541, 0.8970707058906555, 0.01741884835064411, 0.9496394991874695, 0.04113255813717842, 0.9597597122192383, 0.013710853643715382, 0.3630501627922058, 0.421164333820343, 0.21613238751888275, 0.9586625695228577, 0.9762046933174133, 0.010846719145774841, 0.010846719145774841, 0.42612090706825256, 0.49397456645965576, 0.0805196613073349, 0.015972482040524483, 0.0479174479842186, 0.9264039993286133, 0.9507248997688293, 0.031001899391412735, 0.015500949695706367, 0.07013730704784393, 0.9117849469184875, 0.11717484891414642, 0.577300488948822, 0.3050832748413086, 0.032359540462493896, 0.9707862138748169, 0.032359540462493896, 0.04326852783560753, 0.795718789100647, 0.1611137092113495, 0.010744107887148857, 0.957300066947937, 0.03223232552409172, 0.03926057368516922, 0.03926057368516922, 0.9422537088394165, 0.07834116369485855, 0.9400939345359802, 0.983563244342804, 0.9736494421958923, 0.03766483813524246, 0.941620945930481, 0.9605121612548828, 0.01627986691892147, 0.01627986691892147, 0.07839034497737885, 0.07839034497737885, 0.8622937798500061, 0.04892100766301155, 0.9294991493225098, 0.9761276841163635, 0.03486170247197151, 0.036264438182115555, 0.9428753852844238, 0.47815659642219543, 0.24607571959495544, 0.2758147120475769, 0.8564948439598083, 0.941228985786438, 0.03036222606897354, 0.8807801008224487, 0.17615601420402527, 0.6423020362854004, 0.05885929614305496, 0.2987109124660492, 0.7271815538406372, 0.16435746848583221, 0.10823540389537811, 0.03133745118975639, 0.9401234984397888, 0.03133745118975639, 0.08961796760559082, 0.8798854947090149, 0.02444126270711422, 0.031347062438726425, 0.9717589616775513, 0.8818374872207642, 0.17636749148368835, 0.1111702173948288, 0.8141583204269409, 0.07520338147878647, 0.6267659068107605, 0.13692423701286316, 0.23592111468315125, 0.3735423982143402, 0.27783554792404175, 0.3485443592071533, 0.8877888321876526, 0.9800043106079102, 0.6865692734718323, 0.17918308079242706, 0.134656623005867, 0.21117861568927765, 0.5530417561531067, 0.2348533421754837, 0.23431798815727234, 0.5584442615509033, 0.20737549662590027, 0.11223416030406952, 0.8719730973243713, 0.01726679317653179, 0.967522382736206, 0.025461114943027496, 0.029496382921934128, 0.9733806252479553, 0.029496382921934128, 0.8573176264762878, 0.10033760964870453, 0.8434630632400513, 0.05643990635871887, 0.0920315757393837, 0.8549249172210693, 0.05085955560207367, 0.029493598267436028, 0.9732887744903564, 0.12807117402553558, 0.1075797900557518, 0.7633042335510254, 0.6207607388496399, 0.26134204864501953, 0.11804438382387161, 0.9532730579376221, 0.8693961501121521, 0.03779983147978783, 0.09134959429502487, 0.21434690058231354, 0.6293225288391113, 0.15604454278945923, 0.08904082328081131, 0.6748356819152832, 0.2358800768852234, 0.1282346546649933, 0.34444424510002136, 0.5278496146202087, 0.7343583703041077, 0.1860577017068863, 0.07973901927471161, 0.8943105340003967, 0.012715315446257591, 0.09324564784765244, 0.19975779950618744, 0.07263919711112976, 0.732445240020752, 0.1289704442024231, 0.7700662612915039, 0.10142336040735245, 0.03207165002822876, 0.908696711063385, 0.06057978421449661, 0.9762368202209473, 0.02218720130622387, 0.02218720130622387, 0.047801584005355835, 0.9560316801071167, 0.44278398156166077, 0.5088711380958557, 0.04873928055167198, 0.5191791653633118, 0.3461194336414337, 0.17305971682071686, 0.04006827250123024, 0.9616385102272034, 0.04006827250123024, 0.9676051139831543, 0.031213069334626198, 0.8674874901771545, 0.005669853184372187, 0.1275716871023178, 0.1271965354681015, 0.25919294357299805, 0.6119833588600159, 0.33720314502716064, 0.23585793375968933, 0.42657119035720825, 0.9661836624145508, 0.029728727415204048, 0.019649861380457878, 0.9628431797027588, 0.019649861380457878, 0.9705181121826172, 0.17120078206062317, 0.007443511858582497, 0.8187863230705261, 0.9900351166725159, 0.008609001524746418, 0.008609001524746418, 0.04085767641663551, 0.9397265911102295, 0.9885850548744202, 0.9789779782295227, 0.021282130852341652, 0.16903847455978394, 0.6761538982391357, 0.029017249122262, 0.9575691819190979, 0.014508624561131, 0.9680821895599365, 0.021323395892977715, 0.012794037349522114, 0.9539955854415894, 0.03533317148685455, 0.017666585743427277, 0.6574110388755798, 0.036955058574676514, 0.3053654730319977, 0.9408456087112427, 0.0037041164468973875, 0.055561747401952744, 0.1603775918483734, 0.5569702386856079, 0.28221485018730164, 0.9821565747261047, 0.011833211407065392, 0.011833211407065392, 0.9488366842269897, 0.005967526230961084, 0.04177268221974373, 0.028113964945077896, 0.06559925526380539, 0.9183894991874695, 0.027876384556293488, 0.027876384556293488, 0.9477970600128174, 0.06744901090860367, 0.9105616807937622, 0.3390217125415802, 0.3122568428516388, 0.3488354980945587, 0.7016568183898926, 0.17541420459747314, 0.17541420459747314, 0.9710966348648071, 0.017656302079558372, 0.9617087244987488, 0.027477392926812172, 0.0937013030052185, 0.041645023971796036, 0.8537229895591736, 0.1678570806980133, 0.6714283227920532, 0.856116771697998, 0.06071750447154045, 0.08298058807849884, 0.1516311913728714, 0.43997901678085327, 0.40828561782836914, 0.8674847483634949, 0.06292635202407837, 0.07041759043931961, 0.6576058864593506, 0.1241060420870781, 0.21855151653289795, 0.6393290162086487, 0.09375841170549393, 0.26724839210510254, 0.9731518626213074, 0.023735411465168, 0.9712879657745361, 0.030352748930454254, 0.09571224451065063, 0.8682467937469482, 0.03760123997926712, 0.9480883479118347, 0.0498993881046772, 0.008316564373672009, 0.5175511837005615, 0.1725170761346817, 0.3450341522693634, 0.018902715295553207, 0.037805430591106415, 0.9356844425201416, 0.2832077443599701, 0.009062647819519043, 0.7091522216796875, 0.03840559720993042, 0.9436803460121155, 0.016459541395306587, 0.49884119629859924, 0.12495922297239304, 0.3758733570575714, 0.06042914465069771, 0.9150699377059937, 0.025898205116391182, 0.9657104015350342, 0.0261002816259861, 0.31674107909202576, 0.2622838318347931, 0.4200986921787262, 0.1728922575712204, 0.6915690302848816, 0.15751570463180542, 0.39559289813041687, 0.44729650020599365, 0.7778217196464539, 0.13713660836219788, 0.08428187668323517, 0.1720559448003769, 0.5161678194999695, 0.1720559448003769, 0.7017175555229187, 0.17542938888072968, 0.3438386023044586, 0.3438386023044586, 0.1719193011522293, 0.3472551703453064, 0.520882785320282, 0.3431311547756195, 0.5146967172622681, 0.17156557738780975, 0.34345680475234985, 0.5151851773262024, 0.17172840237617493, 0.8021724224090576, 0.14721515774726868, 0.05107464641332626, 0.34173575043678284, 0.34173575043678284, 0.34173575043678284, 0.3441954553127289, 0.36793309450149536, 0.2872251868247986, 0.5176607966423035, 0.34510722756385803, 0.9145580530166626, 0.06159268692135811, 0.022397341206669807, 0.959043025970459, 0.02040516957640648, 0.02040516957640648, 0.037160515785217285, 0.9661734700202942, 0.518491804599762, 0.3456611931324005, 0.8947104811668396, 0.06710328906774521, 0.033551644533872604, 0.5718886256217957, 0.23302604258060455, 0.19542622566223145, 0.1718827486038208, 0.5156482458114624, 0.1718827486038208, 0.8838675022125244, 0.17677348852157593, 0.34683191776275635, 0.5202478766441345, 0.5215747952461243, 0.17385827004909515, 0.17385827004909515, 0.5228139758110046, 0.5228139758110046, 0.04206026345491409, 0.9042956829071045, 0.052575331181287766, 0.5167523622512817, 0.17225079238414764, 0.3445015847682953, 0.7911316156387329, 0.10778360068798065, 0.10023874789476395, 0.6454296112060547, 0.23934081196784973, 0.11499858647584915, 0.7643370628356934, 0.14166200160980225, 0.09383399039506912, 0.38643723726272583, 0.32890936732292175, 0.28451284766197205, 0.5228022933006287, 0.17426742613315582, 0.17426742613315582, 0.6347637176513672, 0.16440705955028534, 0.20142586529254913, 0.27403023838996887, 0.43898046016693115, 0.2873326539993286, 0.44039487838745117, 0.36341068148612976, 0.19585683941841125, 0.03969945013523102, 0.15879780054092407, 0.8006055951118469, 0.3937308192253113, 0.1549791544675827, 0.4513244330883026, 0.8812323808670044, 0.17624646425247192, 0.34536367654800415, 0.5180454850196838, 0.17268183827400208, 0.06687135994434357, 0.7489591836929321, 0.1840929090976715, 0.9878885746002197, 0.8468371629714966, 0.04730289429426193, 0.10498934984207153, 0.07161948084831238, 0.33795443177223206, 0.5908607244491577, 0.0416763499379158, 0.9064606428146362, 0.0520954392850399, 0.19080622494220734, 0.07420241832733154, 0.7367240190505981, 0.3359672725200653, 0.5039508938789368, 0.9447387456893921, 0.04246016591787338, 0.02123008295893669, 0.03342479467391968, 0.9693189859390259, 0.5199230909347534, 0.17330770194530487, 0.17330770194530487, 0.7084922790527344, 0.23939920961856842, 0.051761992275714874, 0.4593910276889801, 0.12276829034090042, 0.4178082346916199, 0.44304659962654114, 0.3461970388889313, 0.21028660237789154, 0.6991821527481079, 0.17479553818702698, 0.17479553818702698, 0.3883764445781708, 0.29463040828704834, 0.31668829917907715, 0.7802541851997375, 0.11718837171792984, 0.10216422379016876, 0.04784752056002617, 0.9569503664970398, 0.970744788646698, 0.5213871598243713, 0.17379572987556458, 0.17379572987556458, 0.16762280464172363, 0.6704912185668945, 0.5477948188781738, 0.2804447412490845, 0.17186789214611053, 0.33957093954086304, 0.16978546977043152, 0.5093563795089722, 0.44453054666519165, 0.29129481315612793, 0.26387882232666016, 0.6489129662513733, 0.24531114101409912, 0.10592086613178253, 0.5645437240600586, 0.21597415208816528, 0.2194482684135437, 0.02505997009575367, 0.9522788524627686, 0.02505997009575367, 0.628074586391449, 0.26250606775283813, 0.10973118245601654, 0.9140190482139587, 0.0184030681848526, 0.06747791916131973, 0.3800286650657654, 0.26739922165870667, 0.3532121479511261, 0.7507795691490173, 0.16479279100894928, 0.08495528995990753, 0.9690336585044861, 0.8821724057197571, 0.07777338474988937, 0.03999774158000946, 0.3428417444229126, 0.1714208722114563, 0.3428417444229126, 0.9824290871620178, 0.6555114984512329, 0.1705363392829895, 0.17371651530265808, 0.18922492861747742, 0.287026584148407, 0.5240892767906189, 0.8668771386146545, 0.061732158064842224, 0.07223976403474808, 0.17265261709690094, 0.6906104683876038, 0.16324494779109955, 0.10882996022701263, 0.7315791845321655, 0.21666088700294495, 0.2730279564857483, 0.5108264684677124, 0.8778130412101746, 0.07479124516248703, 0.047236572951078415, 0.34431320428848267, 0.34431320428848267, 0.17215660214424133, 0.5198153853416443, 0.1732717901468277, 0.3465435802936554, 0.10727473348379135, 0.2524111568927765, 0.6415449976921082, 0.028651133179664612, 0.9741384983062744, 0.028651133179664612, 0.08674139529466629, 0.2313103973865509, 0.6823656558990479, 0.8294706344604492, 0.09880121052265167, 0.07352647930383682, 0.03343212604522705, 0.9695315957069397, 0.9664371609687805, 0.029736528173089027, 0.7016311883926392, 0.3508155941963196, 0.9431819915771484, 0.26911383867263794, 0.3374601900577545, 0.3935255706310272, 0.16886861622333527, 0.16886861622333527, 0.6754744648933411, 0.04293239116668701, 0.9302017688751221, 0.028621593490242958, 0.17150579392910004, 0.5145174264907837, 0.17150579392910004, 0.34241992235183716, 0.17120996117591858, 0.5136298537254333, 0.757736086845398, 0.09865641593933105, 0.14387394487857819, 0.7013341188430786, 0.17533352971076965, 0.8648568987846375, 0.10345178097486496, 0.031035535037517548, 0.9221912622451782, 0.04885781556367874, 0.030536135658621788, 0.9809907674789429, 0.020872144028544426, 0.4735967218875885, 0.37008124589920044, 0.15661409497261047, 0.4147018492221832, 0.3083888590335846, 0.27673840522766113, 0.23268583416938782, 0.7025903463363647, 0.0649707168340683, 0.04986633360385895, 0.861327588558197, 0.09066606312990189, 0.6560066342353821, 0.2832047641277313, 0.06077021360397339, 0.1184772327542305, 0.2716805636882782, 0.610770583152771, 0.0920565202832222, 0.6606825590133667, 0.24713635444641113, 0.040798258036375046, 0.040798258036375046, 0.9383599162101746, 0.17037510871887207, 0.6815004348754883, 0.17037510871887207, 0.7015412449836731, 0.35077062249183655, 0.8795658349990845, 0.17591316998004913, 0.3947603106498718, 0.23169109225273132, 0.37336206436157227, 0.5089617371559143, 0.3112093508243561, 0.17952634394168854, 0.5814847350120544, 0.24606429040431976, 0.17258942127227783], \"Term\": [\"'Altho\", \"'Altho\", \"'Give\", \"'Give\", \"'Sir\", \"'Sir\", \"'Sir\", \"'That\", \"'That\", \"'That\", \"'The\", \"'The\", \"'The\", \"18,000\", \"18,000\", \"800,000\", \"800,000\", \"Accompt\", \"Accompt\", \"Accompt\", \"Accompts\", \"Accompts\", \"Accompts\", \"Account\", \"Account\", \"Account\", \"Action\", \"Action\", \"Action\", \"Address\", \"Address\", \"Address\", \"After\", \"After\", \"After\", \"Aislabie\", \"Aislabie\", \"Allies\", \"Allies\", \"Allies\", \"American\", \"Army\", \"Army\", \"Army\", \"Arrests\", \"Bail\", \"Bail\", \"Barnard\", \"Barnard\", \"Bill\", \"Bill\", \"Bill\", \"Bloodshed\", \"Bloodshed\", \"Bloodshed\", \"Bolingbroke\", \"Bolingbroke\", \"Bottoms\", \"Bottoms\", \"Bottoms\", \"Britain\", \"Britain\", \"Britain\", \"Broderick\", \"Broderick\", \"Burton\", \"Burton\", \"Callicoes\", \"Callicoes\", \"Calumnies\", \"Calumnies\", \"Carmarthen\", \"Carmarthen\", \"Case\", \"Case\", \"Case\", \"Chambers\", \"Chambers\", \"Chambers\", \"ChiefJustice\", \"ChiefJustice\", \"ChiefJustice\", \"Clients\", \"Clients\", \"Cloathing\", \"Cloathing\", \"Cloathing\", \"Clouds\", \"Clouds\", \"Commissioners\", \"Commissioners\", \"Commissioners\", \"Commitments\", \"Committee\", \"Committee\", \"Committee\", \"CommonLaw\", \"CommonLaw\", \"CommonLaw\", \"Commons\", \"Commons\", \"Commons\", \"Company\", \"Company\", \"Company\", \"Compton\", \"Conference\", \"Conference\", \"Conference\", \"Consumption\", \"Consumption\", \"Consumption\", \"Conventicle\", \"Conventicles\", \"Conventicles\", \"Corpus\", \"Corpus\", \"Corpus\", \"Country\", \"Country\", \"Country\", \"Craggs\", \"Craggs\", \"Craggs\", \"Crown\", \"Crown\", \"Crown\", \"Danby\", \"Danby\", \"Danby\", \"Debentures\", \"Debentures\", \"Debentures\", \"Decrease\", \"Demolition\", \"Devices\", \"Devices\", \"Directors\", \"Directors\", \"Directors\", \"Discoverer\", \"Discoverer\", \"Discoverer\", \"Disgust\", \"Disgust\", \"Disgust\", \"Duke\", \"Duke\", \"Duke\", \"Dust\", \"Dust\", \"Duties\", \"Duties\", \"Duties\", \"England\", \"England\", \"England\", \"Error\", \"Error\", \"Error\", \"Extraordinaries\", \"Extraordinaries\", \"Farrer\", \"Farrer\", \"Fool\", \"Fool\", \"Forage\", \"Forage\", \"Forage\", \"Formation\", \"GEORGE\", \"General\", \"General\", \"General\", \"Gentleman\", \"Gentleman\", \"Gentleman\", \"Gentlemen\", \"Gentlemen\", \"Gentlemen\", \"Government\", \"Government\", \"Government\", \"Great\", \"Great\", \"Great\", \"GreatBritain\", \"GreatBritain\", \"GreatBritain\", \"Habeas\", \"Habeas\", \"Habeas\", \"Hallifax\", \"Hallifax\", \"Hanmer\", \"Hanmer\", \"Hanmer\", \"Hanover\", \"Hanover\", \"Hanover\", \"Harwich\", \"Harwich\", \"Hereupon\", \"Hereupon\", \"Hereupon\", \"HighSteward\", \"HighSteward\", \"HighTreason\", \"HighTreason\", \"HighTreason\", \"House\", \"House\", \"House\", \"Houses\", \"Houses\", \"Houses\", \"Howard\", \"Hungerford\", \"Hungerford\", \"Hungerford\", \"Hutcheson\", \"Hutcheson\", \"Imprests\", \"Imprests\", \"Interest\", \"Interest\", \"Interest\", \"Judges\", \"Judges\", \"Judges\", \"Judgment\", \"Judgment\", \"Judgment\", \"Judicature\", \"Judicature\", \"Judicature\", \"Kinds\", \"King'sBench\", \"King'sBench\", \"King'sBench\", \"Kingdom\", \"Kingdom\", \"Kingdom\", \"Labourers\", \"Landed\", \"Landed\", \"Landed\", \"Laws\", \"Laws\", \"Laws\", \"Lechmere\", \"Lechmere\", \"Lechmere\", \"Liquors\", \"Liquors\", \"Liquors\", \"Lockhart\", \"Lockhart\", \"Lord\", \"Lord\", \"Lord\", \"LordChancellor\", \"LordChancellor\", \"LordChancellor\", \"Lords\", \"Lords\", \"Lords\", \"Lordships\", \"Lordships\", \"Lordships\", \"Lorrain\", \"Lorrain\", \"Lorrain\", \"Lowndes\", \"Lowndes\", \"Lutwyche\", \"Luxury\", \"MajorGeneral\", \"MajorGeneral\", \"Market\", \"Market\", \"Market\", \"Merchandizes\", \"Merchandizes\", \"Merchandizes\", \"Methuen\", \"Methuen\", \"Mobs\", \"Mobs\", \"Molesworth\", \"Molesworth\", \"Money\", \"Money\", \"Money\", \"Monk\", \"Monmouth\", \"Monmouth\", \"Morality\", \"Morality\", \"Motion\", \"Motion\", \"Motion\", \"Nation\", \"Nation\", \"Nation\", \"Newgate\", \"Newgate\", \"Newgate\", \"Noes\", \"Noes\", \"Noes\", \"Oates\", \"Oates\", \"Odium\", \"Odium\", \"Papists\", \"Papists\", \"Papists\", \"Part\", \"Part\", \"Part\", \"Peace\", \"Peace\", \"Peace\", \"Pembrokeshire\", \"Pengelly\", \"People\", \"People\", \"People\", \"Person\", \"Person\", \"Person\", \"Persons\", \"Persons\", \"Persons\", \"Plot\", \"Plot\", \"Plot\", \"Plumer\", \"Plumer\", \"PollBill\", \"PollBill\", \"PollBill\", \"PollTax\", \"Popery\", \"Popery\", \"Popery\", \"Popish\", \"Popish\", \"Popish\", \"Portland\", \"Portland\", \"Portugal\", \"Portugal\", \"Portugal\", \"Power\", \"Power\", \"Power\", \"Powle\", \"Price\", \"Price\", \"Price\", \"Proceedings\", \"Proceedings\", \"Proceedings\", \"Protestant\", \"Protestant\", \"Protestant\", \"Queen\", \"Queen\", \"Queen\", \"Reason\", \"Reason\", \"Reason\", \"Reduction\", \"Reduction\", \"Reduction\", \"Regiments\", \"Regiments\", \"Regiments\", \"Religion\", \"Religion\", \"Religion\", \"Resolved\", \"Resolved\", \"Resolved\", \"Retail\", \"Retail\", \"Retail\", \"Reversal\", \"Reversal\", \"Right\", \"Right\", \"Right\", \"Ruins\", \"Ruins\", \"Ruins\", \"Russel\", \"Russel\", \"Russel\", \"Sake\", \"Sake\", \"Scheme\", \"Scheme\", \"Scheme\", \"Scotland\", \"Scotland\", \"Scotland\", \"Service\", \"Service\", \"Service\", \"Seville\", \"Seville\", \"Seymour\", \"Seymour\", \"Seymour\", \"Shape\", \"Shippen\", \"Shippen\", \"Shippen\", \"SinkingFund\", \"SinkingFund\", \"SinkingFund\", \"Sloper\", \"Sloper\", \"Smugglers\", \"Smuggling\", \"Smuggling\", \"Sollicitations\", \"Sollicitations\", \"Somers\", \"Somers\", \"Somers\", \"Sort\", \"Sort\", \"Sort\", \"Sorts\", \"Sorts\", \"Sorts\", \"Spain\", \"Spain\", \"Spain\", \"Spaniards\", \"Spaniards\", \"Spaniards\", \"Speaker\", \"Speaker\", \"Speaker\", \"Spirituous\", \"Spirituous\", \"Spirituous\", \"Standing\", \"Standing\", \"Standing\", \"Stanhope\", \"Stanhope\", \"Stanhope\", \"Steele\", \"Steele\", \"Steele\", \"Strafford\", \"Strafford\", \"Subjects\", \"Subjects\", \"Subjects\", \"Sufficiency\", \"Sufficiency\", \"Sufficiency\", \"SugarColonies\", \"SugarColonies\", \"Surely\", \"Surely\", \"Sweden\", \"Sweden\", \"Sweden\", \"Taunton\", \"Taunton\", \"Taxes\", \"Taxes\", \"Taxes\", \"That\", \"That\", \"That\", \"Thing\", \"Thing\", \"Thing\", \"Time\", \"Time\", \"Time\", \"Trade\", \"Trade\", \"Trade\", \"Trader\", \"Trader\", \"Trevor\", \"Trevor\", \"Trial\", \"Trial\", \"Trial\", \"Triennial\", \"Triennial\", \"Triennial\", \"Villainy\", \"Villainy\", \"Villainy\", \"Voices\", \"Voices\", \"Voices\", \"Walpole\", \"Walpole\", \"Walpole\", \"Writ\", \"Writ\", \"Writ\", \"Year\", \"Year\", \"Year\", \"Yeas\", \"Yeas\", \"Yeas\", \"abolishing\", \"abolishing\", \"agreed\", \"agreed\", \"agreed\", \"allay\", \"allay\", \"also\", \"also\", \"also\", \"always\", \"always\", \"always\", \"annoy\", \"annoy\", \"annoy\", \"artificial\", \"artificial\", \"assessed\", \"assessed\", \"assessed\", \"backed\", \"backed\", \"behav\", \"behav\", \"behav\", \"behold\", \"behold\", \"behold\", \"believe\", \"believe\", \"believe\", \"blackest\", \"blackest\", \"blackest\", \"brought\", \"brought\", \"brought\", \"cancelled\", \"cancelled\", \"certainly\", \"certainly\", \"certainly\", \"cheap\", \"cheap\", \"cheap\", \"cited\", \"cited\", \"connived\", \"connived\", \"convinced\", \"convinced\", \"convinced\", \"could\", \"could\", \"could\", \"countenancing\", \"countenancing\", \"countenancing\", \"courted\", \"courted\", \"deliberately\", \"deliberately\", \"depress\", \"depress\", \"depress\", \"discussed\", \"discussed\", \"doth\", \"doth\", \"doth\", \"dwell\", \"dwell\", \"dwell\", \"even\", \"even\", \"even\", \"ever\", \"ever\", \"ever\", \"every\", \"every\", \"every\", \"first\", \"first\", \"first\", \"fore\", \"fore\", \"fore\", \"general\", \"general\", \"general\", \"given\", \"given\", \"given\", \"good\", \"good\", \"good\", \"grand\", \"grand\", \"grand\", \"granted\", \"granted\", \"granted\", \"groans\", \"groans\", \"harmless\", \"harmless\", \"harmless\", \"hath\", \"hath\", \"hath\", \"hears\", \"honourable\", \"honourable\", \"honourable\", \"hundred\", \"hundred\", \"hundred\", \"impeached\", \"impeached\", \"impeached\", \"imported\", \"imported\", \"imported\", \"impoverished\", \"impoverished\", \"independent\", \"independent\", \"independent\", \"indicted\", \"indicted\", \"intreat\", \"intreat\", \"intreat\", \"know\", \"know\", \"know\", \"laid\", \"laid\", \"laid\", \"last\", \"last\", \"last\", \"lasts\", \"lasts\", \"lasts\", \"late\", \"late\", \"late\", \"least\", \"least\", \"least\", \"legislative\", \"legislative\", \"loading\", \"loses\", \"loses\", \"loses\", \"mainly\", \"mainly\", \"many\", \"many\", \"many\", \"merited\", \"merited\", \"merited\", \"might\", \"might\", \"might\", \"much\", \"much\", \"much\", \"necessary\", \"necessary\", \"necessary\", \"necessity\", \"necessity\", \"necessity\", \"never\", \"never\", \"never\", \"numerous\", \"numerous\", \"numerous\", \"order\", \"order\", \"order\", \"ought\", \"ought\", \"ought\", \"overturned\", \"perhaps\", \"perhaps\", \"perhaps\", \"perpetuated\", \"perpetuated\", \"perpetuated\", \"plundered\", \"present\", \"present\", \"present\", \"presented\", \"presented\", \"presented\", \"proposed\", \"proposed\", \"proposed\", \"proroguing\", \"proroguing\", \"pursuant\", \"pursuant\", \"pursuant\", \"read\", \"read\", \"read\", \"really\", \"really\", \"really\", \"reciting\", \"reciting\", \"reciting\", \"recruit\", \"recruit\", \"recruit\", \"reported\", \"reported\", \"reported\", \"reports\", \"reports\", \"reports\", \"resolv\", \"resolv\", \"resolv\", \"respect\", \"respect\", \"respect\", \"reversed\", \"reversed\", \"ridiculous\", \"ridiculous\", \"scarcely\", \"scarcely\", \"selfish\", \"several\", \"several\", \"several\", \"shipped\", \"shipped\", \"shipped\", \"shou\", \"shou\", \"shou\", \"specify\", \"specify\", \"specify\", \"spirited\", \"spirited\", \"spirited\", \"spoke\", \"spoke\", \"spoke\", \"substitute\", \"substitute\", \"suppose\", \"suppose\", \"suppose\", \"surely\", \"surely\", \"surely\", \"surprised\", \"surprised\", \"take\", \"take\", \"take\", \"taken\", \"taken\", \"taken\", \"thing\", \"thing\", \"thing\", \"things\", \"things\", \"things\", \"think\", \"think\", \"think\", \"thousand\", \"thousand\", \"thousand\", \"time\", \"time\", \"time\", \"traiterous\", \"traiterous\", \"traiterous\", \"unlikely\", \"unlikely\", \"unlikely\", \"unruly\", \"unruly\", \"unthinking\", \"unthinking\", \"whole\", \"whole\", \"whole\", \"without\", \"without\", \"without\", \"would\", \"would\", \"would\"]}, \"R\": 30, \"lambda.step\": 0.01, \"plot.opts\": {\"xlab\": \"PC1\", \"ylab\": \"PC2\"}, \"topic.order\": [5, 1, 3, 2, 4]};\n",
       "\n",
       "function LDAvis_load_lib(url, callback){\n",
       "  var s = document.createElement('script');\n",
       "  s.src = url;\n",
       "  s.async = true;\n",
       "  s.onreadystatechange = s.onload = callback;\n",
       "  s.onerror = function(){console.warn(\"failed to load library \" + url);};\n",
       "  document.getElementsByTagName(\"head\")[0].appendChild(s);\n",
       "}\n",
       "\n",
       "if(typeof(LDAvis) !== \"undefined\"){\n",
       "   // already loaded: just create the visualization\n",
       "   !function(LDAvis){\n",
       "       new LDAvis(\"#\" + \"ldavis_el109491121381141762761793057\", ldavis_el109491121381141762761793057_data);\n",
       "   }(LDAvis);\n",
       "}else if(typeof define === \"function\" && define.amd){\n",
       "   // require.js is available: use it to load d3/LDAvis\n",
       "   require.config({paths: {d3: \"https://cdnjs.cloudflare.com/ajax/libs/d3/3.5.5/d3.min\"}});\n",
       "   require([\"d3\"], function(d3){\n",
       "      window.d3 = d3;\n",
       "      LDAvis_load_lib(\"https://cdn.rawgit.com/bmabey/pyLDAvis/files/ldavis.v1.0.0.js\", function(){\n",
       "        new LDAvis(\"#\" + \"ldavis_el109491121381141762761793057\", ldavis_el109491121381141762761793057_data);\n",
       "      });\n",
       "    });\n",
       "}else{\n",
       "    // require.js not available: dynamically load d3 & LDAvis\n",
       "    LDAvis_load_lib(\"https://cdnjs.cloudflare.com/ajax/libs/d3/3.5.5/d3.min.js\", function(){\n",
       "         LDAvis_load_lib(\"https://cdn.rawgit.com/bmabey/pyLDAvis/files/ldavis.v1.0.0.js\", function(){\n",
       "                 new LDAvis(\"#\" + \"ldavis_el109491121381141762761793057\", ldavis_el109491121381141762761793057_data);\n",
       "            })\n",
       "         });\n",
       "}\n",
       "</script>"
      ],
      "text/plain": [
       "<IPython.core.display.HTML object>"
      ]
     },
     "execution_count": 26,
     "metadata": {},
     "output_type": "execute_result"
    }
   ],
   "source": [
    "# visualize same as before\n",
    "\n",
    "import pyLDAvis\n",
    "import pyLDAvis.gensim\n",
    "vis = pyLDAvis.gensim.prepare(proceedings_lda, proceedings_corp, proceedings_dict)\n",
    "pyLDAvis.display(vis)"
   ]
  },
  {
   "cell_type": "code",
   "execution_count": 27,
   "metadata": {},
   "outputs": [],
   "source": [
    "# the actual fitted model also has some methods for extracting topic and term information.\n",
    "#dir(proceedings_lda)"
   ]
  },
  {
   "cell_type": "code",
   "execution_count": 28,
   "metadata": {},
   "outputs": [],
   "source": [
    "# it also has a built pickler\n",
    "proceedings_lda.save('vanilla_model1')"
   ]
  },
  {
   "cell_type": "code",
   "execution_count": 29,
   "metadata": {},
   "outputs": [
    {
     "data": {
      "text/plain": [
       "[(0,\n",
       "  '0.016*\"House\" + 0.011*\"Lords\" + 0.011*\"Commons\" + 0.010*\"That\" + 0.007*\"Bill\" + 0.006*\"would\" + 0.005*\"hath\" + 0.004*\"time\" + 0.004*\"Lordships\" + 0.004*\"\\'That\"'),\n",
       " (1,\n",
       "  '0.005*\"House\" + 0.004*\"would\" + 0.002*\"Commons\" + 0.002*\"That\" + 0.002*\"Bill\" + 0.002*\"People\" + 0.002*\"Time\" + 0.002*\"might\" + 0.002*\"Gentlemen\" + 0.002*\"\\'That\"'),\n",
       " (2,\n",
       "  '0.018*\"House\" + 0.012*\"That\" + 0.006*\"Commons\" + 0.006*\"\\'That\" + 0.006*\"Bill\" + 0.006*\"Committee\" + 0.006*\"would\" + 0.005*\"Year\" + 0.005*\"several\" + 0.004*\"read\"'),\n",
       " (3,\n",
       "  '0.004*\"House\" + 0.003*\"would\" + 0.003*\"That\" + 0.002*\"much\" + 0.002*\"think\" + 0.002*\"Bill\" + 0.002*\"Time\" + 0.002*\"without\" + 0.002*\"Nation\" + 0.002*\"People\"'),\n",
       " (4,\n",
       "  '0.010*\"would\" + 0.009*\"House\" + 0.007*\"People\" + 0.006*\"Nation\" + 0.006*\"Time\" + 0.006*\"think\" + 0.006*\"every\" + 0.006*\"present\" + 0.006*\"much\" + 0.006*\"Gentleman\"')]"
      ]
     },
     "execution_count": 29,
     "metadata": {},
     "output_type": "execute_result"
    }
   ],
   "source": [
    "proceedings_lda.print_topics()"
   ]
  },
  {
   "cell_type": "code",
   "execution_count": 30,
   "metadata": {},
   "outputs": [
    {
     "data": {
      "text/plain": [
       "'0.018*\"House\" + 0.012*\"That\" + 0.006*\"Commons\" + 0.006*\"\\'That\" + 0.006*\"Bill\" + 0.006*\"Committee\" + 0.006*\"would\" + 0.005*\"Year\" + 0.005*\"several\" + 0.004*\"read\"'"
      ]
     },
     "execution_count": 30,
     "metadata": {},
     "output_type": "execute_result"
    }
   ],
   "source": [
    "proceedings_lda.print_topic(2)"
   ]
  },
  {
   "cell_type": "code",
   "execution_count": null,
   "metadata": {},
   "outputs": [],
   "source": []
  },
  {
   "cell_type": "markdown",
   "metadata": {},
   "source": [
    "***\n",
    "***\n",
    "\n",
    "### 4. DYNAMIC TOPIC MODELS\n",
    "\n",
    "Here's a key intuition:\n",
    "\n",
    "1. Are you using topic models to explain some outcome (STM)?\n",
    "2. Is the topic model itself the outcome worth explaining? In this case, DTM makes sense.\n",
    "\n",
    "https://radimrehurek.com/gensim/models/ldaseqmodel.html\n",
    "\n",
    "All we need for gensim is a split of which docs into which time periods.\n",
    "\n",
    "<img src=\"images/dtm_plates.png\" style=\"width: 500px\" />\n",
    "\n",
    "**DOCUMENTS MUST BE IN CHRONOLOGICAL ORDER**\n",
    "\n",
    "I did a modified version of monarch-to-monarch splits. For me: pre-Glorious Revolution, post-Glorious Revoution to Queen Anne and Treaty of Union, and then from her inauguration to the South Sea Bubble, and then post-South Sea Bubble.\n",
    "\n",
    "<font color=purple>\n",
    "    \n",
    "#### This will take a while. Sometimes several days. GET A RCE ACCOUNT.\n",
    "\n",
    "https://github.com/RaRe-Technologies/gensim/issues/1545"
   ]
  },
  {
   "cell_type": "code",
   "execution_count": 31,
   "metadata": {},
   "outputs": [
    {
     "data": {
      "text/plain": [
       "28"
      ]
     },
     "execution_count": 31,
     "metadata": {},
     "output_type": "execute_result"
    }
   ],
   "source": [
    "len(df_texts.date.tolist()[:28])"
   ]
  },
  {
   "cell_type": "code",
   "execution_count": 32,
   "metadata": {},
   "outputs": [
    {
     "data": {
      "text/plain": [
       "16"
      ]
     },
     "execution_count": 32,
     "metadata": {},
     "output_type": "execute_result"
    }
   ],
   "source": [
    "len(df_texts.date.tolist()[28:44])"
   ]
  },
  {
   "cell_type": "code",
   "execution_count": 33,
   "metadata": {},
   "outputs": [
    {
     "data": {
      "text/plain": [
       "35"
      ]
     },
     "execution_count": 33,
     "metadata": {},
     "output_type": "execute_result"
    }
   ],
   "source": [
    "len(df_texts.date.tolist()[44:79])"
   ]
  },
  {
   "cell_type": "code",
   "execution_count": 34,
   "metadata": {},
   "outputs": [
    {
     "data": {
      "text/plain": [
       "31"
      ]
     },
     "execution_count": 34,
     "metadata": {},
     "output_type": "execute_result"
    }
   ],
   "source": [
    "len(df_texts.date.tolist()[80:])"
   ]
  },
  {
   "cell_type": "code",
   "execution_count": 35,
   "metadata": {},
   "outputs": [
    {
     "name": "stderr",
     "output_type": "stream",
     "text": [
      "/Users/zwehrwein/anaconda3/lib/python3.6/site-packages/gensim/models/ldaseqmodel.py:230: RuntimeWarning: divide by zero encountered in double_scalars\n",
      "  convergence = np.fabs((bound - old_bound) / old_bound)\n"
     ]
    },
    {
     "name": "stdout",
     "output_type": "stream",
     "text": [
      "CPU times: user 1h 29min 51s, sys: 13.8 s, total: 1h 30min 5s\n",
      "Wall time: 1h 29min 59s\n"
     ]
    }
   ],
   "source": [
    "%%time\n",
    "from gensim.models.ldaseqmodel import LdaSeqModel\n",
    "\n",
    "proceedings_dtm1 = LdaSeqModel(corpus = proceedings_corp,\n",
    "                               id2word = proceedings_dict,\n",
    "                               time_slice = [28,16,35,31],\n",
    "                               num_topics=4,\n",
    "                               random_state = 1\n",
    "                              )"
   ]
  },
  {
   "cell_type": "code",
   "execution_count": 36,
   "metadata": {},
   "outputs": [],
   "source": [
    "# pickle it\n",
    "proceedings_dtm1.save(\"proceedings_dtm1\")"
   ]
  },
  {
   "cell_type": "code",
   "execution_count": 37,
   "metadata": {},
   "outputs": [
    {
     "data": {
      "text/plain": [
       "<gensim.models.ldaseqmodel.LdaSeqModel at 0x1a265ae9e8>"
      ]
     },
     "execution_count": 37,
     "metadata": {},
     "output_type": "execute_result"
    }
   ],
   "source": [
    "proceedings_dtm1.load('proceedings_dtm1')"
   ]
  },
  {
   "cell_type": "code",
   "execution_count": 38,
   "metadata": {},
   "outputs": [],
   "source": [
    "#dir(proceedings_dtm1)"
   ]
  },
  {
   "cell_type": "markdown",
   "metadata": {},
   "source": [
    "<font color=darkblue>\n",
    "    \n",
    "Our results are in two interesting dimensions:\n",
    "\n",
    "1. Prevalance of topics over time.\n",
    "2. Evolution of particular topics."
   ]
  },
  {
   "cell_type": "code",
   "execution_count": 39,
   "metadata": {},
   "outputs": [
    {
     "name": "stderr",
     "output_type": "stream",
     "text": [
      "/Users/zwehrwein/anaconda3/lib/python3.6/site-packages/pyLDAvis/_prepare.py:387: DeprecationWarning: \n",
      ".ix is deprecated. Please use\n",
      ".loc for label based indexing or\n",
      ".iloc for positional indexing\n",
      "\n",
      "See the documentation here:\n",
      "http://pandas.pydata.org/pandas-docs/stable/indexing.html#ix-indexer-is-deprecated\n",
      "  topic_term_dists = topic_term_dists.ix[topic_order]\n"
     ]
    },
    {
     "data": {
      "text/html": [
       "\n",
       "<link rel=\"stylesheet\" type=\"text/css\" href=\"https://cdn.rawgit.com/bmabey/pyLDAvis/files/ldavis.v1.0.0.css\">\n",
       "\n",
       "\n",
       "<div id=\"ldavis_el109491123284211926332933019\"></div>\n",
       "<script type=\"text/javascript\">\n",
       "\n",
       "var ldavis_el109491123284211926332933019_data = {\"mdsDat\": {\"Freq\": [32.835029620865456, 31.21060240990408, 22.631680130185558, 13.322687839044917], \"cluster\": [1, 1, 1, 1], \"topics\": [1, 2, 3, 4], \"x\": [-0.08341244039206494, -0.09159258954423483, 0.06272508034602439, 0.11227994959027547], \"y\": [-0.08504682464597008, 0.06819651796142104, 0.055284559120688366, -0.03843425243613917]}, \"tinfo\": {\"Category\": [\"Default\", \"Default\", \"Default\", \"Default\", \"Default\", \"Default\", \"Default\", \"Default\", \"Default\", \"Default\", \"Default\", \"Default\", \"Default\", \"Default\", \"Default\", \"Default\", \"Default\", \"Default\", \"Default\", \"Default\", \"Default\", \"Default\", \"Default\", \"Default\", \"Default\", \"Default\", \"Default\", \"Default\", \"Default\", \"Default\", \"Topic1\", \"Topic1\", \"Topic1\", \"Topic1\", \"Topic1\", \"Topic1\", \"Topic1\", \"Topic1\", \"Topic1\", \"Topic1\", \"Topic1\", \"Topic1\", \"Topic1\", \"Topic1\", \"Topic1\", \"Topic1\", \"Topic1\", \"Topic1\", \"Topic1\", \"Topic1\", \"Topic1\", \"Topic1\", \"Topic1\", \"Topic1\", \"Topic1\", \"Topic1\", \"Topic1\", \"Topic1\", \"Topic1\", \"Topic1\", \"Topic1\", \"Topic1\", \"Topic1\", \"Topic1\", \"Topic1\", \"Topic1\", \"Topic1\", \"Topic1\", \"Topic1\", \"Topic1\", \"Topic1\", \"Topic1\", \"Topic1\", \"Topic1\", \"Topic1\", \"Topic1\", \"Topic1\", \"Topic1\", \"Topic1\", \"Topic1\", \"Topic1\", \"Topic1\", \"Topic1\", \"Topic1\", \"Topic1\", \"Topic1\", \"Topic1\", \"Topic1\", \"Topic1\", \"Topic1\", \"Topic1\", \"Topic1\", \"Topic1\", \"Topic1\", \"Topic1\", \"Topic1\", \"Topic1\", \"Topic1\", \"Topic1\", \"Topic1\", \"Topic1\", \"Topic1\", \"Topic1\", \"Topic1\", \"Topic1\", \"Topic1\", \"Topic1\", \"Topic1\", \"Topic1\", \"Topic1\", \"Topic1\", \"Topic1\", \"Topic1\", \"Topic1\", \"Topic1\", \"Topic1\", \"Topic2\", \"Topic2\", \"Topic2\", \"Topic2\", \"Topic2\", \"Topic2\", \"Topic2\", \"Topic2\", \"Topic2\", \"Topic2\", \"Topic2\", \"Topic2\", \"Topic2\", \"Topic2\", \"Topic2\", \"Topic2\", \"Topic2\", \"Topic2\", \"Topic2\", \"Topic2\", \"Topic2\", \"Topic2\", \"Topic2\", \"Topic2\", \"Topic2\", \"Topic2\", \"Topic2\", \"Topic2\", \"Topic2\", \"Topic2\", \"Topic2\", \"Topic2\", \"Topic2\", \"Topic2\", \"Topic2\", \"Topic2\", \"Topic2\", \"Topic2\", \"Topic2\", \"Topic2\", \"Topic2\", \"Topic2\", \"Topic2\", \"Topic2\", \"Topic2\", \"Topic2\", \"Topic2\", \"Topic2\", \"Topic2\", \"Topic2\", \"Topic2\", \"Topic2\", \"Topic2\", \"Topic2\", \"Topic2\", \"Topic2\", \"Topic2\", \"Topic2\", \"Topic2\", \"Topic2\", \"Topic2\", \"Topic2\", \"Topic2\", \"Topic2\", \"Topic2\", \"Topic2\", \"Topic2\", \"Topic2\", \"Topic2\", \"Topic2\", \"Topic2\", \"Topic2\", \"Topic2\", \"Topic2\", \"Topic2\", \"Topic2\", \"Topic2\", \"Topic2\", \"Topic2\", \"Topic2\", \"Topic2\", \"Topic3\", \"Topic3\", \"Topic3\", \"Topic3\", \"Topic3\", \"Topic3\", \"Topic3\", \"Topic3\", \"Topic3\", \"Topic3\", \"Topic3\", \"Topic3\", \"Topic3\", \"Topic3\", \"Topic3\", \"Topic3\", \"Topic3\", \"Topic3\", \"Topic3\", \"Topic3\", \"Topic3\", \"Topic3\", \"Topic3\", \"Topic3\", \"Topic3\", \"Topic3\", \"Topic3\", \"Topic3\", \"Topic3\", \"Topic3\", \"Topic3\", \"Topic3\", \"Topic3\", \"Topic3\", \"Topic3\", \"Topic3\", \"Topic3\", \"Topic3\", \"Topic3\", \"Topic3\", \"Topic3\", \"Topic3\", \"Topic3\", \"Topic3\", \"Topic3\", \"Topic3\", \"Topic3\", \"Topic3\", \"Topic3\", \"Topic3\", \"Topic3\", \"Topic3\", \"Topic3\", \"Topic3\", \"Topic3\", \"Topic3\", \"Topic3\", \"Topic3\", \"Topic3\", \"Topic3\", \"Topic3\", \"Topic3\", \"Topic3\", \"Topic3\", \"Topic3\", \"Topic3\", \"Topic3\", \"Topic3\", \"Topic3\", \"Topic3\", \"Topic3\", \"Topic3\", \"Topic3\", \"Topic3\", \"Topic3\", \"Topic3\", \"Topic3\", \"Topic3\", \"Topic3\", \"Topic3\", \"Topic3\", \"Topic4\", \"Topic4\", \"Topic4\", \"Topic4\", \"Topic4\", \"Topic4\", \"Topic4\", \"Topic4\", \"Topic4\", \"Topic4\", \"Topic4\", \"Topic4\", \"Topic4\", \"Topic4\", \"Topic4\", \"Topic4\", \"Topic4\", \"Topic4\", \"Topic4\", \"Topic4\", \"Topic4\", \"Topic4\", \"Topic4\", \"Topic4\", \"Topic4\", \"Topic4\", \"Topic4\", \"Topic4\", \"Topic4\", \"Topic4\", \"Topic4\", \"Topic4\", \"Topic4\", \"Topic4\", \"Topic4\", \"Topic4\", \"Topic4\", \"Topic4\", \"Topic4\", \"Topic4\", \"Topic4\", \"Topic4\", \"Topic4\", \"Topic4\", \"Topic4\", \"Topic4\", \"Topic4\", \"Topic4\", \"Topic4\", \"Topic4\", \"Topic4\", \"Topic4\", \"Topic4\", \"Topic4\", \"Topic4\", \"Topic4\", \"Topic4\", \"Topic4\", \"Topic4\", \"Topic4\", \"Topic4\", \"Topic4\", \"Topic4\", \"Topic4\", \"Topic4\", \"Topic4\", \"Topic4\", \"Topic4\", \"Topic4\", \"Topic4\", \"Topic4\", \"Topic4\", \"Topic4\", \"Topic4\", \"Topic4\", \"Topic4\", \"Topic4\", \"Topic4\", \"Topic4\", \"Topic4\", \"Topic4\", \"Topic4\", \"Topic4\", \"Topic4\", \"Topic4\", \"Topic4\"], \"Freq\": [1796.0, 826.0, 1010.0, 366.0, 432.0, 487.0, 1264.0, 269.0, 433.0, 656.0, 609.0, 577.0, 318.0, 605.0, 438.0, 498.0, 376.0, 321.0, 619.0, 299.0, 596.0, 309.0, 286.0, 453.0, 234.0, 161.0, 102.0, 240.0, 221.0, 98.0, 29.612130352067634, 44.2466730961488, 30.339321756418908, 18.053423007519815, 22.874934891219162, 14.609212807449415, 17.411885272934267, 16.812723436773634, 8.985530581046996, 16.97131431048005, 13.098073069998092, 10.643567048539618, 12.427385676171168, 8.75010135586203, 13.049298664051824, 10.507810908779701, 10.450616115894794, 10.76807427814575, 8.437320547057416, 8.876446241310523, 9.616572052376307, 18.980762665359933, 8.421158201220432, 8.863867959902354, 11.939320223538616, 8.819733027142346, 11.758469645467635, 11.619502931810825, 8.427948720877986, 11.033529669952058, 24.059376588716496, 202.74357927186097, 99.65074407592915, 121.65695137697435, 14.18687713198544, 25.040219631793477, 40.19732325159, 58.737602089583305, 121.95966413925508, 1283.7602998637358, 25.696465599852743, 20.48101852455801, 220.6347792117479, 135.95815368500587, 46.19815068783702, 41.76514118873396, 57.51386356912581, 99.5778018654155, 111.03472339140139, 161.7181877727189, 394.71828248757663, 252.79152417055224, 102.09866748417764, 215.85905256211106, 113.98656882183302, 90.49138797954738, 131.13970645422225, 84.8811624488832, 116.21423753069709, 104.44523851486595, 341.7095706923499, 1092.4882188505487, 271.09092176571863, 298.1557931495186, 102.86556922419707, 181.589695413873, 144.1009357469952, 267.79892119885807, 150.71779706343906, 394.8890031012518, 389.74498762058715, 186.2311089080852, 143.3264573182456, 144.7972882958199, 159.05742776034666, 165.704591923926, 206.23394726850498, 181.0172170872661, 161.2841231283134, 171.19737329406234, 170.71268238859957, 243.84595347989338, 166.03969540477456, 182.04433857940512, 163.2337635493541, 149.69517650730742, 69.320964471743, 52.75098062358158, 266.03919717273703, 31.666437092182562, 22.2774149962638, 25.143419461909804, 20.01392370986472, 20.640759009592323, 25.589927020322087, 25.48221901146042, 19.938163536461577, 23.692906709698875, 21.85974664501534, 21.041735525471122, 125.11943759996093, 16.544512607318172, 12.106080853064107, 19.979895239229133, 19.13683850373992, 12.081723759338082, 15.942960773650649, 13.611016898275455, 13.643508001598917, 16.31136997072107, 15.936140041427754, 130.26570380784344, 14.851622980500975, 14.878509017766818, 8.488940378505243, 10.207472466059112, 92.65888775116078, 91.28268079352843, 87.02261321717887, 80.07172495820392, 53.31664863317699, 212.67467593417382, 42.09226290231302, 42.38261890009975, 661.1879462361666, 30.615548729935664, 107.51127666020982, 150.38755083358936, 287.0638209754694, 57.62359945939236, 70.20777510587737, 74.9206790319179, 612.0037980523812, 47.07972874944317, 140.69210182424905, 86.3322074382019, 146.26596953247574, 198.32648753773663, 246.27313535090866, 186.46600495387443, 55.851189446686895, 138.0618673383543, 109.61722932369935, 169.7262930618798, 803.882054536489, 213.77021190247234, 187.17833854463183, 193.6325310447993, 377.11293225586917, 188.14463902207598, 207.25620907413835, 118.89110660323482, 238.52680667887284, 364.41005004858135, 180.35191468819582, 411.70297235100344, 197.14534757458722, 200.503598073529, 164.25373216844125, 171.39031704157972, 194.14710630607064, 176.49473707781675, 177.44549123720867, 166.20940431802995, 168.3170712262121, 154.3497874770856, 155.97461968424486, 55.857873621588475, 34.57440054356358, 14.154371825643432, 10.944391249857972, 17.182060162084042, 5.997724612146409, 6.679749221010205, 10.809884252058247, 18.973856122311197, 6.5341321444498215, 5.976437840373233, 28.399494209821686, 8.4601034884061, 6.627016773073541, 7.1845788910634285, 15.425210828911693, 5.7983146759935895, 5.474390344135909, 6.727631611319865, 4.442576303214351, 4.8200070443042335, 4.82464040715486, 5.211489435203355, 4.48562518735139, 4.480146612167979, 4.0878440722986165, 4.518796306339182, 22.51229754966665, 5.066664286775816, 3.8991797800708485, 4.978151341934447, 36.46317275060569, 24.15966781599954, 17.94731306362061, 35.98350529682882, 61.08724890058808, 10.447617808378487, 267.08419738910146, 8.488216941168064, 137.7904606169836, 123.91967673478854, 49.22329125670826, 212.64750627512439, 35.34323453864197, 46.85072671005952, 97.15976903174473, 151.8845914382577, 98.22511326132971, 99.21393601776909, 111.76849446657243, 30.93859723269692, 50.666916115399, 115.23602471700207, 294.41014607938894, 240.18978450286687, 219.4425854214605, 124.05188005308567, 151.3339567737457, 260.6921611996961, 154.8549159232537, 96.9492662583381, 248.01389831204926, 252.73222532041137, 182.1092343294286, 250.63990603924682, 390.25915593147096, 144.4192224567439, 108.24983085627015, 163.49783082638896, 194.9842467453006, 122.73389005132962, 132.44587030564767, 135.6034492415657, 186.4065332677261, 341.4499743780218, 166.82394698634022, 151.58385798333356, 143.67077531847332, 150.06307378853685, 128.60789265363331, 124.73377137263296, 27.883666714421977, 37.8610381894928, 22.240931012039148, 18.129259306938156, 11.247528912360615, 16.48188448890823, 9.966720233662652, 8.562287309184327, 9.148619031555869, 35.07566787247009, 60.915297530128875, 6.803870581289396, 7.040674985393099, 7.776069406753089, 6.2589202768986345, 6.949485731711296, 6.84013277497443, 65.6578783297991, 5.489631368619792, 5.0072643384767295, 5.6907860488226865, 11.943601193407321, 5.451647698077236, 4.5551868851512936, 6.12939984933771, 5.046185537482808, 5.666858222738561, 4.71680098560131, 5.1316826005657825, 5.457977915388099, 89.0103291062663, 12.103277449406695, 41.87165891393113, 13.763357625996253, 27.976109096985173, 12.33383955417003, 11.570803976133293, 75.16068708705974, 39.513341479137786, 15.43884286204187, 55.9049851818376, 25.166641157657164, 22.551856482403007, 34.76159601253604, 48.39277311690488, 21.033145542283055, 27.996474610515456, 16.43109756806685, 56.28930701268584, 197.81724398899044, 77.27990767688368, 136.03301952369296, 51.0726751949688, 24.40660171407107, 161.63061814857448, 170.95990401806733, 65.73384680573714, 115.32721836359204, 31.116500555450163, 43.661734908973756, 110.42849151317164, 72.20626767740424, 265.96005621384944, 162.79318641444388, 168.0980897898888, 57.38996478095014, 109.16478156795337, 128.15445663264697, 64.62195921214233, 92.8671529573815, 89.48040633676594, 123.63080556100701, 118.92467267267997, 101.66971235436107, 76.05103268055629, 87.27864022449923, 133.58935471329275, 105.35379676895224, 101.33117543044624, 88.03287780441823, 93.47342717045626, 140.19312113844455, 96.65198287682843, 86.58236808377758, 77.60195751099516, 75.1798221813794], \"Term\": [\"That\", \"Lords\", \"Commons\", \"Gentleman\", \"Interest\", \"every\", \"would\", \"Lordships\", \"Money\", \"People\", \"think\", \"Nation\", \"Trade\", \"much\", \"ought\", \"Year\", \"hath\", \"Army\", \"Time\", \"Country\", \"present\", \"always\", \"Duty\", \"Gentlemen\", \"Spain\", \"Duties\", \"Taxes\", \"Religion\", \"Commissioners\", \"Cent\", \"Stanhope\", \"Accompts\", \"Voices\", \"Lechmere\", \"Hungerford\", \"Merchandizes\", \"Craggs\", \"Christmas\", \"Ross\", \"Cloathing\", \"deposed\", \"Debentures\", \"ExchequerBills\", \"Boscawen\", \"Paul\", \"resum\", \"Steele\", \"Evening\", \"Certificates\", \"Strafford\", \"Aislabie\", \"Deficiencies\", \"Conyers\", \"recommitted\", \"Accompt\", \"Highways\", \"Godolphin\", \"Methuen\", \"Deduction\", \"Bolingbroke\", \"Pence\", \"Commissioners\", \"resolv\", \"reported\", \"Contingencies\", \"referr\", \"grand\", \"GreatBritain\", \"thousand\", \"That\", \"Sweden\", \"Directors\", \"presented\", \"Supply\", \"Portugal\", \"pursuant\", \"June\", \"After\", \"Pounds\", \"Account\", \"'That\", \"Address\", \"hundred\", \"read\", \"Report\", \"Walpole\", \"Queen\", \"Scotland\", \"Company\", \"Thanks\", \"Committee\", \"House\", \"Peace\", \"several\", \"Forces\", \"Service\", \"following\", \"Year\", \"granted\", \"Bill\", \"Commons\", \"whole\", \"agreed\", \"laid\", \"Subjects\", \"order\", \"might\", \"Money\", \"late\", \"Lord\", \"given\", \"would\", \"first\", \"Time\", \"Lords\", \"time\", \"Plot\", \"Writ\", \"Lordships\", \"HighTreason\", \"shou\", \"impeached\", \"opinion\", \"danger\", \"Habeas\", \"Corpus\", \"Somers\", \"CommonLaw\", \"Danby\", \"King'sBench\", \"Popish\", \"Discourse\", \"League\", \"Vacancy\", \"Tangier\", \"Commitment\", \"Orange\", \"presently\", \"word\", \"truth\", \"ChiefJustice\", \"Conference\", \"Seymour\", \"Jesuits\", \"Magna\", \"Imprisonment\", \"Popery\", \"Action\", \"Papists\", \"Trial\", \"doth\", \"Religion\", \"Successor\", \"Error\", \"Lords\", \"Judicature\", \"Judgment\", \"thing\", \"hath\", \"things\", \"Resolved\", \"Judges\", \"Commons\", \"Protestants\", \"Protestant\", \"Vote\", \"Duke\", \"Right\", \"time\", \"Laws\", \"Word\", \"Houses\", \"Proceedings\", \"Person\", \"House\", \"Lord\", \"Persons\", \"England\", \"Bill\", \"Case\", \"Government\", \"Matter\", \"think\", \"would\", \"well\", \"That\", \"take\", \"without\", \"'The\", \"Kingdom\", \"much\", \"good\", \"last\", \"given\", \"'That\", \"done\", \"People\", \"Spaniards\", \"Standing\", \"Seville\", \"Poland\", \"Insults\", \"Vengeance\", \"Concessions\", \"Newcastle\", \"independent\", \"tamely\", \"Whigs\", \"Triennial\", \"Catholick\", \"Martial\", \"American\", \"Discontents\", \"Duration\", \"Changes\", \"plundered\", \"plunder\", \"Annual\", \"Chance\", \"discontented\", \"Histories\", \"Flag\", \"continually\", \"march\", \"Depredations\", \"Insurrection\", \"amused\", \"blame\", \"Situation\", \"Injuries\", \"Rupture\", \"Convention\", \"Powers\", \"Secrets\", \"Gentleman\", \"preliminary\", \"honourable\", \"Europe\", \"Minister\", \"Army\", \"America\", \"keeping\", \"Measures\", \"Spain\", \"Thing\", \"Ministers\", \"spoke\", \"regular\", \"British\", \"Constitution\", \"Nation\", \"Gentlemen\", \"ought\", \"believe\", \"Reason\", \"think\", \"Motion\", \"Manner\", \"present\", \"Time\", \"Power\", \"People\", \"would\", \"always\", \"even\", \"Crown\", \"every\", \"Honour\", \"know\", \"Opinion\", \"much\", \"House\", \"could\", \"necessary\", \"never\", \"without\", \"last\", \"might\", \"Consumption\", \"Liquors\", \"SinkingFund\", \"Landed\", \"SugarColonies\", \"Spirituous\", \"cheap\", \"Medium\", \"Retail\", \"Creditors\", \"Price\", \"Workmen\", \"Extravagance\", \"abolishing\", \"Dividend\", \"70,000\", \"Mortgage\", \"Scheme\", \"Stockjobbing\", \"Compensation\", \"Rivals\", \"Market\", \"Calculations\", \"Adventurers\", \"Markets\", \"Excises\", \"Dealer\", \"Labourers\", \"Mortgages\", \"homemade\", \"Taxes\", \"borrow\", \"Produce\", \"Sugars\", \"sell\", \"diminished\", \"Manufacturers\", \"Cent\", \"Salt\", \"Annuity\", \"yearly\", \"Capital\", \"Manufacture\", \"Frauds\", \"Excise\", \"Shilling\", \"Increase\", \"Labour\", \"Publick\", \"Interest\", \"Revenue\", \"Trade\", \"List\", \"LandTax\", \"Money\", \"every\", \"Method\", \"Duty\", \"Rate\", \"Debt\", \"Country\", \"Duties\", \"would\", \"much\", \"People\", \"Civil\", \"Part\", \"Year\", \"proposed\", \"always\", \"Years\", \"Time\", \"present\", \"ought\", \"public\", \"ever\", \"Bill\", \"Nation\", \"could\", \"Gentleman\", \"many\", \"House\", \"think\", \"without\", \"never\", \"Gentlemen\"], \"Total\": [1796.0, 826.0, 1010.0, 366.0, 432.0, 487.0, 1264.0, 269.0, 433.0, 656.0, 609.0, 577.0, 318.0, 605.0, 438.0, 498.0, 376.0, 321.0, 619.0, 299.0, 596.0, 309.0, 286.0, 453.0, 234.0, 161.0, 102.0, 240.0, 221.0, 98.0, 29.93510254477925, 44.77619857004916, 30.721920889735095, 18.3130258822589, 23.268321278219286, 14.862888063310251, 17.81214005700645, 17.246692822022247, 9.239446817099298, 17.45899862011986, 13.521121069205593, 10.988049586102692, 12.836299455811005, 9.044331263754488, 13.49079887649418, 10.880757493905477, 10.831314965890453, 11.174161747253146, 8.761956891100747, 9.222585263161642, 9.995253007355961, 19.73463098327328, 8.7578373787156, 9.221679464658228, 12.424267636960378, 9.1799710257815, 12.241840899224103, 12.106609389953285, 8.785055776681327, 11.51514201384299, 25.34124763147331, 221.78818486339415, 111.30593213430123, 139.11802585050302, 14.992560592467017, 27.149515225514378, 44.689312329617856, 66.9041072369358, 144.87343813949462, 1796.2546982482177, 28.106666137973967, 22.154842065329024, 280.08087455294026, 167.37785525804458, 53.14288177626168, 47.71494810700645, 68.47137653588385, 125.09080954430587, 142.0233915559428, 220.32844385014832, 596.0049354288949, 366.11079889752517, 132.66324501035996, 313.37965882811545, 152.25259113199758, 117.38533947890676, 181.16491654393909, 110.85583242351235, 160.31224676527492, 143.34274362150686, 582.6088981346052, 2378.0133689035038, 446.83352266843235, 517.0297268374918, 142.86185674906625, 292.64933344407314, 223.41399954631035, 498.8065700142564, 244.8662989174108, 960.1438914577975, 1010.7758116330859, 357.00847403803635, 243.53350101519902, 256.3404445624839, 307.53115570215175, 342.27884292955923, 538.013976257731, 433.33246420661646, 337.2651936705609, 403.407039247309, 413.7185526595984, 1264.475215673795, 422.0273383879281, 619.8379119685851, 826.4480743087299, 406.40732515620095, 69.73624025454845, 53.12828321955514, 269.2347602448385, 32.10250295656918, 22.623873170037687, 25.551027590860638, 20.344956721984754, 20.99788614966884, 26.04638499620329, 25.93902124441773, 20.30255575335058, 24.189921389472772, 22.352543258683113, 21.542396561595492, 128.20517160763802, 16.957043817202184, 12.41244290878386, 20.487021965069605, 19.62953509391825, 12.40038614798505, 16.374425322941924, 14.011285945214444, 14.057144902207465, 16.813471887159125, 16.428733987448748, 134.33909531725314, 15.344007119941342, 15.388658438838721, 8.787040795588277, 10.591998097869688, 96.19898068430112, 94.7620751539043, 91.20678461533511, 84.46808460053393, 56.46547654032158, 240.4186869706704, 45.040076285310725, 45.722603932923704, 826.4480743087299, 32.7579369946215, 126.31759271604187, 185.26364169604358, 376.43954017580046, 65.461658496867, 81.52116507574084, 89.34657455706362, 1010.7758116330859, 53.79811180755658, 191.64202160428198, 112.17256876921317, 212.03756540766568, 310.2972551085277, 406.40732515620095, 290.5280864164689, 68.82228699801108, 217.14862686727315, 163.0540286527247, 294.86680918652854, 2378.0133689035038, 403.407039247309, 337.2705005997226, 365.5143796396959, 960.1438914577975, 361.1582544530384, 432.1808602304965, 189.08116355915544, 609.1814624655545, 1264.475215673795, 389.2908000120903, 1796.2546982482177, 472.53872741636854, 547.2706581589892, 350.2744172183299, 409.6472542179578, 605.55819541981, 458.2109695779284, 483.953115456093, 413.7185526595984, 596.0049354288949, 327.743735692347, 656.0355143556683, 56.73346106038613, 35.48476676701842, 14.640484640888591, 11.380457582284603, 17.94463074791118, 6.296333028147903, 7.02532172492874, 11.405351390348619, 20.196015092364796, 7.010013030270033, 6.418616442987124, 30.570491855950785, 9.112980879527989, 7.142079945806294, 7.744216413224484, 16.63367856307871, 6.252607112818098, 5.903323901481874, 7.292596516989643, 4.839218226345954, 5.26687602932757, 5.275831073864553, 5.699047511102687, 4.917459401643801, 4.919148569631222, 4.500236928799856, 4.993787560818138, 24.895889191765754, 5.648824069065682, 4.3504012381059685, 5.558931929940992, 41.79785181972505, 28.09471993345096, 20.689600221981138, 42.69292548494838, 75.46097593541676, 11.920198514299432, 366.93596782658517, 9.609155006421675, 188.2275873172239, 170.28456316398805, 63.39228137448302, 321.9652979878206, 44.8772738979276, 61.915687425073145, 139.788698035231, 234.2541004441843, 145.8652663197436, 149.61432475610607, 172.40085177445283, 40.32217826298136, 71.41625121374659, 187.94652429947314, 577.2062335033246, 453.7948730899063, 438.324879219103, 227.64718764310555, 300.1027652115657, 609.1814624655545, 316.2364346851198, 171.52124797418125, 596.2941627817958, 619.8379119685851, 407.6421271834905, 656.0355143556683, 1264.475215673795, 309.0670740170104, 204.83995206442344, 373.78113292013364, 487.85561527705215, 249.92113224858724, 290.8212660673385, 306.9497975214334, 605.55819541981, 2378.0133689035038, 526.9704245964857, 423.46408715608925, 396.05146084691955, 547.2706581589892, 483.953115456093, 538.013976257731, 28.256193215453585, 38.55059427115099, 22.92320207077375, 18.751065081287248, 11.705182551840108, 17.194672959370397, 10.457439026297882, 9.079070943074088, 9.764043384252517, 37.948924823806095, 65.95113669850069, 7.380419695190858, 7.655405978999171, 8.457617442887022, 6.8245657280835585, 7.643052894977014, 7.532301430985378, 72.3094370245022, 6.067206582245813, 5.542737096266071, 6.302055227787637, 13.258221054747914, 6.066219374535443, 5.076185184190714, 6.84339654808281, 5.6367710189924125, 6.344373751313128, 5.2885197459023665, 5.753943206184659, 6.137250757102608, 102.82970925313977, 13.759355204481974, 49.362131165198235, 15.896064252545823, 33.67699145091375, 14.403204828647532, 13.462878021631798, 98.99295014576902, 50.46104329423707, 18.431154531289604, 75.01617635362561, 31.593713229436545, 28.01559772916384, 45.50198397467811, 66.1539732003332, 26.294733334960995, 36.72608198390509, 20.08935333964518, 91.43480172750343, 432.57086464553856, 149.97961955911458, 318.8751868376753, 90.95211948692929, 34.23673387922369, 433.33246420661646, 487.85561527705215, 132.1719040659945, 286.79928395934354, 47.949394558354626, 77.6264947958621, 299.43234410861965, 161.297749061179, 1264.475215673795, 605.55819541981, 656.0355143556683, 119.4741599748263, 369.7130248625691, 498.8065700142564, 157.25144132267525, 309.0670740170104, 289.7210115432852, 619.8379119685851, 596.2941627817958, 438.324879219103, 235.25579957749827, 330.2487587346864, 960.1438914577975, 577.2062335033246, 526.9704245964857, 366.93596782658517, 454.7694870447922, 2378.0133689035038, 609.1814624655545, 547.2706581589892, 396.05146084691955, 453.7948730899063], \"loglift\": [30.0, 29.0, 28.0, 27.0, 26.0, 25.0, 24.0, 23.0, 22.0, 21.0, 20.0, 19.0, 18.0, 17.0, 16.0, 15.0, 14.0, 13.0, 12.0, 11.0, 10.0, 9.0, 8.0, 7.0, 6.0, 5.0, 4.0, 3.0, 2.0, 1.0, 1.1028, 1.1018, 1.1011, 1.0994, 1.0966, 1.0965, 1.0909, 1.0882, 1.0858, 1.0853, 1.0819, 1.0818, 1.0813, 1.0806, 1.0804, 1.0788, 1.0779, 1.0767, 1.0759, 1.0754, 1.0751, 1.0747, 1.0745, 1.0741, 1.0739, 1.0736, 1.0734, 1.0726, 1.0722, 1.071, 1.0618, 1.0239, 1.0031, 0.9796, 1.0584, 1.0328, 1.0077, 0.9835, 0.9415, 0.7778, 1.024, 1.0351, 0.8751, 0.9058, 0.9736, 0.9805, 0.9393, 0.8856, 0.8675, 0.8044, 0.7016, 0.7433, 0.8518, 0.7409, 0.8242, 0.8535, 0.7905, 0.8467, 0.792, 0.7971, 0.5801, 0.3359, 0.6139, 0.5632, 0.7852, 0.6364, 0.6752, 0.4917, 0.6284, 0.2252, 0.1607, 0.4629, 0.5835, 0.5425, 0.4544, 0.3883, 0.1548, 0.2408, 0.376, 0.2565, 0.2285, -0.5322, 0.1808, -0.1115, -0.5083, 0.1149, 1.1584, 1.1573, 1.1525, 1.1507, 1.149, 1.1483, 1.148, 1.1473, 1.1467, 1.1466, 1.1463, 1.1437, 1.1421, 1.1409, 1.14, 1.1398, 1.1394, 1.1393, 1.139, 1.1384, 1.1377, 1.1354, 1.1345, 1.1341, 1.134, 1.1336, 1.1318, 1.1307, 1.1299, 1.1274, 1.1269, 1.127, 1.1175, 1.111, 1.107, 1.0418, 1.0967, 1.0886, 0.9413, 1.0968, 1.0032, 0.9558, 0.8934, 1.0369, 1.015, 0.9883, 0.6627, 1.031, 0.8554, 0.9026, 0.7931, 0.7168, 0.6635, 0.721, 0.9556, 0.7115, 0.7673, 0.6121, 0.0798, 0.5294, 0.5756, 0.5291, 0.2299, 0.5123, 0.4295, 0.7004, 0.2268, -0.0797, 0.395, -0.3087, 0.2902, 0.1603, 0.4071, 0.2931, 0.0269, 0.2104, 0.1611, 0.2525, -0.1, 0.4114, -0.2721, 1.4703, 1.4598, 1.4521, 1.4467, 1.4424, 1.4372, 1.4354, 1.4322, 1.4234, 1.4155, 1.4144, 1.4122, 1.4115, 1.411, 1.4108, 1.4104, 1.4104, 1.4104, 1.4052, 1.4003, 1.3972, 1.3964, 1.3964, 1.3939, 1.3923, 1.3897, 1.3859, 1.3852, 1.3771, 1.3763, 1.3755, 1.3493, 1.3349, 1.3436, 1.3148, 1.2745, 1.354, 1.1682, 1.3618, 1.1739, 1.168, 1.2328, 1.071, 1.247, 1.207, 1.122, 1.0525, 1.0904, 1.075, 1.0524, 1.2209, 1.1426, 0.9966, 0.8126, 0.8496, 0.7939, 0.8787, 0.8012, 0.637, 0.7718, 0.9153, 0.6086, 0.5887, 0.68, 0.5236, 0.3102, 0.725, 0.848, 0.6589, 0.5687, 0.7747, 0.6993, 0.6689, 0.3076, -0.455, 0.3356, 0.4585, 0.4718, 0.1919, 0.1606, 0.0241, 2.0024, 1.9977, 1.9855, 1.982, 1.9758, 1.9734, 1.9676, 1.9571, 1.9506, 1.937, 1.9363, 1.9344, 1.932, 1.9317, 1.9292, 1.9206, 1.9193, 1.9192, 1.9157, 1.9141, 1.9137, 1.9113, 1.9089, 1.9074, 1.9055, 1.905, 1.9028, 1.9013, 1.9012, 1.8984, 1.8714, 1.8875, 1.8511, 1.8716, 1.8302, 1.8606, 1.8643, 1.7403, 1.7711, 1.8385, 1.7217, 1.7883, 1.7988, 1.7465, 1.7031, 1.7924, 1.7443, 1.8147, 1.5306, 1.2333, 1.3526, 1.1638, 1.4386, 1.6773, 1.0295, 0.9671, 1.3172, 1.1047, 1.5833, 1.4403, 1.0182, 1.212, 0.4566, 0.702, 0.654, 1.2825, 0.7958, 0.6567, 1.1264, 0.8133, 0.8408, 0.4035, 0.4035, 0.5545, 0.8864, 0.685, 0.0434, 0.3148, 0.367, 0.5882, 0.4336, -0.8153, 0.1747, 0.1719, 0.3858, 0.2179], \"logprob\": [30.0, 29.0, 28.0, 27.0, 26.0, 25.0, 24.0, 23.0, 22.0, 21.0, 20.0, 19.0, 18.0, 17.0, 16.0, 15.0, 14.0, 13.0, 12.0, 11.0, 10.0, 9.0, 8.0, 7.0, 6.0, 5.0, 4.0, 3.0, 2.0, 1.0, -7.5735, -7.1719, -7.5492, -8.0683, -7.8316, -8.28, -8.1045, -8.1395, -8.7661, -8.1301, -8.3892, -8.5967, -8.4418, -8.7926, -8.3929, -8.6096, -8.615, -8.5851, -8.829, -8.7783, -8.6982, -8.0182, -8.8309, -8.7797, -8.4818, -8.7847, -8.4971, -8.509, -8.8301, -8.5607, -7.7811, -5.6497, -6.36, -6.1605, -8.3094, -7.7412, -7.2679, -6.8886, -6.158, -3.8041, -7.7153, -7.9422, -5.5652, -6.0493, -7.1287, -7.2296, -6.9096, -6.3607, -6.2518, -5.8758, -4.9835, -5.4291, -6.3357, -5.587, -6.2256, -6.4564, -6.0854, -6.5204, -6.2062, -6.313, -5.1277, -3.9655, -5.3592, -5.2641, -6.3283, -5.7599, -5.9912, -5.3714, -5.9463, -4.9831, -4.9962, -5.7347, -5.9965, -5.9863, -5.8924, -5.8515, -5.6327, -5.7631, -5.8785, -5.8189, -5.8217, -5.4651, -5.8494, -5.7574, -5.8665, -5.9531, -6.6722, -6.9454, -5.3273, -7.4557, -7.8074, -7.6863, -7.9145, -7.8837, -7.6687, -7.673, -7.9183, -7.7458, -7.8263, -7.8644, -6.0817, -8.1049, -8.4172, -7.9162, -7.9593, -8.4192, -8.1419, -8.3001, -8.2977, -8.1191, -8.1423, -6.0414, -8.2128, -8.211, -8.7722, -8.5878, -6.382, -6.397, -6.4448, -6.528, -6.9347, -5.5512, -7.1711, -7.1642, -4.4169, -7.4894, -6.2333, -5.8977, -5.2512, -6.857, -6.6595, -6.5945, -4.4942, -7.0591, -5.9644, -6.4527, -5.9255, -5.621, -5.4045, -5.6827, -6.8882, -5.9832, -6.2139, -5.7767, -4.2215, -5.546, -5.6789, -5.645, -4.9784, -5.6737, -5.577, -6.1327, -5.4365, -5.0127, -5.716, -4.8906, -5.627, -5.6101, -5.8095, -5.767, -5.6423, -5.7376, -5.7323, -5.7977, -5.7851, -5.8717, -5.8612, -6.5667, -7.0464, -7.9395, -8.1967, -7.7457, -8.7981, -8.6904, -8.2091, -7.6465, -8.7125, -8.8017, -7.2432, -8.4542, -8.6984, -8.6176, -7.8535, -8.832, -8.8894, -8.6833, -9.0983, -9.0168, -9.0158, -8.9387, -9.0887, -9.0899, -9.1815, -9.0813, -7.4755, -8.9668, -9.2288, -8.9845, -6.9932, -7.4048, -7.7021, -7.0065, -6.4772, -8.2432, -5.002, -8.4509, -5.6638, -5.7699, -6.6932, -5.2299, -7.0244, -6.7426, -6.0132, -5.5664, -6.0023, -5.9923, -5.8731, -7.1575, -6.6643, -5.8425, -4.9046, -5.1081, -5.1984, -5.7688, -5.57, -5.0262, -5.547, -6.0153, -5.076, -5.0572, -5.3849, -5.0655, -4.6227, -5.6168, -5.9051, -5.4927, -5.3166, -5.7795, -5.7034, -5.6798, -5.3616, -4.7563, -5.4726, -5.5684, -5.622, -5.5785, -5.7328, -5.7633, -6.7316, -6.4257, -6.9577, -7.1621, -7.6395, -7.2574, -7.7604, -7.9123, -7.846, -6.5021, -5.9502, -8.1422, -8.1079, -8.0086, -8.2256, -8.121, -8.1368, -5.8752, -8.3568, -8.4488, -8.3208, -7.5795, -8.3637, -8.5434, -8.2466, -8.441, -8.325, -8.5085, -8.4242, -8.3626, -5.5709, -7.5662, -6.325, -7.4376, -6.7283, -7.5473, -7.6112, -5.74, -6.383, -7.3228, -6.036, -6.8341, -6.9438, -6.5111, -6.1803, -7.0135, -6.7276, -7.2605, -6.0291, -4.7723, -5.7122, -5.1467, -6.1264, -6.8648, -4.9743, -4.9182, -5.874, -5.3119, -6.6219, -6.2832, -5.3553, -5.7801, -4.4763, -4.9672, -4.9351, -6.0098, -5.3668, -5.2064, -5.8911, -5.5285, -5.5656, -5.2423, -5.2812, -5.4379, -5.7282, -5.5905, -5.1649, -5.4023, -5.4413, -5.5819, -5.522, -5.1166, -5.4885, -5.5986, -5.7081, -5.7398]}, \"token.table\": {\"Topic\": [1, 2, 3, 4, 1, 2, 3, 4, 4, 1, 1, 1, 2, 3, 4, 2, 3, 4, 1, 2, 3, 4, 1, 2, 3, 4, 1, 1, 3, 4, 3, 3, 1, 3, 4, 1, 2, 3, 4, 1, 2, 3, 4, 1, 1, 1, 3, 4, 4, 1, 4, 1, 2, 3, 4, 3, 1, 4, 1, 3, 3, 2, 1, 1, 2, 3, 4, 1, 1, 2, 3, 4, 2, 1, 2, 3, 4, 2, 1, 2, 3, 4, 1, 2, 3, 4, 4, 3, 1, 2, 3, 1, 2, 3, 4, 4, 1, 2, 1, 2, 3, 1, 2, 1, 2, 3, 4, 1, 1, 4, 1, 2, 3, 4, 2, 4, 1, 1, 2, 3, 4, 1, 1, 2, 1, 3, 1, 4, 1, 3, 2, 4, 1, 2, 3, 3, 1, 4, 1, 2, 3, 4, 1, 2, 3, 4, 2, 3, 4, 1, 2, 3, 4, 1, 1, 1, 2, 4, 4, 4, 3, 1, 2, 3, 4, 1, 4, 1, 2, 3, 4, 1, 2, 3, 4, 1, 1, 2, 3, 4, 1, 3, 2, 2, 1, 3, 1, 2, 3, 4, 1, 2, 3, 4, 1, 2, 3, 4, 1, 2, 1, 3, 4, 1, 2, 3, 3, 3, 1, 2, 3, 4, 2, 1, 2, 3, 4, 1, 2, 3, 4, 2, 3, 4, 1, 2, 3, 4, 2, 1, 2, 3, 4, 2, 3, 4, 4, 1, 2, 4, 4, 1, 2, 3, 4, 2, 1, 4, 1, 3, 4, 1, 2, 3, 4, 1, 2, 3, 4, 1, 2, 2, 1, 2, 3, 4, 1, 4, 1, 4, 3, 4, 4, 3, 1, 2, 3, 4, 1, 3, 4, 4, 1, 1, 2, 3, 4, 1, 1, 2, 3, 4, 1, 2, 3, 4, 1, 2, 3, 4, 4, 4, 1, 2, 3, 4, 1, 2, 3, 4, 3, 1, 2, 3, 4, 2, 1, 2, 3, 1, 2, 3, 4, 1, 1, 2, 3, 4, 1, 3, 1, 2, 3, 4, 1, 2, 3, 4, 1, 2, 3, 4, 2, 3, 1, 2, 1, 2, 3, 1, 2, 3, 4, 1, 2, 3, 4, 1, 2, 3, 4, 1, 2, 3, 4, 1, 2, 3, 4, 1, 2, 3, 4, 1, 3, 4, 1, 2, 1, 2, 3, 1, 3, 4, 1, 2, 3, 4, 1, 3, 4, 1, 2, 3, 4, 1, 2, 3, 4, 1, 2, 3, 4, 1, 2, 4, 1, 2, 3, 4, 1, 2, 3, 4, 4, 1, 1, 3, 1, 3, 4, 1, 3, 4, 1, 2, 3, 4, 3, 4, 1, 2, 3, 4, 3, 2, 1, 3, 4, 4, 1, 3, 4, 2, 1, 3, 4, 1, 3, 4, 3, 1, 1, 4, 1, 1, 2, 3, 4, 2, 3, 4, 4, 2, 4, 1, 2, 3, 4, 1, 3, 2, 1, 2, 3, 4, 1, 2, 3, 4, 1, 2, 3, 4, 1, 2, 3, 4, 1, 2, 3, 4, 1, 2, 3, 4, 1, 2, 3, 4, 2, 3, 2, 3, 1, 1, 2, 3, 1, 3, 4, 3, 2, 3, 4, 4, 2, 1, 2, 3, 4, 1, 2, 3, 4, 4, 1, 2, 3, 4, 1, 2, 3, 4, 3, 1, 2, 3, 4, 3, 2, 4, 4, 3, 1, 2, 3, 4, 2, 1, 3, 4, 3, 1, 2, 3, 4, 1, 2, 1, 2, 3, 4, 1, 2, 3, 4, 1, 2, 3, 4, 1, 2, 3, 4, 1, 2, 3, 4, 1, 2, 3, 4, 1, 2, 3, 4, 1, 2, 1, 2, 3, 4, 1, 2, 3, 4, 1, 2, 3, 4, 1, 2, 3, 4, 2, 3, 4, 1, 2, 3, 4, 1, 2, 3, 4, 1, 2, 3, 4, 1, 2, 3, 4, 1, 2, 3, 4, 1, 2, 3, 4, 3, 1, 2, 3, 4, 1, 2, 3, 4, 1, 2, 3, 4, 1, 2, 3, 4, 2, 1, 2, 3, 4, 1, 2, 3, 4, 3, 3, 1, 3, 1, 2, 3, 4, 1, 2, 3, 4, 2, 1, 2, 3, 4, 1, 2, 3, 4, 1, 2, 3, 4, 1, 2, 3, 4, 1, 1, 2, 1, 2, 3, 4, 1, 2, 3, 4, 1, 2, 3, 4, 1, 1, 2, 3, 4, 1, 2, 3, 4, 2, 1, 2, 3, 4, 1, 2, 3, 4, 3, 1, 2, 3, 4, 1, 2, 1, 2, 3, 4, 1, 2, 3, 1, 2, 3, 4, 2, 1, 2, 3, 4, 1, 2, 3, 4, 1, 2, 3, 4, 2, 1, 2, 3, 4, 1, 3, 4], \"Freq\": [0.6627461897035325, 0.2818768604308695, 0.025167576824184777, 0.030201092189021735, 0.34829834553391337, 0.4682043333406704, 0.1284707012215254, 0.05138828048861017, 0.9158643929574757, 0.9658516985179678, 0.9826649292517574, 0.7352659382924741, 0.04992546494578528, 0.11800564441731067, 0.09985092989157056, 0.9602997808163839, 0.021105489688272173, 0.010552744844136087, 0.6910476302853197, 0.16934764062327992, 0.13930209148043993, 0.9849916460045656, 0.7994192408242512, 0.1279070785318802, 0.015988384816485023, 0.05595934685769759, 1.0004749247108147, 0.08913197377135507, 0.7799047704993568, 0.11141496721419382, 0.9039003595052412, 0.949329350483755, 0.10851192184432641, 0.054255960922163206, 0.8138394138324481, 0.2546858326424419, 0.07764811970806154, 0.6615619799126844, 0.006211849576644924, 0.41139667034726113, 0.3926494803061201, 0.05728308068126421, 0.13956241475071643, 0.9552639460960439, 0.9950984475842733, 0.19603381250156132, 0.7141231741128305, 0.09801690625078066, 0.824236594704903, 0.18991120025770414, 0.7912966677404338, 0.008306607873447044, 0.5205474267360148, 0.2962690141529446, 0.17443876534238795, 0.8778686256186202, 0.23233977738952177, 0.7576297088788754, 0.9130380461156293, 0.9477179860380733, 0.8469804610830995, 0.9739034068129478, 0.9856962245128384, 0.24273031094012645, 0.0334800428882933, 0.25110032166219975, 0.4770906111581796, 0.9737099114269413, 0.9152877107724816, 0.018035225828029196, 0.009017612914014598, 0.058614483941094885, 0.9677118000030903, 0.5870147213594132, 0.23686558932046498, 0.058358188673158035, 0.11843279466023249, 0.9921487388729, 0.3858422367368353, 0.6054755099562646, 0.005936034411335928, 0.002968017205667964, 0.7235878876418232, 0.043664786323213474, 0.01247565323520385, 0.2245617582336693, 0.9020813928498084, 0.9963956490648836, 0.014887698888226325, 0.9677004277347112, 0.014887698888226325, 0.04256529898500722, 0.26603311865629514, 0.6118761729094788, 0.07448927322376264, 0.9909332013162526, 0.9337964594943357, 0.06669974710673826, 0.07026925341665016, 0.09369233788886688, 0.843231040999802, 0.9134675210392247, 0.9637988945084112, 0.13358610312815747, 0.10686888250252598, 0.3940790042280645, 0.36736178360243305, 0.9544052508902774, 0.0790536230981185, 0.9222922694780491, 0.18192464522956447, 0.3397710285905101, 0.43608407606498545, 0.04013043644769805, 0.9842280471352555, 0.9457198196682768, 1.0010875828147356, 0.3864659879193612, 0.01288219959731204, 0.038646598791936125, 0.5668167822817298, 0.910637360007987, 0.9627745264709565, 0.0506723434984714, 0.08033454778797354, 0.9238472995616958, 0.9027371958249605, 0.04513685979124803, 0.06011899269351464, 0.9017848904027195, 1.002533235348147, 0.8791768207769743, 0.23580727265883036, 0.6885572361637847, 0.07545832725082571, 0.9595997144454761, 0.5517745939916557, 0.4463794468247102, 0.34867590539094906, 0.1464438802641986, 0.10111601256337523, 0.4009772911995914, 0.36387077337724477, 0.5307588724450036, 0.013679352382603188, 0.09301959620170167, 0.9185828537153119, 0.04374204065311009, 0.021871020326555045, 0.19379325634009598, 0.02936261459698424, 0.7281928420052091, 0.05285270627457163, 0.9844138870375705, 0.9348488667867271, 0.12093000031568332, 0.13604625035514376, 0.7255800018941, 0.8870326616343133, 0.9143865157775923, 0.813148849517239, 0.7209762097724746, 0.013999538053834458, 0.2589914539959375, 0.006999769026917229, 0.2197706369367324, 0.7691972292785635, 0.002725271130881894, 0.027252711308818938, 0.7276473919454657, 0.23982385951760665, 0.1278110517315364, 0.1762911058366019, 0.5288733175098057, 0.1652729117218143, 0.980244727797481, 0.20361845721966185, 0.4789661436871591, 0.2522092254198084, 0.06478769093352876, 0.8818591628620944, 0.11957412377791111, 0.9982191388090881, 0.9968070104468846, 0.9803952512185431, 0.8134281695671725, 0.3000946711677038, 0.15604922900720597, 0.49215526071503424, 0.052016409669068654, 0.4592068380605945, 0.3380973423083498, 0.14339700712331752, 0.05887267154623006, 0.30393929241993733, 0.6355094296053235, 0.023025703971207376, 0.0368411263539318, 0.9884683869106426, 0.9441089308740762, 0.19060023890018254, 0.05445721111433787, 0.7624009556007302, 0.03559387679851368, 0.10678163039554105, 0.8542530431643284, 0.9473585853517137, 0.8851399758369536, 0.1571996765332802, 0.23348775485090148, 0.15026439668622374, 0.4577284699057277, 0.9747438387573927, 0.01119237088783211, 0.8394278165874083, 0.11192370887832111, 0.04476948355132844, 0.023749660957709265, 0.8549877944775336, 0.10291519748340681, 0.01583310730513951, 0.9463355401498532, 0.030526952908059783, 0.030526952908059783, 0.8470692855079947, 0.08762785712151669, 0.043813928560758345, 0.02920928570717223, 0.9748219024728918, 0.31734620130233293, 0.4174323109438379, 0.14646747752415368, 0.11717398201932293, 0.09955522042877883, 0.09955522042877883, 0.7964417634302307, 0.9454441394256083, 0.2336671490984349, 0.05841678727460872, 0.7010014472953047, 0.9599454709355801, 0.06195614414434683, 0.640213489491584, 0.11014425625661659, 0.1858684324330405, 0.9667718182621418, 0.982906927327496, 0.9857176191039155, 0.285864696135382, 0.142932348067691, 0.5607345962655571, 0.42388947976479985, 0.5304815711676443, 0.02230997261919999, 0.02230997261919999, 0.1972295720288766, 0.7998082644851989, 0.0012099973744102857, 0.0012099973744102857, 0.011142691966192775, 0.9879853543357593, 0.9104316442933293, 0.18656580673210177, 0.07579235898491635, 0.5655276016566835, 0.1749054438113454, 0.17847200864092472, 0.8209712397482537, 0.14855664567312074, 0.8913398740387245, 0.07542490020875682, 0.9050988025050819, 0.8767576097399925, 0.9801066430389482, 0.23799303512283188, 0.6293593595470443, 0.10048594816297346, 0.03173240468304425, 0.214609624538023, 0.6939044526729411, 0.09299750396647664, 0.9912908552461079, 1.0092251207238931, 0.13618628048978135, 0.10592266260316327, 0.25724075203625363, 0.49934969512919825, 0.9911941166581492, 0.09464874697529264, 0.04732437348764632, 0.7729647669648899, 0.07887395581274387, 0.2673540789974893, 0.04678696382456062, 0.661701345518786, 0.026735407899748927, 0.41769314544985886, 0.1938465426397135, 0.016153878553309457, 0.3738469036623046, 0.9293308378770309, 0.8689692999794856, 0.35100319832066146, 0.01264876390344726, 0.4901396012585813, 0.1486229758655053, 0.08835663414523096, 0.22002534385184963, 0.5093500086019196, 0.18191071735782843, 0.9644595439039578, 0.10425157552927049, 0.27040252402904535, 0.4430691959993996, 0.18569811891151305, 0.9771335289295726, 0.03289228989545579, 0.9538764069682181, 0.010964096631818599, 0.2975280625855406, 0.11901122503421625, 0.2894136608786622, 0.29482326201658116, 0.9636197321606115, 0.6064898586427062, 0.1499439871921082, 0.21260714601866085, 0.02909360945518517, 0.9470725494269862, 0.03946135622612442, 0.12346892542784813, 0.23779200452770752, 0.38260123805419605, 0.256083697183685, 0.30183119031107997, 0.5765314871110516, 0.05765314871110516, 0.06782723377777078, 0.30242787263821524, 0.5544510998367279, 0.0415097080091668, 0.10080929087940507, 0.9894425014617786, 0.9665692192485439, 0.03118536161880118, 0.9667462101828365, 0.02339999207817659, 0.9749996699240245, 0.007799997359392197, 0.8655909966205045, 0.056451586736119864, 0.018817195578706623, 0.056451586736119864, 0.7815613948092295, 0.1760273411732499, 0.03520546823464998, 0.007041093646929996, 0.08340649244207211, 0.3483447625521835, 0.4464700477781507, 0.12265660653245898, 0.1457707094778942, 0.026503765359617123, 0.8083648434683223, 0.026503765359617123, 0.045488222799171266, 0.015162740933057089, 0.015162740933057089, 0.9249271969164824, 0.196253967254953, 0.6746230124389009, 0.0981269836274765, 0.03679761886030369, 0.12155066765492852, 0.02025844460915475, 0.8508546735844996, 0.2661211751632893, 0.7357467783926234, 0.11152807781549741, 0.8736366095547297, 0.018588012969249567, 0.19686158508490134, 0.18592483035796237, 0.612458264708582, 0.7230980616946755, 0.21527346874879652, 0.03863882772414296, 0.022079330128081696, 0.29197448954150895, 0.06256596204460907, 0.646514941127627, 0.046650686441127305, 0.2465821997602443, 0.5031609751864445, 0.19993151331911702, 0.091507029995068, 0.8859544267704311, 0.004159410454321273, 0.020797052271606362, 0.7487557298855168, 0.16420081795735017, 0.03940819630976404, 0.04597622902805805, 0.1349342835051482, 0.8586727132145794, 0.9217492841659461, 0.1733568872652866, 0.27337047607218273, 0.04000543552275845, 0.5134030892087333, 0.019336297376853936, 0.6380978134361799, 0.29326717688228465, 0.04511802721265918, 0.9520703616725246, 0.9740842907763528, 0.1450003851119717, 0.8700023106718302, 0.1783554086965905, 0.039634535265908995, 0.79269070531818, 0.05531781416918779, 0.027658907084593894, 0.9127439337915985, 0.7667616411490825, 0.1623730534198057, 0.009020725189989205, 0.06314507632992444, 0.8389122033499721, 0.0838912203349972, 0.6219047139390843, 0.13668235471188667, 0.09909470716611783, 0.143516472447481, 0.9562524973319656, 0.977580359729222, 0.07606085882380244, 0.11409128823570365, 0.7986390176499255, 0.9597263040336411, 0.04784934901980224, 0.8612882823564404, 0.07177402352970336, 0.9850976518904204, 0.34577836565682596, 0.6488680441955252, 0.004268868711812666, 0.01762628229107364, 0.987071808300124, 0.9305207512702736, 0.9863387359933562, 1.0021679382966426, 0.9232489343622269, 0.8241024814667214, 0.9758651986606479, 0.5170207865182731, 0.22761921419043468, 0.221115808070708, 0.03576873365849688, 0.9325028610952373, 0.022202449073696128, 0.044404898147392256, 0.939754672879557, 0.12581730724192886, 0.880721150693502, 0.8125328155885994, 0.1135156139425249, 0.011949011993949989, 0.05974505996974995, 0.9250474557305207, 0.07115749659465544, 0.967929189820023, 0.08752334384068286, 0.019449631964596193, 0.029174447946894288, 0.8655086224245305, 0.725533761755039, 0.17440715426803824, 0.08371543404865835, 0.01395257234144306, 0.7148206772971618, 0.22936613632899586, 0.020041701232630705, 0.036186405003361, 0.01371128336759695, 0.08912334188938018, 0.6718528850122506, 0.2193805338815512, 0.29362515019769264, 0.09841282506625963, 0.40817122527481453, 0.2000523001346917, 0.3606426738325714, 0.02822420925646211, 0.18502537179236273, 0.42649916209764965, 0.011838791002888196, 0.9471032802310556, 0.011838791002888196, 0.03551637300866459, 0.06542256530984418, 0.9159159143378186, 0.97622778137789, 0.9529356171563449, 0.9765014403778279, 0.026744506548408282, 0.7666758543877041, 0.19612638135499408, 0.766705624395049, 0.12778427073250817, 0.09370846520383933, 0.934780891379715, 0.8136899025401229, 0.1307715914796626, 0.05812070732429449, 0.9484555471230529, 0.997585406269858, 0.5372824178966614, 0.04009570282810906, 0.16639716673665259, 0.256612498099898, 0.27957930827498284, 0.11045108475061051, 0.3002888866657223, 0.3071920794626355, 0.945892865694477, 0.5871882077984635, 0.18067329470721954, 0.12318633730037695, 0.10676149232699336, 0.07441750329811622, 0.15530609383954688, 0.4659182815186407, 0.3009055568141221, 0.9194554205628807, 0.01757104948852261, 0.2284236433507939, 0.5447025341442009, 0.20645983149014063, 0.8994533595688542, 0.07267782429762841, 0.872133891571541, 0.9562570697139581, 0.8888420906022694, 0.2485908010877649, 0.24289788197888482, 0.3169058303943263, 0.19166160999896378, 1.000100669672942, 0.9614587380337531, 0.1388579849966489, 0.8331479099798934, 0.8773395888100903, 0.16781403886733168, 0.4698793088285287, 0.28680944824598503, 0.07322794423301746, 0.05312980928900373, 0.9386266307723993, 0.06834604216074466, 0.12204650385847261, 0.5272408966686016, 0.28314788895165643, 0.09689665488101955, 0.3179421488283454, 0.3239981897584091, 0.2634377804577719, 0.06969275116509928, 0.1803812383096687, 0.39970842579983407, 0.3505135426244699, 0.3933394472360285, 0.31040643125252854, 0.1871916646484714, 0.10899767814974284, 0.6445433155147959, 0.2417037433180485, 0.08056791443934949, 0.031331966726413696, 0.4133244663569543, 0.40123895564476264, 0.13052351569166978, 0.05559334927608157, 0.2706177028328677, 0.3841025459563283, 0.2073280787832454, 0.13749125224573117, 0.8950685950360885, 0.08950685950360884, 0.616663055175795, 0.061257919388324006, 0.15110286782453253, 0.1715221742873072, 0.23111281019887087, 0.7624066267479993, 0.005312938165491284, 0.8146970358370197, 0.1168797853362639, 0.026563587576423613, 0.7331550171092918, 0.12219250285154862, 0.7688640511698217, 0.19598495421975848, 0.022613648563818287, 0.007537882854606096, 0.9784342297427703, 0.9407796495053643, 0.049514718395019176, 0.064603982711822, 0.11305696974568849, 0.7590967968639084, 0.064603982711822, 0.017192690437026946, 0.34385380874053895, 0.45388702753751137, 0.18224251863248564, 0.5656540084709719, 0.04681274552863216, 0.21845947913361677, 0.17164673360498459, 0.2789526416681328, 0.3657379079648852, 0.26655474648288247, 0.08885158216096081, 0.47736915347767567, 0.2223769348498489, 0.2490621670318308, 0.05337046436396374, 0.20010137573508097, 0.3342352649640913, 0.25947211359054456, 0.20449920816881903, 1.0012440335329051, 0.3828896814779352, 0.258357600608898, 0.23233597177059173, 0.1263907686432019, 0.1023848747633872, 0.32036557587253417, 0.3071546242901616, 0.26917313849084057, 0.28809999171200246, 0.20072540406164105, 0.3589442519690522, 0.1511344218817062, 0.10352190069524117, 0.33581494615773355, 0.3635891146369446, 0.1969441037616783, 0.9830446077276737, 0.4849846942896283, 0.2191195907935068, 0.14023653810784434, 0.15484451082741146, 0.05475390774705091, 0.21217139251982228, 0.49962940819183954, 0.23270410792496637, 0.826579793038257, 0.9598775941726685, 0.10406742313259729, 0.8325393850607783, 0.2314293994699037, 0.15260924167942927, 0.4159021091922907, 0.19956593142694595, 0.7890578046528739, 0.10354152187752644, 0.08925993265304002, 0.021422383836729605, 0.9991945103926525, 0.04451469532566134, 0.08267014846194248, 0.46422467982475396, 0.4133507423097124, 0.408066454354829, 0.26779361067035656, 0.004250692232862802, 0.323052609697573, 0.8802273012182682, 0.02095779288614924, 0.08383117154459696, 0.04191558577229848, 0.6892597969113021, 0.1755059668061186, 0.05743831640927517, 0.07977543945732664, 0.9759610529179845, 0.9208267548182841, 0.07366614038546274, 0.0496004949672112, 0.0496004949672112, 0.7688076719917737, 0.12400123741802802, 0.8769532147552314, 0.07188141104551077, 0.028752564418204306, 0.02156442331365323, 0.8984247118054809, 0.07187397694443848, 0.00898424711805481, 0.02695274135416443, 1.0109590261671866, 0.08908159163720672, 0.05938772775813781, 0.029693863879068905, 0.8314281886139293, 0.5763691805938747, 0.24176559588669239, 0.10250861265595758, 0.07929911545083511, 0.9724241218402903, 0.11600870757973653, 0.10440783682176287, 0.6496487624465246, 0.1276095783377102, 0.19680926578966895, 0.41689704688779333, 0.24759875373538995, 0.13755486318632776, 0.9985716103198673, 0.05937484494689663, 0.8096569765485904, 0.09176112400884023, 0.037783992238934215, 0.12220894159568048, 0.8860148265686835, 0.02134011095377852, 0.3923297321502359, 0.42844376607201495, 0.15923005865511666, 0.8421143417783016, 0.08973349543539279, 0.06902576571953291, 0.36908783556582825, 0.6053040503279583, 0.00984234228175542, 0.01476351342263313, 0.9516178518857611, 0.12843868901717467, 0.4623792804618288, 0.2543086042540058, 0.1541264268206096, 0.5209960365819866, 0.16806323760709246, 0.11764426632496472, 0.1932727232481563, 0.200997437666471, 0.36727713609964246, 0.27408741499973316, 0.15897070069984526, 0.9959348144587674, 0.19296542706056985, 0.28786645676248945, 0.3084283465312387, 0.21036394917258844, 0.22661778867350085, 0.02666091631452951, 0.7465056568068263], \"Term\": [\"'That\", \"'That\", \"'That\", \"'That\", \"'The\", \"'The\", \"'The\", \"'The\", \"70,000\", \"Accompt\", \"Accompts\", \"Account\", \"Account\", \"Account\", \"Account\", \"Action\", \"Action\", \"Action\", \"Address\", \"Address\", \"Address\", \"Adventurers\", \"After\", \"After\", \"After\", \"After\", \"Aislabie\", \"America\", \"America\", \"America\", \"American\", \"Annual\", \"Annuity\", \"Annuity\", \"Annuity\", \"Army\", \"Army\", \"Army\", \"Army\", \"Bill\", \"Bill\", \"Bill\", \"Bill\", \"Bolingbroke\", \"Boscawen\", \"British\", \"British\", \"British\", \"Calculations\", \"Capital\", \"Capital\", \"Case\", \"Case\", \"Case\", \"Case\", \"Catholick\", \"Cent\", \"Cent\", \"Certificates\", \"Chance\", \"Changes\", \"ChiefJustice\", \"Christmas\", \"Civil\", \"Civil\", \"Civil\", \"Civil\", \"Cloathing\", \"Commissioners\", \"Commissioners\", \"Commissioners\", \"Commissioners\", \"Commitment\", \"Committee\", \"Committee\", \"Committee\", \"Committee\", \"CommonLaw\", \"Commons\", \"Commons\", \"Commons\", \"Commons\", \"Company\", \"Company\", \"Company\", \"Company\", \"Compensation\", \"Concessions\", \"Conference\", \"Conference\", \"Conference\", \"Constitution\", \"Constitution\", \"Constitution\", \"Constitution\", \"Consumption\", \"Contingencies\", \"Contingencies\", \"Convention\", \"Convention\", \"Convention\", \"Conyers\", \"Corpus\", \"Country\", \"Country\", \"Country\", \"Country\", \"Craggs\", \"Creditors\", \"Creditors\", \"Crown\", \"Crown\", \"Crown\", \"Crown\", \"Danby\", \"Dealer\", \"Debentures\", \"Debt\", \"Debt\", \"Debt\", \"Debt\", \"Deduction\", \"Deficiencies\", \"Deficiencies\", \"Depredations\", \"Depredations\", \"Directors\", \"Directors\", \"Discontents\", \"Discontents\", \"Discourse\", \"Dividend\", \"Duke\", \"Duke\", \"Duke\", \"Duration\", \"Duties\", \"Duties\", \"Duty\", \"Duty\", \"Duty\", \"Duty\", \"England\", \"England\", \"England\", \"England\", \"Error\", \"Error\", \"Error\", \"Europe\", \"Europe\", \"Europe\", \"Europe\", \"Evening\", \"ExchequerBills\", \"Excise\", \"Excise\", \"Excise\", \"Excises\", \"Extravagance\", \"Flag\", \"Forces\", \"Forces\", \"Forces\", \"Forces\", \"Frauds\", \"Frauds\", \"Gentleman\", \"Gentleman\", \"Gentleman\", \"Gentleman\", \"Gentlemen\", \"Gentlemen\", \"Gentlemen\", \"Gentlemen\", \"Godolphin\", \"Government\", \"Government\", \"Government\", \"Government\", \"GreatBritain\", \"GreatBritain\", \"Habeas\", \"HighTreason\", \"Highways\", \"Histories\", \"Honour\", \"Honour\", \"Honour\", \"Honour\", \"House\", \"House\", \"House\", \"House\", \"Houses\", \"Houses\", \"Houses\", \"Houses\", \"Hungerford\", \"Imprisonment\", \"Increase\", \"Increase\", \"Increase\", \"Injuries\", \"Injuries\", \"Injuries\", \"Insults\", \"Insurrection\", \"Interest\", \"Interest\", \"Interest\", \"Interest\", \"Jesuits\", \"Judges\", \"Judges\", \"Judges\", \"Judges\", \"Judgment\", \"Judgment\", \"Judgment\", \"Judgment\", \"Judicature\", \"Judicature\", \"Judicature\", \"June\", \"June\", \"June\", \"June\", \"King'sBench\", \"Kingdom\", \"Kingdom\", \"Kingdom\", \"Kingdom\", \"Labour\", \"Labour\", \"Labour\", \"Labourers\", \"LandTax\", \"LandTax\", \"LandTax\", \"Landed\", \"Laws\", \"Laws\", \"Laws\", \"Laws\", \"League\", \"Lechmere\", \"Liquors\", \"List\", \"List\", \"List\", \"Lord\", \"Lord\", \"Lord\", \"Lord\", \"Lords\", \"Lords\", \"Lords\", \"Lords\", \"Lordships\", \"Lordships\", \"Magna\", \"Manner\", \"Manner\", \"Manner\", \"Manner\", \"Manufacture\", \"Manufacture\", \"Manufacturers\", \"Manufacturers\", \"Market\", \"Market\", \"Markets\", \"Martial\", \"Matter\", \"Matter\", \"Matter\", \"Matter\", \"Measures\", \"Measures\", \"Measures\", \"Medium\", \"Merchandizes\", \"Method\", \"Method\", \"Method\", \"Method\", \"Methuen\", \"Minister\", \"Minister\", \"Minister\", \"Minister\", \"Ministers\", \"Ministers\", \"Ministers\", \"Ministers\", \"Money\", \"Money\", \"Money\", \"Money\", \"Mortgage\", \"Mortgages\", \"Motion\", \"Motion\", \"Motion\", \"Motion\", \"Nation\", \"Nation\", \"Nation\", \"Nation\", \"Newcastle\", \"Opinion\", \"Opinion\", \"Opinion\", \"Opinion\", \"Orange\", \"Papists\", \"Papists\", \"Papists\", \"Part\", \"Part\", \"Part\", \"Part\", \"Paul\", \"Peace\", \"Peace\", \"Peace\", \"Peace\", \"Pence\", \"Pence\", \"People\", \"People\", \"People\", \"People\", \"Person\", \"Person\", \"Person\", \"Person\", \"Persons\", \"Persons\", \"Persons\", \"Persons\", \"Plot\", \"Poland\", \"Popery\", \"Popery\", \"Popish\", \"Popish\", \"Popish\", \"Portugal\", \"Portugal\", \"Portugal\", \"Portugal\", \"Pounds\", \"Pounds\", \"Pounds\", \"Pounds\", \"Power\", \"Power\", \"Power\", \"Power\", \"Powers\", \"Powers\", \"Powers\", \"Powers\", \"Price\", \"Price\", \"Price\", \"Price\", \"Proceedings\", \"Proceedings\", \"Proceedings\", \"Proceedings\", \"Produce\", \"Produce\", \"Produce\", \"Protestant\", \"Protestant\", \"Protestants\", \"Protestants\", \"Protestants\", \"Publick\", \"Publick\", \"Publick\", \"Queen\", \"Queen\", \"Queen\", \"Queen\", \"Rate\", \"Rate\", \"Rate\", \"Reason\", \"Reason\", \"Reason\", \"Reason\", \"Religion\", \"Religion\", \"Religion\", \"Religion\", \"Report\", \"Report\", \"Report\", \"Report\", \"Resolved\", \"Resolved\", \"Retail\", \"Revenue\", \"Revenue\", \"Revenue\", \"Revenue\", \"Right\", \"Right\", \"Right\", \"Right\", \"Rivals\", \"Ross\", \"Rupture\", \"Rupture\", \"Salt\", \"Salt\", \"Salt\", \"Scheme\", \"Scheme\", \"Scheme\", \"Scotland\", \"Scotland\", \"Scotland\", \"Scotland\", \"Secrets\", \"Secrets\", \"Service\", \"Service\", \"Service\", \"Service\", \"Seville\", \"Seymour\", \"Shilling\", \"Shilling\", \"Shilling\", \"SinkingFund\", \"Situation\", \"Situation\", \"Situation\", \"Somers\", \"Spain\", \"Spain\", \"Spain\", \"Spaniards\", \"Spaniards\", \"Spirituous\", \"Standing\", \"Stanhope\", \"Steele\", \"Stockjobbing\", \"Strafford\", \"Subjects\", \"Subjects\", \"Subjects\", \"Subjects\", \"Successor\", \"Successor\", \"Successor\", \"SugarColonies\", \"Sugars\", \"Sugars\", \"Supply\", \"Supply\", \"Supply\", \"Supply\", \"Sweden\", \"Sweden\", \"Tangier\", \"Taxes\", \"Taxes\", \"Taxes\", \"Taxes\", \"Thanks\", \"Thanks\", \"Thanks\", \"Thanks\", \"That\", \"That\", \"That\", \"That\", \"Thing\", \"Thing\", \"Thing\", \"Thing\", \"Time\", \"Time\", \"Time\", \"Time\", \"Trade\", \"Trade\", \"Trade\", \"Trade\", \"Trial\", \"Trial\", \"Trial\", \"Trial\", \"Triennial\", \"Triennial\", \"Vacancy\", \"Vengeance\", \"Voices\", \"Vote\", \"Vote\", \"Vote\", \"Walpole\", \"Walpole\", \"Walpole\", \"Whigs\", \"Word\", \"Word\", \"Word\", \"Workmen\", \"Writ\", \"Year\", \"Year\", \"Year\", \"Year\", \"Years\", \"Years\", \"Years\", \"Years\", \"abolishing\", \"agreed\", \"agreed\", \"agreed\", \"agreed\", \"always\", \"always\", \"always\", \"always\", \"amused\", \"believe\", \"believe\", \"believe\", \"believe\", \"blame\", \"borrow\", \"borrow\", \"cheap\", \"continually\", \"could\", \"could\", \"could\", \"could\", \"danger\", \"deposed\", \"diminished\", \"diminished\", \"discontented\", \"done\", \"done\", \"done\", \"done\", \"doth\", \"doth\", \"even\", \"even\", \"even\", \"even\", \"ever\", \"ever\", \"ever\", \"ever\", \"every\", \"every\", \"every\", \"every\", \"first\", \"first\", \"first\", \"first\", \"following\", \"following\", \"following\", \"following\", \"given\", \"given\", \"given\", \"given\", \"good\", \"good\", \"good\", \"good\", \"grand\", \"grand\", \"granted\", \"granted\", \"granted\", \"granted\", \"hath\", \"hath\", \"hath\", \"homemade\", \"honourable\", \"honourable\", \"honourable\", \"honourable\", \"hundred\", \"hundred\", \"hundred\", \"hundred\", \"impeached\", \"independent\", \"independent\", \"keeping\", \"keeping\", \"keeping\", \"keeping\", \"know\", \"know\", \"know\", \"know\", \"laid\", \"laid\", \"laid\", \"laid\", \"last\", \"last\", \"last\", \"last\", \"late\", \"late\", \"late\", \"late\", \"many\", \"many\", \"many\", \"many\", \"march\", \"might\", \"might\", \"might\", \"might\", \"much\", \"much\", \"much\", \"much\", \"necessary\", \"necessary\", \"necessary\", \"necessary\", \"never\", \"never\", \"never\", \"never\", \"opinion\", \"order\", \"order\", \"order\", \"order\", \"ought\", \"ought\", \"ought\", \"ought\", \"plunder\", \"plundered\", \"preliminary\", \"preliminary\", \"present\", \"present\", \"present\", \"present\", \"presented\", \"presented\", \"presented\", \"presented\", \"presently\", \"proposed\", \"proposed\", \"proposed\", \"proposed\", \"public\", \"public\", \"public\", \"public\", \"pursuant\", \"pursuant\", \"pursuant\", \"pursuant\", \"read\", \"read\", \"read\", \"read\", \"recommitted\", \"referr\", \"referr\", \"regular\", \"regular\", \"regular\", \"regular\", \"reported\", \"reported\", \"reported\", \"reported\", \"resolv\", \"resolv\", \"resolv\", \"resolv\", \"resum\", \"sell\", \"sell\", \"sell\", \"sell\", \"several\", \"several\", \"several\", \"several\", \"shou\", \"spoke\", \"spoke\", \"spoke\", \"spoke\", \"take\", \"take\", \"take\", \"take\", \"tamely\", \"thing\", \"thing\", \"thing\", \"thing\", \"things\", \"things\", \"think\", \"think\", \"think\", \"think\", \"thousand\", \"thousand\", \"thousand\", \"time\", \"time\", \"time\", \"time\", \"truth\", \"well\", \"well\", \"well\", \"well\", \"whole\", \"whole\", \"whole\", \"whole\", \"without\", \"without\", \"without\", \"without\", \"word\", \"would\", \"would\", \"would\", \"would\", \"yearly\", \"yearly\", \"yearly\"]}, \"R\": 30, \"lambda.step\": 0.01, \"plot.opts\": {\"xlab\": \"PC1\", \"ylab\": \"PC2\"}, \"topic.order\": [3, 1, 4, 2]};\n",
       "\n",
       "function LDAvis_load_lib(url, callback){\n",
       "  var s = document.createElement('script');\n",
       "  s.src = url;\n",
       "  s.async = true;\n",
       "  s.onreadystatechange = s.onload = callback;\n",
       "  s.onerror = function(){console.warn(\"failed to load library \" + url);};\n",
       "  document.getElementsByTagName(\"head\")[0].appendChild(s);\n",
       "}\n",
       "\n",
       "if(typeof(LDAvis) !== \"undefined\"){\n",
       "   // already loaded: just create the visualization\n",
       "   !function(LDAvis){\n",
       "       new LDAvis(\"#\" + \"ldavis_el109491123284211926332933019\", ldavis_el109491123284211926332933019_data);\n",
       "   }(LDAvis);\n",
       "}else if(typeof define === \"function\" && define.amd){\n",
       "   // require.js is available: use it to load d3/LDAvis\n",
       "   require.config({paths: {d3: \"https://cdnjs.cloudflare.com/ajax/libs/d3/3.5.5/d3.min\"}});\n",
       "   require([\"d3\"], function(d3){\n",
       "      window.d3 = d3;\n",
       "      LDAvis_load_lib(\"https://cdn.rawgit.com/bmabey/pyLDAvis/files/ldavis.v1.0.0.js\", function(){\n",
       "        new LDAvis(\"#\" + \"ldavis_el109491123284211926332933019\", ldavis_el109491123284211926332933019_data);\n",
       "      });\n",
       "    });\n",
       "}else{\n",
       "    // require.js not available: dynamically load d3 & LDAvis\n",
       "    LDAvis_load_lib(\"https://cdnjs.cloudflare.com/ajax/libs/d3/3.5.5/d3.min.js\", function(){\n",
       "         LDAvis_load_lib(\"https://cdn.rawgit.com/bmabey/pyLDAvis/files/ldavis.v1.0.0.js\", function(){\n",
       "                 new LDAvis(\"#\" + \"ldavis_el109491123284211926332933019\", ldavis_el109491123284211926332933019_data);\n",
       "            })\n",
       "         });\n",
       "}\n",
       "</script>"
      ],
      "text/plain": [
       "<IPython.core.display.HTML object>"
      ]
     },
     "execution_count": 39,
     "metadata": {},
     "output_type": "execute_result"
    }
   ],
   "source": [
    "# we can use the same static visualizer as before and ldaseqmodel has a method for us to pop out what we need:\n",
    "\n",
    "doc_topic,topic_term,doc_lengths,term_frequency,vocab = proceedings_dtm1.dtm_vis(time=0, corpus=proceedings_corp)\n",
    "\n",
    "vis_wrapper = pyLDAvis.prepare(topic_term_dists=topic_term, doc_topic_dists=doc_topic, doc_lengths=doc_lengths, vocab=vocab, term_frequency=term_frequency)\n",
    "\n",
    "pyLDAvis.display(vis_wrapper)"
   ]
  },
  {
   "cell_type": "code",
   "execution_count": 40,
   "metadata": {},
   "outputs": [
    {
     "name": "stderr",
     "output_type": "stream",
     "text": [
      "/Users/zwehrwein/anaconda3/lib/python3.6/site-packages/pyLDAvis/_prepare.py:387: DeprecationWarning: \n",
      ".ix is deprecated. Please use\n",
      ".loc for label based indexing or\n",
      ".iloc for positional indexing\n",
      "\n",
      "See the documentation here:\n",
      "http://pandas.pydata.org/pandas-docs/stable/indexing.html#ix-indexer-is-deprecated\n",
      "  topic_term_dists = topic_term_dists.ix[topic_order]\n"
     ]
    },
    {
     "data": {
      "text/html": [
       "\n",
       "<link rel=\"stylesheet\" type=\"text/css\" href=\"https://cdn.rawgit.com/bmabey/pyLDAvis/files/ldavis.v1.0.0.css\">\n",
       "\n",
       "\n",
       "<div id=\"ldavis_el109491123284209528139185202\"></div>\n",
       "<script type=\"text/javascript\">\n",
       "\n",
       "var ldavis_el109491123284209528139185202_data = {\"mdsDat\": {\"Freq\": [32.835029620865456, 31.21060240990408, 22.631680130185558, 13.322687839044917], \"cluster\": [1, 1, 1, 1], \"topics\": [1, 2, 3, 4], \"x\": [-0.08282647994755113, -0.09259879174570587, 0.06307970515944618, 0.11234556653381098], \"y\": [-0.08524992496859542, 0.06774912635747421, 0.055892681389423715, -0.03839188277830248]}, \"tinfo\": {\"Category\": [\"Default\", \"Default\", \"Default\", \"Default\", \"Default\", \"Default\", \"Default\", \"Default\", \"Default\", \"Default\", \"Default\", \"Default\", \"Default\", \"Default\", \"Default\", \"Default\", \"Default\", \"Default\", \"Default\", \"Default\", \"Default\", \"Default\", \"Default\", \"Default\", \"Default\", \"Default\", \"Default\", \"Default\", \"Default\", \"Default\", \"Topic1\", \"Topic1\", \"Topic1\", \"Topic1\", \"Topic1\", \"Topic1\", \"Topic1\", \"Topic1\", \"Topic1\", \"Topic1\", \"Topic1\", \"Topic1\", \"Topic1\", \"Topic1\", \"Topic1\", \"Topic1\", \"Topic1\", \"Topic1\", \"Topic1\", \"Topic1\", \"Topic1\", \"Topic1\", \"Topic1\", \"Topic1\", \"Topic1\", \"Topic1\", \"Topic1\", \"Topic1\", \"Topic1\", \"Topic1\", \"Topic1\", \"Topic1\", \"Topic1\", \"Topic1\", \"Topic1\", \"Topic1\", \"Topic1\", \"Topic1\", \"Topic1\", \"Topic1\", \"Topic1\", \"Topic1\", \"Topic1\", \"Topic1\", \"Topic1\", \"Topic1\", \"Topic1\", \"Topic1\", \"Topic1\", \"Topic1\", \"Topic1\", \"Topic1\", \"Topic1\", \"Topic1\", \"Topic1\", \"Topic1\", \"Topic1\", \"Topic1\", \"Topic1\", \"Topic1\", \"Topic1\", \"Topic1\", \"Topic1\", \"Topic1\", \"Topic1\", \"Topic1\", \"Topic1\", \"Topic1\", \"Topic1\", \"Topic1\", \"Topic1\", \"Topic1\", \"Topic1\", \"Topic1\", \"Topic1\", \"Topic1\", \"Topic1\", \"Topic1\", \"Topic1\", \"Topic1\", \"Topic1\", \"Topic1\", \"Topic1\", \"Topic1\", \"Topic1\", \"Topic1\", \"Topic1\", \"Topic1\", \"Topic1\", \"Topic1\", \"Topic2\", \"Topic2\", \"Topic2\", \"Topic2\", \"Topic2\", \"Topic2\", \"Topic2\", \"Topic2\", \"Topic2\", \"Topic2\", \"Topic2\", \"Topic2\", \"Topic2\", \"Topic2\", \"Topic2\", \"Topic2\", \"Topic2\", \"Topic2\", \"Topic2\", \"Topic2\", \"Topic2\", \"Topic2\", \"Topic2\", \"Topic2\", \"Topic2\", \"Topic2\", \"Topic2\", \"Topic2\", \"Topic2\", \"Topic2\", \"Topic2\", \"Topic2\", \"Topic2\", \"Topic2\", \"Topic2\", \"Topic2\", \"Topic2\", \"Topic2\", \"Topic2\", \"Topic2\", \"Topic2\", \"Topic2\", \"Topic2\", \"Topic2\", \"Topic2\", \"Topic2\", \"Topic2\", \"Topic2\", \"Topic2\", \"Topic2\", \"Topic2\", \"Topic2\", \"Topic2\", \"Topic2\", \"Topic2\", \"Topic2\", \"Topic2\", \"Topic2\", \"Topic2\", \"Topic2\", \"Topic2\", \"Topic2\", \"Topic2\", \"Topic2\", \"Topic2\", \"Topic2\", \"Topic2\", \"Topic2\", \"Topic2\", \"Topic2\", \"Topic2\", \"Topic2\", \"Topic2\", \"Topic2\", \"Topic2\", \"Topic2\", \"Topic2\", \"Topic2\", \"Topic3\", \"Topic3\", \"Topic3\", \"Topic3\", \"Topic3\", \"Topic3\", \"Topic3\", \"Topic3\", \"Topic3\", \"Topic3\", \"Topic3\", \"Topic3\", \"Topic3\", \"Topic3\", \"Topic3\", \"Topic3\", \"Topic3\", \"Topic3\", \"Topic3\", \"Topic3\", \"Topic3\", \"Topic3\", \"Topic3\", \"Topic3\", \"Topic3\", \"Topic3\", \"Topic3\", \"Topic3\", \"Topic3\", \"Topic3\", \"Topic3\", \"Topic3\", \"Topic3\", \"Topic3\", \"Topic3\", \"Topic3\", \"Topic3\", \"Topic3\", \"Topic3\", \"Topic3\", \"Topic3\", \"Topic3\", \"Topic3\", \"Topic3\", \"Topic3\", \"Topic3\", \"Topic3\", \"Topic3\", \"Topic3\", \"Topic3\", \"Topic3\", \"Topic3\", \"Topic3\", \"Topic3\", \"Topic3\", \"Topic3\", \"Topic3\", \"Topic3\", \"Topic3\", \"Topic3\", \"Topic3\", \"Topic3\", \"Topic3\", \"Topic3\", \"Topic3\", \"Topic3\", \"Topic3\", \"Topic3\", \"Topic3\", \"Topic3\", \"Topic3\", \"Topic3\", \"Topic3\", \"Topic3\", \"Topic3\", \"Topic3\", \"Topic3\", \"Topic3\", \"Topic3\", \"Topic3\", \"Topic3\", \"Topic4\", \"Topic4\", \"Topic4\", \"Topic4\", \"Topic4\", \"Topic4\", \"Topic4\", \"Topic4\", \"Topic4\", \"Topic4\", \"Topic4\", \"Topic4\", \"Topic4\", \"Topic4\", \"Topic4\", \"Topic4\", \"Topic4\", \"Topic4\", \"Topic4\", \"Topic4\", \"Topic4\", \"Topic4\", \"Topic4\", \"Topic4\", \"Topic4\", \"Topic4\", \"Topic4\", \"Topic4\", \"Topic4\", \"Topic4\", \"Topic4\", \"Topic4\", \"Topic4\", \"Topic4\", \"Topic4\", \"Topic4\", \"Topic4\", \"Topic4\", \"Topic4\", \"Topic4\", \"Topic4\", \"Topic4\", \"Topic4\", \"Topic4\", \"Topic4\", \"Topic4\", \"Topic4\", \"Topic4\", \"Topic4\", \"Topic4\", \"Topic4\", \"Topic4\", \"Topic4\", \"Topic4\", \"Topic4\", \"Topic4\", \"Topic4\", \"Topic4\", \"Topic4\", \"Topic4\", \"Topic4\", \"Topic4\", \"Topic4\", \"Topic4\", \"Topic4\", \"Topic4\", \"Topic4\", \"Topic4\", \"Topic4\", \"Topic4\", \"Topic4\", \"Topic4\", \"Topic4\", \"Topic4\", \"Topic4\", \"Topic4\", \"Topic4\", \"Topic4\", \"Topic4\", \"Topic4\", \"Topic4\", \"Topic4\", \"Topic4\", \"Topic4\", \"Topic4\"], \"Freq\": [835.0, 1623.0, 1025.0, 370.0, 433.0, 493.0, 1269.0, 272.0, 433.0, 654.0, 612.0, 577.0, 317.0, 603.0, 504.0, 442.0, 373.0, 601.0, 298.0, 309.0, 461.0, 173.0, 311.0, 592.0, 288.0, 238.0, 247.0, 103.0, 229.0, 99.0, 30.60795759892804, 48.37111231141675, 30.95315658127905, 18.31515104524874, 23.312165096033908, 14.82970313607398, 17.63515044292937, 16.59522525460507, 8.990771485440039, 17.22071790551404, 13.362808116869138, 10.80538225595926, 12.617880084071391, 8.831077963956908, 13.186566657569854, 10.591254240246021, 10.574879038354451, 10.774260576957575, 8.51916860501129, 8.958918692788238, 9.723284829095519, 19.50521005298313, 8.501615309505308, 12.167824545578473, 8.947886775930025, 8.775472455132872, 11.820100916446691, 11.766749533859224, 8.421522437752905, 11.194067633880405, 24.22691630005901, 228.51962700848233, 10.439068092816122, 94.1661339549008, 123.0512040945974, 14.231278673932449, 25.366528710685753, 40.4686164890787, 59.763721690805106, 122.35599343128527, 25.98925654034338, 21.08698114194637, 134.28840951744363, 218.9721417078699, 48.28222756650837, 1117.070424701596, 42.329115648645676, 57.750520196251216, 99.8082949387161, 111.15001456583236, 173.00572097532876, 41.28887023100989, 401.3791498990183, 92.02804142397788, 253.89458993679023, 141.71282533491038, 220.83160399687995, 102.5026993572146, 92.82482432288707, 112.41527635652616, 116.9120852376013, 346.0794159178572, 1101.739815083056, 300.4991379339886, 186.55397112769475, 100.37691637455518, 102.3544216034327, 91.90336157972246, 271.63058899423305, 158.02919676735758, 144.40024585520243, 216.30547585022012, 435.4278776363466, 395.3717776152583, 184.86982996804616, 144.9718200245214, 139.29099416539802, 146.7055185229329, 158.35382871357638, 167.68926430480965, 181.44112836585927, 198.97035613360384, 162.155221626276, 173.2117654713539, 171.7836109386069, 245.67675929646234, 167.17519437304983, 165.21943753328523, 165.01954532393898, 150.44018167257371, 67.17909875009306, 54.317879365532015, 269.4124253893535, 30.931408781897456, 27.92825027431319, 19.615193799028265, 26.288402234881072, 26.291963448905253, 20.43283748465036, 19.35572447718702, 20.464892986874737, 24.467622807888194, 21.665246704296447, 20.757689986565175, 16.3207523292709, 122.15400275187413, 12.220099830108241, 11.540155488521536, 15.771466642511296, 17.73197409382066, 16.846078165454948, 13.182710977599546, 13.312809430654942, 15.810585167518548, 130.57066609875523, 15.879063068026287, 14.680979380358865, 14.359826331055874, 8.284800774943122, 96.04938332604931, 90.20339560678106, 84.61295622666603, 81.37651120210514, 52.59071589399979, 201.27140439583178, 41.500216128662316, 44.75656834743197, 668.4660351582856, 31.757758055724427, 110.62705107152233, 86.7199114990345, 74.48624199783468, 150.39132077791945, 285.77601384338465, 56.97973201888052, 33.48639669935952, 621.190396898135, 46.337683285515126, 134.9388404593443, 86.93606136068937, 203.59837211141402, 254.93803062382028, 143.368555586143, 183.33820649964898, 138.14694187644656, 110.96414776896196, 192.21164946673042, 812.7860520173796, 217.23426253860185, 171.88578634607302, 196.66264261942243, 382.6863847391768, 191.37568538932922, 205.24866176876446, 240.5907789461941, 363.78749948383444, 405.6784694224324, 199.38241817380865, 176.86276470040383, 167.76234077490258, 199.64557669120592, 170.02955814225245, 175.5344790285919, 191.44895608826397, 176.12623971112166, 168.3992592801284, 170.31782553020017, 154.22340517101213, 56.463974175194004, 34.886516239362756, 14.249513776479043, 10.921354284889274, 17.31378564260341, 5.959460348319187, 6.638046802501948, 10.860909881912832, 19.076450241364704, 6.528174448875963, 5.975492571861453, 8.484007651727103, 28.009388262456472, 7.18475251181699, 6.602309459246033, 15.509239886784478, 5.774848907768714, 5.423172885803981, 6.723382708527443, 4.416189078265861, 4.805381105566094, 5.176281067294557, 4.7937770690417185, 4.442340502774449, 4.414313856074345, 4.0045073850650965, 22.708763081990547, 4.4963273584278864, 5.029758278524062, 3.889511927487284, 4.93921666421946, 36.7172409831577, 18.114691936491873, 24.132801056267265, 36.1816024816862, 61.67253701590825, 10.420545438769233, 269.9669076466083, 8.500210361712382, 139.29033404264973, 125.18288417561328, 49.564464367509515, 35.72479198721143, 47.283593383395434, 201.5298179572362, 99.52586470900476, 153.8774550573535, 98.56212275110215, 99.37385398169745, 111.69788401492994, 31.070404389580453, 51.56169692259864, 116.68191011065856, 245.92439193842853, 295.5373518229646, 221.45749790711798, 124.25087726108191, 99.90041848372108, 152.21829823130176, 261.6356858185449, 253.96082172869635, 155.72456404483697, 243.65357228676942, 183.04508466812055, 250.842238727328, 392.0964555664397, 145.88401055380433, 108.84421670002719, 164.21919204026338, 196.44325092381283, 123.35916083105387, 132.6869596315289, 134.17462076323133, 187.02823685376188, 344.935126054975, 167.66696306066802, 152.30694805696038, 144.2119133654468, 150.76019433753592, 129.21194891653658, 125.17597796377412, 27.686270914839998, 38.104696038694435, 22.51056443391784, 18.271267300768823, 11.24882396376817, 16.61165461903005, 9.924683962730816, 8.559410788923904, 9.113577341113473, 35.34925427607788, 61.21322592116982, 6.798059273604455, 7.0364879249359245, 7.765384025238148, 6.2368348572234416, 6.931056912770357, 6.83384674726912, 66.21435254938154, 5.467562147885777, 5.677422603294805, 4.955032634772725, 11.977377650890988, 5.427715478414658, 4.523688824061104, 6.099269059455999, 5.018975663222454, 5.651297602345795, 4.703590351681289, 5.1116477216102965, 5.443182473859829, 89.76631593707768, 12.016998210727891, 42.38138936003543, 13.751886871739725, 28.130790815996424, 12.332513065912114, 11.579411163119886, 75.55340999851686, 39.70685455538571, 15.487562160041868, 55.89592900106994, 22.554792554939255, 25.266522473459098, 34.98704398857875, 48.57837088202996, 21.10018876029856, 28.213803709980656, 16.35590983433876, 57.42834179235977, 198.97959046546666, 77.44600372099852, 136.04002697589235, 51.58118862981218, 24.490759151886206, 162.42419212597088, 173.53122066999205, 115.99267306785316, 66.43959827540651, 31.243042797564375, 110.0784929392134, 74.536247830372, 267.87303504869635, 163.66553909496014, 168.9917235180978, 57.71396926984386, 109.00209488569365, 129.2262600775874, 65.16637239890147, 93.64856702901977, 89.9268132464699, 122.8760038648362, 119.04629551430423, 102.33850598285423, 76.43551358547127, 87.42866534852422, 134.31398343926008, 105.82941686280054, 101.88360945053347, 88.8105259783207, 93.93887290364641, 141.2259426358904, 97.11044642079683, 87.10054795526194, 77.950939059168, 75.56721119429427], \"Term\": [\"Lords\", \"That\", \"Commons\", \"Gentleman\", \"Interest\", \"every\", \"would\", \"Lordships\", \"Money\", \"People\", \"think\", \"Nation\", \"Trade\", \"much\", \"Year\", \"ought\", \"hath\", \"Time\", \"Country\", \"Army\", \"Gentlemen\", \"Duties\", \"always\", \"present\", \"Duty\", \"Spain\", \"Commissioners\", \"Taxes\", \"Religion\", \"Cent\", \"Stanhope\", \"Accompts\", \"Voices\", \"Lechmere\", \"Hungerford\", \"Merchandizes\", \"Craggs\", \"Christmas\", \"Ross\", \"Cloathing\", \"deposed\", \"Debentures\", \"ExchequerBills\", \"Boscawen\", \"Paul\", \"resum\", \"Steele\", \"Evening\", \"Certificates\", \"Strafford\", \"Aislabie\", \"Deficiencies\", \"Conyers\", \"Accompt\", \"recommitted\", \"Highways\", \"Methuen\", \"Godolphin\", \"Deduction\", \"Bolingbroke\", \"Pence\", \"Commissioners\", \"Farrer\", \"resolv\", \"reported\", \"Contingencies\", \"referr\", \"grand\", \"GreatBritain\", \"thousand\", \"Sweden\", \"Directors\", \"Supply\", \"presented\", \"Portugal\", \"That\", \"pursuant\", \"June\", \"After\", \"Pounds\", \"Account\", \"Regiments\", \"'That\", \"Scotland\", \"Address\", \"Queen\", \"read\", \"hundred\", \"Walpole\", \"Report\", \"Company\", \"Committee\", \"House\", \"several\", \"Service\", \"Thanks\", \"Forces\", \"Allies\", \"Year\", \"granted\", \"following\", \"Peace\", \"Bill\", \"Commons\", \"whole\", \"agreed\", \"also\", \"laid\", \"Subjects\", \"order\", \"Money\", \"might\", \"late\", \"Lord\", \"given\", \"would\", \"first\", \"Time\", \"Lords\", \"time\", \"Plot\", \"Writ\", \"Lordships\", \"HighTreason\", \"impeached\", \"opinion\", \"Habeas\", \"Corpus\", \"danger\", \"shou\", \"Somers\", \"CommonLaw\", \"King'sBench\", \"Danby\", \"Discourse\", \"Popish\", \"Commitment\", \"League\", \"Orange\", \"Vacancy\", \"Tangier\", \"presently\", \"word\", \"ChiefJustice\", \"Conference\", \"truth\", \"Seymour\", \"Jesuits\", \"Magna\", \"Action\", \"Popery\", \"Papists\", \"Trial\", \"doth\", \"Religion\", \"Successor\", \"Error\", \"Lords\", \"Judicature\", \"Judgment\", \"Judges\", \"Resolved\", \"thing\", \"hath\", \"things\", \"Trials\", \"Commons\", \"Protestants\", \"Protestant\", \"Vote\", \"Right\", \"time\", \"Duke\", \"Laws\", \"Houses\", \"Proceedings\", \"Persons\", \"House\", \"Lord\", \"Person\", \"England\", \"Bill\", \"Case\", \"Government\", \"think\", \"would\", \"That\", \"take\", \"well\", \"'The\", \"without\", \"Kingdom\", \"good\", \"much\", \"last\", \"given\", \"'That\", \"People\", \"Spaniards\", \"Standing\", \"Seville\", \"Poland\", \"Insults\", \"Vengeance\", \"Concessions\", \"Newcastle\", \"independent\", \"tamely\", \"Whigs\", \"Catholick\", \"Triennial\", \"American\", \"Martial\", \"Discontents\", \"Duration\", \"Changes\", \"plundered\", \"plunder\", \"Annual\", \"discontented\", \"Chance\", \"Histories\", \"Flag\", \"continually\", \"Depredations\", \"march\", \"Insurrection\", \"amused\", \"blame\", \"Situation\", \"Rupture\", \"Injuries\", \"Convention\", \"Powers\", \"Secrets\", \"Gentleman\", \"preliminary\", \"honourable\", \"Europe\", \"Minister\", \"America\", \"keeping\", \"Army\", \"Measures\", \"Spain\", \"Thing\", \"Ministers\", \"spoke\", \"regular\", \"British\", \"Constitution\", \"Gentlemen\", \"Nation\", \"ought\", \"believe\", \"Manner\", \"Reason\", \"think\", \"Time\", \"Motion\", \"present\", \"Power\", \"People\", \"would\", \"always\", \"even\", \"Crown\", \"every\", \"Honour\", \"know\", \"Opinion\", \"much\", \"House\", \"could\", \"necessary\", \"never\", \"without\", \"last\", \"might\", \"Consumption\", \"Liquors\", \"SinkingFund\", \"Landed\", \"SugarColonies\", \"Spirituous\", \"cheap\", \"Medium\", \"Retail\", \"Creditors\", \"Price\", \"Workmen\", \"Extravagance\", \"abolishing\", \"Dividend\", \"70,000\", \"Mortgage\", \"Scheme\", \"Stockjobbing\", \"Rivals\", \"Compensation\", \"Market\", \"Calculations\", \"Adventurers\", \"Markets\", \"Excises\", \"Dealer\", \"Labourers\", \"Mortgages\", \"homemade\", \"Taxes\", \"borrow\", \"Produce\", \"Sugars\", \"sell\", \"diminished\", \"Manufacturers\", \"Cent\", \"Salt\", \"Annuity\", \"yearly\", \"Manufacture\", \"Capital\", \"Frauds\", \"Excise\", \"Shilling\", \"Increase\", \"Labour\", \"Publick\", \"Interest\", \"Revenue\", \"Trade\", \"List\", \"LandTax\", \"Money\", \"every\", \"Duty\", \"Method\", \"Rate\", \"Country\", \"Duties\", \"would\", \"much\", \"People\", \"Civil\", \"Part\", \"Year\", \"proposed\", \"always\", \"Years\", \"Time\", \"present\", \"ought\", \"public\", \"ever\", \"Bill\", \"Nation\", \"could\", \"Gentleman\", \"many\", \"House\", \"think\", \"without\", \"never\", \"Gentlemen\"], \"Total\": [835.0, 1623.0, 1025.0, 370.0, 433.0, 493.0, 1269.0, 272.0, 433.0, 654.0, 612.0, 577.0, 317.0, 603.0, 504.0, 442.0, 373.0, 601.0, 298.0, 309.0, 461.0, 173.0, 311.0, 592.0, 288.0, 238.0, 247.0, 103.0, 229.0, 99.0, 30.92897337003173, 48.89540235003987, 31.332225090948484, 18.572873614595306, 23.7014451201389, 15.081421404199686, 18.031161568005675, 17.024243309349355, 9.242090064856097, 17.703565343139733, 13.78278556914599, 11.147432011363486, 13.024376645940004, 9.122563358685495, 13.624384590185908, 10.961186930542569, 10.95162592535803, 11.177091182454914, 8.84130756937026, 9.302696623184461, 10.097868515226365, 20.25690533884012, 8.835732056421543, 12.647962491426563, 9.303162634608897, 9.132206137903658, 12.302385976882539, 12.246918540410526, 8.775638070685945, 11.6709002191941, 25.498838194179807, 247.6183123077294, 10.91733239098247, 105.64244638184043, 140.62406944584365, 15.029899261785598, 27.465283868048505, 44.856671024732776, 67.93526026673244, 145.0754949438571, 28.382802254792967, 22.74747110904036, 164.20109838222433, 279.2816460101672, 55.157926624814884, 1623.7849556115666, 48.253519213102436, 68.7922557937081, 125.04332112692816, 142.25131976018102, 232.0896651657257, 47.97881208981905, 604.7706860211762, 117.77838619636294, 368.36216991511475, 192.4166063632662, 318.7057459644303, 133.63061734492217, 119.8823079311096, 150.81643158863608, 160.93558460547683, 586.2045677400835, 2400.6869357913015, 519.8768453409739, 298.04305207341935, 139.00748110405812, 142.68628263182902, 125.19972814098179, 504.4818788963066, 252.09495654199517, 224.74360625048126, 390.56879202319874, 1007.0315805014702, 1025.5480522141797, 354.6373678157313, 244.86233085063577, 235.50045439845854, 258.83169026207065, 306.1025228675109, 344.51172029541135, 433.5416899784664, 533.6709742916997, 337.8489693507143, 408.87529453541913, 417.2408507906368, 1269.4337493954326, 423.3020852111904, 601.9811039508068, 835.4937126623739, 415.7617493472487, 67.59027060241489, 54.69178300998837, 272.59433592273075, 31.36367691252198, 28.332556482326368, 19.943020544047247, 26.741209238680927, 26.745183248144848, 20.78665802846814, 19.69543522837073, 20.826159745331253, 24.961137814226937, 22.162381569406485, 21.247023074583897, 16.729322209082483, 125.22343336066717, 12.535732008321844, 11.841137203407708, 16.199585260032254, 18.23553787892825, 17.335307276022313, 13.578640588940482, 13.72298011252882, 16.299714646216827, 134.62203314073034, 16.37765601895566, 15.169901128940626, 14.86642738199468, 8.579698445921187, 99.50356282078847, 93.73193870147037, 88.77672636445416, 85.74442332169558, 55.71836190459345, 229.02118267236568, 44.42134813436677, 48.07132062492888, 835.4937126623739, 33.88199600239763, 129.46371117189852, 101.12762151269285, 85.76199037089711, 185.25211905882588, 373.6108115692736, 64.80017332759783, 36.518748780675864, 1025.5480522141797, 53.049798759013406, 186.50678503517773, 112.81687895592262, 316.2869687140509, 415.7617493472487, 210.82790097194362, 287.79481610335506, 217.2528889731645, 164.66009503883276, 343.22675262181906, 2400.6869357913015, 408.87529453541913, 297.7911819633872, 369.5520069956124, 1007.0315805014702, 365.873639863365, 431.8161679276434, 612.8103522975667, 1269.4337493954326, 1623.7849556115666, 476.16054622562865, 386.68219342759363, 354.57781254686194, 549.0665894728751, 409.02281776305995, 458.5260542155896, 603.8983884209952, 484.1963982303438, 417.2408507906368, 604.7706860211762, 654.5901054087706, 57.332402599919384, 35.78861816527122, 14.732082551957443, 11.353403409821603, 18.07090935377739, 6.25517268594739, 6.980251679014997, 11.451664990365181, 20.287975948325677, 6.999718968000469, 6.413519370697012, 9.131715580663926, 30.1599626003557, 7.739899859334715, 7.112602529778838, 16.710239746735382, 6.226270028724967, 5.84893954883759, 7.283811828894603, 4.809572631544563, 5.24794532826089, 5.659389816147605, 5.242044887016067, 4.870479667286406, 4.849708027604551, 4.412314863809059, 25.08483123929078, 4.96681759890616, 5.607276612500997, 4.336397695761076, 5.5152911259574955, 42.0268899907446, 20.85238507340216, 28.035820450694445, 42.80390747154878, 76.04464382262691, 11.88033966410008, 370.67842144304933, 9.614352086867063, 190.1332294531573, 172.47277020318268, 63.72276122272955, 45.257145936301626, 62.22464810982328, 309.5343039662126, 142.7098328483605, 238.93261458875165, 145.91053966527156, 149.83853301766507, 172.6606228847975, 40.40944535680492, 72.80920429178855, 190.1178063069601, 461.2713788208472, 577.1782697572432, 442.5958634539355, 227.60761005490113, 174.65868821821076, 301.8708775608175, 612.8103522975667, 601.9811039508068, 318.9845771883291, 592.2347202100616, 409.319145263923, 654.5901054087706, 1269.4337493954326, 311.7546746797928, 205.77861681565858, 375.2671819006723, 493.6711813536963, 248.43825546735553, 290.4070350956596, 307.00661947966904, 603.8983884209952, 2400.6869357913015, 529.8383403463996, 422.32201245904554, 394.4319116843978, 549.0665894728751, 484.1963982303438, 533.6709742916997, 28.054986988188563, 38.78954681274279, 23.18734606038937, 18.887912665500355, 11.701924316148615, 17.31892774224556, 10.411340337372321, 9.071172061355446, 9.72395755275826, 38.21574815427568, 66.22405844116302, 7.369940875890623, 7.646257111579285, 8.44146158397734, 6.797349401601855, 7.619297427905931, 7.520535387603205, 72.87338600813041, 6.0398816400563184, 6.283708967767395, 5.486363853208999, 13.280858418764957, 6.037229676097534, 5.039821804755142, 6.807253237482886, 5.604717377514783, 6.323386364218285, 5.270623908629941, 5.728832236982394, 6.117021963315049, 103.55755333437187, 13.654815042453356, 49.90232839919655, 15.857841137114404, 33.79769110956971, 14.3879653527533, 13.465747730463969, 99.41210776649424, 50.69658533509936, 18.4651905503531, 74.8334472644257, 27.949376633507534, 31.696273370637208, 45.79961575472568, 66.30247541225008, 26.33657794594434, 36.921888431149775, 19.981301065346642, 93.2330722369675, 433.56737942956227, 149.6021249681091, 317.6057303026065, 91.74146467529098, 34.28690941314272, 433.5416899784664, 493.6711813536963, 288.5677251377715, 134.51181502409128, 48.064177750373695, 298.13413205817824, 173.36712947210904, 1269.4337493954326, 603.8983884209952, 654.5901054087706, 120.1508516690217, 370.24680493899166, 504.4818788963066, 156.78884342995875, 311.7546746797928, 290.95598590551083, 601.9811039508068, 592.2347202100616, 442.5958634539355, 237.17328412911917, 330.33758862815523, 1007.0315805014702, 577.1782697572432, 529.8383403463996, 370.67842144304933, 453.1486726908923, 2400.6869357913015, 612.8103522975667, 549.0665894728751, 394.4319116843978, 461.2713788208472], \"loglift\": [30.0, 29.0, 28.0, 27.0, 26.0, 25.0, 24.0, 23.0, 22.0, 21.0, 20.0, 19.0, 18.0, 17.0, 16.0, 15.0, 14.0, 13.0, 12.0, 11.0, 10.0, 9.0, 8.0, 7.0, 6.0, 5.0, 4.0, 3.0, 2.0, 1.0, 1.1032, 1.1029, 1.1015, 1.0997, 1.0971, 1.0968, 1.0915, 1.0882, 1.0861, 1.086, 1.0827, 1.0825, 1.082, 1.0812, 1.081, 1.0793, 1.0787, 1.077, 1.0766, 1.076, 1.0759, 1.0759, 1.0751, 1.075, 1.0747, 1.0738, 1.0737, 1.0737, 1.0725, 1.072, 1.0625, 1.0334, 1.0689, 0.9987, 0.9802, 1.0591, 1.0342, 1.0107, 0.9855, 0.9434, 1.0256, 1.0379, 0.9126, 0.8704, 0.9805, 0.7396, 0.9827, 0.9387, 0.8883, 0.867, 0.8199, 0.9635, 0.7037, 0.867, 0.7415, 0.8078, 0.7468, 0.8485, 0.8579, 0.8198, 0.7941, 0.5867, 0.3348, 0.5655, 0.6452, 0.7881, 0.7815, 0.8045, 0.4946, 0.6466, 0.6713, 0.5228, 0.2752, 0.1605, 0.4622, 0.5895, 0.5885, 0.5459, 0.4546, 0.3937, 0.2426, 0.1271, 0.3796, 0.2548, 0.2262, -0.5286, 0.1846, -0.1793, -0.5083, 0.0971, 1.1583, 1.1576, 1.1527, 1.1505, 1.15, 1.1478, 1.1473, 1.1473, 1.1472, 1.147, 1.1469, 1.1444, 1.1417, 1.1411, 1.1397, 1.1396, 1.1389, 1.1387, 1.1376, 1.1364, 1.1358, 1.1348, 1.1341, 1.1339, 1.1339, 1.1335, 1.1317, 1.1297, 1.1294, 1.1291, 1.126, 1.1164, 1.1121, 1.1066, 1.0353, 1.0964, 1.093, 0.9414, 1.0997, 1.0072, 1.0107, 1.0235, 0.9559, 0.8964, 1.0358, 1.0777, 0.6631, 1.0291, 0.8408, 0.9038, 0.7239, 0.6753, 0.7788, 0.7135, 0.7117, 0.7697, 0.5846, 0.0814, 0.532, 0.6149, 0.5336, 0.1969, 0.5164, 0.4206, 0.2295, -0.0853, -0.2225, 0.2939, 0.3822, 0.416, 0.1527, 0.2866, 0.2042, 0.0156, 0.1531, 0.2571, -0.1028, -0.2812, 1.4706, 1.4603, 1.4525, 1.447, 1.443, 1.4374, 1.4356, 1.4329, 1.4242, 1.4161, 1.4151, 1.4122, 1.4118, 1.4114, 1.4114, 1.4112, 1.4106, 1.4102, 1.4058, 1.4005, 1.3977, 1.3966, 1.3964, 1.3938, 1.3918, 1.3888, 1.3863, 1.3863, 1.3771, 1.3771, 1.3755, 1.3508, 1.3451, 1.3359, 1.3177, 1.2763, 1.3547, 1.1688, 1.3627, 1.1747, 1.1654, 1.2346, 1.2493, 1.2112, 1.0567, 1.1254, 1.0458, 1.0935, 1.0752, 1.0503, 1.223, 1.1408, 0.9976, 0.8569, 0.8165, 0.7934, 0.8805, 0.9272, 0.8011, 0.6347, 0.6228, 0.7688, 0.5977, 0.6811, 0.5266, 0.311, 0.7264, 0.8489, 0.6594, 0.5643, 0.7857, 0.7025, 0.6581, 0.3137, -0.4543, 0.3352, 0.4659, 0.4797, 0.1933, 0.1648, 0.0358, 2.0025, 1.9979, 1.9861, 1.9825, 1.9762, 1.974, 1.9678, 1.9576, 1.9509, 1.9377, 1.937, 1.9349, 1.9326, 1.9322, 1.9296, 1.921, 1.92, 1.9199, 1.9162, 1.9142, 1.9138, 1.9124, 1.9093, 1.9077, 1.9059, 1.9053, 1.9033, 1.9019, 1.9017, 1.899, 1.8728, 1.8879, 1.8523, 1.8732, 1.8322, 1.8615, 1.8648, 1.7413, 1.7714, 1.8399, 1.7239, 1.8013, 1.789, 1.7464, 1.7047, 1.794, 1.7467, 1.8155, 1.5311, 1.2369, 1.3573, 1.1678, 1.4399, 1.6792, 1.0339, 0.9702, 1.1043, 1.3103, 1.585, 1.0194, 1.1716, 0.4599, 0.7101, 0.6615, 1.2825, 0.7929, 0.6537, 1.1377, 0.813, 0.8415, 0.4267, 0.4113, 0.5513, 0.8834, 0.6864, 0.0011, 0.3194, 0.367, 0.5869, 0.4421, -0.8174, 0.1735, 0.1745, 0.3943, 0.2067], \"logprob\": [30.0, 29.0, 28.0, 27.0, 26.0, 25.0, 24.0, 23.0, 22.0, 21.0, 20.0, 19.0, 18.0, 17.0, 16.0, 15.0, 14.0, 13.0, 12.0, 11.0, 10.0, 9.0, 8.0, 7.0, 6.0, 5.0, 4.0, 3.0, 2.0, 1.0, -7.5404, -7.0828, -7.5292, -8.0539, -7.8127, -8.265, -8.0918, -8.1526, -8.7655, -8.1156, -8.3692, -8.5816, -8.4266, -8.7834, -8.3825, -8.6016, -8.6032, -8.5845, -8.8194, -8.769, -8.6872, -7.991, -8.8214, -8.4629, -8.7703, -8.7897, -8.4919, -8.4964, -8.8309, -8.5463, -7.7742, -5.5301, -8.6161, -6.4166, -6.1491, -8.3062, -7.7282, -7.2611, -6.8713, -6.1547, -7.704, -7.913, -6.0617, -5.5727, -7.0846, -3.9432, -7.2162, -6.9055, -6.3584, -6.2508, -5.8083, -7.2411, -4.9668, -6.4396, -5.4248, -6.0079, -5.5643, -6.3318, -6.431, -6.2395, -6.2003, -5.115, -3.957, -5.2562, -5.733, -6.3527, -6.3332, -6.4409, -5.3572, -5.8989, -5.9891, -5.585, -4.8853, -4.9818, -5.742, -5.9851, -6.0251, -5.9732, -5.8968, -5.8396, -5.7607, -5.6685, -5.8731, -5.8072, -5.8154, -5.4577, -5.8426, -5.8544, -5.8556, -5.9481, -6.7036, -6.9161, -5.3147, -7.4792, -7.5813, -7.9346, -7.6418, -7.6417, -7.8938, -7.9479, -7.8922, -7.7136, -7.8352, -7.878, -8.1185, -6.1057, -8.4079, -8.4651, -8.1527, -8.0356, -8.0868, -8.332, -8.3222, -8.1503, -6.039, -8.1459, -8.2244, -8.2465, -8.7965, -6.3461, -6.4089, -6.4728, -6.5118, -6.9484, -5.6063, -7.1852, -7.1097, -4.406, -7.4528, -6.2048, -6.4483, -6.6003, -5.8977, -5.2557, -6.8682, -7.3998, -4.4793, -7.075, -6.0061, -6.4458, -5.5948, -5.3699, -5.9455, -5.6996, -5.9826, -6.2017, -5.6523, -4.2105, -5.53, -5.7641, -5.6294, -4.9637, -5.6567, -5.5867, -5.4278, -5.0144, -4.9054, -5.6157, -5.7356, -5.7884, -5.6144, -5.775, -5.7431, -5.6563, -5.7397, -5.7846, -5.7733, -5.8725, -6.5559, -7.0374, -7.9328, -8.1988, -7.738, -8.8045, -8.6967, -8.2044, -7.6411, -8.7134, -8.8019, -8.4513, -7.257, -8.6176, -8.7021, -7.8481, -8.836, -8.8988, -8.6839, -9.1043, -9.0198, -8.9454, -9.0222, -9.0983, -9.1047, -9.2021, -7.4668, -9.0863, -8.9742, -9.2312, -8.9923, -6.9863, -7.6928, -7.406, -7.001, -6.4677, -8.2457, -4.9912, -8.4494, -5.653, -5.7598, -6.6863, -7.0137, -6.7334, -5.2836, -5.9891, -5.5534, -5.9988, -5.9906, -5.8737, -7.1533, -6.6468, -5.8301, -5.0845, -4.9007, -5.1893, -5.7672, -5.9854, -5.5642, -5.0226, -5.0523, -5.5414, -5.0938, -5.3798, -5.0647, -4.618, -5.6067, -5.8996, -5.4883, -5.3092, -5.7744, -5.7015, -5.6904, -5.3583, -4.7462, -5.4675, -5.5636, -5.6182, -5.5738, -5.7281, -5.7598, -6.7387, -6.4193, -6.9457, -7.1543, -7.6394, -7.2495, -7.7646, -7.9126, -7.8499, -6.4944, -5.9453, -8.143, -8.1085, -8.01, -8.2292, -8.1236, -8.1378, -5.8667, -8.3608, -8.3231, -8.4592, -7.5766, -8.3681, -8.5503, -8.2515, -8.4464, -8.3278, -8.5113, -8.4281, -8.3653, -5.5624, -7.5733, -6.3129, -7.4385, -6.7228, -7.5474, -7.6104, -5.7348, -6.3781, -7.3196, -6.0362, -6.9437, -6.8302, -6.5047, -6.1765, -7.0104, -6.7198, -7.2651, -6.0091, -4.7664, -5.7101, -5.1467, -6.1165, -6.8614, -4.9694, -4.9033, -5.3061, -5.8634, -6.6179, -5.3585, -5.7484, -4.4691, -4.9618, -4.9298, -6.0041, -5.3683, -5.1981, -5.8827, -5.5201, -5.5607, -5.2485, -5.2801, -5.4314, -5.7232, -5.5888, -5.1595, -5.3978, -5.4358, -5.5731, -5.517, -5.1093, -5.4838, -5.5926, -5.7036, -5.7346]}, \"token.table\": {\"Topic\": [1, 2, 3, 4, 1, 2, 3, 4, 4, 1, 1, 1, 2, 3, 4, 2, 3, 4, 1, 2, 3, 4, 1, 2, 3, 4, 1, 1, 2, 3, 1, 3, 4, 3, 3, 1, 3, 4, 1, 2, 3, 4, 1, 2, 3, 4, 1, 1, 1, 3, 4, 4, 1, 4, 1, 2, 3, 4, 3, 1, 4, 1, 3, 3, 2, 1, 1, 2, 3, 4, 1, 1, 2, 3, 4, 2, 1, 2, 3, 4, 2, 1, 2, 3, 4, 1, 2, 3, 4, 4, 3, 1, 2, 3, 1, 2, 3, 4, 4, 1, 2, 1, 2, 3, 1, 2, 1, 2, 3, 4, 1, 1, 4, 1, 2, 3, 4, 2, 4, 1, 1, 1, 2, 1, 3, 1, 4, 1, 3, 2, 4, 1, 2, 3, 3, 1, 4, 1, 2, 3, 4, 1, 2, 3, 4, 2, 3, 4, 1, 2, 3, 4, 1, 1, 1, 2, 4, 4, 4, 1, 3, 1, 2, 3, 4, 1, 4, 1, 2, 3, 4, 1, 2, 3, 4, 1, 1, 2, 3, 4, 1, 3, 2, 2, 1, 3, 1, 2, 3, 4, 1, 2, 3, 4, 1, 2, 3, 4, 1, 1, 3, 4, 1, 2, 3, 3, 3, 1, 2, 3, 4, 2, 1, 2, 3, 4, 1, 2, 3, 4, 2, 3, 4, 1, 2, 3, 4, 2, 1, 2, 3, 4, 2, 3, 4, 4, 1, 2, 4, 4, 1, 2, 3, 4, 2, 1, 4, 1, 3, 4, 1, 2, 3, 4, 1, 2, 3, 4, 1, 2, 2, 1, 2, 3, 4, 1, 4, 1, 4, 3, 4, 4, 3, 1, 3, 4, 4, 1, 1, 2, 3, 4, 1, 1, 2, 3, 4, 1, 2, 3, 4, 1, 2, 3, 4, 4, 4, 1, 2, 3, 4, 1, 2, 3, 4, 3, 1, 2, 3, 4, 2, 1, 2, 3, 1, 2, 3, 4, 1, 1, 2, 3, 4, 1, 3, 1, 2, 3, 4, 1, 2, 3, 4, 1, 2, 3, 4, 2, 3, 1, 2, 1, 2, 3, 1, 2, 3, 4, 1, 2, 3, 4, 1, 2, 3, 4, 1, 2, 3, 4, 1, 2, 3, 4, 1, 2, 3, 4, 1, 3, 4, 1, 2, 1, 2, 3, 1, 3, 4, 1, 2, 3, 4, 1, 3, 4, 1, 2, 3, 4, 1, 3, 4, 1, 2, 3, 4, 1, 2, 3, 4, 1, 2, 4, 1, 2, 3, 4, 1, 2, 3, 4, 4, 1, 1, 3, 1, 3, 4, 1, 3, 4, 1, 2, 3, 4, 3, 4, 1, 2, 3, 4, 3, 2, 1, 3, 4, 4, 1, 3, 4, 2, 1, 3, 4, 1, 3, 4, 3, 1, 1, 4, 1, 1, 2, 3, 4, 2, 3, 4, 4, 2, 4, 1, 2, 3, 4, 1, 3, 2, 1, 2, 3, 4, 1, 2, 3, 4, 1, 2, 3, 4, 1, 2, 3, 4, 1, 2, 3, 4, 1, 2, 3, 4, 1, 2, 3, 4, 2, 3, 4, 2, 3, 2, 3, 1, 1, 2, 3, 1, 3, 4, 3, 4, 2, 1, 2, 3, 4, 1, 2, 3, 4, 4, 1, 2, 3, 4, 1, 2, 3, 4, 1, 2, 3, 4, 3, 1, 2, 3, 4, 3, 2, 4, 4, 3, 1, 2, 3, 4, 2, 1, 3, 4, 3, 1, 2, 1, 2, 3, 4, 1, 2, 3, 4, 1, 2, 3, 4, 1, 2, 3, 4, 1, 2, 3, 4, 1, 2, 3, 4, 1, 2, 3, 4, 1, 2, 1, 2, 3, 4, 1, 2, 3, 4, 1, 2, 3, 4, 1, 2, 3, 4, 2, 3, 4, 1, 2, 3, 4, 1, 2, 3, 4, 1, 2, 3, 4, 1, 2, 3, 4, 1, 2, 3, 4, 1, 2, 3, 4, 3, 1, 2, 3, 4, 1, 2, 3, 4, 1, 2, 3, 4, 1, 2, 3, 4, 2, 1, 2, 3, 4, 1, 2, 3, 4, 3, 3, 1, 3, 1, 2, 3, 4, 1, 2, 3, 4, 2, 1, 2, 3, 4, 1, 2, 3, 4, 1, 2, 3, 4, 1, 2, 3, 4, 1, 1, 2, 1, 2, 3, 4, 1, 2, 3, 4, 1, 2, 3, 4, 1, 1, 2, 3, 4, 1, 2, 3, 4, 2, 1, 2, 3, 4, 1, 2, 3, 4, 3, 1, 2, 3, 4, 1, 2, 1, 2, 3, 4, 1, 2, 3, 1, 2, 3, 4, 2, 1, 2, 3, 4, 1, 2, 3, 4, 1, 2, 3, 4, 2, 1, 2, 3, 4, 1, 3, 4], \"Freq\": [0.6630612383649146, 0.2810982806035797, 0.024802789465021742, 0.02976334735802609, 0.3468914174762246, 0.4738029116748434, 0.12973174962525474, 0.05076459767944751, 0.9187198775522618, 0.9487694170609863, 0.981687391717738, 0.7454015665732802, 0.051704154906817124, 0.11202566896477044, 0.09479095066249806, 0.9647895741472233, 0.02009978279473382, 0.01004989139736691, 0.6895387766298903, 0.17102733436095705, 0.13845069924458428, 0.9920985688982952, 0.7997228408424361, 0.12795565453478977, 0.01599445681684872, 0.055980598858970526, 0.9903080026167116, 0.734825876749532, 0.023961713372267348, 0.24760437151342926, 0.08838383237047043, 0.7954544913342338, 0.11047979046308803, 0.9044044661065792, 0.952753827878947, 0.10831190691188156, 0.05415595345594078, 0.8123393018391117, 0.2616834352836111, 0.08076649237148491, 0.6525932583615981, 0.006461319389718793, 0.4319626200633982, 0.38032570915926783, 0.05461596345629173, 0.1330643473298744, 0.9425151268030952, 0.986564811460717, 0.19228338142378143, 0.7141954167169025, 0.09614169071189071, 0.8281944315943269, 0.18929670153458103, 0.7887362563940876, 0.008199552176320617, 0.5220381552257459, 0.29518387834754223, 0.1749237797615065, 0.8760675832851943, 0.23136014834353907, 0.764494403222129, 1.017948977499608, 0.9538262467733568, 0.8548558175804181, 0.9816122764893684, 0.9985759537790416, 0.24136324959132205, 0.03329148270225132, 0.2496861202668849, 0.4827264991826441, 0.9602585507776054, 0.9248104385567761, 0.016153894123262465, 0.008076947061631232, 0.052500155900603016, 0.9572636039150966, 0.5902376389421321, 0.23370681079500608, 0.05800023041627888, 0.1177063499624483, 0.9614946313192853, 0.38515991439619696, 0.6055298907342742, 0.0058505303452586884, 0.0029252651726293442, 0.7269989436259104, 0.04349566329385789, 0.012427332369673683, 0.2236919826541263, 0.9113504196546274, 1.0028291703355587, 0.014856409113278304, 0.9730947969197289, 0.014856409113278304, 0.04207917267403861, 0.2682547257969961, 0.6154079003578147, 0.07363855217956757, 0.998040028027398, 0.9314766357480401, 0.0665340454105743, 0.07008705927126074, 0.09344941236168099, 0.8410447112551289, 1.0185913224314076, 0.9721376652673884, 0.13081360302747722, 0.10398004343209728, 0.3957950040318542, 0.3689614444364742, 0.998271793645232, 0.07850166868090876, 0.9158528012772689, 0.18386899608573629, 0.3384255435201233, 0.43702196171102536, 0.039971520888203535, 0.9883737559978748, 0.9488586738826826, 0.9867743520468932, 0.9116146239808045, 0.9873176413404304, 0.04936588206702152, 0.07972945805062334, 0.9168887675821684, 0.9231795437539483, 0.043960930654949916, 0.05984354594286215, 0.9574967350857944, 0.9564045572218982, 0.8826970110711165, 0.24664667133843926, 0.678278346180708, 0.07589128348875054, 0.9636588153611926, 0.5652743994689376, 0.4326079587772482, 0.3465391008376172, 0.14901181336017538, 0.10396173025128516, 0.40198535697163595, 0.3626011967554839, 0.5330778788121666, 0.013529895401324026, 0.09200328872900337, 0.9361090857292539, 0.04160484825463351, 0.020802424127316754, 0.19713256741888055, 0.02899008344395302, 0.7247520860988255, 0.052182150199115436, 0.9841558792386966, 0.9981283829082443, 0.12065914508105856, 0.1357415382161909, 0.7390372636214837, 0.8921056430176459, 0.9154805936880398, 0.9159746760353134, 0.8247919209222471, 0.7148549819830183, 0.014016764352608204, 0.25931014052325174, 0.007008382176304102, 0.2183424431670736, 0.7641985510847575, 0.0026977561739553245, 0.026977561739553242, 0.7283941669679376, 0.24010029948202385, 0.1257394294618192, 0.17776953820464095, 0.5333086146139229, 0.1647620110189355, 0.9798383128298125, 0.20610622438507942, 0.47473905616787954, 0.25242222986487256, 0.06484240767171037, 0.8831937901529127, 0.11775917202038835, 0.9722821345861662, 0.9884045192297979, 0.9855230887359265, 0.8212743452902258, 0.2938355844701707, 0.15698065471694053, 0.49509283410727395, 0.05232688490564684, 0.4590352800985959, 0.3386530696190186, 0.14370886718150236, 0.05873318919591835, 0.303793428533659, 0.6352044414794689, 0.023014653676792347, 0.03682344588286776, 0.9704049640609091, 0.18958943589933855, 0.054168410256953875, 0.7583577435973542, 0.03566865473969855, 0.10700596421909565, 0.8560477137527652, 0.9407384911953234, 0.8916984742384351, 0.16145126068316737, 0.23064465811881055, 0.14991902777722685, 0.458982869656433, 0.9417191932041424, 0.009888495200833798, 0.8602990824725404, 0.09888495200833798, 0.03955398080333519, 0.023172516629132302, 0.8573831152778952, 0.10813841093595075, 0.015448344419421535, 0.9444543939423035, 0.029514199810696983, 0.029514199810696983, 0.8431181581532732, 0.10175563977711917, 0.04360955990447964, 0.029073039936319763, 0.9926730992832178, 0.3202755306328316, 0.4156247344090181, 0.14669108273259462, 0.11979771756495228, 0.10009358216760864, 0.10009358216760864, 0.8007486573408691, 0.9486542934344394, 0.23332520011073005, 0.05833130002768251, 0.6999756003321902, 0.9529904293171491, 0.06254455950150159, 0.6358696882652662, 0.11119032800266951, 0.1911083762545882, 1.0134161773369683, 0.969155359236111, 0.9796453715596539, 0.29430530780780084, 0.14170255561116335, 0.5668102224446534, 0.4231118933135094, 0.5307241667574077, 0.022011601386251935, 0.022011601386251935, 0.19748802115363986, 0.7995272613977662, 0.0011968970979008475, 0.0011968970979008475, 0.011005364399245538, 0.9868143411323499, 0.9324337038679049, 0.1832144757667058, 0.07443088078022424, 0.5725452367709557, 0.1717635710312867, 0.17889486644241195, 0.8229163856350951, 0.1485249865089437, 0.8911499190536621, 0.075296337666477, 0.9035560519977239, 0.8814127799685937, 0.9841685895834336, 0.21021676923885943, 0.7007225641295315, 0.09109393333683909, 0.9921540390950526, 0.9946012115159774, 0.1338172412347285, 0.11151436769560709, 0.26020019128974986, 0.4906632178606712, 0.9754205422061417, 0.10985085808715928, 0.04707893918021112, 0.784648986336852, 0.07846489863368519, 0.26695402840926263, 0.04671695497162096, 0.6607112203129251, 0.026695402840926263, 0.4174915681326751, 0.19144640969619905, 0.016146082745462573, 0.37366648639499095, 0.9307847964572772, 0.8727782195684789, 0.35111415413001296, 0.012539791218929033, 0.48905185753823227, 0.14734254682241615, 0.08836091494132343, 0.2165708699542241, 0.5128398200516027, 0.18365209772118204, 0.9605590112228057, 0.10423228024931606, 0.2736097356544547, 0.43647267354401104, 0.18566374919409423, 0.9876796068029795, 0.03379264051350724, 0.9574581478827051, 0.011264213504502412, 0.29980002128118377, 0.11613874698280093, 0.28899641691069067, 0.2943982190959372, 0.954171538093862, 0.5530395782036015, 0.16898431556221158, 0.24323499967288031, 0.033284789428920464, 0.9412193534950184, 0.03921747306229243, 0.12374155877198616, 0.23526172902328232, 0.3834460648366485, 0.25817683249957607, 0.298867143792533, 0.5775859408125357, 0.057086982522169226, 0.06716115590843438, 0.30009315769592565, 0.5593969541516284, 0.0407893612402229, 0.09905987729768419, 0.9912669294388977, 0.9688724695965722, 0.03200616611115651, 0.9601849833346953, 0.01597145155922711, 0.9742585451128538, 0.007985725779613555, 0.8702285045356541, 0.054389281533478384, 0.018129760511159464, 0.054389281533478384, 0.7803091049498376, 0.1757452939076211, 0.03514905878152422, 0.007029811756304844, 0.08550784981589979, 0.346917562110222, 0.44708390046599034, 0.12215407116557113, 0.14465187088859735, 0.026300340161563154, 0.8153105450084578, 0.026300340161563154, 0.04530075731715173, 0.015100252439050579, 0.015100252439050579, 0.9211153987820853, 0.1943397396464107, 0.674115971898487, 0.09716986982320534, 0.036438701183702, 0.12023487064576736, 0.020039145107627894, 0.8416440945203715, 0.2734484967417175, 0.7238342560810168, 0.11310127729712777, 0.8671097926113129, 0.018850212882854628, 0.20379034546569816, 0.18233873015351942, 0.6113710363970946, 0.73798204159113, 0.20788226523693804, 0.036379396416464156, 0.020788226523693804, 0.291277218403911, 0.06241654680083808, 0.6449709836086601, 0.04637744492984236, 0.24513792320059533, 0.5035265449525742, 0.20207315290859884, 0.8545438749764308, 0.10421266768005254, 0.020842533536010507, 0.09606098328237557, 0.8776480745344313, 0.004366408331017071, 0.021832041655085354, 0.7426246518382625, 0.1657644312138979, 0.03978346349133549, 0.04641404073989141, 0.1282619485908386, 0.8628531087020052, 0.925549083402477, 0.17379432281154064, 0.27406027827973717, 0.04010638218727861, 0.5146985714034088, 0.0189701144640723, 0.6449838917784583, 0.2908750884491086, 0.044263600416168704, 0.9548500783179656, 0.9738057016154099, 0.1438684346869553, 0.8632106081217317, 0.17752674939566246, 0.039450388754591656, 0.7890077750918332, 0.06861215422928413, 0.027444861691713653, 0.9056804358265506, 0.7811280403062698, 0.15282939919035712, 0.008490522177242063, 0.05943365524069444, 0.841726775726617, 0.0841726775726617, 0.6274261342416222, 0.13420879876826144, 0.09730137910698954, 0.14427445867588104, 0.9503069203301354, 0.988800116263349, 0.07594001028170734, 0.113910015422561, 0.7973701079579271, 0.9919203318956191, 0.04758857960797126, 0.8803887227474684, 0.07138286941195689, 0.9603306727964352, 0.35156355755190616, 0.6445331888451613, 0.004185280447046502, 0.017442143616032694, 0.9767600424978308, 0.9815850180223566, 0.9779645539364109, 1.002296443180267, 1.004417067837385, 0.8278307917228288, 0.9674614108741253, 0.5161669316537665, 0.2254146726842398, 0.22214779336997545, 0.03593567245690779, 0.9454913406265245, 0.022511698586345823, 0.045023397172691645, 0.9400163343066609, 0.12612057232173363, 0.8828440062521354, 0.8160724947653958, 0.10962167840132182, 0.012180186489035757, 0.06090093244517879, 0.9160476744543226, 0.07046520572725558, 0.9806575522035251, 0.08690819462430079, 0.01931293213873351, 0.028969398208100263, 0.8690819462430079, 0.7193857424489412, 0.1798464356122353, 0.08632628909387294, 0.014387714848978822, 0.68789897094428, 0.2500331085079478, 0.022170423414497833, 0.04002993116506553, 0.013707029009611866, 0.08909568856247713, 0.6784979359757873, 0.21931246415378985, 0.2740949822462926, 0.09967090263501549, 0.42194015448823224, 0.20432535040178176, 0.35893558939060627, 0.025188462413375877, 0.1857649102986471, 0.42820386102738994, 0.011662566045236598, 0.9446678496641645, 0.011662566045236598, 0.034987698135709795, 0.9036454178151406, 0.027383194479246687, 0.027383194479246687, 0.06631307957843463, 0.9283831140980849, 0.9870835793003715, 0.95920613246687, 0.9893966965325913, 0.026591765591849916, 0.7711612021636476, 0.20387020287084937, 0.7757608408193349, 0.12512271626118304, 0.09175665859153423, 0.9355237979655355, 0.9498040917667583, 0.9873512441555977, 0.5391670372681673, 0.039644635093247595, 0.16452523563697752, 0.255707896351447, 0.27839262267766196, 0.10998227068747138, 0.2990142984315628, 0.30932513630851327, 0.9477031815420124, 0.5921694835472628, 0.17969280880054875, 0.12251782418219231, 0.10618211429123335, 0.5902324067911006, 0.32271699939657295, 0.05095531569419573, 0.033970210462797155, 0.07377595868810498, 0.15717486850944104, 0.4683169551505794, 0.3015191355079073, 0.9224246207653158, 0.017574104833468274, 0.22846336283508756, 0.5447972498375165, 0.20649573179325223, 0.9065704576260175, 0.0732342398553888, 0.8788108782646655, 0.9604911256338645, 0.90655361719741, 0.24913259375246527, 0.24347048934900015, 0.3170778465940467, 0.19251154971781406, 0.9621556275476905, 0.9432055613708215, 0.1390050608939837, 0.8340303653639022, 0.8834874716941734, 0.0538422146210418, 0.9512124583050718, 0.06803427983259085, 0.12148978541534079, 0.5296954644108859, 0.28185630216359064, 0.09384339253894347, 0.3178566521480343, 0.32391106456990165, 0.26336694035122843, 0.07089739349181061, 0.1802819434506041, 0.3970254035541394, 0.3524613276450013, 0.394517310059273, 0.30947166238182494, 0.1866279490699555, 0.10866943869896142, 0.6407301297795724, 0.2447233134574756, 0.08009126622244656, 0.03114660353095144, 0.412231927132912, 0.40264513812982106, 0.1294216515417282, 0.05512403676777312, 0.2726126440379493, 0.3838386028054327, 0.20718560946884151, 0.13739677259512648, 0.8917291249264812, 0.08917291249264811, 0.6267479610353871, 0.05950138870589118, 0.14677009214119824, 0.1666038883764953, 0.23018605815708357, 0.7655024724758825, 0.00535316414318799, 0.8173912125844826, 0.12096780802677345, 0.026297349571037708, 0.7310663180748482, 0.12096780802677345, 0.7707814425053533, 0.2020495043460635, 0.022449944927340388, 0.007483314975780129, 0.9882623905635267, 0.9365153058340464, 0.049290279254423496, 0.06428320804547111, 0.11249561407957442, 0.7553276945342855, 0.06428320804547111, 0.017217213757762476, 0.340900832403697, 0.4579778859564818, 0.18594590858383472, 0.5679366380954375, 0.050225689083269985, 0.21635681451254762, 0.16999463997414457, 0.28087776054728425, 0.3634888665906032, 0.26642081698970344, 0.08880693899656782, 0.4795042006827347, 0.22199268550126608, 0.2456719052880678, 0.05327824452030386, 0.19640353235837424, 0.33543075189295374, 0.2604001889695299, 0.20743743867064246, 0.8053446538646634, 0.3728889326688927, 0.26420773621263255, 0.23422671650056076, 0.12741933377630504, 0.10266627828252788, 0.31627837341875525, 0.30965474256181796, 0.27156886513442857, 0.28414337036631954, 0.20363608209586234, 0.35991493579733813, 0.15391099228175642, 0.10648225652088221, 0.33212322867227545, 0.3650820223573104, 0.1977527621102098, 1.002857112633811, 0.4876466898018553, 0.21769941509011398, 0.13932762565767295, 0.15384091999701388, 0.05648493821181397, 0.21238336767642052, 0.49932685379243547, 0.23045854790420098, 0.831674725892522, 0.9610352607176462, 0.10401116902780917, 0.9361005212502826, 0.23301572044113245, 0.1536552939140801, 0.4119988100553356, 0.20093384588764318, 0.7841546450640273, 0.10741844452931881, 0.08951537044109902, 0.021483688905863763, 0.9573859706242043, 0.051024038604977576, 0.07653605790746637, 0.45921634744479817, 0.41457031366544284, 0.4089836692871039, 0.26984489519973864, 0.004216326487495916, 0.32044081304968963, 0.8704028366203724, 0.02072387706238982, 0.08289550824955928, 0.04144775412477964, 0.6934296064579428, 0.17257297898274593, 0.056478429485262306, 0.07844226317397543, 0.9674129490673317, 0.9102400004350047, 0.07281920003480039, 0.04949337914293351, 0.04949337914293351, 0.7671473767154694, 0.12373344785733377, 0.8746724546139597, 0.07822273984352486, 0.028444632670372675, 0.021333474502779507, 0.8897938586185399, 0.07572713690370551, 0.00946589211296319, 0.02839767633888957, 1.0035409549808225, 0.08876345991429453, 0.059175639942863026, 0.029587819971431513, 0.8284589592000824, 0.5770597453772686, 0.24236509305845277, 0.10194722168331743, 0.0788648318682267, 0.9646905376648405, 0.11583417032697944, 0.1042507532942815, 0.6486713538310849, 0.1274175873596774, 0.1974124079475037, 0.4179262678888642, 0.2478155759341004, 0.13650857996369936, 1.0000401490403852, 0.059378538047961574, 0.8097073370176578, 0.09176683152866788, 0.03778634239415737, 0.12345645990105507, 0.8796272767950174, 0.021213740843737405, 0.3932701187185165, 0.42753846931224615, 0.15828714321865603, 0.8409414701443058, 0.08960851731045881, 0.06892962870035294, 0.36078355027970205, 0.6133320354754935, 0.009620894674125389, 0.014431342011188083, 0.9769407772077667, 0.12930515252537098, 0.4577402399398133, 0.25602420200023457, 0.1551661830304452, 0.521659635417003, 0.166367126970828, 0.11843083614872502, 0.19456494510147682, 0.20398254446245634, 0.36425454368295773, 0.2750121804806331, 0.1584507265020866, 0.9473160999578545, 0.1937871906408329, 0.286742021923834, 0.30879910053335974, 0.21111775240546024, 0.22717114634489724, 0.026726017217046732, 0.7483284820773085], \"Term\": [\"'That\", \"'That\", \"'That\", \"'That\", \"'The\", \"'The\", \"'The\", \"'The\", \"70,000\", \"Accompt\", \"Accompts\", \"Account\", \"Account\", \"Account\", \"Account\", \"Action\", \"Action\", \"Action\", \"Address\", \"Address\", \"Address\", \"Adventurers\", \"After\", \"After\", \"After\", \"After\", \"Aislabie\", \"Allies\", \"Allies\", \"Allies\", \"America\", \"America\", \"America\", \"American\", \"Annual\", \"Annuity\", \"Annuity\", \"Annuity\", \"Army\", \"Army\", \"Army\", \"Army\", \"Bill\", \"Bill\", \"Bill\", \"Bill\", \"Bolingbroke\", \"Boscawen\", \"British\", \"British\", \"British\", \"Calculations\", \"Capital\", \"Capital\", \"Case\", \"Case\", \"Case\", \"Case\", \"Catholick\", \"Cent\", \"Cent\", \"Certificates\", \"Chance\", \"Changes\", \"ChiefJustice\", \"Christmas\", \"Civil\", \"Civil\", \"Civil\", \"Civil\", \"Cloathing\", \"Commissioners\", \"Commissioners\", \"Commissioners\", \"Commissioners\", \"Commitment\", \"Committee\", \"Committee\", \"Committee\", \"Committee\", \"CommonLaw\", \"Commons\", \"Commons\", \"Commons\", \"Commons\", \"Company\", \"Company\", \"Company\", \"Company\", \"Compensation\", \"Concessions\", \"Conference\", \"Conference\", \"Conference\", \"Constitution\", \"Constitution\", \"Constitution\", \"Constitution\", \"Consumption\", \"Contingencies\", \"Contingencies\", \"Convention\", \"Convention\", \"Convention\", \"Conyers\", \"Corpus\", \"Country\", \"Country\", \"Country\", \"Country\", \"Craggs\", \"Creditors\", \"Creditors\", \"Crown\", \"Crown\", \"Crown\", \"Crown\", \"Danby\", \"Dealer\", \"Debentures\", \"Deduction\", \"Deficiencies\", \"Deficiencies\", \"Depredations\", \"Depredations\", \"Directors\", \"Directors\", \"Discontents\", \"Discontents\", \"Discourse\", \"Dividend\", \"Duke\", \"Duke\", \"Duke\", \"Duration\", \"Duties\", \"Duties\", \"Duty\", \"Duty\", \"Duty\", \"Duty\", \"England\", \"England\", \"England\", \"England\", \"Error\", \"Error\", \"Error\", \"Europe\", \"Europe\", \"Europe\", \"Europe\", \"Evening\", \"ExchequerBills\", \"Excise\", \"Excise\", \"Excise\", \"Excises\", \"Extravagance\", \"Farrer\", \"Flag\", \"Forces\", \"Forces\", \"Forces\", \"Forces\", \"Frauds\", \"Frauds\", \"Gentleman\", \"Gentleman\", \"Gentleman\", \"Gentleman\", \"Gentlemen\", \"Gentlemen\", \"Gentlemen\", \"Gentlemen\", \"Godolphin\", \"Government\", \"Government\", \"Government\", \"Government\", \"GreatBritain\", \"GreatBritain\", \"Habeas\", \"HighTreason\", \"Highways\", \"Histories\", \"Honour\", \"Honour\", \"Honour\", \"Honour\", \"House\", \"House\", \"House\", \"House\", \"Houses\", \"Houses\", \"Houses\", \"Houses\", \"Hungerford\", \"Increase\", \"Increase\", \"Increase\", \"Injuries\", \"Injuries\", \"Injuries\", \"Insults\", \"Insurrection\", \"Interest\", \"Interest\", \"Interest\", \"Interest\", \"Jesuits\", \"Judges\", \"Judges\", \"Judges\", \"Judges\", \"Judgment\", \"Judgment\", \"Judgment\", \"Judgment\", \"Judicature\", \"Judicature\", \"Judicature\", \"June\", \"June\", \"June\", \"June\", \"King'sBench\", \"Kingdom\", \"Kingdom\", \"Kingdom\", \"Kingdom\", \"Labour\", \"Labour\", \"Labour\", \"Labourers\", \"LandTax\", \"LandTax\", \"LandTax\", \"Landed\", \"Laws\", \"Laws\", \"Laws\", \"Laws\", \"League\", \"Lechmere\", \"Liquors\", \"List\", \"List\", \"List\", \"Lord\", \"Lord\", \"Lord\", \"Lord\", \"Lords\", \"Lords\", \"Lords\", \"Lords\", \"Lordships\", \"Lordships\", \"Magna\", \"Manner\", \"Manner\", \"Manner\", \"Manner\", \"Manufacture\", \"Manufacture\", \"Manufacturers\", \"Manufacturers\", \"Market\", \"Market\", \"Markets\", \"Martial\", \"Measures\", \"Measures\", \"Measures\", \"Medium\", \"Merchandizes\", \"Method\", \"Method\", \"Method\", \"Method\", \"Methuen\", \"Minister\", \"Minister\", \"Minister\", \"Minister\", \"Ministers\", \"Ministers\", \"Ministers\", \"Ministers\", \"Money\", \"Money\", \"Money\", \"Money\", \"Mortgage\", \"Mortgages\", \"Motion\", \"Motion\", \"Motion\", \"Motion\", \"Nation\", \"Nation\", \"Nation\", \"Nation\", \"Newcastle\", \"Opinion\", \"Opinion\", \"Opinion\", \"Opinion\", \"Orange\", \"Papists\", \"Papists\", \"Papists\", \"Part\", \"Part\", \"Part\", \"Part\", \"Paul\", \"Peace\", \"Peace\", \"Peace\", \"Peace\", \"Pence\", \"Pence\", \"People\", \"People\", \"People\", \"People\", \"Person\", \"Person\", \"Person\", \"Person\", \"Persons\", \"Persons\", \"Persons\", \"Persons\", \"Plot\", \"Poland\", \"Popery\", \"Popery\", \"Popish\", \"Popish\", \"Popish\", \"Portugal\", \"Portugal\", \"Portugal\", \"Portugal\", \"Pounds\", \"Pounds\", \"Pounds\", \"Pounds\", \"Power\", \"Power\", \"Power\", \"Power\", \"Powers\", \"Powers\", \"Powers\", \"Powers\", \"Price\", \"Price\", \"Price\", \"Price\", \"Proceedings\", \"Proceedings\", \"Proceedings\", \"Proceedings\", \"Produce\", \"Produce\", \"Produce\", \"Protestant\", \"Protestant\", \"Protestants\", \"Protestants\", \"Protestants\", \"Publick\", \"Publick\", \"Publick\", \"Queen\", \"Queen\", \"Queen\", \"Queen\", \"Rate\", \"Rate\", \"Rate\", \"Reason\", \"Reason\", \"Reason\", \"Reason\", \"Regiments\", \"Regiments\", \"Regiments\", \"Religion\", \"Religion\", \"Religion\", \"Religion\", \"Report\", \"Report\", \"Report\", \"Report\", \"Resolved\", \"Resolved\", \"Retail\", \"Revenue\", \"Revenue\", \"Revenue\", \"Revenue\", \"Right\", \"Right\", \"Right\", \"Right\", \"Rivals\", \"Ross\", \"Rupture\", \"Rupture\", \"Salt\", \"Salt\", \"Salt\", \"Scheme\", \"Scheme\", \"Scheme\", \"Scotland\", \"Scotland\", \"Scotland\", \"Scotland\", \"Secrets\", \"Secrets\", \"Service\", \"Service\", \"Service\", \"Service\", \"Seville\", \"Seymour\", \"Shilling\", \"Shilling\", \"Shilling\", \"SinkingFund\", \"Situation\", \"Situation\", \"Situation\", \"Somers\", \"Spain\", \"Spain\", \"Spain\", \"Spaniards\", \"Spaniards\", \"Spirituous\", \"Standing\", \"Stanhope\", \"Steele\", \"Stockjobbing\", \"Strafford\", \"Subjects\", \"Subjects\", \"Subjects\", \"Subjects\", \"Successor\", \"Successor\", \"Successor\", \"SugarColonies\", \"Sugars\", \"Sugars\", \"Supply\", \"Supply\", \"Supply\", \"Supply\", \"Sweden\", \"Sweden\", \"Tangier\", \"Taxes\", \"Taxes\", \"Taxes\", \"Taxes\", \"Thanks\", \"Thanks\", \"Thanks\", \"Thanks\", \"That\", \"That\", \"That\", \"That\", \"Thing\", \"Thing\", \"Thing\", \"Thing\", \"Time\", \"Time\", \"Time\", \"Time\", \"Trade\", \"Trade\", \"Trade\", \"Trade\", \"Trial\", \"Trial\", \"Trial\", \"Trial\", \"Trials\", \"Trials\", \"Trials\", \"Triennial\", \"Triennial\", \"Vacancy\", \"Vengeance\", \"Voices\", \"Vote\", \"Vote\", \"Vote\", \"Walpole\", \"Walpole\", \"Walpole\", \"Whigs\", \"Workmen\", \"Writ\", \"Year\", \"Year\", \"Year\", \"Year\", \"Years\", \"Years\", \"Years\", \"Years\", \"abolishing\", \"agreed\", \"agreed\", \"agreed\", \"agreed\", \"also\", \"also\", \"also\", \"also\", \"always\", \"always\", \"always\", \"always\", \"amused\", \"believe\", \"believe\", \"believe\", \"believe\", \"blame\", \"borrow\", \"borrow\", \"cheap\", \"continually\", \"could\", \"could\", \"could\", \"could\", \"danger\", \"deposed\", \"diminished\", \"diminished\", \"discontented\", \"doth\", \"doth\", \"even\", \"even\", \"even\", \"even\", \"ever\", \"ever\", \"ever\", \"ever\", \"every\", \"every\", \"every\", \"every\", \"first\", \"first\", \"first\", \"first\", \"following\", \"following\", \"following\", \"following\", \"given\", \"given\", \"given\", \"given\", \"good\", \"good\", \"good\", \"good\", \"grand\", \"grand\", \"granted\", \"granted\", \"granted\", \"granted\", \"hath\", \"hath\", \"hath\", \"homemade\", \"honourable\", \"honourable\", \"honourable\", \"honourable\", \"hundred\", \"hundred\", \"hundred\", \"hundred\", \"impeached\", \"independent\", \"independent\", \"keeping\", \"keeping\", \"keeping\", \"keeping\", \"know\", \"know\", \"know\", \"know\", \"laid\", \"laid\", \"laid\", \"laid\", \"last\", \"last\", \"last\", \"last\", \"late\", \"late\", \"late\", \"late\", \"many\", \"many\", \"many\", \"many\", \"march\", \"might\", \"might\", \"might\", \"might\", \"much\", \"much\", \"much\", \"much\", \"necessary\", \"necessary\", \"necessary\", \"necessary\", \"never\", \"never\", \"never\", \"never\", \"opinion\", \"order\", \"order\", \"order\", \"order\", \"ought\", \"ought\", \"ought\", \"ought\", \"plunder\", \"plundered\", \"preliminary\", \"preliminary\", \"present\", \"present\", \"present\", \"present\", \"presented\", \"presented\", \"presented\", \"presented\", \"presently\", \"proposed\", \"proposed\", \"proposed\", \"proposed\", \"public\", \"public\", \"public\", \"public\", \"pursuant\", \"pursuant\", \"pursuant\", \"pursuant\", \"read\", \"read\", \"read\", \"read\", \"recommitted\", \"referr\", \"referr\", \"regular\", \"regular\", \"regular\", \"regular\", \"reported\", \"reported\", \"reported\", \"reported\", \"resolv\", \"resolv\", \"resolv\", \"resolv\", \"resum\", \"sell\", \"sell\", \"sell\", \"sell\", \"several\", \"several\", \"several\", \"several\", \"shou\", \"spoke\", \"spoke\", \"spoke\", \"spoke\", \"take\", \"take\", \"take\", \"take\", \"tamely\", \"thing\", \"thing\", \"thing\", \"thing\", \"things\", \"things\", \"think\", \"think\", \"think\", \"think\", \"thousand\", \"thousand\", \"thousand\", \"time\", \"time\", \"time\", \"time\", \"truth\", \"well\", \"well\", \"well\", \"well\", \"whole\", \"whole\", \"whole\", \"whole\", \"without\", \"without\", \"without\", \"without\", \"word\", \"would\", \"would\", \"would\", \"would\", \"yearly\", \"yearly\", \"yearly\"]}, \"R\": 30, \"lambda.step\": 0.01, \"plot.opts\": {\"xlab\": \"PC1\", \"ylab\": \"PC2\"}, \"topic.order\": [3, 1, 4, 2]};\n",
       "\n",
       "function LDAvis_load_lib(url, callback){\n",
       "  var s = document.createElement('script');\n",
       "  s.src = url;\n",
       "  s.async = true;\n",
       "  s.onreadystatechange = s.onload = callback;\n",
       "  s.onerror = function(){console.warn(\"failed to load library \" + url);};\n",
       "  document.getElementsByTagName(\"head\")[0].appendChild(s);\n",
       "}\n",
       "\n",
       "if(typeof(LDAvis) !== \"undefined\"){\n",
       "   // already loaded: just create the visualization\n",
       "   !function(LDAvis){\n",
       "       new LDAvis(\"#\" + \"ldavis_el109491123284209528139185202\", ldavis_el109491123284209528139185202_data);\n",
       "   }(LDAvis);\n",
       "}else if(typeof define === \"function\" && define.amd){\n",
       "   // require.js is available: use it to load d3/LDAvis\n",
       "   require.config({paths: {d3: \"https://cdnjs.cloudflare.com/ajax/libs/d3/3.5.5/d3.min\"}});\n",
       "   require([\"d3\"], function(d3){\n",
       "      window.d3 = d3;\n",
       "      LDAvis_load_lib(\"https://cdn.rawgit.com/bmabey/pyLDAvis/files/ldavis.v1.0.0.js\", function(){\n",
       "        new LDAvis(\"#\" + \"ldavis_el109491123284209528139185202\", ldavis_el109491123284209528139185202_data);\n",
       "      });\n",
       "    });\n",
       "}else{\n",
       "    // require.js not available: dynamically load d3 & LDAvis\n",
       "    LDAvis_load_lib(\"https://cdnjs.cloudflare.com/ajax/libs/d3/3.5.5/d3.min.js\", function(){\n",
       "         LDAvis_load_lib(\"https://cdn.rawgit.com/bmabey/pyLDAvis/files/ldavis.v1.0.0.js\", function(){\n",
       "                 new LDAvis(\"#\" + \"ldavis_el109491123284209528139185202\", ldavis_el109491123284209528139185202_data);\n",
       "            })\n",
       "         });\n",
       "}\n",
       "</script>"
      ],
      "text/plain": [
       "<IPython.core.display.HTML object>"
      ]
     },
     "execution_count": 40,
     "metadata": {},
     "output_type": "execute_result"
    }
   ],
   "source": [
    "# for time period 2\n",
    "doc_topic,topic_term,doc_lengths,term_frequency,vocab = proceedings_dtm1.dtm_vis(time=1, corpus=proceedings_corp)\n",
    "\n",
    "vis_wrapper = pyLDAvis.prepare(topic_term_dists=topic_term, doc_topic_dists=doc_topic, doc_lengths=doc_lengths, vocab=vocab, term_frequency=term_frequency)\n",
    "\n",
    "pyLDAvis.display(vis_wrapper)"
   ]
  },
  {
   "cell_type": "code",
   "execution_count": null,
   "metadata": {},
   "outputs": [],
   "source": []
  },
  {
   "cell_type": "code",
   "execution_count": null,
   "metadata": {},
   "outputs": [],
   "source": [
    "# doc_topics checks the topic proportions on documents already trained on. accecpts document number as input\n",
    "proceedings_dtm1.doc_topics(0)"
   ]
  },
  {
   "cell_type": "code",
   "execution_count": 41,
   "metadata": {},
   "outputs": [],
   "source": [
    "# extract the arrays of topic proportions\n",
    "list_topic_proportions = []\n",
    "\n",
    "for i in range(len(df_texts.date)):\n",
    "    list_topic_proportions.append(proceedings_dtm1.doc_topics(i))"
   ]
  },
  {
   "cell_type": "code",
   "execution_count": 42,
   "metadata": {},
   "outputs": [],
   "source": [
    "# create a dataframe from that list of arrays and also name some columns\n",
    "topic_dist_df = pd.DataFrame(list_topic_proportions,columns=['religion','governance','war','finance'])"
   ]
  },
  {
   "cell_type": "code",
   "execution_count": 43,
   "metadata": {},
   "outputs": [
    {
     "data": {
      "text/html": [
       "<div>\n",
       "<style scoped>\n",
       "    .dataframe tbody tr th:only-of-type {\n",
       "        vertical-align: middle;\n",
       "    }\n",
       "\n",
       "    .dataframe tbody tr th {\n",
       "        vertical-align: top;\n",
       "    }\n",
       "\n",
       "    .dataframe thead th {\n",
       "        text-align: right;\n",
       "    }\n",
       "</style>\n",
       "<table border=\"1\" class=\"dataframe\">\n",
       "  <thead>\n",
       "    <tr style=\"text-align: right;\">\n",
       "      <th></th>\n",
       "      <th>religion</th>\n",
       "      <th>governance</th>\n",
       "      <th>war</th>\n",
       "      <th>finance</th>\n",
       "    </tr>\n",
       "  </thead>\n",
       "  <tbody>\n",
       "    <tr>\n",
       "      <th>0</th>\n",
       "      <td>0.566429</td>\n",
       "      <td>0.077754</td>\n",
       "      <td>0.294400</td>\n",
       "      <td>0.061417</td>\n",
       "    </tr>\n",
       "    <tr>\n",
       "      <th>1</th>\n",
       "      <td>0.661556</td>\n",
       "      <td>0.029880</td>\n",
       "      <td>0.189500</td>\n",
       "      <td>0.119064</td>\n",
       "    </tr>\n",
       "    <tr>\n",
       "      <th>2</th>\n",
       "      <td>0.689737</td>\n",
       "      <td>0.062891</td>\n",
       "      <td>0.166997</td>\n",
       "      <td>0.080374</td>\n",
       "    </tr>\n",
       "    <tr>\n",
       "      <th>3</th>\n",
       "      <td>0.744360</td>\n",
       "      <td>0.021994</td>\n",
       "      <td>0.157223</td>\n",
       "      <td>0.076424</td>\n",
       "    </tr>\n",
       "    <tr>\n",
       "      <th>4</th>\n",
       "      <td>0.808603</td>\n",
       "      <td>0.014544</td>\n",
       "      <td>0.117893</td>\n",
       "      <td>0.058960</td>\n",
       "    </tr>\n",
       "  </tbody>\n",
       "</table>\n",
       "</div>"
      ],
      "text/plain": [
       "   religion  governance       war   finance\n",
       "0  0.566429    0.077754  0.294400  0.061417\n",
       "1  0.661556    0.029880  0.189500  0.119064\n",
       "2  0.689737    0.062891  0.166997  0.080374\n",
       "3  0.744360    0.021994  0.157223  0.076424\n",
       "4  0.808603    0.014544  0.117893  0.058960"
      ]
     },
     "execution_count": 43,
     "metadata": {},
     "output_type": "execute_result"
    }
   ],
   "source": [
    "topic_dist_df.head()"
   ]
  },
  {
   "cell_type": "code",
   "execution_count": 44,
   "metadata": {},
   "outputs": [],
   "source": [
    "#from lab 8:"
   ]
  },
  {
   "cell_type": "code",
   "execution_count": 45,
   "metadata": {},
   "outputs": [
    {
     "data": {
      "text/html": [
       "<div>\n",
       "<style scoped>\n",
       "    .dataframe tbody tr th:only-of-type {\n",
       "        vertical-align: middle;\n",
       "    }\n",
       "\n",
       "    .dataframe tbody tr th {\n",
       "        vertical-align: top;\n",
       "    }\n",
       "\n",
       "    .dataframe thead th {\n",
       "        text-align: right;\n",
       "    }\n",
       "</style>\n",
       "<table border=\"1\" class=\"dataframe\">\n",
       "  <thead>\n",
       "    <tr style=\"text-align: right;\">\n",
       "      <th></th>\n",
       "      <th>religion</th>\n",
       "      <th>governance</th>\n",
       "      <th>war</th>\n",
       "      <th>finance</th>\n",
       "      <th>date</th>\n",
       "      <th>monarch</th>\n",
       "      <th>text</th>\n",
       "    </tr>\n",
       "  </thead>\n",
       "  <tbody>\n",
       "    <tr>\n",
       "      <th>0</th>\n",
       "      <td>0.566429</td>\n",
       "      <td>0.077754</td>\n",
       "      <td>0.294400</td>\n",
       "      <td>0.061417</td>\n",
       "      <td>1660_11</td>\n",
       "      <td>charles2</td>\n",
       "      <td>On the sixth of November the Parliament met ac...</td>\n",
       "    </tr>\n",
       "    <tr>\n",
       "      <th>1</th>\n",
       "      <td>0.661556</td>\n",
       "      <td>0.029880</td>\n",
       "      <td>0.189500</td>\n",
       "      <td>0.119064</td>\n",
       "      <td>1660_4</td>\n",
       "      <td>charles2</td>\n",
       "      <td>CHARLES R.\", \"Trusty, and Wellbeloved, We gree...</td>\n",
       "    </tr>\n",
       "    <tr>\n",
       "      <th>2</th>\n",
       "      <td>0.689737</td>\n",
       "      <td>0.062891</td>\n",
       "      <td>0.166997</td>\n",
       "      <td>0.080374</td>\n",
       "      <td>1661_11</td>\n",
       "      <td>charles2</td>\n",
       "      <td>After a Recess of almost four Months the Parli...</td>\n",
       "    </tr>\n",
       "    <tr>\n",
       "      <th>3</th>\n",
       "      <td>0.744360</td>\n",
       "      <td>0.021994</td>\n",
       "      <td>0.157223</td>\n",
       "      <td>0.076424</td>\n",
       "      <td>1661_5</td>\n",
       "      <td>charles2</td>\n",
       "      <td>On the 8th of May the new Parliament met, and ...</td>\n",
       "    </tr>\n",
       "    <tr>\n",
       "      <th>4</th>\n",
       "      <td>0.808603</td>\n",
       "      <td>0.014544</td>\n",
       "      <td>0.117893</td>\n",
       "      <td>0.058960</td>\n",
       "      <td>1663_2</td>\n",
       "      <td>charles2</td>\n",
       "      <td>On February 18, 16623. the Parliament met afte...</td>\n",
       "    </tr>\n",
       "  </tbody>\n",
       "</table>\n",
       "</div>"
      ],
      "text/plain": [
       "   religion  governance       war   finance     date   monarch  \\\n",
       "0  0.566429    0.077754  0.294400  0.061417  1660_11  charles2   \n",
       "1  0.661556    0.029880  0.189500  0.119064   1660_4  charles2   \n",
       "2  0.689737    0.062891  0.166997  0.080374  1661_11  charles2   \n",
       "3  0.744360    0.021994  0.157223  0.076424   1661_5  charles2   \n",
       "4  0.808603    0.014544  0.117893  0.058960   1663_2  charles2   \n",
       "\n",
       "                                                text  \n",
       "0  On the sixth of November the Parliament met ac...  \n",
       "1  CHARLES R.\", \"Trusty, and Wellbeloved, We gree...  \n",
       "2  After a Recess of almost four Months the Parli...  \n",
       "3  On the 8th of May the new Parliament met, and ...  \n",
       "4  On February 18, 16623. the Parliament met afte...  "
      ]
     },
     "execution_count": 45,
     "metadata": {},
     "output_type": "execute_result"
    }
   ],
   "source": [
    "# join to original dataframe\n",
    "df_texts_topics = topic_dist_df.join(df_texts)\n",
    "df_texts_topics.head()"
   ]
  },
  {
   "cell_type": "code",
   "execution_count": 46,
   "metadata": {},
   "outputs": [
    {
     "data": {
      "text/plain": [
       "<matplotlib.figure.Figure at 0x1a2744ff28>"
      ]
     },
     "metadata": {},
     "output_type": "display_data"
    }
   ],
   "source": [
    "#plot changes in topics over time\n",
    "\n",
    "import matplotlib\n",
    "import matplotlib.pyplot as plt\n",
    "\n",
    "plt.figure(figsize=(22, 5))\n",
    "\n",
    "plt.plot(df_texts_topics.date,df_texts_topics['religion'],color='blue')\n",
    "plt.plot(df_texts_topics.date,df_texts_topics['governance'],color='red')\n",
    "plt.plot(df_texts_topics.date,df_texts_topics['war'],color='purple')\n",
    "plt.plot(df_texts_topics.date,df_texts_topics['finance'],color='green')\n",
    "\n",
    "plt.xticks(df_texts.date[::], rotation=45,size=7)\n",
    "plt.title('topic proportions over time')\n",
    "plt.legend(['religion','governance','war','finance'])\n",
    "plt.grid()\n",
    "plt.show()"
   ]
  },
  {
   "cell_type": "markdown",
   "metadata": {},
   "source": [
    "<font color = darkgreen>\n",
    "    \n",
    "#### On a future date, below should become its own function."
   ]
  },
  {
   "cell_type": "code",
   "execution_count": 47,
   "metadata": {},
   "outputs": [
    {
     "data": {
      "text/plain": [
       "[[('House', 0.014676850114809105),\n",
       "  ('Lords', 0.012071617135702829),\n",
       "  ('Commons', 0.01117363917134312),\n",
       "  ('That', 0.007516653448000062),\n",
       "  ('Bill', 0.006885126931048216),\n",
       "  ('would', 0.006653204477834682),\n",
       "  ('hath', 0.005241058249858117),\n",
       "  ('Lordships', 0.004857201873749719),\n",
       "  ('time', 0.004496323651525568),\n",
       "  ('think', 0.0043548953111142725),\n",
       "  ('Lord', 0.003902902597959605),\n",
       "  ('Religion', 0.0038829008861271763),\n",
       "  ('Government', 0.0037839734060223307),\n",
       "  ('without', 0.003660687833244246),\n",
       "  ('Right', 0.003620939309394413),\n",
       "  ('take', 0.003599374685447495),\n",
       "  ('much', 0.003544634394309356),\n",
       "  ('England', 0.0035352395534370556),\n",
       "  ('Case', 0.0034350445457126846),\n",
       "  ('Persons', 0.0034174023465949376)],\n",
       " [('House', 0.014839414555341391),\n",
       "  ('Lords', 0.012204496604313166),\n",
       "  ('Commons', 0.011341363196979875),\n",
       "  ('That', 0.007406661284348831),\n",
       "  ('Bill', 0.006986884056061639),\n",
       "  ('would', 0.0066418382814180344),\n",
       "  ('hath', 0.005217546153590103),\n",
       "  ('Lordships', 0.0049187884767332496),\n",
       "  ('time', 0.004654522691376469),\n",
       "  ('think', 0.004392578216756523),\n",
       "  ('Lord', 0.003966147388273896),\n",
       "  ('Government', 0.003747320677263072),\n",
       "  ('Right', 0.0037171905682374167),\n",
       "  ('Religion', 0.0036747060318668514),\n",
       "  ('without', 0.003645022536136801),\n",
       "  ('take', 0.003640217928179105),\n",
       "  ('England', 0.0035905617156384924),\n",
       "  ('Persons', 0.0035092978548576107),\n",
       "  ('much', 0.0034953730056385746),\n",
       "  ('Case', 0.0034940352682677703)],\n",
       " [('House', 0.015127383191241033),\n",
       "  ('Lords', 0.01244617916923023),\n",
       "  ('Commons', 0.011628871834620922),\n",
       "  ('would', 0.006668077297240522),\n",
       "  ('Bill', 0.006315548491836118),\n",
       "  ('That', 0.006266095463015703),\n",
       "  ('hath', 0.00522531460569322),\n",
       "  ('Lordships', 0.0050343421514784485),\n",
       "  ('time', 0.004836805173401732),\n",
       "  ('think', 0.004473101437191418),\n",
       "  ('Lord', 0.004067782982873466),\n",
       "  ('Right', 0.0038817487750052075),\n",
       "  ('Government', 0.003721327751553458),\n",
       "  ('take', 0.0037109470045144206),\n",
       "  ('England', 0.0036815248448789973),\n",
       "  ('without', 0.0036540282276331533),\n",
       "  ('Persons', 0.0036267283411620835),\n",
       "  ('Case', 0.0035950673819657255),\n",
       "  ('Religion', 0.0034748636630773464),\n",
       "  ('much', 0.003468639387110482)],\n",
       " [('House', 0.01529562876094144),\n",
       "  ('Lords', 0.012575582337788953),\n",
       "  ('Commons', 0.011788769683935465),\n",
       "  ('would', 0.006687159756283819),\n",
       "  ('Bill', 0.006188763694278352),\n",
       "  ('That', 0.0057353360443514155),\n",
       "  ('hath', 0.0052281033552527365),\n",
       "  ('Lordships', 0.005088617153590631),\n",
       "  ('time', 0.004931552555042827),\n",
       "  ('think', 0.004517813691120776),\n",
       "  ('Lord', 0.004129969743351634),\n",
       "  ('Right', 0.003975746181686809),\n",
       "  ('take', 0.003749111381789094),\n",
       "  ('England', 0.0037332306097283114),\n",
       "  ('Government', 0.003708786953450495),\n",
       "  ('Persons', 0.0036999314063310097),\n",
       "  ('without', 0.0036605255143029813),\n",
       "  ('Case', 0.003652585268914132),\n",
       "  ('much', 0.0034586943208463525),\n",
       "  ('Religion', 0.0033708475010351163)]]"
      ]
     },
     "execution_count": 47,
     "metadata": {},
     "output_type": "execute_result"
    }
   ],
   "source": [
    "# evolution of 1st topic\n",
    "proceedings_dtm1.print_topic_times(topic=0)"
   ]
  },
  {
   "cell_type": "code",
   "execution_count": 48,
   "metadata": {},
   "outputs": [],
   "source": [
    "list_lists = []\n",
    "\n",
    "for proceeding in proceedings_dtm1.print_topic_times(topic=0):\n",
    "        list_words = []\n",
    "        list_freqs = []\n",
    "        \n",
    "        for word, freq in proceeding:\n",
    "            list_words.append(word)\n",
    "            list_freqs.append(freq)\n",
    "            \n",
    "        list_lists.append(list_words)\n",
    "        list_lists.append(list_freqs)"
   ]
  },
  {
   "cell_type": "code",
   "execution_count": 54,
   "metadata": {},
   "outputs": [],
   "source": [
    "topic0_df = pd.DataFrame(list_lists[:2]) \n",
    "topic0_df = topic0_df.T\n",
    "topic0_df = topic0_df.rename(columns = {0:'token',1:'p1'})\n",
    "\n",
    "topic1_df = pd.DataFrame(list_lists[2:4]) \n",
    "topic1_df = topic1_df.T\n",
    "topic1_df = topic1_df.rename(columns = {0:'token',1:'p2'})\n",
    "\n",
    "topic2_df = pd.DataFrame(list_lists[4:6]) \n",
    "topic2_df = topic2_df.T\n",
    "topic2_df = topic2_df.rename(columns = {0:'token',1:'p3'})\n",
    "\n",
    "topic3_df = pd.DataFrame(list_lists[6:]) \n",
    "topic3_df = topic3_df.T\n",
    "topic3_df = topic3_df.rename(columns = {0:'token',1:'p4'})"
   ]
  },
  {
   "cell_type": "code",
   "execution_count": 50,
   "metadata": {},
   "outputs": [],
   "source": [
    "df_list = [topic0_df,topic1_df,topic2_df,topic3_df]"
   ]
  },
  {
   "cell_type": "code",
   "execution_count": 51,
   "metadata": {},
   "outputs": [
    {
     "data": {
      "text/html": [
       "<div>\n",
       "<style scoped>\n",
       "    .dataframe tbody tr th:only-of-type {\n",
       "        vertical-align: middle;\n",
       "    }\n",
       "\n",
       "    .dataframe tbody tr th {\n",
       "        vertical-align: top;\n",
       "    }\n",
       "\n",
       "    .dataframe thead th {\n",
       "        text-align: right;\n",
       "    }\n",
       "</style>\n",
       "<table border=\"1\" class=\"dataframe\">\n",
       "  <thead>\n",
       "    <tr style=\"text-align: right;\">\n",
       "      <th></th>\n",
       "      <th>token</th>\n",
       "      <th>phi1</th>\n",
       "      <th>phi2</th>\n",
       "      <th>phi3</th>\n",
       "      <th>phi4</th>\n",
       "    </tr>\n",
       "  </thead>\n",
       "  <tbody>\n",
       "    <tr>\n",
       "      <th>0</th>\n",
       "      <td>House</td>\n",
       "      <td>0.0146769</td>\n",
       "      <td>0.0148394</td>\n",
       "      <td>0.0151274</td>\n",
       "      <td>0.0152956</td>\n",
       "    </tr>\n",
       "    <tr>\n",
       "      <th>1</th>\n",
       "      <td>Lords</td>\n",
       "      <td>0.0120716</td>\n",
       "      <td>0.0122045</td>\n",
       "      <td>0.0124462</td>\n",
       "      <td>0.0125756</td>\n",
       "    </tr>\n",
       "    <tr>\n",
       "      <th>2</th>\n",
       "      <td>Commons</td>\n",
       "      <td>0.0111736</td>\n",
       "      <td>0.0113414</td>\n",
       "      <td>0.0116289</td>\n",
       "      <td>0.0117888</td>\n",
       "    </tr>\n",
       "    <tr>\n",
       "      <th>3</th>\n",
       "      <td>That</td>\n",
       "      <td>0.00751665</td>\n",
       "      <td>0.00740666</td>\n",
       "      <td>0.0062661</td>\n",
       "      <td>0.00573534</td>\n",
       "    </tr>\n",
       "    <tr>\n",
       "      <th>4</th>\n",
       "      <td>Bill</td>\n",
       "      <td>0.00688513</td>\n",
       "      <td>0.00698688</td>\n",
       "      <td>0.00631555</td>\n",
       "      <td>0.00618876</td>\n",
       "    </tr>\n",
       "    <tr>\n",
       "      <th>5</th>\n",
       "      <td>would</td>\n",
       "      <td>0.0066532</td>\n",
       "      <td>0.00664184</td>\n",
       "      <td>0.00666808</td>\n",
       "      <td>0.00668716</td>\n",
       "    </tr>\n",
       "    <tr>\n",
       "      <th>6</th>\n",
       "      <td>hath</td>\n",
       "      <td>0.00524106</td>\n",
       "      <td>0.00521755</td>\n",
       "      <td>0.00522531</td>\n",
       "      <td>0.0052281</td>\n",
       "    </tr>\n",
       "    <tr>\n",
       "      <th>7</th>\n",
       "      <td>Lordships</td>\n",
       "      <td>0.0048572</td>\n",
       "      <td>0.00491879</td>\n",
       "      <td>0.00503434</td>\n",
       "      <td>0.00508862</td>\n",
       "    </tr>\n",
       "    <tr>\n",
       "      <th>8</th>\n",
       "      <td>time</td>\n",
       "      <td>0.00449632</td>\n",
       "      <td>0.00465452</td>\n",
       "      <td>0.00483681</td>\n",
       "      <td>0.00493155</td>\n",
       "    </tr>\n",
       "    <tr>\n",
       "      <th>9</th>\n",
       "      <td>think</td>\n",
       "      <td>0.0043549</td>\n",
       "      <td>0.00439258</td>\n",
       "      <td>0.0044731</td>\n",
       "      <td>0.00451781</td>\n",
       "    </tr>\n",
       "    <tr>\n",
       "      <th>10</th>\n",
       "      <td>Lord</td>\n",
       "      <td>0.0039029</td>\n",
       "      <td>0.00396615</td>\n",
       "      <td>0.00406778</td>\n",
       "      <td>0.00412997</td>\n",
       "    </tr>\n",
       "    <tr>\n",
       "      <th>11</th>\n",
       "      <td>Religion</td>\n",
       "      <td>0.0038829</td>\n",
       "      <td>0.00367471</td>\n",
       "      <td>0.00347486</td>\n",
       "      <td>0.00337085</td>\n",
       "    </tr>\n",
       "    <tr>\n",
       "      <th>12</th>\n",
       "      <td>Government</td>\n",
       "      <td>0.00378397</td>\n",
       "      <td>0.00374732</td>\n",
       "      <td>0.00372133</td>\n",
       "      <td>0.00370879</td>\n",
       "    </tr>\n",
       "    <tr>\n",
       "      <th>13</th>\n",
       "      <td>without</td>\n",
       "      <td>0.00366069</td>\n",
       "      <td>0.00364502</td>\n",
       "      <td>0.00365403</td>\n",
       "      <td>0.00366053</td>\n",
       "    </tr>\n",
       "    <tr>\n",
       "      <th>14</th>\n",
       "      <td>Right</td>\n",
       "      <td>0.00362094</td>\n",
       "      <td>0.00371719</td>\n",
       "      <td>0.00388175</td>\n",
       "      <td>0.00397575</td>\n",
       "    </tr>\n",
       "    <tr>\n",
       "      <th>15</th>\n",
       "      <td>take</td>\n",
       "      <td>0.00359937</td>\n",
       "      <td>0.00364022</td>\n",
       "      <td>0.00371095</td>\n",
       "      <td>0.00374911</td>\n",
       "    </tr>\n",
       "    <tr>\n",
       "      <th>16</th>\n",
       "      <td>much</td>\n",
       "      <td>0.00354463</td>\n",
       "      <td>0.00349537</td>\n",
       "      <td>0.00346864</td>\n",
       "      <td>0.00345869</td>\n",
       "    </tr>\n",
       "    <tr>\n",
       "      <th>17</th>\n",
       "      <td>England</td>\n",
       "      <td>0.00353524</td>\n",
       "      <td>0.00359056</td>\n",
       "      <td>0.00368152</td>\n",
       "      <td>0.00373323</td>\n",
       "    </tr>\n",
       "    <tr>\n",
       "      <th>18</th>\n",
       "      <td>Case</td>\n",
       "      <td>0.00343504</td>\n",
       "      <td>0.00349404</td>\n",
       "      <td>0.00359507</td>\n",
       "      <td>0.00365259</td>\n",
       "    </tr>\n",
       "    <tr>\n",
       "      <th>19</th>\n",
       "      <td>Persons</td>\n",
       "      <td>0.0034174</td>\n",
       "      <td>0.0035093</td>\n",
       "      <td>0.00362673</td>\n",
       "      <td>0.00369993</td>\n",
       "    </tr>\n",
       "  </tbody>\n",
       "</table>\n",
       "</div>"
      ],
      "text/plain": [
       "         token        phi1        phi2        phi3        phi4\n",
       "0        House   0.0146769   0.0148394   0.0151274   0.0152956\n",
       "1        Lords   0.0120716   0.0122045   0.0124462   0.0125756\n",
       "2      Commons   0.0111736   0.0113414   0.0116289   0.0117888\n",
       "3         That  0.00751665  0.00740666   0.0062661  0.00573534\n",
       "4         Bill  0.00688513  0.00698688  0.00631555  0.00618876\n",
       "5        would   0.0066532  0.00664184  0.00666808  0.00668716\n",
       "6         hath  0.00524106  0.00521755  0.00522531   0.0052281\n",
       "7    Lordships   0.0048572  0.00491879  0.00503434  0.00508862\n",
       "8         time  0.00449632  0.00465452  0.00483681  0.00493155\n",
       "9        think   0.0043549  0.00439258   0.0044731  0.00451781\n",
       "10        Lord   0.0039029  0.00396615  0.00406778  0.00412997\n",
       "11    Religion   0.0038829  0.00367471  0.00347486  0.00337085\n",
       "12  Government  0.00378397  0.00374732  0.00372133  0.00370879\n",
       "13     without  0.00366069  0.00364502  0.00365403  0.00366053\n",
       "14       Right  0.00362094  0.00371719  0.00388175  0.00397575\n",
       "15        take  0.00359937  0.00364022  0.00371095  0.00374911\n",
       "16        much  0.00354463  0.00349537  0.00346864  0.00345869\n",
       "17     England  0.00353524  0.00359056  0.00368152  0.00373323\n",
       "18        Case  0.00343504  0.00349404  0.00359507  0.00365259\n",
       "19     Persons   0.0034174   0.0035093  0.00362673  0.00369993"
      ]
     },
     "execution_count": 51,
     "metadata": {},
     "output_type": "execute_result"
    }
   ],
   "source": [
    "from functools import reduce\n",
    "# reduce applies a function through a list\n",
    "# merge first item to second item, on the 'token' column. the df_list is a list of the dataframes\n",
    "period0_df = reduce(lambda x, y: pd.merge(x, y, on = 'token'), df_list)\n",
    "period0_df"
   ]
  },
  {
   "cell_type": "code",
   "execution_count": null,
   "metadata": {},
   "outputs": [],
   "source": []
  },
  {
   "cell_type": "code",
   "execution_count": 52,
   "metadata": {},
   "outputs": [
    {
     "data": {
      "text/plain": [
       "<matplotlib.axes._subplots.AxesSubplot at 0x1a2744fa90>"
      ]
     },
     "execution_count": 52,
     "metadata": {},
     "output_type": "execute_result"
    },
    {
     "data": {
      "image/png": "[encoded data removed]",
      "text/plain": [
       "<matplotlib.figure.Figure at 0x1a27440518>"
      ]
     },
     "metadata": {},
     "output_type": "display_data"
    }
   ],
   "source": [
    "period0_df.plot(x=period0_df.token,figsize=(22,15),title='evolution of topic1')"
   ]
  },
  {
   "cell_type": "code",
   "execution_count": 53,
   "metadata": {},
   "outputs": [
    {
     "data": {
      "text/plain": [
       "<matplotlib.axes._subplots.AxesSubplot at 0x1a298112e8>"
      ]
     },
     "execution_count": 53,
     "metadata": {},
     "output_type": "execute_result"
    },
    {
     "data": {
      "image/png": "[encoded data removed]",
      "text/plain": [
       "<matplotlib.figure.Figure at 0x1a29663d30>"
      ]
     },
     "metadata": {},
     "output_type": "display_data"
    }
   ],
   "source": [
    "period0_df.plot(x=period0_df.token,kind='bar',figsize=(22,15),title='evolution of topic1')"
   ]
  },
  {
   "cell_type": "code",
   "execution_count": null,
   "metadata": {},
   "outputs": [],
   "source": []
  },
  {
   "cell_type": "code",
   "execution_count": null,
   "metadata": {},
   "outputs": [],
   "source": []
  },
  {
   "cell_type": "code",
   "execution_count": null,
   "metadata": {},
   "outputs": [],
   "source": []
  }
 ],
 "metadata": {
  "kernelspec": {
   "display_name": "Python 3",
   "language": "python",
   "name": "python3"
  },
  "language_info": {
   "codemirror_mode": {
    "name": "ipython",
    "version": 3
   },
   "file_extension": ".py",
   "mimetype": "text/x-python",
   "name": "python",
   "nbconvert_exporter": "python",
   "pygments_lexer": "ipython3",
   "version": "3.6.4"
  }
 },
 "nbformat": 4,
 "nbformat_minor": 2
}
