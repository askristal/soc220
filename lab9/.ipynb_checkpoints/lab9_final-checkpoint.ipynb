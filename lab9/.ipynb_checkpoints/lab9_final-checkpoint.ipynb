{
 "cells": [
  {
   "cell_type": "markdown",
   "metadata": {},
   "source": [
    "<font color=darkred>\n",
    "    \n",
    "# Soc 220: Computational Text Analysis\n",
    "## Lab 9: Topic Models III\n",
    "\n",
    "***\n",
    "\n",
    "<img src=\"images/minard.jpg\" style=\"width: 650px\"/>\n",
    "\n",
    "\n",
    "***\n",
    "\n",
    "Today:\n",
    "\n",
    "1. Review topic model basics\n",
    "2. Introduction to the gensim library\n",
    "2. User-friendly vanilla LDA\n",
    "3. Help with STM in R.\n",
    "3. Dynamic topic models.\n",
    "\n",
    "***"
   ]
  },
  {
   "cell_type": "markdown",
   "metadata": {},
   "source": [
    "### 1.  REVIEW\n",
    "\n",
    "#### <font color=purple> Here's a cartoon example: </font color=purple>\n",
    "\n",
    "<img src=\"images/simple_example.png\" style=\"width: 500px\" />\n",
    "\n",
    "We care about calculating two probability values:\n",
    "\n",
    "- **P( word | topics)**\n",
    "- **P( topics | documents)**\n",
    "\n",
    "*n.b. We are specifying number of topics in advance.*\n",
    "\n",
    "Doc 1 is about food (aka topic A). Doc 2 is about pets (topic B). Doc 3 is about topic A and topic B. Let's say that the algorithm has arrived at the word $\\text{fish}_{d3}$ (the word fish in document 3). What should it do now?\n",
    "\n",
    "First, we calculate the probability of the word appearing in the different topics. Thus far we have observed 4 `fish` and in 3/4 cases, classified as topic A (N plate):\n",
    "\n",
    "- P('fish' | topic A) = 0.75\n",
    "- P('fish' | topic B) = 0.25\n",
    "\n",
    "Next, we calculate per document probability (M plate):\n",
    "\n",
    "- P(topic A | doc 3) = 0.5\n",
    "- p(topic A | doc 3) = 0.5\n",
    "\n",
    "Since $0.5 * 0.75 = 0.375 > 0.5 * 0.25 = . 125$, we assign $\\text{fish}_{d3}$ to topic A.\n",
    "\n",
    "<img src=\"images/lda_plate.png\" style=\"width: 600px\" />\n",
    "\n",
    "A bit more formally:\n",
    "\n",
    "LDA assumes the following process:\n",
    "\n",
    "1. Choose $N \\sim \\text{Poisson}$ where N is a chunk of words.\n",
    "2. Choose $\\theta \\sim \\text{Dir}(\\alpha)$ where theta is the topic distribution for a given document and $\\alpha$ is the Dirichlet-prior parameter of the per-document topic distribution.\n",
    "3. For each of the N words $w_n$ in each doc:\n",
    "\n",
    "    1. Choose a topic $z_n ~ \\text{Multinomial}(\\theta)$ where $\\theta$ is the topic distribution for that document.\n",
    "    2. Choose a word $w_n$ from p ($w_n | z_n, \\beta)$, where $\\beta$ is the number of topics across the corpus.\n",
    "\n",
    "So, in each step, we're calculating given the set of all possible topics and the appearance of words in a given doc, how likely is each topic. And we update our per-word topic assignment.\n",
    "\n",
    "The likelihood of any given word being associated with any given topic is thus the sum of all previous p(word | topic), and thus:\n",
    "\n",
    "The objective function for which it is finding the maximum log-likelihood that given a new word $w_{n+1}$, it can identify the associated topic.\n",
    "\n",
    "Lastly for intuition:\n",
    "\n",
    "- $\\alpha$ means **document-topic density**, so a higher $\\alpha$ means **more specific topic distributions per document**.\n",
    "- While $\\beta$ means **topic-word density**, so a higher (or lower) $\\beta$ means more specific word distribution per topic.\n",
    "\n",
    "One can think of both as a granularity measure.\n",
    "\n",
    "Blei's useful presentation: https://www.slideshare.net/ajayohri/modeling-science\n",
    "\n",
    "Cartoon example stolen from: https://medium.com/ml2vec/topic-modeling-is-an-unsupervised-learning-approach-to-clustering-documents-to-discover-topics-fdfbf30e27df"
   ]
  },
  {
   "cell_type": "markdown",
   "metadata": {},
   "source": [
    "***\n",
    "\n",
    "#### 2. gensim\n",
    "\n",
    "gensim is a library for implementing a wide variety of topic models (as well as word embeddings).\n",
    "\n",
    "It requires two objects:\n",
    "\n",
    "1. A dictionary object which takes in a list of strings. This object assigns a unique ID to each word.\n",
    "\n",
    "2. Then, that dictionary object is used to create a corpus (in our case, a bag of words)."
   ]
  },
  {
   "cell_type": "code",
   "execution_count": 1,
   "metadata": {},
   "outputs": [],
   "source": [
    "#!pip3 install gensim"
   ]
  },
  {
   "cell_type": "code",
   "execution_count": 2,
   "metadata": {},
   "outputs": [],
   "source": [
    "from gensim.corpora import Dictionary\n",
    "import numpy as np"
   ]
  },
  {
   "cell_type": "code",
   "execution_count": 3,
   "metadata": {},
   "outputs": [
    {
     "data": {
      "text/plain": [
       "{'bank': 0,\n",
       " 'borrow': 13,\n",
       " 'fall': 7,\n",
       " 'fast': 4,\n",
       " 'finance': 10,\n",
       " 'flow': 5,\n",
       " 'loan': 15,\n",
       " 'money': 11,\n",
       " 'mud': 9,\n",
       " 'rain': 8,\n",
       " 'river': 1,\n",
       " 'sell': 14,\n",
       " 'shore': 2,\n",
       " 'transaction': 12,\n",
       " 'tree': 6,\n",
       " 'water': 3}"
      ]
     },
     "execution_count": 3,
     "metadata": {},
     "output_type": "execute_result"
    }
   ],
   "source": [
    "texts = [\n",
    "        ['bank','river','shore','water'],\n",
    "        ['river','water','flow','fast','tree'],\n",
    "        ['bank','water','fall','flow'],\n",
    "        ['bank','bank','water','rain','river'],\n",
    "        ['river','water','mud','tree'],\n",
    "        ['money','transaction','bank','finance'],\n",
    "        ['bank','borrow','money'], \n",
    "        ['bank','finance'],\n",
    "        ['finance','money','sell','bank'],\n",
    "        ['borrow','sell'],\n",
    "        ['bank','loan','sell','bank']\n",
    "]\n",
    "\n",
    "#use Dictionary to create the mapping of each word to an ID.\n",
    "dictionary = Dictionary(texts)\n",
    "\n",
    "#\n",
    "dictionary.token2id"
   ]
  },
  {
   "cell_type": "code",
   "execution_count": 4,
   "metadata": {},
   "outputs": [],
   "source": [
    "#Then the corpus is created from the dictionary object itterated on the original list of strings. \n",
    "corpus = [dictionary.doc2bow(text) for text in texts]"
   ]
  },
  {
   "cell_type": "code",
   "execution_count": 5,
   "metadata": {},
   "outputs": [
    {
     "data": {
      "text/plain": [
       "[(0, 2), (1, 1), (3, 1), (8, 1)]"
      ]
     },
     "execution_count": 5,
     "metadata": {},
     "output_type": "execute_result"
    }
   ],
   "source": [
    "#Let's look at the fourth doc\n",
    "\n",
    "#Notice that it counts the first unique word (bank) assigned to 0 and then it has a tuple for the count.\n",
    "corpus[3]"
   ]
  },
  {
   "cell_type": "code",
   "execution_count": 6,
   "metadata": {},
   "outputs": [],
   "source": [
    "#pull in the model command from the gensim.models library\n",
    "from gensim.models import ldamodel\n",
    "\n",
    "#the ldamodel has a couple of different variations/options\n",
    "#dir(ldamodel)"
   ]
  },
  {
   "cell_type": "code",
   "execution_count": 7,
   "metadata": {},
   "outputs": [],
   "source": [
    "#the default version:\n",
    "lda_model = ldamodel.LdaModel(\n",
    "    corpus=corpus,\n",
    "    id2word=dictionary,\n",
    "    num_topics=2)"
   ]
  },
  {
   "cell_type": "code",
   "execution_count": 8,
   "metadata": {},
   "outputs": [
    {
     "data": {
      "text/plain": [
       "[(0,\n",
       "  '0.180*\"bank\" + 0.119*\"money\" + 0.106*\"finance\" + 0.096*\"sell\" + 0.086*\"borrow\" + 0.056*\"water\" + 0.050*\"transaction\" + 0.046*\"river\" + 0.041*\"tree\" + 0.039*\"flow\"'),\n",
       " (1,\n",
       "  '0.203*\"bank\" + 0.143*\"water\" + 0.119*\"river\" + 0.063*\"flow\" + 0.062*\"tree\" + 0.051*\"sell\" + 0.043*\"shore\" + 0.043*\"fall\" + 0.043*\"finance\" + 0.042*\"fast\"')]"
      ]
     },
     "execution_count": 8,
     "metadata": {},
     "output_type": "execute_result"
    }
   ],
   "source": [
    "# the show_topics method prints words and the probability that a given word is associated with that topic\n",
    "lda_model.show_topics()"
   ]
  },
  {
   "cell_type": "code",
   "execution_count": 9,
   "metadata": {},
   "outputs": [
    {
     "data": {
      "text/plain": [
       "[(0, 0.037886627), (1, 0.12978822)]"
      ]
     },
     "execution_count": 9,
     "metadata": {},
     "output_type": "execute_result"
    }
   ],
   "source": [
    "# the get_term_topics takes in a word and then prints the normalized probability p(word | topic)\n",
    "lda_model.get_term_topics('water')"
   ]
  },
  {
   "cell_type": "code",
   "execution_count": 10,
   "metadata": {},
   "outputs": [
    {
     "data": {
      "text/plain": [
       "[(0, 0.16380008), (1, 0.19027601)]"
      ]
     },
     "execution_count": 10,
     "metadata": {},
     "output_type": "execute_result"
    }
   ],
   "source": [
    "lda_model.get_term_topics('bank')"
   ]
  },
  {
   "cell_type": "code",
   "execution_count": 11,
   "metadata": {},
   "outputs": [
    {
     "data": {
      "text/plain": [
       "[(0, 0.10173138), (1, 0.019432375)]"
      ]
     },
     "execution_count": 11,
     "metadata": {},
     "output_type": "execute_result"
    }
   ],
   "source": [
    "lda_model.get_term_topics('money')"
   ]
  },
  {
   "cell_type": "markdown",
   "metadata": {},
   "source": [
    "#### pyLDAvis\n",
    "\n",
    "Same as last time, but we have to use the gensim variant (instead of the sklearn)."
   ]
  },
  {
   "cell_type": "code",
   "execution_count": 12,
   "metadata": {},
   "outputs": [],
   "source": [
    "#!pip3 install pyLDAvis"
   ]
  },
  {
   "cell_type": "code",
   "execution_count": 13,
   "metadata": {},
   "outputs": [
    {
     "name": "stderr",
     "output_type": "stream",
     "text": [
      "/Users/zwehrwein/anaconda3/lib/python3.6/site-packages/pyLDAvis/_prepare.py:387: DeprecationWarning: \n",
      ".ix is deprecated. Please use\n",
      ".loc for label based indexing or\n",
      ".iloc for positional indexing\n",
      "\n",
      "See the documentation here:\n",
      "http://pandas.pydata.org/pandas-docs/stable/indexing.html#ix-indexer-is-deprecated\n",
      "  topic_term_dists = topic_term_dists.ix[topic_order]\n"
     ]
    },
    {
     "data": {
      "text/html": [
       "\n",
       "<link rel=\"stylesheet\" type=\"text/css\" href=\"https://cdn.rawgit.com/bmabey/pyLDAvis/files/ldavis.v1.0.0.css\">\n",
       "\n",
       "\n",
       "<div id=\"ldavis_el109491121381139362029529212\"></div>\n",
       "<script type=\"text/javascript\">\n",
       "\n",
       "var ldavis_el109491121381139362029529212_data = {\"mdsDat\": {\"Freq\": [56.187171936035156, 43.812835693359375], \"cluster\": [1, 1], \"topics\": [1, 2], \"x\": [0.029103480279445648, -0.029103480279445648], \"y\": [0.0, 0.0]}, \"tinfo\": {\"Category\": [\"Default\", \"Default\", \"Default\", \"Default\", \"Default\", \"Default\", \"Default\", \"Default\", \"Default\", \"Default\", \"Default\", \"Default\", \"Default\", \"Default\", \"Default\", \"Default\", \"Topic1\", \"Topic1\", \"Topic1\", \"Topic1\", \"Topic1\", \"Topic1\", \"Topic1\", \"Topic1\", \"Topic1\", \"Topic1\", \"Topic1\", \"Topic1\", \"Topic1\", \"Topic1\", \"Topic1\", \"Topic1\", \"Topic2\", \"Topic2\", \"Topic2\", \"Topic2\", \"Topic2\", \"Topic2\", \"Topic2\", \"Topic2\", \"Topic2\", \"Topic2\", \"Topic2\", \"Topic2\", \"Topic2\", \"Topic2\", \"Topic2\", \"Topic2\"], \"Freq\": [2.0, 2.0, 2.0, 2.0, 4.0, 3.0, 1.0, 1.0, 7.0, 2.0, 1.0, 1.0, 1.0, 1.0, 2.0, 1.0, 3.2924787998199463, 2.743659019470215, 0.9870682954788208, 0.9853036999702454, 1.4582535028457642, 0.9584121108055115, 1.4179160594940186, 0.8760060667991638, 4.6667046546936035, 0.8044074177742004, 0.7508766055107117, 1.166345238685608, 0.5539894104003906, 0.9829326272010803, 0.6364211440086365, 0.7559651732444763, 2.1430463790893555, 1.5360770225524902, 1.910325050354004, 0.8910542726516724, 1.7222626209259033, 0.6891757845878601, 0.6342880725860596, 3.239973783493042, 0.5608742833137512, 0.7347702383995056, 0.47637900710105896, 0.6934102773666382, 0.44880571961402893, 0.44699642062187195, 0.8345061540603638, 1.0013169050216675], \"Term\": [\"money\", \"borrow\", \"finance\", \"sell\", \"water\", \"river\", \"transaction\", \"mud\", \"bank\", \"flow\", \"shore\", \"fall\", \"loan\", \"fast\", \"tree\", \"rain\", \"water\", \"river\", \"shore\", \"fall\", \"flow\", \"fast\", \"tree\", \"rain\", \"bank\", \"loan\", \"mud\", \"sell\", \"transaction\", \"finance\", \"borrow\", \"money\", \"money\", \"borrow\", \"finance\", \"transaction\", \"sell\", \"mud\", \"loan\", \"bank\", \"rain\", \"tree\", \"fast\", \"flow\", \"fall\", \"shore\", \"river\", \"water\"], \"Total\": [2.0, 2.0, 2.0, 2.0, 4.0, 3.0, 1.0, 1.0, 7.0, 2.0, 1.0, 1.0, 1.0, 1.0, 2.0, 1.0, 4.293795585632324, 3.578165054321289, 1.4340647459030151, 1.4341094493865967, 2.1516637802124023, 1.434791088104248, 2.152686357498169, 1.436880350112915, 7.906678199768066, 1.4386954307556152, 1.4400523900985718, 2.888607978820801, 1.445043683052063, 2.8932576179504395, 2.1724982261657715, 2.8990116119384766, 2.8990116119384766, 2.1724982261657715, 2.8932576179504395, 1.445043683052063, 2.888607978820801, 1.4400523900985718, 1.4386954307556152, 7.906678199768066, 1.436880350112915, 2.152686357498169, 1.434791088104248, 2.1516637802124023, 1.4341094493865967, 1.4340647459030151, 3.578165054321289, 4.293795585632324], \"loglift\": [16.0, 15.0, 14.0, 13.0, 12.0, 11.0, 10.0, 9.0, 8.0, 7.0, 6.0, 5.0, 4.0, 3.0, 2.0, 1.0, 0.3109999895095825, 0.3109000027179718, 0.2029999941587448, 0.20110000669956207, 0.1875, 0.17299999296665192, 0.1589999943971634, 0.08160000294446945, 0.04919999837875366, -0.004900000058114529, -0.0746999979019165, -0.3303999900817871, -0.3822999894618988, -0.5030999779701233, -0.6513000130653381, -0.7675999999046326, 0.5231000185012817, 0.47859999537467957, 0.4101000130176544, 0.3418000042438507, 0.30809998512268066, 0.08829999715089798, 0.006300000008195639, -0.06689999997615814, -0.11550000309944153, -0.24969999492168427, -0.27730000019073486, -0.30709999799728394, -0.33649998903274536, -0.34049999713897705, -0.6305000185966492, -0.6305999755859375], \"logprob\": [16.0, 15.0, 14.0, 13.0, 12.0, 11.0, 10.0, 9.0, 8.0, 7.0, 6.0, 5.0, 4.0, 3.0, 2.0, 1.0, -1.9453999996185303, -2.1277999877929688, -3.150099992752075, -3.151900053024292, -2.7599000930786133, -3.1796000003814697, -2.787899971008301, -3.2695000171661377, -1.59660005569458, -3.3547000885009766, -3.4235999584198, -2.9832000732421875, -3.7276999950408936, -3.1542999744415283, -3.5889999866485596, -3.4168999195098877, -2.1261000633239746, -2.4591000080108643, -2.2411000728607178, -3.003700017929077, -2.3447000980377197, -3.2606000900268555, -3.343600034713745, -1.7128000259399414, -3.466599941253662, -3.196500062942505, -3.6298999786376953, -3.254499912261963, -3.689500093460083, -3.69350004196167, -3.069200038909912, -2.88700008392334]}, \"token.table\": {\"Topic\": [1, 2, 1, 2, 1, 1, 1, 2, 1, 2, 1, 2, 1, 2, 1, 2, 1, 2, 1, 2, 1, 2, 1, 1, 2, 1, 2, 1, 2], \"Freq\": [0.6323767900466919, 0.37942609190940857, 0.4602995812892914, 0.9205991625785828, 0.6972968578338623, 0.6969655752182007, 0.3456311523914337, 0.6912623047828674, 0.46475663781166077, 0.46475663781166077, 0.6950741410255432, 0.6950741410255432, 0.34494516253471375, 0.6898903250694275, 0.6944192051887512, 0.6944192051887512, 0.6959521770477295, 0.6959521770477295, 0.8384185433387756, 0.27947285771369934, 0.3461875021457672, 0.6923750042915344, 0.6973186135292053, 0.6920205950737, 0.6920205950737, 0.4645358622074127, 0.4645358622074127, 0.6986825466156006, 0.2328941822052002], \"Term\": [\"bank\", \"bank\", \"borrow\", \"borrow\", \"fall\", \"fast\", \"finance\", \"finance\", \"flow\", \"flow\", \"loan\", \"loan\", \"money\", \"money\", \"mud\", \"mud\", \"rain\", \"rain\", \"river\", \"river\", \"sell\", \"sell\", \"shore\", \"transaction\", \"transaction\", \"tree\", \"tree\", \"water\", \"water\"]}, \"R\": 16, \"lambda.step\": 0.01, \"plot.opts\": {\"xlab\": \"PC1\", \"ylab\": \"PC2\"}, \"topic.order\": [2, 1]};\n",
       "\n",
       "function LDAvis_load_lib(url, callback){\n",
       "  var s = document.createElement('script');\n",
       "  s.src = url;\n",
       "  s.async = true;\n",
       "  s.onreadystatechange = s.onload = callback;\n",
       "  s.onerror = function(){console.warn(\"failed to load library \" + url);};\n",
       "  document.getElementsByTagName(\"head\")[0].appendChild(s);\n",
       "}\n",
       "\n",
       "if(typeof(LDAvis) !== \"undefined\"){\n",
       "   // already loaded: just create the visualization\n",
       "   !function(LDAvis){\n",
       "       new LDAvis(\"#\" + \"ldavis_el109491121381139362029529212\", ldavis_el109491121381139362029529212_data);\n",
       "   }(LDAvis);\n",
       "}else if(typeof define === \"function\" && define.amd){\n",
       "   // require.js is available: use it to load d3/LDAvis\n",
       "   require.config({paths: {d3: \"https://cdnjs.cloudflare.com/ajax/libs/d3/3.5.5/d3.min\"}});\n",
       "   require([\"d3\"], function(d3){\n",
       "      window.d3 = d3;\n",
       "      LDAvis_load_lib(\"https://cdn.rawgit.com/bmabey/pyLDAvis/files/ldavis.v1.0.0.js\", function(){\n",
       "        new LDAvis(\"#\" + \"ldavis_el109491121381139362029529212\", ldavis_el109491121381139362029529212_data);\n",
       "      });\n",
       "    });\n",
       "}else{\n",
       "    // require.js not available: dynamically load d3 & LDAvis\n",
       "    LDAvis_load_lib(\"https://cdnjs.cloudflare.com/ajax/libs/d3/3.5.5/d3.min.js\", function(){\n",
       "         LDAvis_load_lib(\"https://cdn.rawgit.com/bmabey/pyLDAvis/files/ldavis.v1.0.0.js\", function(){\n",
       "                 new LDAvis(\"#\" + \"ldavis_el109491121381139362029529212\", ldavis_el109491121381139362029529212_data);\n",
       "            })\n",
       "         });\n",
       "}\n",
       "</script>"
      ],
      "text/plain": [
       "<IPython.core.display.HTML object>"
      ]
     },
     "execution_count": 13,
     "metadata": {},
     "output_type": "execute_result"
    }
   ],
   "source": [
    "import pyLDAvis\n",
    "import pyLDAvis.gensim\n",
    "#takes in a special gensim command with (1) fitted model, (2) corpus, and (3) dictionary\n",
    "vis = pyLDAvis.gensim.prepare(lda_model, corpus, dictionary)\n",
    "pyLDAvis.display(vis)"
   ]
  },
  {
   "cell_type": "markdown",
   "metadata": {},
   "source": [
    "***\n",
    "\n",
    "<font color=purple>\n",
    "\n",
    "### <center>3.  HANDS ON VANILLA LDA -- YOUR DATA GOES HERE </center>\n",
    "\n",
    "***"
   ]
  },
  {
   "cell_type": "code",
   "execution_count": 14,
   "metadata": {},
   "outputs": [],
   "source": [
    "import pickle\n",
    "df_texts = pickle.load(open(\"df_proceedings_monarch_and_date.p\",\"rb\"))"
   ]
  },
  {
   "cell_type": "code",
   "execution_count": 15,
   "metadata": {},
   "outputs": [
    {
     "data": {
      "text/html": [
       "<div>\n",
       "<style scoped>\n",
       "    .dataframe tbody tr th:only-of-type {\n",
       "        vertical-align: middle;\n",
       "    }\n",
       "\n",
       "    .dataframe tbody tr th {\n",
       "        vertical-align: top;\n",
       "    }\n",
       "\n",
       "    .dataframe thead th {\n",
       "        text-align: right;\n",
       "    }\n",
       "</style>\n",
       "<table border=\"1\" class=\"dataframe\">\n",
       "  <thead>\n",
       "    <tr style=\"text-align: right;\">\n",
       "      <th></th>\n",
       "      <th>date</th>\n",
       "      <th>monarch</th>\n",
       "      <th>text</th>\n",
       "    </tr>\n",
       "  </thead>\n",
       "  <tbody>\n",
       "    <tr>\n",
       "      <th>0</th>\n",
       "      <td>1660_11</td>\n",
       "      <td>charles2</td>\n",
       "      <td>On the sixth of November the Parliament met ac...</td>\n",
       "    </tr>\n",
       "    <tr>\n",
       "      <th>1</th>\n",
       "      <td>1660_4</td>\n",
       "      <td>charles2</td>\n",
       "      <td>CHARLES R.\", \"Trusty, and Wellbeloved, We gree...</td>\n",
       "    </tr>\n",
       "    <tr>\n",
       "      <th>2</th>\n",
       "      <td>1661_11</td>\n",
       "      <td>charles2</td>\n",
       "      <td>After a Recess of almost four Months the Parli...</td>\n",
       "    </tr>\n",
       "    <tr>\n",
       "      <th>3</th>\n",
       "      <td>1661_5</td>\n",
       "      <td>charles2</td>\n",
       "      <td>On the 8th of May the new Parliament met, and ...</td>\n",
       "    </tr>\n",
       "    <tr>\n",
       "      <th>4</th>\n",
       "      <td>1663_2</td>\n",
       "      <td>charles2</td>\n",
       "      <td>On February 18, 16623. the Parliament met afte...</td>\n",
       "    </tr>\n",
       "  </tbody>\n",
       "</table>\n",
       "</div>"
      ],
      "text/plain": [
       "      date   monarch                                               text\n",
       "0  1660_11  charles2  On the sixth of November the Parliament met ac...\n",
       "1   1660_4  charles2  CHARLES R.\", \"Trusty, and Wellbeloved, We gree...\n",
       "2  1661_11  charles2  After a Recess of almost four Months the Parli...\n",
       "3   1661_5  charles2  On the 8th of May the new Parliament met, and ...\n",
       "4   1663_2  charles2  On February 18, 16623. the Parliament met afte..."
      ]
     },
     "execution_count": 15,
     "metadata": {},
     "output_type": "execute_result"
    }
   ],
   "source": [
    "import pandas as pd\n",
    "df_texts.head()"
   ]
  },
  {
   "cell_type": "code",
   "execution_count": 16,
   "metadata": {},
   "outputs": [],
   "source": [
    "# IF YOU HAVEN'T CREATED EXCEL TO SEND OVER TO R YET..\n",
    "#write to excel in order to retain complexity of text\n",
    "writer = pd.ExcelWriter('df_proceedings_monarch_and_date.xlsx')\n",
    "df_texts.to_excel(writer,'Sheet1')"
   ]
  },
  {
   "cell_type": "markdown",
   "metadata": {},
   "source": [
    "<font color=darkred>\n",
    "    \n",
    "#### A little data cleaning"
   ]
  },
  {
   "cell_type": "code",
   "execution_count": 17,
   "metadata": {},
   "outputs": [],
   "source": [
    "punctuation=['(', ')', '?', ':', ';', ',', '.', '!', '/', '\"', \"'\",\"''\",'``',\"£\",\n",
    "             '!', '#', '$', '%', '&', '(', ')', '*', '+', '-', '/', ':','|', '}',\n",
    "             ';', '<', '=', '>', '?', '@', '[', '\\\\', ']', '^', '_', '`', '{','~']\n",
    "\n",
    "english_stops = [\n",
    " 'i',\n",
    " 'me',\n",
    " 'my',\n",
    " 'myself',\n",
    " 'we',\n",
    " 'our',\n",
    " 'ours',\n",
    " 'ourselves',\n",
    " 'you',\n",
    " 'your',\n",
    " 'yours',\n",
    " 'yourself',\n",
    " 'yourselves',\n",
    " 'he',\n",
    " 'him',\n",
    " 'his',\n",
    " 'himself',\n",
    " 'she',\n",
    " 'her',\n",
    " 'hers',\n",
    " 'herself',\n",
    " 'it',\n",
    " 'its',\n",
    " 'itself',\n",
    " 'they',\n",
    " 'them',\n",
    " 'their',\n",
    " 'theirs',\n",
    " 'themselves',\n",
    " 'what',\n",
    " 'which',\n",
    " 'who',\n",
    " 'whom',\n",
    " 'this',\n",
    " 'that',\n",
    " 'these',\n",
    " 'those',\n",
    " 'am',\n",
    " 'is',\n",
    " 'are',\n",
    " 'was',\n",
    " 'were',\n",
    " 'be',\n",
    " 'been',\n",
    " 'being',\n",
    " 'have',\n",
    " 'has',\n",
    " 'had',\n",
    " 'having',\n",
    " 'do',\n",
    " 'does',\n",
    " 'did',\n",
    " 'doing',\n",
    " 'a',\n",
    " 'an',\n",
    " 'the',\n",
    " 'and',\n",
    " 'but',\n",
    " 'if',\n",
    " 'or',\n",
    " 'because',\n",
    " 'as',\n",
    " 'until',\n",
    " 'while',\n",
    " 'of',\n",
    " 'at',\n",
    " 'by',\n",
    " 'for',\n",
    " 'with',\n",
    " 'about',\n",
    " 'against',\n",
    " 'between',\n",
    " 'into',\n",
    " 'through',\n",
    " 'during',\n",
    " 'before',\n",
    " 'after',\n",
    " 'above',\n",
    " 'below',\n",
    " 'to',\n",
    " 'from',\n",
    " 'up',\n",
    " 'down',\n",
    " 'in',\n",
    " 'out',\n",
    " 'on',\n",
    " 'off',\n",
    " 'over',\n",
    " 'under',\n",
    " 'again',\n",
    " 'further',\n",
    " 'then',\n",
    " 'once',\n",
    " 'here',\n",
    " 'there',\n",
    " 'when',\n",
    " 'where',\n",
    " 'why',\n",
    " 'how',\n",
    " 'all',\n",
    " 'any',\n",
    " 'both',\n",
    " 'each',\n",
    " 'few',\n",
    " 'more',\n",
    " 'most',\n",
    " 'other',\n",
    " 'some',\n",
    " 'such',\n",
    " 'no',\n",
    " 'nor',\n",
    " 'not',\n",
    " 'only',\n",
    " 'own',\n",
    " 'same',\n",
    " 'so',\n",
    " 'than',\n",
    " 'too',\n",
    " 'very',\n",
    " 's',\n",
    " 't',\n",
    " 'can',\n",
    " 'will',\n",
    " 'just',\n",
    " 'don',\n",
    " 'should',\n",
    " 'now',\n",
    " 'd',\n",
    " 'll',\n",
    " 'm',\n",
    " 'o',\n",
    " 're',\n",
    " 've',\n",
    " 'y',\n",
    " 'ain',\n",
    " 'aren',\n",
    " 'couldn',\n",
    " 'didn',\n",
    " 'doesn',\n",
    " 'hadn',\n",
    " 'hasn',\n",
    " 'haven',\n",
    " 'isn',\n",
    " 'ma',\n",
    " 'mightn',\n",
    " 'mustn',\n",
    " 'needn',\n",
    " 'shan',\n",
    " 'shouldn',\n",
    " 'wasn',\n",
    " 'weren',\n",
    " 'won',\n",
    " 'wouldn',\n",
    " 'may',\n",
    " 'upon',\n",
    " 'made',\n",
    " 'must',\n",
    " 'said',\n",
    " 'therefore',\n",
    " 'shall',\n",
    " ]"
   ]
  },
  {
   "cell_type": "code",
   "execution_count": 18,
   "metadata": {},
   "outputs": [],
   "source": [
    "from nltk.tokenize import word_tokenize\n",
    "list_tokens = df_texts.text.apply(word_tokenize)\n",
    "\n",
    "proceedings_clean = []\n",
    "\n",
    "for proceeding in list_tokens:\n",
    "    \n",
    "    #lowercase\n",
    "    tokens = [w.lower() for w in proceeding]\n",
    "    \n",
    "    #stop words\n",
    "    tokens = [w for w in proceeding if not w in english_stops]\n",
    "    \n",
    "    #remove punctuation\n",
    "    tokens = [w for w in tokens if not w in punctuation]\n",
    "    \n",
    "    #remove digits\n",
    "    tokens = [w for w in tokens if not w.isdigit()]\n",
    "    \n",
    "    #remove < 3\n",
    "    tokens = [w for w in tokens if len(w) > 3]\n",
    "    \n",
    "    proceedings_clean.append(tokens)"
   ]
  },
  {
   "cell_type": "code",
   "execution_count": 19,
   "metadata": {},
   "outputs": [
    {
     "data": {
      "text/plain": [
       "['confident',\n",
       " 'That',\n",
       " 'believe',\n",
       " 'find',\n",
       " 'Preservation',\n",
       " 'King',\n",
       " 'Authority',\n",
       " 'necessary',\n",
       " 'Preservation',\n",
       " 'Parliaments',\n",
       " 'Name',\n",
       " 'right',\n",
       " 'Constitution',\n",
       " 'prepare',\n",
       " 'apply',\n",
       " 'proper',\n",
       " 'Remedies',\n",
       " 'Evils',\n",
       " 'grievous',\n",
       " 'People',\n",
       " 'thereby',\n",
       " 'establish',\n",
       " 'Peace',\n",
       " 'Security',\n",
       " 'least']"
      ]
     },
     "execution_count": 19,
     "metadata": {},
     "output_type": "execute_result"
    }
   ],
   "source": [
    "# data check\n",
    "proceedings_clean[1][100:125]"
   ]
  },
  {
   "cell_type": "code",
   "execution_count": null,
   "metadata": {},
   "outputs": [],
   "source": []
  },
  {
   "cell_type": "code",
   "execution_count": 20,
   "metadata": {},
   "outputs": [],
   "source": [
    "# create gensim dictionary\n",
    "proceedings_dict = Dictionary(proceedings_clean)"
   ]
  },
  {
   "cell_type": "code",
   "execution_count": 21,
   "metadata": {},
   "outputs": [
    {
     "data": {
      "text/plain": [
       "24783"
      ]
     },
     "execution_count": 21,
     "metadata": {},
     "output_type": "execute_result"
    }
   ],
   "source": [
    "# 24783 unique tokens\n",
    "len(proceedings_dict)"
   ]
  },
  {
   "cell_type": "code",
   "execution_count": 22,
   "metadata": {},
   "outputs": [],
   "source": [
    "# the dictionary object has methods to shrink it\n",
    "\n",
    "proceedings_dict.filter_extremes(no_below=5,no_above=0.99)"
   ]
  },
  {
   "cell_type": "markdown",
   "metadata": {},
   "source": [
    "https://radimrehurek.com/gensim/corpora/dictionary.html\n",
    "\n",
    "filter_extremes(no_below=5, no_above=0.5, keep_n=100000, keep_tokens=None)\n",
    "\n",
    "Filter tokens in dictionary by frequency.\n",
    "\n",
    "Parameters:\t\n",
    "- no_below (int, optional) – Keep tokens which are contained in at least no_below documents.\n",
    "- no_above (float, optional) – Keep tokens which are contained in no more than no_above documents (fraction of total corpus size, not an absolute number).\n",
    "- keep_n (int, optional) – Keep only the first keep_n most frequent tokens.\n",
    "- keep_tokens (iterable of str) – Iterable of tokens that must stay in dictionary after filtering."
   ]
  },
  {
   "cell_type": "code",
   "execution_count": 23,
   "metadata": {},
   "outputs": [
    {
     "data": {
      "text/plain": [
       "7721"
      ]
     },
     "execution_count": 23,
     "metadata": {},
     "output_type": "execute_result"
    }
   ],
   "source": [
    "# check again for length of dictionary\n",
    "len(proceedings_dict)"
   ]
  },
  {
   "cell_type": "code",
   "execution_count": 24,
   "metadata": {},
   "outputs": [],
   "source": [
    "# now for the gensim corpus object\n",
    "# apply dictionary to each text \n",
    "proceedings_corp = [proceedings_dict.doc2bow(proceeding) for proceeding in proceedings_clean]"
   ]
  },
  {
   "cell_type": "markdown",
   "metadata": {},
   "source": [
    "https://radimrehurek.com/gensim/models/ldamodel.html\n",
    "\n",
    "`class gensim.models.ldamodel.LdaModel(corpus=None, num_topics=100, id2word=None, distributed=False, chunksize=2000, passes=1, update_every=1, alpha='symmetric', eta=None, decay=0.5, offset=1.0, eval_every=10, iterations=50, gamma_threshold=0.001, minimum_probability=0.01, random_state=None, ns_conf=None, minimum_phi_value=0.01, per_word_topics=False, callbacks=None, dtype=<type 'numpy.float32'>)`\n",
    "\n",
    "use `%%time` in a cell to calculate how long it takes to compute a given model."
   ]
  },
  {
   "cell_type": "code",
   "execution_count": 25,
   "metadata": {},
   "outputs": [],
   "source": [
    "# use `%%time` to calculate how long it takes to compute a given model.  \n",
    "\n",
    "from gensim.models.ldamodel import LdaModel\n",
    "\n",
    "proceedings_lda = LdaModel(\n",
    "    corpus=proceedings_corp, \n",
    "    id2word=proceedings_dict,\n",
    "    num_topics=5,               # how many topics\n",
    "    #chunkzie = 1500,            # how many documents to grab at once\n",
    "    offset=50,                  # learning offset which tells the model to `burn-in` on the MCMC before starting to save\n",
    "    minimum_probability = .01,  # filtering the topics returned\n",
    "    passes=20,                  # the number of 'laps' through the corpus. More passes means better model, but at the expense of computation\n",
    "    random_state = 1,           # generate from the same random variable so you can reproduce your results\n",
    "    #iterations = 50            # for super complex ones, this sets a maximum number of itterations (rather than a convergence to stop)\n",
    ")"
   ]
  },
  {
   "cell_type": "code",
   "execution_count": 26,
   "metadata": {
    "scrolled": false
   },
   "outputs": [
    {
     "name": "stderr",
     "output_type": "stream",
     "text": [
      "/Users/zwehrwein/anaconda3/lib/python3.6/site-packages/pyLDAvis/_prepare.py:387: DeprecationWarning: \n",
      ".ix is deprecated. Please use\n",
      ".loc for label based indexing or\n",
      ".iloc for positional indexing\n",
      "\n",
      "See the documentation here:\n",
      "http://pandas.pydata.org/pandas-docs/stable/indexing.html#ix-indexer-is-deprecated\n",
      "  topic_term_dists = topic_term_dists.ix[topic_order]\n"
     ]
    },
    {
     "data": {
      "text/html": [
       "\n",
       "<link rel=\"stylesheet\" type=\"text/css\" href=\"https://cdn.rawgit.com/bmabey/pyLDAvis/files/ldavis.v1.0.0.css\">\n",
       "\n",
       "\n",
       "<div id=\"ldavis_el109491121381141762761793057\"></div>\n",
       "<script type=\"text/javascript\">\n",
       "\n",
       "var ldavis_el109491121381141762761793057_data = {\"mdsDat\": {\"Freq\": [44.03120040893555, 31.634387969970703, 24.327621459960938, 0.0033971627708524466, 0.0033965669572353363], \"cluster\": [1, 1, 1, 1, 1], \"topics\": [1, 2, 3, 4, 5], \"x\": [-0.032772833061490286, -0.04377362744145307, -0.056309688193670084, 0.06427634686470003, 0.06857980183191352], \"y\": [0.08290114434038592, -0.05484029731742048, -0.01761301275667165, -0.009544370258642312, -0.00090346400765142]}, \"tinfo\": {\"Category\": [\"Default\", \"Default\", \"Default\", \"Default\", \"Default\", \"Default\", \"Default\", \"Default\", \"Default\", \"Default\", \"Default\", \"Default\", \"Default\", \"Default\", \"Default\", \"Default\", \"Default\", \"Default\", \"Default\", \"Default\", \"Default\", \"Default\", \"Default\", \"Default\", \"Default\", \"Default\", \"Default\", \"Default\", \"Default\", \"Default\", \"Topic1\", \"Topic1\", \"Topic1\", \"Topic1\", \"Topic1\", \"Topic1\", \"Topic1\", \"Topic1\", \"Topic1\", \"Topic1\", \"Topic1\", \"Topic1\", \"Topic1\", \"Topic1\", \"Topic1\", \"Topic1\", \"Topic1\", \"Topic1\", \"Topic1\", \"Topic1\", \"Topic1\", \"Topic1\", \"Topic1\", \"Topic1\", \"Topic1\", \"Topic1\", \"Topic1\", \"Topic1\", \"Topic1\", \"Topic1\", \"Topic1\", \"Topic1\", \"Topic1\", \"Topic1\", \"Topic1\", \"Topic1\", \"Topic1\", \"Topic1\", \"Topic1\", \"Topic1\", \"Topic1\", \"Topic1\", \"Topic1\", \"Topic1\", \"Topic1\", \"Topic1\", \"Topic1\", \"Topic1\", \"Topic1\", \"Topic1\", \"Topic1\", \"Topic1\", \"Topic1\", \"Topic1\", \"Topic1\", \"Topic1\", \"Topic1\", \"Topic1\", \"Topic1\", \"Topic1\", \"Topic1\", \"Topic1\", \"Topic1\", \"Topic1\", \"Topic1\", \"Topic1\", \"Topic1\", \"Topic1\", \"Topic1\", \"Topic1\", \"Topic1\", \"Topic1\", \"Topic1\", \"Topic1\", \"Topic1\", \"Topic1\", \"Topic1\", \"Topic1\", \"Topic1\", \"Topic1\", \"Topic1\", \"Topic1\", \"Topic1\", \"Topic1\", \"Topic1\", \"Topic1\", \"Topic1\", \"Topic1\", \"Topic1\", \"Topic1\", \"Topic1\", \"Topic1\", \"Topic2\", \"Topic2\", \"Topic2\", \"Topic2\", \"Topic2\", \"Topic2\", \"Topic2\", \"Topic2\", \"Topic2\", \"Topic2\", \"Topic2\", \"Topic2\", \"Topic2\", \"Topic2\", \"Topic2\", \"Topic2\", \"Topic2\", \"Topic2\", \"Topic2\", \"Topic2\", \"Topic2\", \"Topic2\", \"Topic2\", \"Topic2\", \"Topic2\", \"Topic2\", \"Topic2\", \"Topic2\", \"Topic2\", \"Topic2\", \"Topic2\", \"Topic2\", \"Topic2\", \"Topic2\", \"Topic2\", \"Topic2\", \"Topic2\", \"Topic2\", \"Topic2\", \"Topic2\", \"Topic2\", \"Topic2\", \"Topic2\", \"Topic2\", \"Topic2\", \"Topic2\", \"Topic2\", \"Topic2\", \"Topic2\", \"Topic2\", \"Topic2\", \"Topic2\", \"Topic2\", \"Topic2\", \"Topic2\", \"Topic2\", \"Topic2\", \"Topic2\", \"Topic2\", \"Topic2\", \"Topic2\", \"Topic2\", \"Topic2\", \"Topic2\", \"Topic2\", \"Topic2\", \"Topic2\", \"Topic2\", \"Topic2\", \"Topic2\", \"Topic2\", \"Topic2\", \"Topic2\", \"Topic2\", \"Topic2\", \"Topic2\", \"Topic2\", \"Topic2\", \"Topic2\", \"Topic2\", \"Topic2\", \"Topic2\", \"Topic2\", \"Topic2\", \"Topic2\", \"Topic2\", \"Topic2\", \"Topic2\", \"Topic2\", \"Topic3\", \"Topic3\", \"Topic3\", \"Topic3\", \"Topic3\", \"Topic3\", \"Topic3\", \"Topic3\", \"Topic3\", \"Topic3\", \"Topic3\", \"Topic3\", \"Topic3\", \"Topic3\", \"Topic3\", \"Topic3\", \"Topic3\", \"Topic3\", \"Topic3\", \"Topic3\", \"Topic3\", \"Topic3\", \"Topic3\", \"Topic3\", \"Topic3\", \"Topic3\", \"Topic3\", \"Topic3\", \"Topic3\", \"Topic3\", \"Topic3\", \"Topic3\", \"Topic3\", \"Topic3\", \"Topic3\", \"Topic3\", \"Topic3\", \"Topic3\", \"Topic3\", \"Topic3\", \"Topic3\", \"Topic3\", \"Topic3\", \"Topic3\", \"Topic3\", \"Topic3\", \"Topic3\", \"Topic3\", \"Topic3\", \"Topic3\", \"Topic3\", \"Topic3\", \"Topic3\", \"Topic3\", \"Topic3\", \"Topic3\", \"Topic3\", \"Topic3\", \"Topic3\", \"Topic3\", \"Topic3\", \"Topic3\", \"Topic3\", \"Topic3\", \"Topic3\", \"Topic3\", \"Topic3\", \"Topic3\", \"Topic3\", \"Topic3\", \"Topic3\", \"Topic3\", \"Topic3\", \"Topic3\", \"Topic3\", \"Topic3\", \"Topic3\", \"Topic3\", \"Topic3\", \"Topic3\", \"Topic3\", \"Topic3\", \"Topic3\", \"Topic3\", \"Topic3\", \"Topic3\", \"Topic3\", \"Topic3\", \"Topic3\", \"Topic3\", \"Topic3\", \"Topic3\", \"Topic3\", \"Topic3\", \"Topic3\", \"Topic4\", \"Topic4\", \"Topic4\", \"Topic4\", \"Topic4\", \"Topic4\", \"Topic4\", \"Topic4\", \"Topic4\", \"Topic4\", \"Topic4\", \"Topic4\", \"Topic4\", \"Topic4\", \"Topic4\", \"Topic4\", \"Topic4\", \"Topic4\", \"Topic4\", \"Topic4\", \"Topic4\", \"Topic4\", \"Topic4\", \"Topic4\", \"Topic4\", \"Topic4\", \"Topic4\", \"Topic4\", \"Topic4\", \"Topic4\", \"Topic4\", \"Topic4\", \"Topic4\", \"Topic4\", \"Topic4\", \"Topic4\", \"Topic4\", \"Topic4\", \"Topic4\", \"Topic4\", \"Topic4\", \"Topic4\", \"Topic4\", \"Topic4\", \"Topic4\", \"Topic4\", \"Topic4\", \"Topic4\", \"Topic4\", \"Topic4\", \"Topic4\", \"Topic4\", \"Topic4\", \"Topic4\", \"Topic4\", \"Topic4\", \"Topic4\", \"Topic4\", \"Topic4\", \"Topic4\", \"Topic4\", \"Topic4\", \"Topic4\", \"Topic4\", \"Topic4\", \"Topic4\", \"Topic4\", \"Topic4\", \"Topic4\", \"Topic4\", \"Topic5\", \"Topic5\", \"Topic5\", \"Topic5\", \"Topic5\", \"Topic5\", \"Topic5\", \"Topic5\", \"Topic5\", \"Topic5\", \"Topic5\", \"Topic5\", \"Topic5\", \"Topic5\", \"Topic5\", \"Topic5\", \"Topic5\", \"Topic5\", \"Topic5\", \"Topic5\", \"Topic5\", \"Topic5\", \"Topic5\", \"Topic5\", \"Topic5\", \"Topic5\", \"Topic5\", \"Topic5\", \"Topic5\", \"Topic5\", \"Topic5\", \"Topic5\", \"Topic5\", \"Topic5\", \"Topic5\", \"Topic5\", \"Topic5\", \"Topic5\", \"Topic5\", \"Topic5\", \"Topic5\", \"Topic5\", \"Topic5\", \"Topic5\", \"Topic5\", \"Topic5\", \"Topic5\", \"Topic5\", \"Topic5\", \"Topic5\", \"Topic5\", \"Topic5\", \"Topic5\", \"Topic5\", \"Topic5\", \"Topic5\", \"Topic5\", \"Topic5\", \"Topic5\", \"Topic5\", \"Topic5\", \"Topic5\", \"Topic5\", \"Topic5\", \"Topic5\", \"Topic5\", \"Topic5\"], \"Freq\": [8807.0, 5226.0, 4827.0, 3468.0, 2784.0, 2562.0, 2842.0, 2567.0, 3434.0, 2494.0, 2539.0, 2195.0, 1759.0, 2515.0, 2194.0, 2042.0, 1935.0, 2008.0, 1953.0, 1649.0, 1861.0, 2129.0, 2081.0, 1727.0, 2154.0, 1872.0, 1702.0, 1832.0, 1400.0, 1868.0, 114.71390533447266, 82.95701599121094, 90.4852523803711, 47.015079498291016, 32.75555419921875, 34.69259262084961, 45.95328903198242, 30.853260040283203, 38.33614730834961, 41.099578857421875, 43.96564483642578, 34.52927017211914, 55.226158142089844, 34.50101852416992, 25.123537063598633, 26.053823471069336, 27.935344696044922, 37.178016662597656, 25.96909523010254, 22.243135452270508, 27.78265953063965, 65.1374740600586, 226.94851684570312, 93.00810241699219, 20.371015548706055, 38.043800354003906, 65.01541137695312, 35.144290924072266, 22.16128921508789, 18.418554306030273, 134.6272430419922, 184.41502380371094, 1637.2890625, 72.78585815429688, 253.64971923828125, 158.8429718017578, 58.89705276489258, 113.61689758300781, 47.12653732299805, 490.484130859375, 54.26161193847656, 659.6947021484375, 88.5693588256836, 150.50283813476562, 397.2300109863281, 523.4683837890625, 578.7484130859375, 734.4107055664062, 240.37893676757812, 148.74061584472656, 417.6606750488281, 422.7055358886719, 210.84207153320312, 1678.1561279296875, 305.51953125, 276.2868957519531, 800.5139770507812, 1089.3834228515625, 1466.7271728515625, 223.3201446533203, 1813.639892578125, 1021.3031616210938, 733.7792358398438, 779.1420288085938, 1390.4117431640625, 1911.539306640625, 966.9067993164062, 360.7952880859375, 1684.8114013671875, 1683.52197265625, 1649.3675537109375, 1647.862060546875, 3038.624755859375, 1256.046875, 875.9347534179688, 903.111572265625, 553.03564453125, 1035.6722412109375, 1057.0797119140625, 975.0999755859375, 1231.8521728515625, 898.278076171875, 872.55615234375, 865.6290283203125, 2548.302978515625, 1117.429931640625, 1004.3568725585938, 974.8768310546875, 1001.9237060546875, 1101.5057373046875, 907.8630981445312, 882.5300903320312, 70.62712097167969, 39.749691009521484, 32.89174270629883, 49.20854568481445, 66.43246459960938, 79.14374542236328, 31.739017486572266, 33.617733001708984, 32.64853286743164, 38.4276123046875, 33.64582443237305, 25.87740707397461, 30.665781021118164, 22.943788528442383, 26.816970825195312, 28.706905364990234, 51.69498062133789, 28.68358039855957, 34.370216369628906, 890.917236328125, 29.544994354248047, 69.70530700683594, 17.11469841003418, 23.843841552734375, 19.925596237182617, 19.919591903686523, 15.10574722290039, 19.885313034057617, 17.964872360229492, 30.32840347290039, 171.8330078125, 99.39132690429688, 424.900146484375, 254.92405700683594, 65.19711303710938, 31.157747268676758, 306.47821044921875, 171.8593292236328, 105.9223403930664, 82.90418243408203, 82.69805908203125, 2262.181884765625, 353.45489501953125, 253.86581420898438, 201.72653198242188, 142.791748046875, 103.27530670166016, 268.9533386230469, 189.570068359375, 86.51485443115234, 952.0584106445312, 614.7328491210938, 108.27835845947266, 248.9609832763672, 2248.38720703125, 932.57177734375, 338.103759765625, 465.2207946777344, 503.3602294921875, 431.8453369140625, 257.95849609375, 807.971435546875, 475.3631896972656, 740.8148803710938, 2124.481689453125, 3373.89013671875, 683.5264282226562, 584.20654296875, 1397.7322998046875, 665.988525390625, 615.5269775390625, 366.55206298828125, 853.4564819335938, 448.4594421386719, 545.9711303710938, 659.8365478515625, 1285.53369140625, 645.1161499023438, 660.9091186523438, 690.29931640625, 641.8590087890625, 592.3580932617188, 647.4212036132812, 727.1478881835938, 683.4500732421875, 631.5200805664062, 648.1027221679688, 622.682373046875, 595.426513671875, 168.8095703125, 36.85469436645508, 25.72187614440918, 33.67238998413086, 76.49178314208984, 39.45225524902344, 56.3106575012207, 30.458955764770508, 26.376371383666992, 33.332881927490234, 31.30146598815918, 16.53873062133789, 17.472423553466797, 55.65095520019531, 12.501887321472168, 33.914039611816406, 15.347708702087402, 16.323097229003906, 23.08736228942871, 33.7012825012207, 99.3918685913086, 24.91904067993164, 11.42480754852295, 11.38923168182373, 22.922889709472656, 38.17935562133789, 58.44180679321289, 71.7887191772461, 13.29537296295166, 10.391508102416992, 23.661983489990234, 97.62709045410156, 22.722074508666992, 23.667675018310547, 26.97304916381836, 191.9635467529297, 82.32652282714844, 110.32980346679688, 120.6616439819336, 312.986083984375, 149.14053344726562, 32.9046516418457, 43.9539794921875, 79.38252258300781, 138.88502502441406, 235.81182861328125, 105.88468933105469, 305.0845031738281, 120.94125366210938, 438.3460998535156, 298.60687255859375, 120.94479370117188, 1971.2449951171875, 255.0953369140625, 951.5062255859375, 579.799560546875, 492.5835876464844, 272.7778015136719, 2884.984375, 921.7301635742188, 350.2422180175781, 263.60198974609375, 341.5187072753906, 577.3533325195312, 353.7200012207031, 319.18585205078125, 398.826416015625, 736.768798828125, 363.9374694824219, 755.2199096679688, 228.09194946289062, 431.47283935546875, 463.1407165527344, 996.5075073242188, 245.96377563476562, 934.7118530273438, 421.8764953613281, 506.1739196777344, 372.1722717285156, 488.0771179199219, 460.6386413574219, 901.9616088867188, 378.11297607421875, 539.2482299804688, 559.5595092773438, 473.1289367675781, 455.1230163574219, 427.34765625, 431.6152038574219, 402.3255920410156, 406.45526123046875, 457.8905029296875, 390.9867858886719, 436.9064025878906, 420.827392578125, 0.002118838718160987, 0.0020191215444356203, 0.001968237105756998, 0.0020131380297243595, 0.002005652990192175, 0.0019930812995880842, 0.001976191531866789, 0.0019680981058627367, 0.0020113056525588036, 0.0019830355886369944, 0.0019643993582576513, 0.001972589874640107, 0.0019703612197190523, 0.001974463928490877, 0.001944146235473454, 0.0019225315190851688, 0.001975593389943242, 0.0019479119218885899, 0.0019639641977846622, 0.0019732508808374405, 0.0019356496632099152, 0.001973105827346444, 0.00196510530076921, 0.001982195768505335, 0.0019375409465283155, 0.001909986138343811, 0.002004647860303521, 0.0019289216725155711, 0.0019526464166119695, 0.0019206362776458263, 0.0020008613355457783, 0.0019676480442285538, 0.0019851874094456434, 0.001984421629458666, 0.0019760141149163246, 0.08333124965429306, 0.10852371156215668, 0.05257681757211685, 0.03679671511054039, 0.04045628011226654, 0.035115864127874374, 0.04078236594796181, 0.05228675529360771, 0.03368247300386429, 0.030991293489933014, 0.04099001735448837, 0.028448091819882393, 0.023761900141835213, 0.032142046838998795, 0.021591195836663246, 0.027866896241903305, 0.02895052172243595, 0.02872973121702671, 0.032162003219127655, 0.019443178549408913, 0.029777485877275467, 0.02750910259783268, 0.029419559985399246, 0.02386629953980446, 0.021612664684653282, 0.01869821548461914, 0.023792654275894165, 0.026500903069972992, 0.020954648032784462, 0.027941850945353508, 0.023511381819844246, 0.023791363462805748, 0.02303888276219368, 0.022318895906209946, 0.02216946706175804, 0.0020724704954773188, 0.0020043456461280584, 0.0020126604940742254, 0.0020389968995004892, 0.001998591935262084, 0.00204415712505579, 0.0020221194718033075, 0.002014873316511512, 0.002062333282083273, 0.002041806001216173, 0.002050020731985569, 0.002007481874898076, 0.0019897897727787495, 0.0020272783003747463, 0.0019924442749470472, 0.0020347358658909798, 0.0019895676523447037, 0.0020186826586723328, 0.0020150113850831985, 0.0019822195172309875, 0.002030070871114731, 0.002002767287194729, 0.0019748732447624207, 0.001985583920031786, 0.001953057013452053, 0.001960266148671508, 0.002024817280471325, 0.0019497787579894066, 0.001978845102712512, 0.0019769289065152407, 0.001979890977963805, 0.0020154777448624372, 0.0019857902079820633, 0.07338441163301468, 0.09081356972455978, 0.05896209925413132, 0.039824433624744415, 0.02521681971848011, 0.039322491735219955, 0.0317782387137413, 0.0355522520840168, 0.030299101024866104, 0.035728923976421356, 0.035024311393499374, 0.03080131486058235, 0.02963537909090519, 0.02879921905696392, 0.0336163267493248, 0.03200197592377663, 0.036704689264297485, 0.02339896932244301, 0.0239972323179245, 0.02839256450533867, 0.024201085790991783, 0.023793889209628105, 0.022990643978118896, 0.027935288846492767, 0.025102613493800163, 0.020804138854146004, 0.022597480565309525, 0.02343062311410904, 0.024496721103787422, 0.01813136599957943, 0.028889808803796768, 0.02342861518263817, 0.02731855772435665, 0.023613926023244858], \"Term\": [\"House\", \"would\", \"That\", \"Commons\", \"People\", \"Time\", \"Lords\", \"think\", \"Bill\", \"Nation\", \"much\", \"every\", \"Gentleman\", \"present\", \"without\", \"might\", \"Gentlemen\", \"Year\", \"ought\", \"never\", \"Interest\", \"Committee\", \"'That\", \"necessary\", \"could\", \"several\", \"Power\", \"many\", \"always\", \"last\", \"SinkingFund\", \"Spirituous\", \"Landed\", \"surprised\", \"American\", \"hears\", \"Smuggling\", \"plundered\", \"Plumer\", \"Trader\", \"Retail\", \"Smugglers\", \"SugarColonies\", \"18,000\", \"overturned\", \"loading\", \"Luxury\", \"abolishing\", \"Shape\", \"Labourers\", \"Mobs\", \"ridiculous\", \"Sort\", \"Sake\", \"Kinds\", \"800,000\", \"Seville\", \"Surely\", \"Decrease\", \"selfish\", \"Consumption\", \"Liquors\", \"Gentleman\", \"Barnard\", \"Spaniards\", \"Standing\", \"Market\", \"Triennial\", \"cheap\", \"certainly\", \"Sorts\", \"proposed\", \"independent\", \"surely\", \"perhaps\", \"'Sir\", \"Thing\", \"honourable\", \"convinced\", \"numerous\", \"suppose\", \"Taxes\", \"Reduction\", \"every\", \"Scheme\", \"Price\", \"believe\", \"always\", \"ought\", \"really\", \"Nation\", \"Country\", \"even\", \"least\", \"Gentlemen\", \"People\", \"Reason\", \"respect\", \"Time\", \"think\", \"present\", \"much\", \"would\", \"Interest\", \"know\", \"Army\", \"spoke\", \"never\", \"Power\", \"Part\", \"could\", \"ever\", \"Motion\", \"Trade\", \"House\", \"without\", \"many\", \"necessary\", \"Year\", \"Bill\", \"might\", \"take\", \"Danby\", \"Hallifax\", \"Portland\", \"Seymour\", \"Somers\", \"CommonLaw\", \"Trevor\", \"reports\", \"PollBill\", \"necessity\", \"HighSteward\", \"cited\", \"Oates\", \"Howard\", \"Burton\", \"indicted\", \"ChiefJustice\", \"reversed\", \"Bail\", \"Lordships\", \"LordChancellor\", \"King'sBench\", \"Commitments\", \"Russel\", \"Conventicles\", \"Reversal\", \"Conventicle\", \"legislative\", \"Powle\", \"Newgate\", \"Writ\", \"HighTreason\", \"Conference\", \"Resolved\", \"shou\", \"Monmouth\", \"Action\", \"doth\", \"Yeas\", \"Habeas\", \"Corpus\", \"Lords\", \"Popish\", \"Trial\", \"Plot\", \"Error\", \"Judicature\", \"Popery\", \"things\", \"impeached\", \"hath\", \"Religion\", \"Noes\", \"Papists\", \"Commons\", \"time\", \"Judgment\", \"thing\", \"Houses\", \"Protestant\", \"Judges\", \"Lord\", \"Duke\", \"England\", \"That\", \"House\", \"Persons\", \"Person\", \"Bill\", \"'The\", \"Right\", \"Proceedings\", \"'That\", \"Speaker\", \"Laws\", \"given\", \"would\", \"Kingdom\", \"Government\", \"take\", \"good\", \"Case\", \"last\", \"think\", \"without\", \"several\", \"Committee\", \"much\", \"might\", \"Accompts\", \"Bolingbroke\", \"Broderick\", \"Hutcheson\", \"Hungerford\", \"Accompt\", \"Craggs\", \"Hanmer\", \"Molesworth\", \"Forage\", \"Aislabie\", \"Pengelly\", \"Imprests\", \"Cloathing\", \"Lutwyche\", \"Steele\", \"Harwich\", \"Extraordinaries\", \"Callicoes\", \"Farrer\", \"Voices\", \"MajorGeneral\", \"Compton\", \"Demolition\", \"traiterous\", \"Methuen\", \"Lechmere\", \"Directors\", \"Lockhart\", \"GEORGE\", \"Lorrain\", \"Stanhope\", \"Sloper\", \"Lowndes\", \"Strafford\", \"GreatBritain\", \"Sweden\", \"Shippen\", \"grand\", \"Walpole\", \"Portugal\", \"Debentures\", \"Merchandizes\", \"Hanover\", \"imported\", \"resolv\", \"Hereupon\", \"reported\", \"Regiments\", \"Commissioners\", \"thousand\", \"pursuant\", \"That\", \"Scotland\", \"'That\", \"read\", \"presented\", \"Allies\", \"House\", \"Committee\", \"Great\", \"hundred\", \"Britain\", \"Address\", \"Queen\", \"Company\", \"Account\", \"several\", \"Duties\", \"Year\", \"General\", \"granted\", \"Service\", \"Commons\", \"After\", \"Bill\", \"laid\", \"whole\", \"also\", \"Peace\", \"order\", \"would\", \"agreed\", \"might\", \"Time\", \"Money\", \"first\", \"Lord\", \"given\", \"late\", \"Motion\", \"Lords\", \"Subjects\", \"present\", \"could\", \"Clouds\", \"substitute\", \"unthinking\", \"PollTax\", \"countenancing\", \"Villainy\", \"Ruins\", \"backed\", \"Devices\", \"annoy\", \"'Altho\", \"Calumnies\", \"reciting\", \"behold\", \"discussed\", \"Morality\", \"perpetuated\", \"loses\", \"Chambers\", \"specify\", \"lasts\", \"Monk\", \"assessed\", \"unlikely\", \"fore\", \"courted\", \"impoverished\", \"Clients\", \"Disgust\", \"Bloodshed\", \"Taunton\", \"Arrests\", \"shipped\", \"mainly\", \"Carmarthen\", \"would\", \"House\", \"Commons\", \"might\", \"Time\", \"Gentlemen\", \"People\", \"That\", \"'That\", \"several\", \"Bill\", \"Interest\", \"Address\", \"Nation\", \"Subjects\", \"Year\", \"without\", \"every\", \"Lords\", \"Lordships\", \"think\", \"could\", \"much\", \"first\", \"Army\", \"presented\", \"never\", \"Committee\", \"brought\", \"present\", \"Power\", \"Gentleman\", \"necessary\", \"many\", \"Money\", \"Dust\", \"Pembrokeshire\", \"courted\", \"depress\", \"Formation\", \"harmless\", \"Fool\", \"Bloodshed\", \"blackest\", \"dwell\", \"Discoverer\", \"'Give\", \"Odium\", \"connived\", \"Sufficiency\", \"behav\", \"unruly\", \"cancelled\", \"proroguing\", \"artificial\", \"spirited\", \"recruit\", \"lasts\", \"deliberately\", \"groans\", \"scarcely\", \"merited\", \"unthinking\", \"'Altho\", \"intreat\", \"allay\", \"Sollicitations\", \"Bottoms\", \"would\", \"House\", \"That\", \"much\", \"Spain\", \"think\", \"necessary\", \"without\", \"never\", \"Time\", \"Nation\", \"Year\", \"might\", \"ought\", \"People\", \"present\", \"Bill\", \"order\", \"ever\", \"Committee\", \"Kingdom\", \"Crown\", \"always\", \"every\", \"last\", \"taken\", \"given\", \"Government\", \"many\", \"general\", \"Lords\", \"good\", \"Commons\", \"could\"], \"Total\": [8807.0, 5226.0, 4827.0, 3468.0, 2784.0, 2562.0, 2842.0, 2567.0, 3434.0, 2494.0, 2539.0, 2195.0, 1759.0, 2515.0, 2194.0, 2042.0, 1935.0, 2008.0, 1953.0, 1649.0, 1861.0, 2129.0, 2081.0, 1727.0, 2154.0, 1872.0, 1702.0, 1832.0, 1400.0, 1868.0, 116.1574935913086, 84.5079116821289, 92.19377899169922, 47.91074752807617, 33.424198150634766, 35.42909622192383, 46.98777770996094, 31.554439544677734, 39.275577545166016, 42.131141662597656, 45.07102966308594, 35.404136657714844, 56.637001037597656, 35.399200439453125, 25.79889678955078, 26.783557891845703, 28.757783889770508, 38.31376266479492, 26.789813995361328, 22.948637008666992, 28.684772491455078, 67.2573471069336, 234.48422241210938, 96.11358642578125, 21.060623168945312, 39.340171813964844, 67.27499389648438, 36.3935546875, 22.960826873779297, 19.084333419799805, 140.51022338867188, 193.53652954101562, 1759.7843017578125, 75.88971710205078, 269.96990966796875, 167.57362365722656, 61.42556381225586, 120.24195861816406, 49.00718688964844, 535.7778930664062, 56.604034423828125, 761.3535766601562, 94.20594024658203, 163.7404327392578, 450.0254211425781, 600.5725708007812, 667.4468994140625, 866.7545776367188, 268.2431945800781, 163.01629638671875, 483.31695556640625, 494.0914611816406, 235.93594360351562, 2195.366455078125, 352.7428283691406, 317.46173095703125, 998.5384521484375, 1400.063720703125, 1953.968994140625, 254.04043579101562, 2494.562744140625, 1330.186767578125, 927.784912109375, 998.392578125, 1935.4521484375, 2784.861083984375, 1316.7957763671875, 435.21734619140625, 2562.324951171875, 2567.047119140625, 2515.5927734375, 2539.6318359375, 5226.2763671875, 1861.564453125, 1236.428466796875, 1298.307373046875, 729.8055419921875, 1649.485595703125, 1702.7493896484375, 1555.604736328125, 2154.265625, 1391.3214111328125, 1359.173583984375, 1354.545166015625, 8807.376953125, 2194.6640625, 1832.8031005859375, 1727.0584716796875, 2008.6552734375, 3434.027587890625, 2042.604248046875, 1864.4554443359375, 72.01554870605469, 40.97249221801758, 33.905662536621094, 50.89094543457031, 68.92452239990234, 82.11810302734375, 32.945945739746094, 34.90263366699219, 33.902462005615234, 39.90427780151367, 34.96406555175781, 26.910282135009766, 31.900915145874023, 23.873363494873047, 27.94584083557129, 29.917911529541016, 53.897335052490234, 29.91135025024414, 35.867164611816406, 930.74267578125, 30.902788162231445, 72.93492126464844, 17.911746978759766, 24.9574031829834, 20.898372650146484, 20.919809341430664, 15.869479179382324, 20.89972496032715, 18.882312774658203, 31.910701751708984, 182.26510620117188, 105.1526870727539, 462.1897888183594, 280.6216735839844, 69.87731170654297, 32.93566131591797, 342.63348388671875, 190.20327758789062, 115.83814239501953, 90.1755142211914, 90.18856048583984, 2842.712890625, 412.9017639160156, 292.5435485839844, 231.6585235595703, 161.59738159179688, 114.81815338134766, 318.92327880859375, 220.58970642089844, 95.97769165039062, 1271.0972900390625, 798.632568359375, 122.74324798583984, 305.8373107910156, 3468.475830078125, 1412.1759033203125, 454.0579528808594, 661.8366088867188, 751.4766235351562, 640.1558227539062, 352.5243225097656, 1399.6177978515625, 737.9017944335938, 1297.6680908203125, 4827.5029296875, 8807.376953125, 1224.831298828125, 1055.9781494140625, 3434.027587890625, 1275.4432373046875, 1210.5225830078125, 583.1668090820312, 2081.834716796875, 804.3517456054688, 1105.320068359375, 1503.4837646484375, 5226.2763671875, 1531.46875, 1646.8582763671875, 1864.4554443359375, 1766.596435546875, 1480.9876708984375, 1868.8779296875, 2567.047119140625, 2194.6640625, 1872.8134765625, 2129.697021484375, 2539.6318359375, 2042.604248046875, 173.7784881591797, 37.96330261230469, 26.61100196838379, 34.846229553222656, 79.23725891113281, 41.008567810058594, 58.546058654785156, 31.717864990234375, 27.575223922729492, 34.848724365234375, 32.781497955322266, 17.34686279296875, 18.349096298217773, 58.44459533691406, 13.217248916625977, 35.872657775878906, 16.25996208190918, 17.300931930541992, 24.50780487060547, 35.82516098022461, 105.80490112304688, 26.54996109008789, 12.195237159729004, 12.167825698852539, 24.51085090637207, 40.882232666015625, 62.60767364501953, 76.92575073242188, 14.257747650146484, 11.153477668762207, 25.47084617614746, 106.70853424072266, 24.475204467773438, 25.52936363220215, 29.652027130126953, 235.93565368652344, 96.04988861083984, 134.34518432617188, 151.13558959960938, 441.3721008300781, 195.20394897460938, 36.81949234008789, 51.02669143676758, 99.82748413085938, 188.673095703125, 345.8556213378906, 138.85081481933594, 475.4148254394531, 165.20005798339844, 762.9102172851562, 489.5455322265625, 165.3956298828125, 4827.5029296875, 416.6780090332031, 2081.834716796875, 1135.4149169921875, 940.679443359375, 459.32415771484375, 8807.376953125, 2129.697021484375, 637.3853149414062, 446.8058166503906, 638.4131469726562, 1284.5025634765625, 670.6455688476562, 589.013671875, 798.09326171875, 1872.8134765625, 717.3356323242188, 2008.6552734375, 376.792724609375, 954.9671630859375, 1085.399169921875, 3468.475830078125, 423.9012756347656, 3434.027587890625, 1010.0327758789062, 1355.2528076171875, 831.6630859375, 1400.1087646484375, 1305.1646728515625, 5226.2763671875, 899.78857421875, 2042.604248046875, 2562.324951171875, 1714.9193115234375, 1599.2247314453125, 1399.6177978515625, 1503.4837646484375, 1269.386962890625, 1359.173583984375, 2842.712890625, 1120.8721923828125, 2515.5927734375, 2154.265625, 5.778687953948975, 5.703415870666504, 5.684622764587402, 5.832144260406494, 5.817919731140137, 5.796527862548828, 5.7783522605896, 5.759453296661377, 5.892302513122559, 5.812063217163086, 5.774585247039795, 5.802079677581787, 5.808664798736572, 5.823148727416992, 5.738178730010986, 5.676785945892334, 5.833595275878906, 5.753881454467773, 5.801793575286865, 5.830706596374512, 5.7209696769714355, 5.837746620178223, 5.8166823387146, 5.869401931762695, 5.738306999206543, 5.656956672668457, 5.952960968017578, 5.729588031768799, 5.800576686859131, 5.715227127075195, 5.957448959350586, 5.861514091491699, 5.9217634201049805, 5.965775489807129, 5.9371113777160645, 5226.2763671875, 8807.376953125, 3468.475830078125, 2042.604248046875, 2562.324951171875, 1935.4521484375, 2784.861083984375, 4827.5029296875, 2081.834716796875, 1872.8134765625, 3434.027587890625, 1861.564453125, 1284.5025634765625, 2494.562744140625, 1120.8721923828125, 2008.6552734375, 2194.6640625, 2195.366455078125, 2842.712890625, 930.74267578125, 2567.047119140625, 2154.265625, 2539.6318359375, 1599.2247314453125, 1298.307373046875, 940.679443359375, 1649.485595703125, 2129.697021484375, 1263.8167724609375, 2515.5927734375, 1702.7493896484375, 1759.7843017578125, 1727.0584716796875, 1832.8031005859375, 1714.9193115234375, 5.746949195861816, 5.631969928741455, 5.656956672668457, 5.751811504364014, 5.652585983276367, 5.79099702835083, 5.73372745513916, 5.715227127075195, 5.852475166320801, 5.805488586425781, 5.829075813293457, 5.718967914581299, 5.669979095458984, 5.786012649536133, 5.7007927894592285, 5.828675270080566, 5.7017316818237305, 5.795300483703613, 5.7919769287109375, 5.700299263000488, 5.8407816886901855, 5.771279811859131, 5.7209696769714355, 5.766481876373291, 5.673872470855713, 5.701000690460205, 5.8897857666015625, 5.684622764587402, 5.774585247039795, 5.770083904266357, 5.78394889831543, 5.915812969207764, 5.81491756439209, 5226.2763671875, 8807.376953125, 4827.5029296875, 2539.6318359375, 1028.2760009765625, 2567.047119140625, 1727.0584716796875, 2194.6640625, 1649.485595703125, 2562.324951171875, 2494.562744140625, 2008.6552734375, 2042.604248046875, 1953.968994140625, 2784.861083984375, 2515.5927734375, 3434.027587890625, 1305.1646728515625, 1391.3214111328125, 2129.697021484375, 1531.46875, 1504.3585205078125, 1400.063720703125, 2195.366455078125, 1868.8779296875, 1232.2105712890625, 1503.4837646484375, 1646.8582763671875, 1832.8031005859375, 918.4520263671875, 2842.712890625, 1766.596435546875, 3468.475830078125, 2154.265625], \"loglift\": [30.0, 29.0, 28.0, 27.0, 26.0, 25.0, 24.0, 23.0, 22.0, 21.0, 20.0, 19.0, 18.0, 17.0, 16.0, 15.0, 14.0, 13.0, 12.0, 11.0, 10.0, 9.0, 8.0, 7.0, 6.0, 5.0, 4.0, 3.0, 2.0, 1.0, 0.8077999949455261, 0.8016999959945679, 0.8015999794006348, 0.8014000058174133, 0.8001000285148621, 0.7993000149726868, 0.7979999780654907, 0.7978000044822693, 0.7961000204086304, 0.7954999804496765, 0.7954000234603882, 0.7953000068664551, 0.7950000166893005, 0.7946000099182129, 0.7936999797821045, 0.7925999760627747, 0.7912999987602234, 0.7901999950408936, 0.7892000079154968, 0.7889999747276306, 0.7882999777793884, 0.7882000207901001, 0.7875999808311462, 0.7874000072479248, 0.7870000004768372, 0.7868000268936157, 0.7860999703407288, 0.7853000164031982, 0.7847999930381775, 0.7847999930381775, 0.7774999737739563, 0.7720000147819519, 0.7480999827384949, 0.7785000205039978, 0.7578999996185303, 0.7667999863624573, 0.7781999707221985, 0.7635999917984009, 0.7810999751091003, 0.7318999767303467, 0.777999997138977, 0.6769999861717224, 0.7585999965667725, 0.7360000014305115, 0.6955000162124634, 0.6829000115394592, 0.6776999831199646, 0.6546000242233276, 0.7106000185012817, 0.728600025177002, 0.6743000149726868, 0.6642000079154968, 0.7077999711036682, 0.5515999794006348, 0.6765000224113464, 0.6814000010490417, 0.5992000102996826, 0.5694000124931335, 0.5333999991416931, 0.6913999915122986, 0.5015000104904175, 0.5559999942779541, 0.5856999754905701, 0.5723000168800354, 0.4894999861717224, 0.4440000057220459, 0.5113999843597412, 0.6327000260353088, 0.4009999930858612, 0.3984000086784363, 0.39820000529289246, 0.38769999146461487, 0.27799999713897705, 0.426800012588501, 0.475600004196167, 0.45730000734329224, 0.542900025844574, 0.3549000024795532, 0.3434999883174896, 0.3531999886035919, 0.2612999975681305, 0.38269999623298645, 0.37709999084472656, 0.3725000023841858, -0.41990000009536743, 0.1453000009059906, 0.21879999339580536, 0.2484000027179718, 0.12470000237226486, -0.31679999828338623, 0.009399999864399433, 0.0723000019788742, 1.131500005722046, 1.1205999851226807, 1.1205999851226807, 1.117300033569336, 1.1140999794006348, 1.1139999628067017, 1.1136000156402588, 1.1133999824523926, 1.1131999492645264, 1.1131999492645264, 1.1124999523162842, 1.111799955368042, 1.1114000082015991, 1.111199975013733, 1.1096999645233154, 1.1095999479293823, 1.1092000007629395, 1.1089999675750732, 1.108299970626831, 1.107200026512146, 1.1059999465942383, 1.1055999994277954, 1.1053999662399292, 1.105299949645996, 1.1032999753952026, 1.1018999814987183, 1.1016000509262085, 1.101199984550476, 1.101099967956543, 1.100100040435791, 1.0920000076293945, 1.094599962234497, 1.0667999982833862, 1.054900050163269, 1.0815999507904053, 1.0953999757766724, 1.0393999814987183, 1.0494999885559082, 1.061400055885315, 1.0669000148773193, 1.0642000436782837, 0.9225000143051147, 0.9955000281333923, 1.0090999603271484, 1.0125999450683594, 1.0271999835968018, 1.0449999570846558, 0.9804999828338623, 0.9994000196456909, 1.0470999479293823, 0.8618999719619751, 0.88919997215271, 1.0255000591278076, 0.9452000260353088, 0.7174000144004822, 0.7360000014305115, 0.8561000227928162, 0.7983999848365784, 0.7501999735832214, 0.7573000192642212, 0.8385999798774719, 0.6014999747276306, 0.7111999988555908, 0.590399980545044, 0.33009999990463257, 0.19140000641345978, 0.5676000118255615, 0.5590000152587891, 0.25200000405311584, 0.5011000037193298, 0.4745999872684479, 0.6866000294685364, 0.25920000672340393, 0.5666999816894531, 0.4456000030040741, 0.32739999890327454, -0.2515999972820282, 0.2863999903202057, 0.2379000037908554, 0.15729999542236328, 0.13850000500679016, 0.2345999926328659, 0.09080000221729279, -0.11050000041723251, -0.015699999406933784, 0.06390000134706497, -0.03880000114440918, -0.2547999918460846, -0.08179999887943268, 1.3845000267028809, 1.3839000463485718, 1.3796000480651855, 1.3792999982833862, 1.3782999515533447, 1.374899983406067, 1.3746000528335571, 1.3731000423431396, 1.3690999746322632, 1.3690999746322632, 1.367400050163269, 1.3659000396728516, 1.3645999431610107, 1.3645999431610107, 1.3579000234603882, 1.3573999404907227, 1.3558000326156616, 1.3553999662399292, 1.3538999557495117, 1.3523999452590942, 1.3509999513626099, 1.3502000570297241, 1.3482999801635742, 1.3473999500274658, 1.34660005569458, 1.3451999425888062, 1.3446999788284302, 1.3444000482559204, 1.3437000513076782, 1.3428000211715698, 1.339900016784668, 1.3245999813079834, 1.3392000198364258, 1.3378000259399414, 1.3188999891281128, 1.2072999477386475, 1.2594000101089478, 1.216599941253662, 1.1884000301361084, 1.0698000192642212, 1.1444000005722046, 1.3011000156402588, 1.2644000053405762, 1.184399962425232, 1.107200026512146, 1.0305999517440796, 1.1425000429153442, 0.9700000286102295, 1.101699948310852, 0.8593999743461609, 0.9192000031471252, 1.100600004196167, 0.5178999900817871, 0.9229000210762024, 0.6305999755859375, 0.7415000200271606, 0.7666000127792358, 0.8924999833106995, 0.29750001430511475, 0.5760999917984009, 0.8148000240325928, 0.8859000205993652, 0.7879999876022339, 0.6139000058174133, 0.7738000154495239, 0.8008999824523926, 0.7199000120162964, 0.4805999994277954, 0.7350000143051147, 0.43529999256134033, 0.9115999937057495, 0.6190999746322632, 0.5619000196456909, 0.1662999987602234, 0.8691999912261963, 0.11230000108480453, 0.5404999852180481, 0.4287000000476837, 0.609499990940094, 0.3596999943256378, 0.37209999561309814, -0.3433000147342682, 0.5465999841690063, 0.08179999887943268, -0.1080000028014183, 0.1257999986410141, 0.15690000355243683, 0.2272000014781952, 0.1656000018119812, 0.2644999921321869, 0.20640000700950623, -0.4122999906539917, 0.36039999127388, -0.3370000123977661, -0.21940000355243683, 2.3789000511169434, 2.3438000679016113, 2.3215999603271484, 2.31850004196167, 2.3173000812530518, 2.31469988822937, 2.309299945831299, 2.308500051498413, 2.3073999881744385, 2.3069000244140625, 2.3039000034332275, 2.3034000396728516, 2.301100015640259, 2.3006999492645264, 2.2999000549316406, 2.299499988555908, 2.299499988555908, 2.299099922180176, 2.2990000247955322, 2.298799991607666, 2.2985000610351562, 2.297499895095825, 2.296999931335449, 2.2967000007629395, 2.2964999675750732, 2.2964000701904297, 2.293800115585327, 2.2934999465942383, 2.2934999465942383, 2.291800022125244, 2.2911999225616455, 2.2906999588012695, 2.289299964904785, 2.2815001010894775, 2.282099962234497, -0.7563999891281128, -1.0140999555587769, -0.8069999814033508, -0.6342999935150146, -0.7662000060081482, -0.6272000074386597, -0.8414999842643738, -1.1431000232696533, -0.7418000102043152, -0.7192999720573425, -1.0458999872207642, -0.7989000082015991, -0.6078000068664551, -0.9695000052452087, -0.567300021648407, -0.8956000208854675, -0.9459999799728394, -0.9538999795913696, -1.0994999408721924, -0.486299991607666, -1.0744999647140503, -0.9785000085830688, -1.0758999586105347, -0.8226000070571899, -0.7132999897003174, -0.5358999967575073, -0.8565999865531921, -1.0042999982833862, -0.7172999978065491, -1.117900013923645, -0.9003000259399414, -0.9214000105857849, -0.9348000288009644, -1.0259000062942505, -0.9661999940872192, 2.362499952316284, 2.349299907684326, 2.3489999771118164, 2.3452999591827393, 2.3427000045776367, 2.341099977493286, 2.3401999473571777, 2.3397998809814453, 2.339400053024292, 2.337399959564209, 2.337399959564209, 2.3355000019073486, 2.335200071334839, 2.333699941635132, 2.331199884414673, 2.3299999237060547, 2.3296000957489014, 2.3278000354766846, 2.3266000747680664, 2.3261001110076904, 2.3255999088287354, 2.3239998817443848, 2.3187999725341797, 2.3162999153137207, 2.3159000873565674, 2.3148000240325928, 2.31469988822937, 2.3124001026153564, 2.311500072479248, 2.311300039291382, 2.3104000091552734, 2.3055999279022217, 2.308000087738037, -0.8833000063896179, -1.1921000480651855, -1.0227999687194824, -0.7728999853134155, -0.3257000148296356, -0.7962999939918518, -0.6129999756813049, -0.7404000163078308, -0.6147000193595886, -0.8902999758720398, -0.883400022983551, -0.7953000068664551, -0.850600004196167, -0.8349000215530396, -1.034500002861023, -0.9821000099182129, -1.1562000513076782, -0.6389999985694885, -0.6776999831199646, -0.9351999759674072, -0.7652000188827515, -0.7642999887466431, -0.7268000245094299, -0.9818000197410583, -0.9276999831199646, -0.6990000009536743, -0.8152999877929688, -0.870199978351593, -0.932699978351593, -0.5425999760627747, -1.2065999507904053, -0.9404000043869019, -1.4615000486373901, -1.13100004196167], \"logprob\": [30.0, 29.0, 28.0, 27.0, 26.0, 25.0, 24.0, 23.0, 22.0, 21.0, 20.0, 19.0, 18.0, 17.0, 16.0, 15.0, 14.0, 13.0, 12.0, 11.0, 10.0, 9.0, 8.0, 7.0, 6.0, 5.0, 4.0, 3.0, 2.0, 1.0, -7.8343000411987305, -8.158499717712402, -8.071599960327148, -8.726300239562988, -9.087699890136719, -9.03030014038086, -8.749199867248535, -9.147500038146973, -8.930399894714355, -8.860799789428711, -8.793399810791016, -9.03499984741211, -8.565299987792969, -9.035799980163574, -9.352999687194824, -9.31659984588623, -9.246899604797363, -8.961099624633789, -9.319899559020996, -9.474699974060059, -9.252400398254395, -8.400300025939941, -7.152100086212158, -8.044099807739258, -9.562700271606445, -8.937999725341797, -8.402199745178223, -9.01729965209961, -9.478400230407715, -9.663399696350098, -7.674300193786621, -7.359600067138672, -5.176000118255615, -8.289299964904785, -7.040800094604492, -7.508900165557861, -8.50100040435791, -7.843999862670898, -8.723899841308594, -6.381400108337402, -8.583000183105469, -6.085000038146973, -8.093000411987305, -7.56279993057251, -6.592299938201904, -6.316299915313721, -6.21589994430542, -5.977700233459473, -7.094600200653076, -7.5746002197265625, -6.542099952697754, -6.530099868774414, -7.2256999015808105, -5.151299953460693, -6.854800224304199, -6.9552998542785645, -5.891499996185303, -5.583399772644043, -5.285999774932861, -7.1682000160217285, -5.073699951171875, -5.647900104522705, -5.978600025177002, -5.918600082397461, -5.339399814605713, -5.021100044250488, -5.702700138092041, -6.688499927520752, -5.14739990234375, -5.148099899291992, -5.168600082397461, -5.16949987411499, -4.557600021362305, -5.441100120544434, -5.801499843597412, -5.770899772644043, -6.26140022277832, -5.633999824523926, -5.613500118255615, -5.694200038909912, -5.4604997634887695, -5.776299953460693, -5.8053998947143555, -5.813300132751465, -4.73360013961792, -5.558000087738037, -5.664700031280518, -5.694499969482422, -5.667099952697754, -5.572299957275391, -5.765699863433838, -5.794000148773193, -7.988699913024902, -8.56350040435791, -8.752900123596191, -8.350099563598633, -8.04990005493164, -7.874899864196777, -8.788599967956543, -8.731100082397461, -8.760299682617188, -8.597399711608887, -8.730199813842773, -8.992799758911133, -8.822999954223633, -9.113100051879883, -8.957099914550781, -8.888999938964844, -8.300800323486328, -8.889800071716309, -8.708900451660156, -5.45389986038208, -8.860199928283691, -8.001899719238281, -9.406200408935547, -9.074600219726562, -9.25409984588623, -9.254400253295898, -9.531100273132324, -9.256099700927734, -9.35770034790039, -8.833999633789062, -7.099599838256836, -7.64709997177124, -6.194300174713135, -6.7052001953125, -8.068699836730957, -8.807100296020508, -6.520999908447266, -7.0995001792907715, -7.583399772644043, -7.828400135040283, -7.830900192260742, -4.521999835968018, -6.378399848937988, -6.7093000411987305, -6.939199924468994, -7.2846999168396, -7.608699798583984, -6.651599884033203, -7.001399993896484, -7.785799980163574, -5.387499809265137, -5.824900150299072, -7.561399936676025, -6.728799819946289, -4.528200149536133, -5.408199787139893, -6.422800064086914, -6.103600025177002, -6.024799823760986, -6.178100109100342, -6.693299770355225, -5.551599979400635, -6.081999778747559, -5.638400077819824, -4.584799766540527, -4.122300148010254, -5.718900203704834, -5.875899791717529, -5.003499984741211, -5.744900226593018, -5.823599815368652, -6.3420000076293945, -5.496799945831299, -6.1402997970581055, -5.943600177764893, -5.7540998458862305, -5.087200164794922, -5.776700019836426, -5.752500057220459, -5.709000110626221, -5.781799793243408, -5.861999988555908, -5.773099899291992, -5.6570000648498535, -5.718999862670898, -5.797999858856201, -5.77209997177124, -5.812099933624268, -5.856900215148926, -6.854700088500977, -8.376500129699707, -8.736200332641602, -8.46679973602295, -7.646299839019775, -8.30840015411377, -7.952600002288818, -8.567099571228027, -8.711000442504883, -8.47700023651123, -8.539799690246582, -9.177800178527832, -9.122900009155273, -7.964399814605713, -9.457599639892578, -8.459699630737305, -9.2524995803833, -9.190899848937988, -8.844200134277344, -8.465999603271484, -7.384399890899658, -8.767900466918945, -9.547699928283691, -9.550800323486328, -8.851400375366211, -8.34119987487793, -7.915500164031982, -7.709799766540527, -9.396100044250488, -9.642499923706055, -8.819600105285645, -7.402299880981445, -8.860199928283691, -8.8193998336792, -8.688699722290039, -6.726200103759766, -7.572800159454346, -7.28000020980835, -7.190499782562256, -6.237299919128418, -6.978600025177002, -8.489899635314941, -8.200400352478027, -7.6092000007629395, -7.049799919128418, -6.520500183105469, -7.321100234985352, -6.262899875640869, -7.188199996948242, -5.9004998207092285, -6.28439998626709, -7.188199996948242, -4.39709997177124, -6.44189977645874, -5.125400066375732, -5.620800018310547, -5.78380012512207, -6.374800205230713, -4.016200065612793, -5.157199859619141, -6.124899864196777, -6.40910005569458, -6.150100231170654, -5.625, -6.114999771118164, -6.217700004577637, -5.994999885559082, -5.381199836730957, -6.08650016784668, -5.356500148773193, -6.553699970245361, -5.916299819946289, -5.8454999923706055, -5.07919979095459, -6.478300094604492, -5.1433000564575195, -5.938799858093262, -5.7565999031066895, -6.0640997886657715, -5.793000221252441, -5.850900173187256, -5.178899765014648, -6.048299789428711, -5.693299770355225, -5.656300067901611, -5.824100017547607, -5.8628997802734375, -5.925899982452393, -5.915999889373779, -5.986199855804443, -5.97599983215332, -5.856900215148926, -6.014800071716309, -5.903800010681152, -5.941299915313721, -9.263999938964844, -9.312199592590332, -9.337699890136719, -9.315099716186523, -9.318900108337402, -9.32509994506836, -9.333700180053711, -9.337800025939941, -9.315999984741211, -9.3302001953125, -9.339599609375, -9.33549976348877, -9.336600303649902, -9.334500312805176, -9.350000381469727, -9.361200332641602, -9.333999633789062, -9.348099708557129, -9.339900016784668, -9.335100173950195, -9.354399681091309, -9.335200309753418, -9.339300155639648, -9.330599784851074, -9.353400230407715, -9.36769962310791, -9.3193998336792, -9.35789966583252, -9.345600128173828, -9.362199783325195, -9.321200370788574, -9.338000297546387, -9.329099655151367, -9.329500198364258, -9.333700180053711, -5.5920000076293945, -5.327899932861328, -6.052499771118164, -6.40939998626709, -6.314599990844727, -6.456200122833252, -6.306600093841553, -6.05810022354126, -6.497799873352051, -6.581099987030029, -6.301499843597412, -6.6666998863220215, -6.846700191497803, -6.5447001457214355, -6.942500114440918, -6.687399864196777, -6.649199962615967, -6.656899929046631, -6.544000148773193, -7.047299861907959, -6.621099948883057, -6.700300216674805, -6.633200168609619, -6.842400074005127, -6.941500186920166, -7.086400032043457, -6.845399856567383, -6.737599849700928, -6.972499847412109, -6.684700012207031, -6.8572998046875, -6.8454999923706055, -6.877600193023682, -6.90939998626709, -6.916100025177002, -9.285900115966797, -9.319299697875977, -9.315199851989746, -9.302200317382812, -9.322199821472168, -9.299699783325195, -9.310500144958496, -9.31410026550293, -9.290800094604492, -9.300800323486328, -9.296799659729004, -9.31779956817627, -9.326600074768066, -9.307999610900879, -9.325300216674805, -9.304300308227539, -9.326700210571289, -9.312199592590332, -9.314000129699707, -9.330400466918945, -9.306599617004395, -9.320099830627441, -9.334099769592285, -9.328700065612793, -9.34529972076416, -9.34160041809082, -9.309200286865234, -9.34689998626709, -9.332099914550781, -9.333100318908691, -9.331600189208984, -9.313799858093262, -9.32859992980957, -5.718900203704834, -5.505799770355225, -5.93779993057251, -6.3302001953125, -6.787099838256836, -6.342899799346924, -6.5559000968933105, -6.443600177764893, -6.603499889373779, -6.438700199127197, -6.458600044250488, -6.587100028991699, -6.625699996948242, -6.654300212860107, -6.499599933624268, -6.548900127410889, -6.4116997718811035, -6.861999988555908, -6.836699962615967, -6.668499946594238, -6.8282999992370605, -6.845200061798096, -6.8796000480651855, -6.684800148010254, -6.7916998863220215, -6.979499816894531, -6.8968000411987305, -6.860599994659424, -6.816100120544434, -7.117000102996826, -6.651199817657471, -6.8607001304626465, -6.707099914550781, -6.852799892425537]}, \"token.table\": {\"Topic\": [1, 2, 1, 2, 1, 2, 3, 1, 2, 3, 1, 2, 3, 1, 3, 1, 3, 1, 2, 3, 1, 2, 3, 1, 2, 3, 1, 2, 3, 1, 2, 3, 1, 2, 3, 1, 3, 1, 2, 3, 1, 1, 2, 3, 2, 1, 2, 1, 3, 1, 2, 3, 1, 2, 3, 2, 3, 1, 2, 3, 1, 2, 3, 1, 3, 2, 3, 2, 3, 1, 2, 2, 3, 1, 2, 3, 1, 2, 3, 1, 2, 3, 1, 2, 1, 2, 3, 1, 2, 1, 2, 3, 2, 1, 2, 3, 1, 2, 3, 1, 2, 3, 1, 2, 3, 3, 1, 2, 3, 1, 2, 3, 2, 1, 2, 1, 2, 3, 1, 2, 3, 1, 2, 3, 1, 2, 3, 1, 2, 3, 1, 2, 3, 1, 3, 2, 3, 1, 2, 3, 1, 2, 3, 1, 2, 3, 1, 2, 3, 1, 2, 1, 2, 3, 1, 2, 3, 1, 2, 3, 2, 3, 1, 3, 1, 2, 1, 2, 3, 1, 3, 1, 2, 3, 1, 2, 3, 1, 2, 3, 1, 2, 3, 1, 2, 3, 1, 2, 3, 1, 2, 3, 1, 2, 1, 2, 3, 1, 2, 3, 2, 3, 1, 2, 3, 1, 2, 1, 2, 3, 1, 2, 3, 1, 2, 3, 2, 1, 2, 3, 1, 3, 2, 3, 1, 2, 3, 1, 2, 3, 1, 2, 3, 1, 2, 3, 1, 1, 2, 3, 1, 2, 3, 1, 1, 2, 3, 1, 2, 3, 1, 2, 3, 1, 2, 3, 2, 3, 1, 2, 3, 1, 2, 3, 1, 2, 3, 1, 2, 3, 1, 2, 3, 2, 3, 3, 1, 2, 3, 1, 2, 3, 1, 2, 3, 1, 3, 1, 3, 1, 3, 1, 2, 3, 2, 2, 3, 1, 2, 1, 2, 3, 1, 2, 3, 1, 2, 3, 1, 2, 3, 1, 2, 1, 2, 1, 2, 3, 1, 2, 3, 1, 2, 3, 1, 3, 1, 2, 3, 1, 2, 3, 1, 2, 3, 1, 2, 3, 1, 3, 1, 2, 3, 2, 1, 2, 3, 1, 2, 3, 1, 2, 1, 2, 3, 1, 2, 3, 2, 1, 2, 3, 1, 2, 3, 1, 2, 3, 1, 2, 3, 1, 2, 3, 1, 2, 3, 1, 2, 3, 1, 2, 3, 1, 2, 3, 1, 2, 3, 1, 2, 1, 2, 3, 1, 2, 3, 1, 2, 3, 1, 3, 1, 2, 3, 1, 2, 3, 1, 2, 3, 1, 3, 1, 2, 3, 1, 1, 2, 3, 1, 2, 3, 1, 3, 1, 1, 3, 1, 3, 1, 2, 3, 1, 2, 3, 1, 2, 3, 1, 2, 3, 1, 2, 3, 1, 2, 3, 1, 2, 3, 1, 2, 3, 1, 2, 3, 1, 2, 3, 2, 3, 1, 2, 3, 1, 2, 3, 1, 3, 1, 2, 1, 2, 3, 2, 3, 1, 2, 3, 1, 2, 3, 1, 2, 3, 1, 2, 3, 1, 2, 3, 1, 3, 2, 3, 1, 2, 3, 1, 2, 3, 1, 2, 3, 1, 2, 3, 1, 2, 3, 1, 2, 3, 1, 2, 3, 1, 2, 3, 1, 3, 1, 2, 3, 1, 2, 1, 2, 3, 1, 2, 3, 1, 2, 3, 1, 2, 1, 2, 3, 1, 2, 1, 2, 3, 1, 2, 3, 1, 2, 3, 1, 2, 3, 1, 2, 3, 1, 3, 1, 2, 3, 1, 2, 3, 1, 2, 1, 3, 1, 2, 3, 1, 2, 3, 1, 2, 3, 1, 2, 1, 2, 1, 2, 3, 1, 2, 1, 2, 3, 1, 2, 3, 1, 2, 3, 1, 2, 3, 1, 2, 3, 1, 2, 3, 1, 2, 3, 1, 2, 3, 1, 2, 3, 1, 2, 3, 1, 2, 3, 1, 2, 3, 1, 2, 1, 2, 3, 1, 2, 3, 1, 1, 2, 3, 1, 2, 3, 1, 2, 3, 1, 2, 3, 2, 3, 1, 2, 3, 1, 2, 1, 2, 3, 1, 2, 3, 1, 2, 3, 1, 2, 3, 1, 2, 3, 1, 2, 3, 1, 2, 3, 1, 2, 1, 1, 2, 3, 2, 3, 1, 2, 3, 1, 2, 3, 1, 2, 3, 1, 2, 3, 1, 2, 3, 1, 2, 3, 1, 2, 3, 1, 2, 3, 1, 2, 3, 1, 2, 3, 1, 1, 2, 3, 1, 2, 3, 1, 1, 2, 3, 1, 2, 3, 1, 2, 3, 1, 2, 1, 2, 3, 1, 2, 3, 1, 2, 3, 1, 2, 3, 1, 2, 3, 1, 2, 3, 1, 2, 3, 1, 2, 3, 1, 2, 3, 1, 2, 1, 2, 1, 2, 1, 1, 2, 3, 1, 2, 3, 1, 2, 3, 1, 2, 3, 1, 2, 3, 1, 2, 3, 1, 3, 1, 2, 3, 1, 2, 3, 1, 3, 1, 2, 3, 1, 2, 3, 1, 2, 3, 1, 2, 3, 1, 2, 3, 1, 2, 3, 1, 2, 3, 1, 2, 3, 1, 2, 3, 1, 2, 1, 2, 1, 2, 3, 1, 2, 3, 1, 2, 3], \"Freq\": [0.3463452160358429, 0.5195178389549255, 0.5245701670646667, 0.34971344470977783, 0.8708356618881226, 0.11489035934209824, 0.0133206220343709, 0.13305571675300598, 0.40973472595214844, 0.4572889506816864, 0.2712782323360443, 0.5221714377403259, 0.20620281994342804, 0.9887229204177856, 0.02824922651052475, 0.9659337401390076, 0.025419309735298157, 0.024385148659348488, 0.024385148659348488, 0.9510207772254944, 0.00575445219874382, 0.02301780879497528, 0.9725024104118347, 0.30071672797203064, 0.1992248296737671, 0.49994155764579773, 0.09631282836198807, 0.8930826187133789, 0.011674282141029835, 0.21409066021442413, 0.3363169729709625, 0.44920113682746887, 0.14626047015190125, 0.27364861965179443, 0.5803238153457642, 0.030505012720823288, 0.9456554055213928, 0.30261853337287903, 0.10450135916471481, 0.5943514704704285, 0.9873086810112, 0.6955209970474243, 0.14249321818351746, 0.16174906492233276, 0.8530219197273254, 0.027880653738975525, 0.9479422569274902, 0.9619221687316895, 0.03953104838728905, 0.32090598344802856, 0.40710213780403137, 0.27227503061294556, 0.6998847126960754, 0.17497117817401886, 0.17497117817401886, 0.026341227814555168, 0.9746254086494446, 0.3439429700374603, 0.3439429700374603, 0.3439429700374603, 0.45738404989242554, 0.007831919007003307, 0.5357032418251038, 0.03757844120264053, 0.9770395159721375, 0.9661545157432556, 0.03578349947929382, 0.04080332815647125, 0.9384765625, 0.17235200107097626, 0.689408004283905, 0.5052962303161621, 0.5052962303161621, 0.5516588687896729, 0.3997332453727722, 0.0486162044107914, 0.3447209894657135, 0.3447209894657135, 0.3447209894657135, 0.03710758686065674, 0.9647972583770752, 0.01855379343032837, 0.5235978364944458, 0.34906524419784546, 0.017110221087932587, 0.03422044217586517, 0.9581724405288696, 0.173049658536911, 0.692198634147644, 0.11010470241308212, 0.3145848512649536, 0.5741173624992371, 0.9490978121757507, 0.262948215007782, 0.30426862835884094, 0.43292543292045593, 0.024355165660381317, 0.9620290398597717, 0.012177582830190659, 0.06458168476819992, 0.6481233239173889, 0.28744614124298096, 0.28692033886909485, 0.17147310078144073, 0.5415833592414856, 0.9019914865493774, 0.05625394731760025, 0.9195356965065002, 0.02596336044371128, 0.9607841968536377, 0.014233839698135853, 0.028467679396271706, 0.9452105760574341, 0.04785061627626419, 0.9570122957229614, 0.011087880469858646, 0.9202941060066223, 0.06652728468179703, 0.7675613760948181, 0.09998595714569092, 0.13231225311756134, 0.01708056963980198, 0.01708056963980198, 0.9565118551254272, 0.5424239039421082, 0.28650084137916565, 0.170836940407753, 0.013885890133678913, 0.9858981966972351, 0.013885890133678913, 0.02715952694416046, 0.08147858083248138, 0.896264374256134, 0.9581536650657654, 0.9040234684944153, 0.509138822555542, 0.3394258916378021, 0.05199819430708885, 0.012999548576772213, 0.9359674453735352, 0.34310755133628845, 0.5146613717079163, 0.17155377566814423, 0.34479328989982605, 0.34479328989982605, 0.17239664494991302, 0.1544921100139618, 0.6437171101570129, 0.20056869089603424, 0.34801071882247925, 0.5220161080360413, 0.44191306829452515, 0.05018571391701698, 0.507433295249939, 0.19111204147338867, 0.5710242986679077, 0.238119438290596, 0.1113879457116127, 0.8849153518676758, 0.0061882189474999905, 0.057800356298685074, 0.9248057007789612, 0.055826686322689056, 0.9490536451339722, 0.6976264715194702, 0.3488132357597351, 0.028695454820990562, 0.028695454820990562, 0.9469500184059143, 0.8845508694648743, 0.8965813517570496, 0.31847748160362244, 0.07431141287088394, 0.6051072478294373, 0.9302276372909546, 0.03864109888672829, 0.030685579404234886, 0.7181784510612488, 0.16895276308059692, 0.11263518035411835, 0.40804967284202576, 0.4013702869415283, 0.1906660795211792, 0.3875207006931305, 0.06275638937950134, 0.5491183996200562, 0.17377619445323944, 0.01271533127874136, 0.813781201839447, 0.011089485138654709, 0.9204272627830505, 0.06653691083192825, 0.024406619369983673, 0.9762647747993469, 0.03152797371149063, 0.03152797371149063, 0.9458392262458801, 0.11019009351730347, 0.09015553444623947, 0.7913652062416077, 0.061500757932662964, 0.9225113987922668, 0.22326120734214783, 0.014403948560357094, 0.7634092569351196, 0.028600793331861496, 0.9724269509315491, 0.02852994203567505, 0.9414880871772766, 0.02852994203567505, 0.2893029451370239, 0.38308796286582947, 0.32756632566452026, 0.13174062967300415, 0.6693488359451294, 0.19827629625797272, 0.9634168148040771, 0.02524065040051937, 0.012620325200259686, 0.9591447114944458, 0.028697509318590164, 0.9757153391838074, 0.05449859797954559, 0.9264761209487915, 0.6747013330459595, 0.17189842462539673, 0.1530970335006714, 0.23828142881393433, 0.7318643927574158, 0.02836683765053749, 0.20041494071483612, 0.7443983554840088, 0.055059049278497696, 0.08709423989057541, 0.8970707058906555, 0.01741884835064411, 0.9496394991874695, 0.04113255813717842, 0.9597597122192383, 0.013710853643715382, 0.3630501627922058, 0.421164333820343, 0.21613238751888275, 0.9586625695228577, 0.9762046933174133, 0.010846719145774841, 0.010846719145774841, 0.42612090706825256, 0.49397456645965576, 0.0805196613073349, 0.015972482040524483, 0.0479174479842186, 0.9264039993286133, 0.9507248997688293, 0.031001899391412735, 0.015500949695706367, 0.07013730704784393, 0.9117849469184875, 0.11717484891414642, 0.577300488948822, 0.3050832748413086, 0.032359540462493896, 0.9707862138748169, 0.032359540462493896, 0.04326852783560753, 0.795718789100647, 0.1611137092113495, 0.010744107887148857, 0.957300066947937, 0.03223232552409172, 0.03926057368516922, 0.03926057368516922, 0.9422537088394165, 0.07834116369485855, 0.9400939345359802, 0.983563244342804, 0.9736494421958923, 0.03766483813524246, 0.941620945930481, 0.9605121612548828, 0.01627986691892147, 0.01627986691892147, 0.07839034497737885, 0.07839034497737885, 0.8622937798500061, 0.04892100766301155, 0.9294991493225098, 0.9761276841163635, 0.03486170247197151, 0.036264438182115555, 0.9428753852844238, 0.47815659642219543, 0.24607571959495544, 0.2758147120475769, 0.8564948439598083, 0.941228985786438, 0.03036222606897354, 0.8807801008224487, 0.17615601420402527, 0.6423020362854004, 0.05885929614305496, 0.2987109124660492, 0.7271815538406372, 0.16435746848583221, 0.10823540389537811, 0.03133745118975639, 0.9401234984397888, 0.03133745118975639, 0.08961796760559082, 0.8798854947090149, 0.02444126270711422, 0.031347062438726425, 0.9717589616775513, 0.8818374872207642, 0.17636749148368835, 0.1111702173948288, 0.8141583204269409, 0.07520338147878647, 0.6267659068107605, 0.13692423701286316, 0.23592111468315125, 0.3735423982143402, 0.27783554792404175, 0.3485443592071533, 0.8877888321876526, 0.9800043106079102, 0.6865692734718323, 0.17918308079242706, 0.134656623005867, 0.21117861568927765, 0.5530417561531067, 0.2348533421754837, 0.23431798815727234, 0.5584442615509033, 0.20737549662590027, 0.11223416030406952, 0.8719730973243713, 0.01726679317653179, 0.967522382736206, 0.025461114943027496, 0.029496382921934128, 0.9733806252479553, 0.029496382921934128, 0.8573176264762878, 0.10033760964870453, 0.8434630632400513, 0.05643990635871887, 0.0920315757393837, 0.8549249172210693, 0.05085955560207367, 0.029493598267436028, 0.9732887744903564, 0.12807117402553558, 0.1075797900557518, 0.7633042335510254, 0.6207607388496399, 0.26134204864501953, 0.11804438382387161, 0.9532730579376221, 0.8693961501121521, 0.03779983147978783, 0.09134959429502487, 0.21434690058231354, 0.6293225288391113, 0.15604454278945923, 0.08904082328081131, 0.6748356819152832, 0.2358800768852234, 0.1282346546649933, 0.34444424510002136, 0.5278496146202087, 0.7343583703041077, 0.1860577017068863, 0.07973901927471161, 0.8943105340003967, 0.012715315446257591, 0.09324564784765244, 0.19975779950618744, 0.07263919711112976, 0.732445240020752, 0.1289704442024231, 0.7700662612915039, 0.10142336040735245, 0.03207165002822876, 0.908696711063385, 0.06057978421449661, 0.9762368202209473, 0.02218720130622387, 0.02218720130622387, 0.047801584005355835, 0.9560316801071167, 0.44278398156166077, 0.5088711380958557, 0.04873928055167198, 0.5191791653633118, 0.3461194336414337, 0.17305971682071686, 0.04006827250123024, 0.9616385102272034, 0.04006827250123024, 0.9676051139831543, 0.031213069334626198, 0.8674874901771545, 0.005669853184372187, 0.1275716871023178, 0.1271965354681015, 0.25919294357299805, 0.6119833588600159, 0.33720314502716064, 0.23585793375968933, 0.42657119035720825, 0.9661836624145508, 0.029728727415204048, 0.019649861380457878, 0.9628431797027588, 0.019649861380457878, 0.9705181121826172, 0.17120078206062317, 0.007443511858582497, 0.8187863230705261, 0.9900351166725159, 0.008609001524746418, 0.008609001524746418, 0.04085767641663551, 0.9397265911102295, 0.9885850548744202, 0.9789779782295227, 0.021282130852341652, 0.16903847455978394, 0.6761538982391357, 0.029017249122262, 0.9575691819190979, 0.014508624561131, 0.9680821895599365, 0.021323395892977715, 0.012794037349522114, 0.9539955854415894, 0.03533317148685455, 0.017666585743427277, 0.6574110388755798, 0.036955058574676514, 0.3053654730319977, 0.9408456087112427, 0.0037041164468973875, 0.055561747401952744, 0.1603775918483734, 0.5569702386856079, 0.28221485018730164, 0.9821565747261047, 0.011833211407065392, 0.011833211407065392, 0.9488366842269897, 0.005967526230961084, 0.04177268221974373, 0.028113964945077896, 0.06559925526380539, 0.9183894991874695, 0.027876384556293488, 0.027876384556293488, 0.9477970600128174, 0.06744901090860367, 0.9105616807937622, 0.3390217125415802, 0.3122568428516388, 0.3488354980945587, 0.7016568183898926, 0.17541420459747314, 0.17541420459747314, 0.9710966348648071, 0.017656302079558372, 0.9617087244987488, 0.027477392926812172, 0.0937013030052185, 0.041645023971796036, 0.8537229895591736, 0.1678570806980133, 0.6714283227920532, 0.856116771697998, 0.06071750447154045, 0.08298058807849884, 0.1516311913728714, 0.43997901678085327, 0.40828561782836914, 0.8674847483634949, 0.06292635202407837, 0.07041759043931961, 0.6576058864593506, 0.1241060420870781, 0.21855151653289795, 0.6393290162086487, 0.09375841170549393, 0.26724839210510254, 0.9731518626213074, 0.023735411465168, 0.9712879657745361, 0.030352748930454254, 0.09571224451065063, 0.8682467937469482, 0.03760123997926712, 0.9480883479118347, 0.0498993881046772, 0.008316564373672009, 0.5175511837005615, 0.1725170761346817, 0.3450341522693634, 0.018902715295553207, 0.037805430591106415, 0.9356844425201416, 0.2832077443599701, 0.009062647819519043, 0.7091522216796875, 0.03840559720993042, 0.9436803460121155, 0.016459541395306587, 0.49884119629859924, 0.12495922297239304, 0.3758733570575714, 0.06042914465069771, 0.9150699377059937, 0.025898205116391182, 0.9657104015350342, 0.0261002816259861, 0.31674107909202576, 0.2622838318347931, 0.4200986921787262, 0.1728922575712204, 0.6915690302848816, 0.15751570463180542, 0.39559289813041687, 0.44729650020599365, 0.7778217196464539, 0.13713660836219788, 0.08428187668323517, 0.1720559448003769, 0.5161678194999695, 0.1720559448003769, 0.7017175555229187, 0.17542938888072968, 0.3438386023044586, 0.3438386023044586, 0.1719193011522293, 0.3472551703453064, 0.520882785320282, 0.3431311547756195, 0.5146967172622681, 0.17156557738780975, 0.34345680475234985, 0.5151851773262024, 0.17172840237617493, 0.8021724224090576, 0.14721515774726868, 0.05107464641332626, 0.34173575043678284, 0.34173575043678284, 0.34173575043678284, 0.3441954553127289, 0.36793309450149536, 0.2872251868247986, 0.5176607966423035, 0.34510722756385803, 0.9145580530166626, 0.06159268692135811, 0.022397341206669807, 0.959043025970459, 0.02040516957640648, 0.02040516957640648, 0.037160515785217285, 0.9661734700202942, 0.518491804599762, 0.3456611931324005, 0.8947104811668396, 0.06710328906774521, 0.033551644533872604, 0.5718886256217957, 0.23302604258060455, 0.19542622566223145, 0.1718827486038208, 0.5156482458114624, 0.1718827486038208, 0.8838675022125244, 0.17677348852157593, 0.34683191776275635, 0.5202478766441345, 0.5215747952461243, 0.17385827004909515, 0.17385827004909515, 0.5228139758110046, 0.5228139758110046, 0.04206026345491409, 0.9042956829071045, 0.052575331181287766, 0.5167523622512817, 0.17225079238414764, 0.3445015847682953, 0.7911316156387329, 0.10778360068798065, 0.10023874789476395, 0.6454296112060547, 0.23934081196784973, 0.11499858647584915, 0.7643370628356934, 0.14166200160980225, 0.09383399039506912, 0.38643723726272583, 0.32890936732292175, 0.28451284766197205, 0.5228022933006287, 0.17426742613315582, 0.17426742613315582, 0.6347637176513672, 0.16440705955028534, 0.20142586529254913, 0.27403023838996887, 0.43898046016693115, 0.2873326539993286, 0.44039487838745117, 0.36341068148612976, 0.19585683941841125, 0.03969945013523102, 0.15879780054092407, 0.8006055951118469, 0.3937308192253113, 0.1549791544675827, 0.4513244330883026, 0.8812323808670044, 0.17624646425247192, 0.34536367654800415, 0.5180454850196838, 0.17268183827400208, 0.06687135994434357, 0.7489591836929321, 0.1840929090976715, 0.9878885746002197, 0.8468371629714966, 0.04730289429426193, 0.10498934984207153, 0.07161948084831238, 0.33795443177223206, 0.5908607244491577, 0.0416763499379158, 0.9064606428146362, 0.0520954392850399, 0.19080622494220734, 0.07420241832733154, 0.7367240190505981, 0.3359672725200653, 0.5039508938789368, 0.9447387456893921, 0.04246016591787338, 0.02123008295893669, 0.03342479467391968, 0.9693189859390259, 0.5199230909347534, 0.17330770194530487, 0.17330770194530487, 0.7084922790527344, 0.23939920961856842, 0.051761992275714874, 0.4593910276889801, 0.12276829034090042, 0.4178082346916199, 0.44304659962654114, 0.3461970388889313, 0.21028660237789154, 0.6991821527481079, 0.17479553818702698, 0.17479553818702698, 0.3883764445781708, 0.29463040828704834, 0.31668829917907715, 0.7802541851997375, 0.11718837171792984, 0.10216422379016876, 0.04784752056002617, 0.9569503664970398, 0.970744788646698, 0.5213871598243713, 0.17379572987556458, 0.17379572987556458, 0.16762280464172363, 0.6704912185668945, 0.5477948188781738, 0.2804447412490845, 0.17186789214611053, 0.33957093954086304, 0.16978546977043152, 0.5093563795089722, 0.44453054666519165, 0.29129481315612793, 0.26387882232666016, 0.6489129662513733, 0.24531114101409912, 0.10592086613178253, 0.5645437240600586, 0.21597415208816528, 0.2194482684135437, 0.02505997009575367, 0.9522788524627686, 0.02505997009575367, 0.628074586391449, 0.26250606775283813, 0.10973118245601654, 0.9140190482139587, 0.0184030681848526, 0.06747791916131973, 0.3800286650657654, 0.26739922165870667, 0.3532121479511261, 0.7507795691490173, 0.16479279100894928, 0.08495528995990753, 0.9690336585044861, 0.8821724057197571, 0.07777338474988937, 0.03999774158000946, 0.3428417444229126, 0.1714208722114563, 0.3428417444229126, 0.9824290871620178, 0.6555114984512329, 0.1705363392829895, 0.17371651530265808, 0.18922492861747742, 0.287026584148407, 0.5240892767906189, 0.8668771386146545, 0.061732158064842224, 0.07223976403474808, 0.17265261709690094, 0.6906104683876038, 0.16324494779109955, 0.10882996022701263, 0.7315791845321655, 0.21666088700294495, 0.2730279564857483, 0.5108264684677124, 0.8778130412101746, 0.07479124516248703, 0.047236572951078415, 0.34431320428848267, 0.34431320428848267, 0.17215660214424133, 0.5198153853416443, 0.1732717901468277, 0.3465435802936554, 0.10727473348379135, 0.2524111568927765, 0.6415449976921082, 0.028651133179664612, 0.9741384983062744, 0.028651133179664612, 0.08674139529466629, 0.2313103973865509, 0.6823656558990479, 0.8294706344604492, 0.09880121052265167, 0.07352647930383682, 0.03343212604522705, 0.9695315957069397, 0.9664371609687805, 0.029736528173089027, 0.7016311883926392, 0.3508155941963196, 0.9431819915771484, 0.26911383867263794, 0.3374601900577545, 0.3935255706310272, 0.16886861622333527, 0.16886861622333527, 0.6754744648933411, 0.04293239116668701, 0.9302017688751221, 0.028621593490242958, 0.17150579392910004, 0.5145174264907837, 0.17150579392910004, 0.34241992235183716, 0.17120996117591858, 0.5136298537254333, 0.757736086845398, 0.09865641593933105, 0.14387394487857819, 0.7013341188430786, 0.17533352971076965, 0.8648568987846375, 0.10345178097486496, 0.031035535037517548, 0.9221912622451782, 0.04885781556367874, 0.030536135658621788, 0.9809907674789429, 0.020872144028544426, 0.4735967218875885, 0.37008124589920044, 0.15661409497261047, 0.4147018492221832, 0.3083888590335846, 0.27673840522766113, 0.23268583416938782, 0.7025903463363647, 0.0649707168340683, 0.04986633360385895, 0.861327588558197, 0.09066606312990189, 0.6560066342353821, 0.2832047641277313, 0.06077021360397339, 0.1184772327542305, 0.2716805636882782, 0.610770583152771, 0.0920565202832222, 0.6606825590133667, 0.24713635444641113, 0.040798258036375046, 0.040798258036375046, 0.9383599162101746, 0.17037510871887207, 0.6815004348754883, 0.17037510871887207, 0.7015412449836731, 0.35077062249183655, 0.8795658349990845, 0.17591316998004913, 0.3947603106498718, 0.23169109225273132, 0.37336206436157227, 0.5089617371559143, 0.3112093508243561, 0.17952634394168854, 0.5814847350120544, 0.24606429040431976, 0.17258942127227783], \"Term\": [\"'Altho\", \"'Altho\", \"'Give\", \"'Give\", \"'Sir\", \"'Sir\", \"'Sir\", \"'That\", \"'That\", \"'That\", \"'The\", \"'The\", \"'The\", \"18,000\", \"18,000\", \"800,000\", \"800,000\", \"Accompt\", \"Accompt\", \"Accompt\", \"Accompts\", \"Accompts\", \"Accompts\", \"Account\", \"Account\", \"Account\", \"Action\", \"Action\", \"Action\", \"Address\", \"Address\", \"Address\", \"After\", \"After\", \"After\", \"Aislabie\", \"Aislabie\", \"Allies\", \"Allies\", \"Allies\", \"American\", \"Army\", \"Army\", \"Army\", \"Arrests\", \"Bail\", \"Bail\", \"Barnard\", \"Barnard\", \"Bill\", \"Bill\", \"Bill\", \"Bloodshed\", \"Bloodshed\", \"Bloodshed\", \"Bolingbroke\", \"Bolingbroke\", \"Bottoms\", \"Bottoms\", \"Bottoms\", \"Britain\", \"Britain\", \"Britain\", \"Broderick\", \"Broderick\", \"Burton\", \"Burton\", \"Callicoes\", \"Callicoes\", \"Calumnies\", \"Calumnies\", \"Carmarthen\", \"Carmarthen\", \"Case\", \"Case\", \"Case\", \"Chambers\", \"Chambers\", \"Chambers\", \"ChiefJustice\", \"ChiefJustice\", \"ChiefJustice\", \"Clients\", \"Clients\", \"Cloathing\", \"Cloathing\", \"Cloathing\", \"Clouds\", \"Clouds\", \"Commissioners\", \"Commissioners\", \"Commissioners\", \"Commitments\", \"Committee\", \"Committee\", \"Committee\", \"CommonLaw\", \"CommonLaw\", \"CommonLaw\", \"Commons\", \"Commons\", \"Commons\", \"Company\", \"Company\", \"Company\", \"Compton\", \"Conference\", \"Conference\", \"Conference\", \"Consumption\", \"Consumption\", \"Consumption\", \"Conventicle\", \"Conventicles\", \"Conventicles\", \"Corpus\", \"Corpus\", \"Corpus\", \"Country\", \"Country\", \"Country\", \"Craggs\", \"Craggs\", \"Craggs\", \"Crown\", \"Crown\", \"Crown\", \"Danby\", \"Danby\", \"Danby\", \"Debentures\", \"Debentures\", \"Debentures\", \"Decrease\", \"Demolition\", \"Devices\", \"Devices\", \"Directors\", \"Directors\", \"Directors\", \"Discoverer\", \"Discoverer\", \"Discoverer\", \"Disgust\", \"Disgust\", \"Disgust\", \"Duke\", \"Duke\", \"Duke\", \"Dust\", \"Dust\", \"Duties\", \"Duties\", \"Duties\", \"England\", \"England\", \"England\", \"Error\", \"Error\", \"Error\", \"Extraordinaries\", \"Extraordinaries\", \"Farrer\", \"Farrer\", \"Fool\", \"Fool\", \"Forage\", \"Forage\", \"Forage\", \"Formation\", \"GEORGE\", \"General\", \"General\", \"General\", \"Gentleman\", \"Gentleman\", \"Gentleman\", \"Gentlemen\", \"Gentlemen\", \"Gentlemen\", \"Government\", \"Government\", \"Government\", \"Great\", \"Great\", \"Great\", \"GreatBritain\", \"GreatBritain\", \"GreatBritain\", \"Habeas\", \"Habeas\", \"Habeas\", \"Hallifax\", \"Hallifax\", \"Hanmer\", \"Hanmer\", \"Hanmer\", \"Hanover\", \"Hanover\", \"Hanover\", \"Harwich\", \"Harwich\", \"Hereupon\", \"Hereupon\", \"Hereupon\", \"HighSteward\", \"HighSteward\", \"HighTreason\", \"HighTreason\", \"HighTreason\", \"House\", \"House\", \"House\", \"Houses\", \"Houses\", \"Houses\", \"Howard\", \"Hungerford\", \"Hungerford\", \"Hungerford\", \"Hutcheson\", \"Hutcheson\", \"Imprests\", \"Imprests\", \"Interest\", \"Interest\", \"Interest\", \"Judges\", \"Judges\", \"Judges\", \"Judgment\", \"Judgment\", \"Judgment\", \"Judicature\", \"Judicature\", \"Judicature\", \"Kinds\", \"King'sBench\", \"King'sBench\", \"King'sBench\", \"Kingdom\", \"Kingdom\", \"Kingdom\", \"Labourers\", \"Landed\", \"Landed\", \"Landed\", \"Laws\", \"Laws\", \"Laws\", \"Lechmere\", \"Lechmere\", \"Lechmere\", \"Liquors\", \"Liquors\", \"Liquors\", \"Lockhart\", \"Lockhart\", \"Lord\", \"Lord\", \"Lord\", \"LordChancellor\", \"LordChancellor\", \"LordChancellor\", \"Lords\", \"Lords\", \"Lords\", \"Lordships\", \"Lordships\", \"Lordships\", \"Lorrain\", \"Lorrain\", \"Lorrain\", \"Lowndes\", \"Lowndes\", \"Lutwyche\", \"Luxury\", \"MajorGeneral\", \"MajorGeneral\", \"Market\", \"Market\", \"Market\", \"Merchandizes\", \"Merchandizes\", \"Merchandizes\", \"Methuen\", \"Methuen\", \"Mobs\", \"Mobs\", \"Molesworth\", \"Molesworth\", \"Money\", \"Money\", \"Money\", \"Monk\", \"Monmouth\", \"Monmouth\", \"Morality\", \"Morality\", \"Motion\", \"Motion\", \"Motion\", \"Nation\", \"Nation\", \"Nation\", \"Newgate\", \"Newgate\", \"Newgate\", \"Noes\", \"Noes\", \"Noes\", \"Oates\", \"Oates\", \"Odium\", \"Odium\", \"Papists\", \"Papists\", \"Papists\", \"Part\", \"Part\", \"Part\", \"Peace\", \"Peace\", \"Peace\", \"Pembrokeshire\", \"Pengelly\", \"People\", \"People\", \"People\", \"Person\", \"Person\", \"Person\", \"Persons\", \"Persons\", \"Persons\", \"Plot\", \"Plot\", \"Plot\", \"Plumer\", \"Plumer\", \"PollBill\", \"PollBill\", \"PollBill\", \"PollTax\", \"Popery\", \"Popery\", \"Popery\", \"Popish\", \"Popish\", \"Popish\", \"Portland\", \"Portland\", \"Portugal\", \"Portugal\", \"Portugal\", \"Power\", \"Power\", \"Power\", \"Powle\", \"Price\", \"Price\", \"Price\", \"Proceedings\", \"Proceedings\", \"Proceedings\", \"Protestant\", \"Protestant\", \"Protestant\", \"Queen\", \"Queen\", \"Queen\", \"Reason\", \"Reason\", \"Reason\", \"Reduction\", \"Reduction\", \"Reduction\", \"Regiments\", \"Regiments\", \"Regiments\", \"Religion\", \"Religion\", \"Religion\", \"Resolved\", \"Resolved\", \"Resolved\", \"Retail\", \"Retail\", \"Retail\", \"Reversal\", \"Reversal\", \"Right\", \"Right\", \"Right\", \"Ruins\", \"Ruins\", \"Ruins\", \"Russel\", \"Russel\", \"Russel\", \"Sake\", \"Sake\", \"Scheme\", \"Scheme\", \"Scheme\", \"Scotland\", \"Scotland\", \"Scotland\", \"Service\", \"Service\", \"Service\", \"Seville\", \"Seville\", \"Seymour\", \"Seymour\", \"Seymour\", \"Shape\", \"Shippen\", \"Shippen\", \"Shippen\", \"SinkingFund\", \"SinkingFund\", \"SinkingFund\", \"Sloper\", \"Sloper\", \"Smugglers\", \"Smuggling\", \"Smuggling\", \"Sollicitations\", \"Sollicitations\", \"Somers\", \"Somers\", \"Somers\", \"Sort\", \"Sort\", \"Sort\", \"Sorts\", \"Sorts\", \"Sorts\", \"Spain\", \"Spain\", \"Spain\", \"Spaniards\", \"Spaniards\", \"Spaniards\", \"Speaker\", \"Speaker\", \"Speaker\", \"Spirituous\", \"Spirituous\", \"Spirituous\", \"Standing\", \"Standing\", \"Standing\", \"Stanhope\", \"Stanhope\", \"Stanhope\", \"Steele\", \"Steele\", \"Steele\", \"Strafford\", \"Strafford\", \"Subjects\", \"Subjects\", \"Subjects\", \"Sufficiency\", \"Sufficiency\", \"Sufficiency\", \"SugarColonies\", \"SugarColonies\", \"Surely\", \"Surely\", \"Sweden\", \"Sweden\", \"Sweden\", \"Taunton\", \"Taunton\", \"Taxes\", \"Taxes\", \"Taxes\", \"That\", \"That\", \"That\", \"Thing\", \"Thing\", \"Thing\", \"Time\", \"Time\", \"Time\", \"Trade\", \"Trade\", \"Trade\", \"Trader\", \"Trader\", \"Trevor\", \"Trevor\", \"Trial\", \"Trial\", \"Trial\", \"Triennial\", \"Triennial\", \"Triennial\", \"Villainy\", \"Villainy\", \"Villainy\", \"Voices\", \"Voices\", \"Voices\", \"Walpole\", \"Walpole\", \"Walpole\", \"Writ\", \"Writ\", \"Writ\", \"Year\", \"Year\", \"Year\", \"Yeas\", \"Yeas\", \"Yeas\", \"abolishing\", \"abolishing\", \"agreed\", \"agreed\", \"agreed\", \"allay\", \"allay\", \"also\", \"also\", \"also\", \"always\", \"always\", \"always\", \"annoy\", \"annoy\", \"annoy\", \"artificial\", \"artificial\", \"assessed\", \"assessed\", \"assessed\", \"backed\", \"backed\", \"behav\", \"behav\", \"behav\", \"behold\", \"behold\", \"behold\", \"believe\", \"believe\", \"believe\", \"blackest\", \"blackest\", \"blackest\", \"brought\", \"brought\", \"brought\", \"cancelled\", \"cancelled\", \"certainly\", \"certainly\", \"certainly\", \"cheap\", \"cheap\", \"cheap\", \"cited\", \"cited\", \"connived\", \"connived\", \"convinced\", \"convinced\", \"convinced\", \"could\", \"could\", \"could\", \"countenancing\", \"countenancing\", \"countenancing\", \"courted\", \"courted\", \"deliberately\", \"deliberately\", \"depress\", \"depress\", \"depress\", \"discussed\", \"discussed\", \"doth\", \"doth\", \"doth\", \"dwell\", \"dwell\", \"dwell\", \"even\", \"even\", \"even\", \"ever\", \"ever\", \"ever\", \"every\", \"every\", \"every\", \"first\", \"first\", \"first\", \"fore\", \"fore\", \"fore\", \"general\", \"general\", \"general\", \"given\", \"given\", \"given\", \"good\", \"good\", \"good\", \"grand\", \"grand\", \"grand\", \"granted\", \"granted\", \"granted\", \"groans\", \"groans\", \"harmless\", \"harmless\", \"harmless\", \"hath\", \"hath\", \"hath\", \"hears\", \"honourable\", \"honourable\", \"honourable\", \"hundred\", \"hundred\", \"hundred\", \"impeached\", \"impeached\", \"impeached\", \"imported\", \"imported\", \"imported\", \"impoverished\", \"impoverished\", \"independent\", \"independent\", \"independent\", \"indicted\", \"indicted\", \"intreat\", \"intreat\", \"intreat\", \"know\", \"know\", \"know\", \"laid\", \"laid\", \"laid\", \"last\", \"last\", \"last\", \"lasts\", \"lasts\", \"lasts\", \"late\", \"late\", \"late\", \"least\", \"least\", \"least\", \"legislative\", \"legislative\", \"loading\", \"loses\", \"loses\", \"loses\", \"mainly\", \"mainly\", \"many\", \"many\", \"many\", \"merited\", \"merited\", \"merited\", \"might\", \"might\", \"might\", \"much\", \"much\", \"much\", \"necessary\", \"necessary\", \"necessary\", \"necessity\", \"necessity\", \"necessity\", \"never\", \"never\", \"never\", \"numerous\", \"numerous\", \"numerous\", \"order\", \"order\", \"order\", \"ought\", \"ought\", \"ought\", \"overturned\", \"perhaps\", \"perhaps\", \"perhaps\", \"perpetuated\", \"perpetuated\", \"perpetuated\", \"plundered\", \"present\", \"present\", \"present\", \"presented\", \"presented\", \"presented\", \"proposed\", \"proposed\", \"proposed\", \"proroguing\", \"proroguing\", \"pursuant\", \"pursuant\", \"pursuant\", \"read\", \"read\", \"read\", \"really\", \"really\", \"really\", \"reciting\", \"reciting\", \"reciting\", \"recruit\", \"recruit\", \"recruit\", \"reported\", \"reported\", \"reported\", \"reports\", \"reports\", \"reports\", \"resolv\", \"resolv\", \"resolv\", \"respect\", \"respect\", \"respect\", \"reversed\", \"reversed\", \"ridiculous\", \"ridiculous\", \"scarcely\", \"scarcely\", \"selfish\", \"several\", \"several\", \"several\", \"shipped\", \"shipped\", \"shipped\", \"shou\", \"shou\", \"shou\", \"specify\", \"specify\", \"specify\", \"spirited\", \"spirited\", \"spirited\", \"spoke\", \"spoke\", \"spoke\", \"substitute\", \"substitute\", \"suppose\", \"suppose\", \"suppose\", \"surely\", \"surely\", \"surely\", \"surprised\", \"surprised\", \"take\", \"take\", \"take\", \"taken\", \"taken\", \"taken\", \"thing\", \"thing\", \"thing\", \"things\", \"things\", \"things\", \"think\", \"think\", \"think\", \"thousand\", \"thousand\", \"thousand\", \"time\", \"time\", \"time\", \"traiterous\", \"traiterous\", \"traiterous\", \"unlikely\", \"unlikely\", \"unlikely\", \"unruly\", \"unruly\", \"unthinking\", \"unthinking\", \"whole\", \"whole\", \"whole\", \"without\", \"without\", \"without\", \"would\", \"would\", \"would\"]}, \"R\": 30, \"lambda.step\": 0.01, \"plot.opts\": {\"xlab\": \"PC1\", \"ylab\": \"PC2\"}, \"topic.order\": [5, 1, 3, 2, 4]};\n",
       "\n",
       "function LDAvis_load_lib(url, callback){\n",
       "  var s = document.createElement('script');\n",
       "  s.src = url;\n",
       "  s.async = true;\n",
       "  s.onreadystatechange = s.onload = callback;\n",
       "  s.onerror = function(){console.warn(\"failed to load library \" + url);};\n",
       "  document.getElementsByTagName(\"head\")[0].appendChild(s);\n",
       "}\n",
       "\n",
       "if(typeof(LDAvis) !== \"undefined\"){\n",
       "   // already loaded: just create the visualization\n",
       "   !function(LDAvis){\n",
       "       new LDAvis(\"#\" + \"ldavis_el109491121381141762761793057\", ldavis_el109491121381141762761793057_data);\n",
       "   }(LDAvis);\n",
       "}else if(typeof define === \"function\" && define.amd){\n",
       "   // require.js is available: use it to load d3/LDAvis\n",
       "   require.config({paths: {d3: \"https://cdnjs.cloudflare.com/ajax/libs/d3/3.5.5/d3.min\"}});\n",
       "   require([\"d3\"], function(d3){\n",
       "      window.d3 = d3;\n",
       "      LDAvis_load_lib(\"https://cdn.rawgit.com/bmabey/pyLDAvis/files/ldavis.v1.0.0.js\", function(){\n",
       "        new LDAvis(\"#\" + \"ldavis_el109491121381141762761793057\", ldavis_el109491121381141762761793057_data);\n",
       "      });\n",
       "    });\n",
       "}else{\n",
       "    // require.js not available: dynamically load d3 & LDAvis\n",
       "    LDAvis_load_lib(\"https://cdnjs.cloudflare.com/ajax/libs/d3/3.5.5/d3.min.js\", function(){\n",
       "         LDAvis_load_lib(\"https://cdn.rawgit.com/bmabey/pyLDAvis/files/ldavis.v1.0.0.js\", function(){\n",
       "                 new LDAvis(\"#\" + \"ldavis_el109491121381141762761793057\", ldavis_el109491121381141762761793057_data);\n",
       "            })\n",
       "         });\n",
       "}\n",
       "</script>"
      ],
      "text/plain": [
       "<IPython.core.display.HTML object>"
      ]
     },
     "execution_count": 26,
     "metadata": {},
     "output_type": "execute_result"
    }
   ],
   "source": [
    "# visualize same as before\n",
    "\n",
    "import pyLDAvis\n",
    "import pyLDAvis.gensim\n",
    "vis = pyLDAvis.gensim.prepare(proceedings_lda, proceedings_corp, proceedings_dict)\n",
    "pyLDAvis.display(vis)"
   ]
  },
  {
   "cell_type": "code",
   "execution_count": 27,
   "metadata": {},
   "outputs": [],
   "source": [
    "# the actual fitted model also has some methods for extracting topic and term information.\n",
    "#dir(proceedings_lda)"
   ]
  },
  {
   "cell_type": "code",
   "execution_count": 28,
   "metadata": {},
   "outputs": [],
   "source": [
    "# it also has a built pickler\n",
    "proceedings_lda.save('vanilla_model1')"
   ]
  },
  {
   "cell_type": "code",
   "execution_count": 29,
   "metadata": {},
   "outputs": [
    {
     "data": {
      "text/plain": [
       "[(0,\n",
       "  '0.016*\"House\" + 0.011*\"Lords\" + 0.011*\"Commons\" + 0.010*\"That\" + 0.007*\"Bill\" + 0.006*\"would\" + 0.005*\"hath\" + 0.004*\"time\" + 0.004*\"Lordships\" + 0.004*\"\\'That\"'),\n",
       " (1,\n",
       "  '0.005*\"House\" + 0.004*\"would\" + 0.002*\"Commons\" + 0.002*\"That\" + 0.002*\"Bill\" + 0.002*\"People\" + 0.002*\"Time\" + 0.002*\"might\" + 0.002*\"Gentlemen\" + 0.002*\"\\'That\"'),\n",
       " (2,\n",
       "  '0.018*\"House\" + 0.012*\"That\" + 0.006*\"Commons\" + 0.006*\"\\'That\" + 0.006*\"Bill\" + 0.006*\"Committee\" + 0.006*\"would\" + 0.005*\"Year\" + 0.005*\"several\" + 0.004*\"read\"'),\n",
       " (3,\n",
       "  '0.004*\"House\" + 0.003*\"would\" + 0.003*\"That\" + 0.002*\"much\" + 0.002*\"think\" + 0.002*\"Bill\" + 0.002*\"Time\" + 0.002*\"without\" + 0.002*\"Nation\" + 0.002*\"People\"'),\n",
       " (4,\n",
       "  '0.010*\"would\" + 0.009*\"House\" + 0.007*\"People\" + 0.006*\"Nation\" + 0.006*\"Time\" + 0.006*\"think\" + 0.006*\"every\" + 0.006*\"present\" + 0.006*\"much\" + 0.006*\"Gentleman\"')]"
      ]
     },
     "execution_count": 29,
     "metadata": {},
     "output_type": "execute_result"
    }
   ],
   "source": [
    "proceedings_lda.print_topics()"
   ]
  },
  {
   "cell_type": "code",
   "execution_count": 30,
   "metadata": {},
   "outputs": [
    {
     "data": {
      "text/plain": [
       "'0.018*\"House\" + 0.012*\"That\" + 0.006*\"Commons\" + 0.006*\"\\'That\" + 0.006*\"Bill\" + 0.006*\"Committee\" + 0.006*\"would\" + 0.005*\"Year\" + 0.005*\"several\" + 0.004*\"read\"'"
      ]
     },
     "execution_count": 30,
     "metadata": {},
     "output_type": "execute_result"
    }
   ],
   "source": [
    "proceedings_lda.print_topic(2)"
   ]
  },
  {
   "cell_type": "code",
   "execution_count": null,
   "metadata": {},
   "outputs": [],
   "source": []
  },
  {
   "cell_type": "markdown",
   "metadata": {},
   "source": [
    "***\n",
    "***\n",
    "\n",
    "### 4. DYNAMIC TOPIC MODELS\n",
    "\n",
    "Here's a key intuition:\n",
    "\n",
    "1. Are you using topic models to explain some outcome (STM)?\n",
    "2. Is the topic model itself the outcome worth explaining? In this case, DTM makes sense.\n",
    "\n",
    "https://radimrehurek.com/gensim/models/ldaseqmodel.html\n",
    "\n",
    "All we need for gensim is a split of which docs into which time periods.\n",
    "\n",
    "<img src=\"images/dtm_plates.png\" style=\"width: 500px\" />\n",
    "\n",
    "**DOCUMENTS MUST BE IN CHRONOLOGICAL ORDER**\n",
    "\n",
    "I did a modified version of monarch-to-monarch splits. For me: pre-Glorious Revolution, post-Glorious Revoution to Queen Anne and Treaty of Union, and then from her inauguration to the South Sea Bubble, and then post-South Sea Bubble.\n",
    "\n",
    "<font color=purple>\n",
    "    \n",
    "#### This will take a while. Sometimes several days. GET A RCE ACCOUNT.\n",
    "\n",
    "https://github.com/RaRe-Technologies/gensim/issues/1545"
   ]
  },
  {
   "cell_type": "code",
   "execution_count": 31,
   "metadata": {},
   "outputs": [
    {
     "data": {
      "text/plain": [
       "28"
      ]
     },
     "execution_count": 31,
     "metadata": {},
     "output_type": "execute_result"
    }
   ],
   "source": [
    "len(df_texts.date.tolist()[:28])"
   ]
  },
  {
   "cell_type": "code",
   "execution_count": 32,
   "metadata": {},
   "outputs": [
    {
     "data": {
      "text/plain": [
       "16"
      ]
     },
     "execution_count": 32,
     "metadata": {},
     "output_type": "execute_result"
    }
   ],
   "source": [
    "len(df_texts.date.tolist()[28:44])"
   ]
  },
  {
   "cell_type": "code",
   "execution_count": 33,
   "metadata": {},
   "outputs": [
    {
     "data": {
      "text/plain": [
       "35"
      ]
     },
     "execution_count": 33,
     "metadata": {},
     "output_type": "execute_result"
    }
   ],
   "source": [
    "len(df_texts.date.tolist()[44:79])"
   ]
  },
  {
   "cell_type": "code",
   "execution_count": null,
   "metadata": {},
   "outputs": [
    {
     "data": {
      "text/plain": [
       "31"
      ]
     },
     "execution_count": 34,
     "metadata": {},
     "output_type": "execute_result"
    }
   ],
   "source": [
    "len(df_texts.date.tolist()[80:])"
   ]
  },
  {
   "cell_type": "code",
   "execution_count": null,
   "metadata": {},
   "outputs": [],
   "source": [
    "%%time\n",
    "from gensim.models.ldaseqmodel import LdaSeqModel\n",
    "\n",
    "proceedings_dtm1 = LdaSeqModel(corpus = proceedings_corp,\n",
    "                               id2word = proceedings_dict,\n",
    "                               time_slice = [28,16,35,31],\n",
    "                               num_topics=4,\n",
    "                               random_state = 1\n",
    "                              )"
   ]
  },
  {
   "cell_type": "code",
   "execution_count": null,
   "metadata": {},
   "outputs": [],
   "source": [
    "# pickle it\n",
    "proceedings_dtm1.save(\"proceedings_dtm1\")"
   ]
  },
  {
   "cell_type": "code",
   "execution_count": null,
   "metadata": {},
   "outputs": [],
   "source": [
    "proceedings_dtm1.load('proceedings_dtm1')"
   ]
  },
  {
   "cell_type": "code",
   "execution_count": null,
   "metadata": {},
   "outputs": [],
   "source": [
    "#dir(proceedings_dtm1)"
   ]
  },
  {
   "cell_type": "markdown",
   "metadata": {},
   "source": [
    "<font color=darkblue>\n",
    "    \n",
    "Our results are in two interesting dimensions:\n",
    "\n",
    "1. Prevalance of topics over time.\n",
    "2. Evolution of particular topics."
   ]
  },
  {
   "cell_type": "code",
   "execution_count": null,
   "metadata": {},
   "outputs": [],
   "source": [
    "# we can use the same static visualizer as before and ldaseqmodel has a method for us to pop out what we need:\n",
    "\n",
    "doc_topic,topic_term,doc_lengths,term_frequency,vocab = proceedings_dtm1.dtm_vis(time=0, corpus=proceedings_corp)\n",
    "\n",
    "vis_wrapper = pyLDAvis.prepare(topic_term_dists=topic_term, doc_topic_dists=doc_topic, doc_lengths=doc_lengths, vocab=vocab, term_frequency=term_frequency)\n",
    "\n",
    "pyLDAvis.display(vis_wrapper)"
   ]
  },
  {
   "cell_type": "code",
   "execution_count": null,
   "metadata": {},
   "outputs": [],
   "source": [
    "# for time period 2\n",
    "doc_topic,topic_term,doc_lengths,term_frequency,vocab = proceedings_dtm1.dtm_vis(time=1, corpus=proceedings_corp)\n",
    "\n",
    "vis_wrapper = pyLDAvis.prepare(topic_term_dists=topic_term, doc_topic_dists=doc_topic, doc_lengths=doc_lengths, vocab=vocab, term_frequency=term_frequency)\n",
    "\n",
    "pyLDAvis.display(vis_wrapper)"
   ]
  },
  {
   "cell_type": "code",
   "execution_count": null,
   "metadata": {},
   "outputs": [],
   "source": []
  },
  {
   "cell_type": "code",
   "execution_count": null,
   "metadata": {},
   "outputs": [],
   "source": []
  },
  {
   "cell_type": "code",
   "execution_count": null,
   "metadata": {},
   "outputs": [],
   "source": []
  },
  {
   "cell_type": "code",
   "execution_count": null,
   "metadata": {},
   "outputs": [],
   "source": [
    "# doc_topics checks the topic proportions on documents already trained on. accecpts document number as input\n",
    "\n",
    "list_topic_proportions = []\n",
    "\n",
    "for i in range(len(df_texts.date)):\n",
    "    list_topic_proportions.append(proceedings_dtm1.doc_topics(i))"
   ]
  },
  {
   "cell_type": "code",
   "execution_count": null,
   "metadata": {},
   "outputs": [],
   "source": [
    "topic_dist_df = pd.DataFrame(list_topic_proportions,columns=['religion','governance','war','finance'])"
   ]
  },
  {
   "cell_type": "code",
   "execution_count": null,
   "metadata": {},
   "outputs": [],
   "source": [
    "topic_dist_df.head()"
   ]
  },
  {
   "cell_type": "code",
   "execution_count": null,
   "metadata": {},
   "outputs": [],
   "source": [
    "#from lab 8"
   ]
  },
  {
   "cell_type": "code",
   "execution_count": null,
   "metadata": {},
   "outputs": [],
   "source": [
    "df_texts_topics = topic_dist_df.join(df_texts)\n",
    "df_texts_topics.head()"
   ]
  },
  {
   "cell_type": "code",
   "execution_count": null,
   "metadata": {},
   "outputs": [],
   "source": [
    "import matplotlib\n",
    "import matplotlib.pyplot as plt\n",
    "\n",
    "plt.figure(figsize=(22, 5))\n",
    "\n",
    "plt.plot(df_texts_topics.date,df_texts_topics['religion'],color='blue')\n",
    "plt.plot(df_texts_topics.date,df_texts_topics['governance'],color='red')\n",
    "plt.plot(df_texts_topics.date,df_texts_topics['war'],color='purple')\n",
    "plt.plot(df_texts_topics.date,df_texts_topics['finance'],color='green')\n",
    "\n",
    "plt.xticks(df_texts.date[::], rotation=45,size=7)\n",
    "plt.title('topic proportions over time')\n",
    "plt.legend(['religion','governance','war','finance'])\n",
    "plt.grid()\n",
    "plt.show()"
   ]
  },
  {
   "cell_type": "markdown",
   "metadata": {},
   "source": [
    "<font color = darkgreen>\n",
    "    \n",
    "#### On a future date, below should become its own function."
   ]
  },
  {
   "cell_type": "code",
   "execution_count": null,
   "metadata": {},
   "outputs": [],
   "source": [
    "proceedings_dtm1.print_topic_times(topic=0) # evolution of 1st topic"
   ]
  },
  {
   "cell_type": "code",
   "execution_count": null,
   "metadata": {},
   "outputs": [],
   "source": [
    "list_lists = []\n",
    "\n",
    "for proceeding in proceedings_dtm1.print_topic_times(topic=0):\n",
    "        list_words = []\n",
    "        list_freqs = []\n",
    "        \n",
    "        for word, freq in proceeding:\n",
    "            list_words.append(word)\n",
    "            list_freqs.append(freq)\n",
    "            \n",
    "        list_lists.append(list_words)\n",
    "        list_lists.append(list_freqs)"
   ]
  },
  {
   "cell_type": "code",
   "execution_count": null,
   "metadata": {},
   "outputs": [],
   "source": [
    "topic0_df = pd.DataFrame(list_lists[:2]) \n",
    "topic0_df = topic0_df.T\n",
    "topic0_df = topic0_df.rename(columns = {0:'token',1:'phi1'})\n",
    "\n",
    "topic1_df = pd.DataFrame(list_lists[2:4]) \n",
    "topic1_df = topic1_df.T\n",
    "topic1_df = topic1_df.rename(columns = {0:'token',1:'phi2'})\n",
    "\n",
    "topic2_df = pd.DataFrame(list_lists[4:6]) \n",
    "topic2_df = topic2_df.T\n",
    "topic2_df = topic2_df.rename(columns = {0:'token',1:'phi3'})\n",
    "\n",
    "topic3_df = pd.DataFrame(list_lists[6:]) \n",
    "topic3_df = topic3_df.T\n",
    "topic3_df = topic3_df.rename(columns = {0:'token',1:'phi4'})"
   ]
  },
  {
   "cell_type": "code",
   "execution_count": null,
   "metadata": {},
   "outputs": [],
   "source": [
    "dfList = [topic0_df,topic1_df,topic2_df,topic3_df]"
   ]
  },
  {
   "cell_type": "code",
   "execution_count": null,
   "metadata": {},
   "outputs": [],
   "source": [
    "from functools import reduce\n",
    "period0_df = reduce(lambda x, y: pd.merge(x, y, on = 'token'), dfList)\n",
    "period0_df"
   ]
  },
  {
   "cell_type": "code",
   "execution_count": null,
   "metadata": {},
   "outputs": [],
   "source": []
  },
  {
   "cell_type": "code",
   "execution_count": null,
   "metadata": {},
   "outputs": [],
   "source": [
    "period0_df.plot(x=period0_df.token,figsize=(22,15),title='evolution of topic1')"
   ]
  },
  {
   "cell_type": "code",
   "execution_count": null,
   "metadata": {},
   "outputs": [],
   "source": [
    "period0_df.plot(x=period0_df.token,kind='bar',figsize=(22,15),title='evolution of topic1')"
   ]
  },
  {
   "cell_type": "code",
   "execution_count": null,
   "metadata": {},
   "outputs": [],
   "source": []
  },
  {
   "cell_type": "code",
   "execution_count": null,
   "metadata": {},
   "outputs": [],
   "source": []
  },
  {
   "cell_type": "code",
   "execution_count": null,
   "metadata": {},
   "outputs": [],
   "source": []
  }
 ],
 "metadata": {
  "kernelspec": {
   "display_name": "Python 3",
   "language": "python",
   "name": "python3"
  },
  "language_info": {
   "codemirror_mode": {
    "name": "ipython",
    "version": 3
   },
   "file_extension": ".py",
   "mimetype": "text/x-python",
   "name": "python",
   "nbconvert_exporter": "python",
   "pygments_lexer": "ipython3",
   "version": "3.6.4"
  }
 },
 "nbformat": 4,
 "nbformat_minor": 2
}
