{
 "cells": [
  {
   "cell_type": "code",
   "execution_count": 2,
   "metadata": {},
   "outputs": [
    {
     "name": "stderr",
     "output_type": "stream",
     "text": [
      "also installing the dependencies ‘Rttf2pt1’, ‘statnet.common’, ‘RcppEigen’, ‘reticulate’, ‘modeltools’, ‘NLP’, ‘cli’, ‘praise’, ‘htmlwidgets’, ‘crosstalk’, ‘extrafont’, ‘SnowballC’, ‘sna’, ‘network’, ‘ggrepel’, ‘RcppParallel’, ‘RSpectra’, ‘fastmatch’, ‘XML’, ‘spacyr’, ‘RcppArmadillo’, ‘lda’, ‘proxy’, ‘topicmodels’, ‘tm’, ‘slam’, ‘testthat’, ‘DT’, ‘ca’\n",
      "\n",
      "Warning message in install.packages(\"quanteda\", dependencies = TRUE):\n",
      "“installation of package ‘Rttf2pt1’ had non-zero exit status”Warning message in install.packages(\"quanteda\", dependencies = TRUE):\n",
      "“installation of package ‘statnet.common’ had non-zero exit status”Warning message in install.packages(\"quanteda\", dependencies = TRUE):\n",
      "“installation of package ‘RcppEigen’ had non-zero exit status”Warning message in install.packages(\"quanteda\", dependencies = TRUE):\n",
      "“installation of package ‘reticulate’ had non-zero exit status”Warning message in install.packages(\"quanteda\", dependencies = TRUE):\n",
      "“installation of package ‘SnowballC’ had non-zero exit status”Warning message in install.packages(\"quanteda\", dependencies = TRUE):\n",
      "“installation of package ‘network’ had non-zero exit status”Warning message in install.packages(\"quanteda\", dependencies = TRUE):\n",
      "“installation of package ‘ggrepel’ had non-zero exit status”Warning message in install.packages(\"quanteda\", dependencies = TRUE):\n",
      "“installation of package ‘RcppParallel’ had non-zero exit status”Warning message in install.packages(\"quanteda\", dependencies = TRUE):\n",
      "“installation of package ‘fastmatch’ had non-zero exit status”Warning message in install.packages(\"quanteda\", dependencies = TRUE):\n",
      "“installation of package ‘XML’ had non-zero exit status”Warning message in install.packages(\"quanteda\", dependencies = TRUE):\n",
      "“installation of package ‘RcppArmadillo’ had non-zero exit status”Warning message in install.packages(\"quanteda\", dependencies = TRUE):\n",
      "“installation of package ‘lda’ had non-zero exit status”Warning message in install.packages(\"quanteda\", dependencies = TRUE):\n",
      "“installation of package ‘proxy’ had non-zero exit status”Warning message in install.packages(\"quanteda\", dependencies = TRUE):\n",
      "“installation of package ‘slam’ had non-zero exit status”Warning message in install.packages(\"quanteda\", dependencies = TRUE):\n",
      "“installation of package ‘extrafont’ had non-zero exit status”Warning message in install.packages(\"quanteda\", dependencies = TRUE):\n",
      "“installation of package ‘sna’ had non-zero exit status”Warning message in install.packages(\"quanteda\", dependencies = TRUE):\n",
      "“installation of package ‘RSpectra’ had non-zero exit status”Warning message in install.packages(\"quanteda\", dependencies = TRUE):\n",
      "“installation of package ‘spacyr’ had non-zero exit status”Warning message in install.packages(\"quanteda\", dependencies = TRUE):\n",
      "“installation of package ‘tm’ had non-zero exit status”Warning message in install.packages(\"quanteda\", dependencies = TRUE):\n",
      "“installation of package ‘testthat’ had non-zero exit status”Warning message in install.packages(\"quanteda\", dependencies = TRUE):\n",
      "“installation of package ‘topicmodels’ had non-zero exit status”Warning message in install.packages(\"quanteda\", dependencies = TRUE):\n",
      "“installation of package ‘quanteda’ had non-zero exit status”Updating HTML index of packages in '.Library'\n",
      "Making 'packages.html' ... done\n",
      "also installing the dependencies ‘Rttf2pt1’, ‘statnet.common’, ‘RcppEigen’, ‘reticulate’, ‘abind’, ‘extrafont’, ‘sna’, ‘network’, ‘ggrepel’, ‘RcppParallel’, ‘RSpectra’, ‘fastmatch’, ‘XML’, ‘spacyr’, ‘proxy’, ‘magic’, ‘matrixStats’, ‘slam’, ‘lda’, ‘quanteda’, ‘quadprog’, ‘RcppArmadillo’, ‘igraph’, ‘SnowballC’, ‘tm’, ‘huge’, ‘clue’, ‘wordcloud’, ‘LDAvis’, ‘geometry’, ‘Rtsne’, ‘testthat’, ‘rsvd’\n",
      "\n",
      "Warning message in install.packages(\"stm\", dependencies = TRUE):\n",
      "“installation of package ‘Rttf2pt1’ had non-zero exit status”Warning message in install.packages(\"stm\", dependencies = TRUE):\n",
      "“installation of package ‘statnet.common’ had non-zero exit status”Warning message in install.packages(\"stm\", dependencies = TRUE):\n",
      "“installation of package ‘RcppEigen’ had non-zero exit status”Warning message in install.packages(\"stm\", dependencies = TRUE):\n",
      "“installation of package ‘reticulate’ had non-zero exit status”Warning message in install.packages(\"stm\", dependencies = TRUE):\n",
      "“installation of package ‘network’ had non-zero exit status”Warning message in install.packages(\"stm\", dependencies = TRUE):\n",
      "“installation of package ‘ggrepel’ had non-zero exit status”Warning message in install.packages(\"stm\", dependencies = TRUE):\n",
      "“installation of package ‘RcppParallel’ had non-zero exit status”Warning message in install.packages(\"stm\", dependencies = TRUE):\n",
      "“installation of package ‘fastmatch’ had non-zero exit status”Warning message in install.packages(\"stm\", dependencies = TRUE):\n",
      "“installation of package ‘XML’ had non-zero exit status”Warning message in install.packages(\"stm\", dependencies = TRUE):\n",
      "“installation of package ‘proxy’ had non-zero exit status”Warning message in install.packages(\"stm\", dependencies = TRUE):\n",
      "“installation of package ‘matrixStats’ had non-zero exit status”Warning message in install.packages(\"stm\", dependencies = TRUE):\n",
      "“installation of package ‘slam’ had non-zero exit status”Warning message in install.packages(\"stm\", dependencies = TRUE):\n",
      "“installation of package ‘lda’ had non-zero exit status”Warning message in install.packages(\"stm\", dependencies = TRUE):\n",
      "“installation of package ‘quadprog’ had non-zero exit status”Warning message in install.packages(\"stm\", dependencies = TRUE):\n",
      "“installation of package ‘RcppArmadillo’ had non-zero exit status”Warning message in install.packages(\"stm\", dependencies = TRUE):\n",
      "“installation of package ‘igraph’ had non-zero exit status”Warning message in install.packages(\"stm\", dependencies = TRUE):\n",
      "“installation of package ‘SnowballC’ had non-zero exit status”Warning message in install.packages(\"stm\", dependencies = TRUE):\n",
      "“installation of package ‘clue’ had non-zero exit status”Warning message in install.packages(\"stm\", dependencies = TRUE):\n",
      "“installation of package ‘Rtsne’ had non-zero exit status”Warning message in install.packages(\"stm\", dependencies = TRUE):\n",
      "“installation of package ‘testthat’ had non-zero exit status”Warning message in install.packages(\"stm\", dependencies = TRUE):\n",
      "“installation of package ‘extrafont’ had non-zero exit status”Warning message in install.packages(\"stm\", dependencies = TRUE):\n",
      "“installation of package ‘sna’ had non-zero exit status”Warning message in install.packages(\"stm\", dependencies = TRUE):\n",
      "“installation of package ‘RSpectra’ had non-zero exit status”Warning message in install.packages(\"stm\", dependencies = TRUE):\n",
      "“installation of package ‘spacyr’ had non-zero exit status”Warning message in install.packages(\"stm\", dependencies = TRUE):\n",
      "“installation of package ‘tm’ had non-zero exit status”Warning message in install.packages(\"stm\", dependencies = TRUE):\n",
      "“installation of package ‘huge’ had non-zero exit status”Warning message in install.packages(\"stm\", dependencies = TRUE):\n",
      "“installation of package ‘wordcloud’ had non-zero exit status”Warning message in install.packages(\"stm\", dependencies = TRUE):\n",
      "“installation of package ‘LDAvis’ had non-zero exit status”Warning message in install.packages(\"stm\", dependencies = TRUE):\n",
      "“installation of package ‘quanteda’ had non-zero exit status”Warning message in install.packages(\"stm\", dependencies = TRUE):\n",
      "“installation of package ‘geometry’ had non-zero exit status”Warning message in install.packages(\"stm\", dependencies = TRUE):\n",
      "“installation of package ‘stm’ had non-zero exit status”Updating HTML index of packages in '.Library'\n",
      "Making 'packages.html' ... done\n"
     ]
    },
    {
     "ename": "ERROR",
     "evalue": "Error in installed.packages(\"tidyverse\", dependencies = TRUE): unused argument (dependencies = TRUE)\n",
     "output_type": "error",
     "traceback": [
      "Error in installed.packages(\"tidyverse\", dependencies = TRUE): unused argument (dependencies = TRUE)\nTraceback:\n"
     ]
    }
   ],
   "source": [
    "#install.packages(\"rtools\")\n",
    "install.packages(\"quanteda\", dependencies=TRUE)\n",
    "install.packages(\"stm\", dependencies=TRUE)\n",
    "installed.packages(\"tidyverse\", dependencies=TRUE)\n",
    "installed.packages(\"RColorBrewer\", dependencies=TRUE)"
   ]
  },
  {
   "cell_type": "code",
   "execution_count": 3,
   "metadata": {},
   "outputs": [
    {
     "ename": "ERROR",
     "evalue": "Error in library(quanteda): there is no package called ‘quanteda’\n",
     "output_type": "error",
     "traceback": [
      "Error in library(quanteda): there is no package called ‘quanteda’\nTraceback:\n",
      "1. library(quanteda)",
      "2. stop(txt, domain = NA)"
     ]
    }
   ],
   "source": [
    "library(quanteda)"
   ]
  },
  {
   "cell_type": "code",
   "execution_count": 6,
   "metadata": {},
   "outputs": [
    {
     "name": "stderr",
     "output_type": "stream",
     "text": [
      "also installing the dependencies ‘Rttf2pt1’, ‘statnet.common’, ‘RcppEigen’, ‘reticulate’, ‘extrafont’, ‘SnowballC’, ‘sna’, ‘network’, ‘ggrepel’, ‘RcppParallel’, ‘RSpectra’, ‘fastmatch’, ‘XML’, ‘spacyr’, ‘RcppArmadillo’\n",
      "\n",
      "Warning message in install.packages(\"quanteda\", repos = \"http://cran.us.r-project.org\"):\n",
      "“installation of package ‘Rttf2pt1’ had non-zero exit status”Warning message in install.packages(\"quanteda\", repos = \"http://cran.us.r-project.org\"):\n",
      "“installation of package ‘statnet.common’ had non-zero exit status”Warning message in install.packages(\"quanteda\", repos = \"http://cran.us.r-project.org\"):\n",
      "“installation of package ‘RcppEigen’ had non-zero exit status”Warning message in install.packages(\"quanteda\", repos = \"http://cran.us.r-project.org\"):\n",
      "“installation of package ‘reticulate’ had non-zero exit status”Warning message in install.packages(\"quanteda\", repos = \"http://cran.us.r-project.org\"):\n",
      "“installation of package ‘SnowballC’ had non-zero exit status”Warning message in install.packages(\"quanteda\", repos = \"http://cran.us.r-project.org\"):\n",
      "“installation of package ‘network’ had non-zero exit status”Warning message in install.packages(\"quanteda\", repos = \"http://cran.us.r-project.org\"):\n",
      "“installation of package ‘ggrepel’ had non-zero exit status”Warning message in install.packages(\"quanteda\", repos = \"http://cran.us.r-project.org\"):\n",
      "“installation of package ‘RcppParallel’ had non-zero exit status”Warning message in install.packages(\"quanteda\", repos = \"http://cran.us.r-project.org\"):\n",
      "“installation of package ‘fastmatch’ had non-zero exit status”Warning message in install.packages(\"quanteda\", repos = \"http://cran.us.r-project.org\"):\n",
      "“installation of package ‘XML’ had non-zero exit status”Warning message in install.packages(\"quanteda\", repos = \"http://cran.us.r-project.org\"):\n",
      "“installation of package ‘RcppArmadillo’ had non-zero exit status”Warning message in install.packages(\"quanteda\", repos = \"http://cran.us.r-project.org\"):\n",
      "“installation of package ‘extrafont’ had non-zero exit status”Warning message in install.packages(\"quanteda\", repos = \"http://cran.us.r-project.org\"):\n",
      "“installation of package ‘sna’ had non-zero exit status”Warning message in install.packages(\"quanteda\", repos = \"http://cran.us.r-project.org\"):\n",
      "“installation of package ‘RSpectra’ had non-zero exit status”Warning message in install.packages(\"quanteda\", repos = \"http://cran.us.r-project.org\"):\n",
      "“installation of package ‘spacyr’ had non-zero exit status”Warning message in install.packages(\"quanteda\", repos = \"http://cran.us.r-project.org\"):\n",
      "“installation of package ‘quanteda’ had non-zero exit status”Updating HTML index of packages in '.Library'\n",
      "Making 'packages.html' ... done\n"
     ]
    }
   ],
   "source": [
    "install.packages(\"quanteda\", repos='http://cran.us.r-project.org')"
   ]
  },
  {
   "cell_type": "code",
   "execution_count": 9,
   "metadata": {},
   "outputs": [
    {
     "name": "stderr",
     "output_type": "stream",
     "text": [
      "Warning message in install.packages(\"sna\", \"/Users/zwehrwein/anaconda/lib/R/library\"):\n",
      "“'lib = \"/Users/zwehrwein/anaconda/lib/R/library\"' is not writable”"
     ]
    },
    {
     "ename": "ERROR",
     "evalue": "Error in install.packages(\"sna\", \"/Users/zwehrwein/anaconda/lib/R/library\"): unable to install packages\n",
     "output_type": "error",
     "traceback": [
      "Error in install.packages(\"sna\", \"/Users/zwehrwein/anaconda/lib/R/library\"): unable to install packages\nTraceback:\n",
      "1. install.packages(\"sna\", \"/Users/zwehrwein/anaconda/lib/R/library\")",
      "2. stop(\"unable to install packages\")"
     ]
    }
   ],
   "source": [
    "install.packages('sna','/Users/zwehrwein/anaconda/lib/R/library')"
   ]
  },
  {
   "cell_type": "code",
   "execution_count": 14,
   "metadata": {},
   "outputs": [
    {
     "name": "stderr",
     "output_type": "stream",
     "text": [
      "also installing the dependencies ‘statnet.common’, ‘network’\n",
      "\n",
      "Warning message in install.packages(\"sna\"):\n",
      "“installation of package ‘statnet.common’ had non-zero exit status”Warning message in install.packages(\"sna\"):\n",
      "“installation of package ‘network’ had non-zero exit status”Warning message in install.packages(\"sna\"):\n",
      "“installation of package ‘sna’ had non-zero exit status”Updating HTML index of packages in '.Library'\n",
      "Making 'packages.html' ... done\n"
     ]
    }
   ],
   "source": [
    "install.packages(\"sna\")"
   ]
  },
  {
   "cell_type": "code",
   "execution_count": null,
   "metadata": {},
   "outputs": [],
   "source": []
  },
  {
   "cell_type": "code",
   "execution_count": 13,
   "metadata": {},
   "outputs": [
    {
     "ename": "ERROR",
     "evalue": "Error in library(stm): there is no package called ‘stm’\n",
     "output_type": "error",
     "traceback": [
      "Error in library(stm): there is no package called ‘stm’\nTraceback:\n",
      "1. library(stm)",
      "2. stop(txt, domain = NA)"
     ]
    }
   ],
   "source": [
    "library(sna)"
   ]
  },
  {
   "cell_type": "code",
   "execution_count": null,
   "metadata": {},
   "outputs": [],
   "source": []
  }
 ],
 "metadata": {
  "kernelspec": {
   "display_name": "R",
   "language": "R",
   "name": "ir"
  },
  "language_info": {
   "codemirror_mode": "r",
   "file_extension": ".r",
   "mimetype": "text/x-r-source",
   "name": "R",
   "pygments_lexer": "r",
   "version": "3.4.2"
  }
 },
 "nbformat": 4,
 "nbformat_minor": 2
}
